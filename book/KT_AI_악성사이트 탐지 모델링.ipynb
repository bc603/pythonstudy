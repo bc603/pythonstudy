{
 "cells": [
  {
   "cell_type": "markdown",
   "id": "dae6ff47-5fb6-44a8-9ffc-9510d1a0d819",
   "metadata": {},
   "source": [
    "KT AI 프로젝트 머싱러닝을 활용한 '악성사이트 탐지 모델링'"
   ]
  },
  {
   "cell_type": "markdown",
   "id": "1eca798e-ff5a-4853-b9e6-030b11e161d6",
   "metadata": {},
   "source": [
    "악성 사이트의 여러가지 Feature를 가지고 악성사이트를 검출한다\n",
    "\n",
    "* AI 라이프 사이클\n",
    "(순서) 1. 데이터 수집, 2. 데이터 전처리, 3. 데이터 분석, 4. AI 모델링\n",
    "\n",
    "* 실습 필요 지식\n",
    "(지식) 파이썬, 판다스, 넘파이, 텐서플로우, 사이킷런\n",
    "\n",
    "* 라이브러리\n",
    "Beutiful Soup : html 파서를 이용하여 주어진 html 문서를 트리 형태로 구조화\n",
    "parent, child, css select 기능을 이용해 쉽게 원하는 정보에 접근"
   ]
  },
  {
   "cell_type": "code",
   "execution_count": null,
   "id": "40510af1-c318-4f2a-b044-0d9ebe1e3223",
   "metadata": {},
   "outputs": [],
   "source": []
  }
 ],
 "metadata": {
  "kernelspec": {
   "display_name": "Python 3 (ipykernel)",
   "language": "python",
   "name": "python3"
  },
  "language_info": {
   "codemirror_mode": {
    "name": "ipython",
    "version": 3
   },
   "file_extension": ".py",
   "mimetype": "text/x-python",
   "name": "python",
   "nbconvert_exporter": "python",
   "pygments_lexer": "ipython3",
   "version": "3.11.5"
  }
 },
 "nbformat": 4,
 "nbformat_minor": 5
}
