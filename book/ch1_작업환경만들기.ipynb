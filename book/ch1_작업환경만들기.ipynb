{
 "cells": [
  {
   "cell_type": "markdown",
   "id": "c24b54bb-045f-43fe-bb43-d155ce2edb8b",
   "metadata": {
    "tags": []
   },
   "source": [
    "1. 작업환경 만들기"
   ]
  },
  {
   "cell_type": "code",
   "execution_count": 2,
   "id": "6a6c24a6-5d19-447a-b2bc-d89ff59e4d78",
   "metadata": {
    "tags": []
   },
   "outputs": [
    {
     "name": "stdout",
     "output_type": "stream",
     "text": [
      "hello python\n"
     ]
    }
   ],
   "source": [
    "print('hello python')"
   ]
  },
  {
   "cell_type": "code",
   "execution_count": 3,
   "id": "9b22aec5-7361-4b9b-9b39-c74fc31e4ab3",
   "metadata": {
    "tags": []
   },
   "outputs": [
    {
     "name": "stdout",
     "output_type": "stream",
     "text": [
      "hello jupyter lab\n"
     ]
    }
   ],
   "source": [
    "print('hello jupyter lab')"
   ]
  },
  {
   "cell_type": "code",
   "execution_count": null,
   "id": "8a71e504-9d37-4da4-80e7-d7893548a15c",
   "metadata": {},
   "outputs": [],
   "source": []
  }
 ],
 "metadata": {
  "kernelspec": {
   "display_name": "Python 3 (ipykernel)",
   "language": "python",
   "name": "python3"
  },
  "language_info": {
   "codemirror_mode": {
    "name": "ipython",
    "version": 3
   },
   "file_extension": ".py",
   "mimetype": "text/x-python",
   "name": "python",
   "nbconvert_exporter": "python",
   "pygments_lexer": "ipython3",
   "version": "3.11.5"
  }
 },
 "nbformat": 4,
 "nbformat_minor": 5
}
