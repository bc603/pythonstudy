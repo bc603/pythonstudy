{
 "cells": [
  {
   "cell_type": "markdown",
   "metadata": {
    "id": "3mmwF6dDoHnW"
   },
   "source": [
    "# Chapter 1. DataFrame 살펴보기 "
   ]
  },
  {
   "cell_type": "markdown",
   "metadata": {
    "id": "WR4jtzjLVWOx"
   },
   "source": [
    "# __1. DataFrame이 뭔가요?__\n",
    "\n",
    ">  - DataFrame은 2차원(col과 row을 가짐)테이블 데이터 구조를 가지는 자료형\n",
    ">  - Data Analysis, Machine Learning에서 data 변형을 위해 가장 많이 사용\n",
    ">  - **주의** : Series나 DataFrame은 대소문자가 구분되므로 Series, DataFrame으로 사용"
   ]
  },
  {
   "cell_type": "code",
   "execution_count": 43,
   "metadata": {
    "id": "0avJX0qPVWOy"
   },
   "outputs": [],
   "source": [
    "# pandas import\n",
    "import pandas as pd\n",
    "import numpy as np"
   ]
  },
  {
   "cell_type": "markdown",
   "metadata": {
    "id": "ySonJB6EVWOz"
   },
   "source": [
    "### <b>1-1. DataFrame 만들어 보기</b>"
   ]
  },
  {
   "cell_type": "markdown",
   "metadata": {
    "id": "_rH0V3RKVWO0"
   },
   "source": [
    "> Dictionary 형으로 생성 "
   ]
  },
  {
   "cell_type": "code",
   "execution_count": 3,
   "metadata": {
    "id": "QxgP06A7VWO0",
    "outputId": "40499efb-8691-4441-8f83-1c9669480d51"
   },
   "outputs": [
    {
     "data": {
      "text/html": [
       "<div>\n",
       "<style scoped>\n",
       "    .dataframe tbody tr th:only-of-type {\n",
       "        vertical-align: middle;\n",
       "    }\n",
       "\n",
       "    .dataframe tbody tr th {\n",
       "        vertical-align: top;\n",
       "    }\n",
       "\n",
       "    .dataframe thead th {\n",
       "        text-align: right;\n",
       "    }\n",
       "</style>\n",
       "<table border=\"1\" class=\"dataframe\">\n",
       "  <thead>\n",
       "    <tr style=\"text-align: right;\">\n",
       "      <th></th>\n",
       "      <th>a</th>\n",
       "      <th>b</th>\n",
       "      <th>c</th>\n",
       "    </tr>\n",
       "  </thead>\n",
       "  <tbody>\n",
       "    <tr>\n",
       "      <th>0</th>\n",
       "      <td>1</td>\n",
       "      <td>4</td>\n",
       "      <td>7</td>\n",
       "    </tr>\n",
       "    <tr>\n",
       "      <th>1</th>\n",
       "      <td>2</td>\n",
       "      <td>5</td>\n",
       "      <td>8</td>\n",
       "    </tr>\n",
       "    <tr>\n",
       "      <th>2</th>\n",
       "      <td>3</td>\n",
       "      <td>6</td>\n",
       "      <td>9</td>\n",
       "    </tr>\n",
       "  </tbody>\n",
       "</table>\n",
       "</div>"
      ],
      "text/plain": [
       "   a  b  c\n",
       "0  1  4  7\n",
       "1  2  5  8\n",
       "2  3  6  9"
      ]
     },
     "execution_count": 3,
     "metadata": {},
     "output_type": "execute_result"
    }
   ],
   "source": [
    "a1 = pd.DataFrame({\"a\" : [1,2,3], \"b\" : [4,5,6], \"c\" : [7,8,9]})\n",
    "a1\n",
    "\n",
    "# a, b, c는 컬럼"
   ]
  },
  {
   "cell_type": "markdown",
   "metadata": {
    "id": "JKyc-qGwVWO2"
   },
   "source": [
    ">  List 형태로 데이터 프레임 생성"
   ]
  },
  {
   "cell_type": "code",
   "execution_count": 44,
   "metadata": {
    "id": "dTxg4txIVWO2",
    "outputId": "cad29943-a48d-432e-842c-1ed50417990e"
   },
   "outputs": [
    {
     "data": {
      "text/html": [
       "<div>\n",
       "<style scoped>\n",
       "    .dataframe tbody tr th:only-of-type {\n",
       "        vertical-align: middle;\n",
       "    }\n",
       "\n",
       "    .dataframe tbody tr th {\n",
       "        vertical-align: top;\n",
       "    }\n",
       "\n",
       "    .dataframe thead th {\n",
       "        text-align: right;\n",
       "    }\n",
       "</style>\n",
       "<table border=\"1\" class=\"dataframe\">\n",
       "  <thead>\n",
       "    <tr style=\"text-align: right;\">\n",
       "      <th></th>\n",
       "      <th>0</th>\n",
       "      <th>1</th>\n",
       "      <th>2</th>\n",
       "    </tr>\n",
       "  </thead>\n",
       "  <tbody>\n",
       "    <tr>\n",
       "      <th>a</th>\n",
       "      <td>1</td>\n",
       "      <td>2</td>\n",
       "      <td>3</td>\n",
       "    </tr>\n",
       "    <tr>\n",
       "      <th>b</th>\n",
       "      <td>4</td>\n",
       "      <td>5</td>\n",
       "      <td>6</td>\n",
       "    </tr>\n",
       "    <tr>\n",
       "      <th>c</th>\n",
       "      <td>7</td>\n",
       "      <td>8</td>\n",
       "      <td>9</td>\n",
       "    </tr>\n",
       "  </tbody>\n",
       "</table>\n",
       "</div>"
      ],
      "text/plain": [
       "   0  1  2\n",
       "a  1  2  3\n",
       "b  4  5  6\n",
       "c  7  8  9"
      ]
     },
     "execution_count": 44,
     "metadata": {},
     "output_type": "execute_result"
    }
   ],
   "source": [
    "a2 = pd.DataFrame([[1,2,3], [4,5,6], [7,8,9]], [\"a\",\"b\",\"c\"])\n",
    "a3 = pd.DataFrame([[1,2,3], [4,5,6], [7,8,9]], index=[\"a\",\"b\",\"c\"])\n",
    "a2\n",
    "#a3\n",
    "\n",
    "#내가 해보기로는 a2와 a3가 같다고 판단"
   ]
  },
  {
   "cell_type": "markdown",
   "metadata": {
    "id": "yocaFO_0VWO3"
   },
   "source": [
    "### <b>1-2. 파일을 읽어서 DataFrame생성하기</b>\n",
    "> - pandas.read_csv 함수 사용\n",
    ">  - 대부분의 업무에서는 분석하고자 하는 Datat가 존재할 것\n",
    ">  - 이를 읽어 들이는 것부터 데이터 분석의 시작!\n",
    ">  - 이번 실습에서 읽을 파일 : sc_cust_info_txn_v1.5.csv"
   ]
  },
  {
   "cell_type": "code",
   "execution_count": 45,
   "metadata": {
    "id": "efQ6wmumVWO4",
    "outputId": "3b5260e5-ef40-415d-a964-d7ae2ca9c5de"
   },
   "outputs": [
    {
     "data": {
      "text/html": [
       "<div>\n",
       "<style scoped>\n",
       "    .dataframe tbody tr th:only-of-type {\n",
       "        vertical-align: middle;\n",
       "    }\n",
       "\n",
       "    .dataframe tbody tr th {\n",
       "        vertical-align: top;\n",
       "    }\n",
       "\n",
       "    .dataframe thead th {\n",
       "        text-align: right;\n",
       "    }\n",
       "</style>\n",
       "<table border=\"1\" class=\"dataframe\">\n",
       "  <thead>\n",
       "    <tr style=\"text-align: right;\">\n",
       "      <th></th>\n",
       "      <th>base_ym</th>\n",
       "      <th>dpro_tgt_perd_val</th>\n",
       "      <th>cust_ctg_type</th>\n",
       "      <th>cust_class</th>\n",
       "      <th>sex_type</th>\n",
       "      <th>age</th>\n",
       "      <th>efct_svc_count</th>\n",
       "      <th>dt_stop_yn</th>\n",
       "      <th>npay_yn</th>\n",
       "      <th>r3m_avg_bill_amt</th>\n",
       "      <th>r3m_A_avg_arpu_amt</th>\n",
       "      <th>r3m_B_avg_arpu_amt</th>\n",
       "      <th>r6m_A_avg_arpu_amt</th>\n",
       "      <th>r6m_B_avg_arpu_amt</th>\n",
       "      <th>termination_yn</th>\n",
       "    </tr>\n",
       "  </thead>\n",
       "  <tbody>\n",
       "    <tr>\n",
       "      <th>0</th>\n",
       "      <td>202006</td>\n",
       "      <td>20200630</td>\n",
       "      <td>10001</td>\n",
       "      <td>C</td>\n",
       "      <td>F</td>\n",
       "      <td>28</td>\n",
       "      <td>0</td>\n",
       "      <td>N</td>\n",
       "      <td>N</td>\n",
       "      <td>2640.0000</td>\n",
       "      <td>792.000000</td>\n",
       "      <td>1584.0000</td>\n",
       "      <td>0.0</td>\n",
       "      <td>0.0000</td>\n",
       "      <td>Y</td>\n",
       "    </tr>\n",
       "    <tr>\n",
       "      <th>1</th>\n",
       "      <td>202006</td>\n",
       "      <td>20200630</td>\n",
       "      <td>10001</td>\n",
       "      <td>_</td>\n",
       "      <td>_</td>\n",
       "      <td>_</td>\n",
       "      <td>1</td>\n",
       "      <td>N</td>\n",
       "      <td>N</td>\n",
       "      <td>300.0000</td>\n",
       "      <td>90.000000</td>\n",
       "      <td>180.0000</td>\n",
       "      <td>0.0</td>\n",
       "      <td>0.0000</td>\n",
       "      <td>Y</td>\n",
       "    </tr>\n",
       "    <tr>\n",
       "      <th>2</th>\n",
       "      <td>202006</td>\n",
       "      <td>20200630</td>\n",
       "      <td>10001</td>\n",
       "      <td>E</td>\n",
       "      <td>F</td>\n",
       "      <td>24</td>\n",
       "      <td>1</td>\n",
       "      <td>N</td>\n",
       "      <td>N</td>\n",
       "      <td>16840.0000</td>\n",
       "      <td>2526.000000</td>\n",
       "      <td>6983.0000</td>\n",
       "      <td>0.0</td>\n",
       "      <td>6981.0000</td>\n",
       "      <td>N</td>\n",
       "    </tr>\n",
       "    <tr>\n",
       "      <th>3</th>\n",
       "      <td>202006</td>\n",
       "      <td>20200630</td>\n",
       "      <td>10001</td>\n",
       "      <td>F</td>\n",
       "      <td>F</td>\n",
       "      <td>32</td>\n",
       "      <td>1</td>\n",
       "      <td>N</td>\n",
       "      <td>N</td>\n",
       "      <td>15544.7334</td>\n",
       "      <td>2331.710010</td>\n",
       "      <td>6750.4666</td>\n",
       "      <td>0.0</td>\n",
       "      <td>6508.8000</td>\n",
       "      <td>N</td>\n",
       "    </tr>\n",
       "    <tr>\n",
       "      <th>4</th>\n",
       "      <td>202006</td>\n",
       "      <td>20200630</td>\n",
       "      <td>10001</td>\n",
       "      <td>D</td>\n",
       "      <td>M</td>\n",
       "      <td>18</td>\n",
       "      <td>1</td>\n",
       "      <td>N</td>\n",
       "      <td>N</td>\n",
       "      <td>4700.0000</td>\n",
       "      <td>0.000000</td>\n",
       "      <td>4502.0000</td>\n",
       "      <td>0.0</td>\n",
       "      <td>4507.7000</td>\n",
       "      <td>N</td>\n",
       "    </tr>\n",
       "    <tr>\n",
       "      <th>...</th>\n",
       "      <td>...</td>\n",
       "      <td>...</td>\n",
       "      <td>...</td>\n",
       "      <td>...</td>\n",
       "      <td>...</td>\n",
       "      <td>...</td>\n",
       "      <td>...</td>\n",
       "      <td>...</td>\n",
       "      <td>...</td>\n",
       "      <td>...</td>\n",
       "      <td>...</td>\n",
       "      <td>...</td>\n",
       "      <td>...</td>\n",
       "      <td>...</td>\n",
       "      <td>...</td>\n",
       "    </tr>\n",
       "    <tr>\n",
       "      <th>9925</th>\n",
       "      <td>202006</td>\n",
       "      <td>20200630</td>\n",
       "      <td>10001</td>\n",
       "      <td>C</td>\n",
       "      <td>F</td>\n",
       "      <td>15</td>\n",
       "      <td>1</td>\n",
       "      <td>N</td>\n",
       "      <td>Y</td>\n",
       "      <td>1296.0999</td>\n",
       "      <td>194.414985</td>\n",
       "      <td>643.1001</td>\n",
       "      <td>0.0</td>\n",
       "      <td>852.5499</td>\n",
       "      <td>N</td>\n",
       "    </tr>\n",
       "    <tr>\n",
       "      <th>9926</th>\n",
       "      <td>202006</td>\n",
       "      <td>20200630</td>\n",
       "      <td>10001</td>\n",
       "      <td>G</td>\n",
       "      <td>M</td>\n",
       "      <td>12</td>\n",
       "      <td>1</td>\n",
       "      <td>N</td>\n",
       "      <td>N</td>\n",
       "      <td>13799.6666</td>\n",
       "      <td>2069.949990</td>\n",
       "      <td>10605.9266</td>\n",
       "      <td>0.0</td>\n",
       "      <td>10603.9266</td>\n",
       "      <td>N</td>\n",
       "    </tr>\n",
       "    <tr>\n",
       "      <th>9927</th>\n",
       "      <td>202006</td>\n",
       "      <td>20200630</td>\n",
       "      <td>10005</td>\n",
       "      <td>C</td>\n",
       "      <td>_</td>\n",
       "      <td>_</td>\n",
       "      <td>1</td>\n",
       "      <td>N</td>\n",
       "      <td>N</td>\n",
       "      <td>1396.2000</td>\n",
       "      <td>1206.000000</td>\n",
       "      <td>0.0000</td>\n",
       "      <td>1212.0</td>\n",
       "      <td>0.0000</td>\n",
       "      <td>N</td>\n",
       "    </tr>\n",
       "    <tr>\n",
       "      <th>9928</th>\n",
       "      <td>202006</td>\n",
       "      <td>20200630</td>\n",
       "      <td>10001</td>\n",
       "      <td>C</td>\n",
       "      <td>F</td>\n",
       "      <td>40</td>\n",
       "      <td>0</td>\n",
       "      <td>N</td>\n",
       "      <td>N</td>\n",
       "      <td>3140.0000</td>\n",
       "      <td>942.000000</td>\n",
       "      <td>1884.0000</td>\n",
       "      <td>0.0</td>\n",
       "      <td>0.0000</td>\n",
       "      <td>Y</td>\n",
       "    </tr>\n",
       "    <tr>\n",
       "      <th>9929</th>\n",
       "      <td>202006</td>\n",
       "      <td>20200630</td>\n",
       "      <td>10001</td>\n",
       "      <td>C</td>\n",
       "      <td>F</td>\n",
       "      <td>59</td>\n",
       "      <td>1</td>\n",
       "      <td>N</td>\n",
       "      <td>N</td>\n",
       "      <td>2436.9000</td>\n",
       "      <td>365.535000</td>\n",
       "      <td>1839.9000</td>\n",
       "      <td>0.0</td>\n",
       "      <td>1919.7999</td>\n",
       "      <td>N</td>\n",
       "    </tr>\n",
       "  </tbody>\n",
       "</table>\n",
       "<p>9930 rows × 15 columns</p>\n",
       "</div>"
      ],
      "text/plain": [
       "      base_ym  dpro_tgt_perd_val  cust_ctg_type cust_class sex_type age  \\\n",
       "0      202006           20200630          10001          C        F  28   \n",
       "1      202006           20200630          10001          _        _   _   \n",
       "2      202006           20200630          10001          E        F  24   \n",
       "3      202006           20200630          10001          F        F  32   \n",
       "4      202006           20200630          10001          D        M  18   \n",
       "...       ...                ...            ...        ...      ...  ..   \n",
       "9925   202006           20200630          10001          C        F  15   \n",
       "9926   202006           20200630          10001          G        M  12   \n",
       "9927   202006           20200630          10005          C        _   _   \n",
       "9928   202006           20200630          10001          C        F  40   \n",
       "9929   202006           20200630          10001          C        F  59   \n",
       "\n",
       "      efct_svc_count dt_stop_yn npay_yn  r3m_avg_bill_amt  r3m_A_avg_arpu_amt  \\\n",
       "0                  0          N       N         2640.0000          792.000000   \n",
       "1                  1          N       N          300.0000           90.000000   \n",
       "2                  1          N       N        16840.0000         2526.000000   \n",
       "3                  1          N       N        15544.7334         2331.710010   \n",
       "4                  1          N       N         4700.0000            0.000000   \n",
       "...              ...        ...     ...               ...                 ...   \n",
       "9925               1          N       Y         1296.0999          194.414985   \n",
       "9926               1          N       N        13799.6666         2069.949990   \n",
       "9927               1          N       N         1396.2000         1206.000000   \n",
       "9928               0          N       N         3140.0000          942.000000   \n",
       "9929               1          N       N         2436.9000          365.535000   \n",
       "\n",
       "      r3m_B_avg_arpu_amt  r6m_A_avg_arpu_amt  r6m_B_avg_arpu_amt  \\\n",
       "0              1584.0000                 0.0              0.0000   \n",
       "1               180.0000                 0.0              0.0000   \n",
       "2              6983.0000                 0.0           6981.0000   \n",
       "3              6750.4666                 0.0           6508.8000   \n",
       "4              4502.0000                 0.0           4507.7000   \n",
       "...                  ...                 ...                 ...   \n",
       "9925            643.1001                 0.0            852.5499   \n",
       "9926          10605.9266                 0.0          10603.9266   \n",
       "9927              0.0000              1212.0              0.0000   \n",
       "9928           1884.0000                 0.0              0.0000   \n",
       "9929           1839.9000                 0.0           1919.7999   \n",
       "\n",
       "     termination_yn  \n",
       "0                 Y  \n",
       "1                 Y  \n",
       "2                 N  \n",
       "3                 N  \n",
       "4                 N  \n",
       "...             ...  \n",
       "9925              N  \n",
       "9926              N  \n",
       "9927              N  \n",
       "9928              Y  \n",
       "9929              N  \n",
       "\n",
       "[9930 rows x 15 columns]"
      ]
     },
     "execution_count": 45,
     "metadata": {},
     "output_type": "execute_result"
    }
   ],
   "source": [
    "# kt 데이터 파일을 활용\n",
    "# 파일을 수정하고 저장 자체를 MS Office에서 하여서 encoding을 cp949로 해주어야 함\n",
    "cust = pd.read_csv('./sc_cust_info_txn_v1.5.csv', encoding = \"cp949\")\n",
    "cust"
   ]
  },
  {
   "cell_type": "markdown",
   "metadata": {
    "id": "StRKmTxvVWO5"
   },
   "source": [
    "- DataFrame 데이터 살펴보기\n",
    ">DataFrame의 구조 (인덱스와 컬럼)\n",
    " - 인덱스(Index) : 행의 레이블에 대한 정보를 보유하고 있음\n",
    " - 컬럼(Columns) : 열의 레이블에 대한 정보를 보유하고 있음\n",
    " - 인덱스와 컬럼 자체는 중복값일 수 없음"
   ]
  },
  {
   "cell_type": "markdown",
   "metadata": {
    "id": "19TjlTitVWO6"
   },
   "source": [
    "### <b>1-3. 데이터 살펴보기</b>\n",
    "- head, tail 함수사용하기\n",
    "> - 데이터 전체가 아닌, 일부(처음부터, 혹은 마지막부터)를 간단히 보기 위한 함수 (default: 5줄)\n",
    " - **head, tail을 왜 사용할까?**\n",
    "   - 광대한 데이터를 다룰 수 있는 Pandas의 특성상 특정변수에 제대로 데이터가 들어갔는지 간략히 확인\n",
    "   - 데이터 자료형의 확인\n",
    "   - 각 레이블에 맞는 데이터 매칭 확인"
   ]
  },
  {
   "cell_type": "code",
   "execution_count": 46,
   "metadata": {
    "id": "6v4NkkNrVWO7"
   },
   "outputs": [
    {
     "data": {
      "text/html": [
       "<div>\n",
       "<style scoped>\n",
       "    .dataframe tbody tr th:only-of-type {\n",
       "        vertical-align: middle;\n",
       "    }\n",
       "\n",
       "    .dataframe tbody tr th {\n",
       "        vertical-align: top;\n",
       "    }\n",
       "\n",
       "    .dataframe thead th {\n",
       "        text-align: right;\n",
       "    }\n",
       "</style>\n",
       "<table border=\"1\" class=\"dataframe\">\n",
       "  <thead>\n",
       "    <tr style=\"text-align: right;\">\n",
       "      <th></th>\n",
       "      <th>base_ym</th>\n",
       "      <th>dpro_tgt_perd_val</th>\n",
       "      <th>cust_ctg_type</th>\n",
       "      <th>cust_class</th>\n",
       "      <th>sex_type</th>\n",
       "      <th>age</th>\n",
       "      <th>efct_svc_count</th>\n",
       "      <th>dt_stop_yn</th>\n",
       "      <th>npay_yn</th>\n",
       "      <th>r3m_avg_bill_amt</th>\n",
       "      <th>r3m_A_avg_arpu_amt</th>\n",
       "      <th>r3m_B_avg_arpu_amt</th>\n",
       "      <th>r6m_A_avg_arpu_amt</th>\n",
       "      <th>r6m_B_avg_arpu_amt</th>\n",
       "      <th>termination_yn</th>\n",
       "    </tr>\n",
       "  </thead>\n",
       "  <tbody>\n",
       "    <tr>\n",
       "      <th>0</th>\n",
       "      <td>202006</td>\n",
       "      <td>20200630</td>\n",
       "      <td>10001</td>\n",
       "      <td>C</td>\n",
       "      <td>F</td>\n",
       "      <td>28</td>\n",
       "      <td>0</td>\n",
       "      <td>N</td>\n",
       "      <td>N</td>\n",
       "      <td>2640.0</td>\n",
       "      <td>792.0</td>\n",
       "      <td>1584.0</td>\n",
       "      <td>0.0</td>\n",
       "      <td>0.0</td>\n",
       "      <td>Y</td>\n",
       "    </tr>\n",
       "    <tr>\n",
       "      <th>1</th>\n",
       "      <td>202006</td>\n",
       "      <td>20200630</td>\n",
       "      <td>10001</td>\n",
       "      <td>_</td>\n",
       "      <td>_</td>\n",
       "      <td>_</td>\n",
       "      <td>1</td>\n",
       "      <td>N</td>\n",
       "      <td>N</td>\n",
       "      <td>300.0</td>\n",
       "      <td>90.0</td>\n",
       "      <td>180.0</td>\n",
       "      <td>0.0</td>\n",
       "      <td>0.0</td>\n",
       "      <td>Y</td>\n",
       "    </tr>\n",
       "    <tr>\n",
       "      <th>2</th>\n",
       "      <td>202006</td>\n",
       "      <td>20200630</td>\n",
       "      <td>10001</td>\n",
       "      <td>E</td>\n",
       "      <td>F</td>\n",
       "      <td>24</td>\n",
       "      <td>1</td>\n",
       "      <td>N</td>\n",
       "      <td>N</td>\n",
       "      <td>16840.0</td>\n",
       "      <td>2526.0</td>\n",
       "      <td>6983.0</td>\n",
       "      <td>0.0</td>\n",
       "      <td>6981.0</td>\n",
       "      <td>N</td>\n",
       "    </tr>\n",
       "  </tbody>\n",
       "</table>\n",
       "</div>"
      ],
      "text/plain": [
       "   base_ym  dpro_tgt_perd_val  cust_ctg_type cust_class sex_type age  \\\n",
       "0   202006           20200630          10001          C        F  28   \n",
       "1   202006           20200630          10001          _        _   _   \n",
       "2   202006           20200630          10001          E        F  24   \n",
       "\n",
       "   efct_svc_count dt_stop_yn npay_yn  r3m_avg_bill_amt  r3m_A_avg_arpu_amt  \\\n",
       "0               0          N       N            2640.0               792.0   \n",
       "1               1          N       N             300.0                90.0   \n",
       "2               1          N       N           16840.0              2526.0   \n",
       "\n",
       "   r3m_B_avg_arpu_amt  r6m_A_avg_arpu_amt  r6m_B_avg_arpu_amt termination_yn  \n",
       "0              1584.0                 0.0                 0.0              Y  \n",
       "1               180.0                 0.0                 0.0              Y  \n",
       "2              6983.0                 0.0              6981.0              N  "
      ]
     },
     "execution_count": 46,
     "metadata": {},
     "output_type": "execute_result"
    }
   ],
   "source": [
    "# 상위 3개\n",
    "cust.head(n=3) #default는 5줄"
   ]
  },
  {
   "cell_type": "code",
   "execution_count": 47,
   "metadata": {
    "id": "KmOCvNnwVWO7"
   },
   "outputs": [
    {
     "data": {
      "text/html": [
       "<div>\n",
       "<style scoped>\n",
       "    .dataframe tbody tr th:only-of-type {\n",
       "        vertical-align: middle;\n",
       "    }\n",
       "\n",
       "    .dataframe tbody tr th {\n",
       "        vertical-align: top;\n",
       "    }\n",
       "\n",
       "    .dataframe thead th {\n",
       "        text-align: right;\n",
       "    }\n",
       "</style>\n",
       "<table border=\"1\" class=\"dataframe\">\n",
       "  <thead>\n",
       "    <tr style=\"text-align: right;\">\n",
       "      <th></th>\n",
       "      <th>base_ym</th>\n",
       "      <th>dpro_tgt_perd_val</th>\n",
       "      <th>cust_ctg_type</th>\n",
       "      <th>cust_class</th>\n",
       "      <th>sex_type</th>\n",
       "      <th>age</th>\n",
       "      <th>efct_svc_count</th>\n",
       "      <th>dt_stop_yn</th>\n",
       "      <th>npay_yn</th>\n",
       "      <th>r3m_avg_bill_amt</th>\n",
       "      <th>r3m_A_avg_arpu_amt</th>\n",
       "      <th>r3m_B_avg_arpu_amt</th>\n",
       "      <th>r6m_A_avg_arpu_amt</th>\n",
       "      <th>r6m_B_avg_arpu_amt</th>\n",
       "      <th>termination_yn</th>\n",
       "    </tr>\n",
       "  </thead>\n",
       "  <tbody>\n",
       "    <tr>\n",
       "      <th>9920</th>\n",
       "      <td>202006</td>\n",
       "      <td>20200630</td>\n",
       "      <td>10001</td>\n",
       "      <td>D</td>\n",
       "      <td>M</td>\n",
       "      <td>46</td>\n",
       "      <td>0</td>\n",
       "      <td>N</td>\n",
       "      <td>N</td>\n",
       "      <td>6920.0000</td>\n",
       "      <td>2076.000000</td>\n",
       "      <td>4152.0000</td>\n",
       "      <td>0.0000</td>\n",
       "      <td>0.0000</td>\n",
       "      <td>Y</td>\n",
       "    </tr>\n",
       "    <tr>\n",
       "      <th>9921</th>\n",
       "      <td>202006</td>\n",
       "      <td>20200630</td>\n",
       "      <td>10001</td>\n",
       "      <td>D</td>\n",
       "      <td>M</td>\n",
       "      <td>54</td>\n",
       "      <td>1</td>\n",
       "      <td>N</td>\n",
       "      <td>Y</td>\n",
       "      <td>5198.0666</td>\n",
       "      <td>0.000000</td>\n",
       "      <td>4760.8666</td>\n",
       "      <td>0.0000</td>\n",
       "      <td>4749.3000</td>\n",
       "      <td>N</td>\n",
       "    </tr>\n",
       "    <tr>\n",
       "      <th>9922</th>\n",
       "      <td>202006</td>\n",
       "      <td>20200630</td>\n",
       "      <td>10001</td>\n",
       "      <td>E</td>\n",
       "      <td>M</td>\n",
       "      <td>65</td>\n",
       "      <td>4</td>\n",
       "      <td>N</td>\n",
       "      <td>N</td>\n",
       "      <td>9115.1334</td>\n",
       "      <td>3209.600000</td>\n",
       "      <td>0.0000</td>\n",
       "      <td>3523.7334</td>\n",
       "      <td>0.0000</td>\n",
       "      <td>N</td>\n",
       "    </tr>\n",
       "    <tr>\n",
       "      <th>9923</th>\n",
       "      <td>202006</td>\n",
       "      <td>20200630</td>\n",
       "      <td>10001</td>\n",
       "      <td>C</td>\n",
       "      <td>M</td>\n",
       "      <td>76</td>\n",
       "      <td>1</td>\n",
       "      <td>N</td>\n",
       "      <td>N</td>\n",
       "      <td>1860.0000</td>\n",
       "      <td>1716.000000</td>\n",
       "      <td>0.0000</td>\n",
       "      <td>1722.0000</td>\n",
       "      <td>0.0000</td>\n",
       "      <td>N</td>\n",
       "    </tr>\n",
       "    <tr>\n",
       "      <th>9924</th>\n",
       "      <td>202006</td>\n",
       "      <td>20200630</td>\n",
       "      <td>10005</td>\n",
       "      <td>C</td>\n",
       "      <td>_</td>\n",
       "      <td>_</td>\n",
       "      <td>0</td>\n",
       "      <td>N</td>\n",
       "      <td>N</td>\n",
       "      <td>17038.2000</td>\n",
       "      <td>5111.460000</td>\n",
       "      <td>10222.9200</td>\n",
       "      <td>0.0000</td>\n",
       "      <td>0.0000</td>\n",
       "      <td>Y</td>\n",
       "    </tr>\n",
       "    <tr>\n",
       "      <th>9925</th>\n",
       "      <td>202006</td>\n",
       "      <td>20200630</td>\n",
       "      <td>10001</td>\n",
       "      <td>C</td>\n",
       "      <td>F</td>\n",
       "      <td>15</td>\n",
       "      <td>1</td>\n",
       "      <td>N</td>\n",
       "      <td>Y</td>\n",
       "      <td>1296.0999</td>\n",
       "      <td>194.414985</td>\n",
       "      <td>643.1001</td>\n",
       "      <td>0.0000</td>\n",
       "      <td>852.5499</td>\n",
       "      <td>N</td>\n",
       "    </tr>\n",
       "    <tr>\n",
       "      <th>9926</th>\n",
       "      <td>202006</td>\n",
       "      <td>20200630</td>\n",
       "      <td>10001</td>\n",
       "      <td>G</td>\n",
       "      <td>M</td>\n",
       "      <td>12</td>\n",
       "      <td>1</td>\n",
       "      <td>N</td>\n",
       "      <td>N</td>\n",
       "      <td>13799.6666</td>\n",
       "      <td>2069.949990</td>\n",
       "      <td>10605.9266</td>\n",
       "      <td>0.0000</td>\n",
       "      <td>10603.9266</td>\n",
       "      <td>N</td>\n",
       "    </tr>\n",
       "    <tr>\n",
       "      <th>9927</th>\n",
       "      <td>202006</td>\n",
       "      <td>20200630</td>\n",
       "      <td>10005</td>\n",
       "      <td>C</td>\n",
       "      <td>_</td>\n",
       "      <td>_</td>\n",
       "      <td>1</td>\n",
       "      <td>N</td>\n",
       "      <td>N</td>\n",
       "      <td>1396.2000</td>\n",
       "      <td>1206.000000</td>\n",
       "      <td>0.0000</td>\n",
       "      <td>1212.0000</td>\n",
       "      <td>0.0000</td>\n",
       "      <td>N</td>\n",
       "    </tr>\n",
       "    <tr>\n",
       "      <th>9928</th>\n",
       "      <td>202006</td>\n",
       "      <td>20200630</td>\n",
       "      <td>10001</td>\n",
       "      <td>C</td>\n",
       "      <td>F</td>\n",
       "      <td>40</td>\n",
       "      <td>0</td>\n",
       "      <td>N</td>\n",
       "      <td>N</td>\n",
       "      <td>3140.0000</td>\n",
       "      <td>942.000000</td>\n",
       "      <td>1884.0000</td>\n",
       "      <td>0.0000</td>\n",
       "      <td>0.0000</td>\n",
       "      <td>Y</td>\n",
       "    </tr>\n",
       "    <tr>\n",
       "      <th>9929</th>\n",
       "      <td>202006</td>\n",
       "      <td>20200630</td>\n",
       "      <td>10001</td>\n",
       "      <td>C</td>\n",
       "      <td>F</td>\n",
       "      <td>59</td>\n",
       "      <td>1</td>\n",
       "      <td>N</td>\n",
       "      <td>N</td>\n",
       "      <td>2436.9000</td>\n",
       "      <td>365.535000</td>\n",
       "      <td>1839.9000</td>\n",
       "      <td>0.0000</td>\n",
       "      <td>1919.7999</td>\n",
       "      <td>N</td>\n",
       "    </tr>\n",
       "  </tbody>\n",
       "</table>\n",
       "</div>"
      ],
      "text/plain": [
       "      base_ym  dpro_tgt_perd_val  cust_ctg_type cust_class sex_type age  \\\n",
       "9920   202006           20200630          10001          D        M  46   \n",
       "9921   202006           20200630          10001          D        M  54   \n",
       "9922   202006           20200630          10001          E        M  65   \n",
       "9923   202006           20200630          10001          C        M  76   \n",
       "9924   202006           20200630          10005          C        _   _   \n",
       "9925   202006           20200630          10001          C        F  15   \n",
       "9926   202006           20200630          10001          G        M  12   \n",
       "9927   202006           20200630          10005          C        _   _   \n",
       "9928   202006           20200630          10001          C        F  40   \n",
       "9929   202006           20200630          10001          C        F  59   \n",
       "\n",
       "      efct_svc_count dt_stop_yn npay_yn  r3m_avg_bill_amt  r3m_A_avg_arpu_amt  \\\n",
       "9920               0          N       N         6920.0000         2076.000000   \n",
       "9921               1          N       Y         5198.0666            0.000000   \n",
       "9922               4          N       N         9115.1334         3209.600000   \n",
       "9923               1          N       N         1860.0000         1716.000000   \n",
       "9924               0          N       N        17038.2000         5111.460000   \n",
       "9925               1          N       Y         1296.0999          194.414985   \n",
       "9926               1          N       N        13799.6666         2069.949990   \n",
       "9927               1          N       N         1396.2000         1206.000000   \n",
       "9928               0          N       N         3140.0000          942.000000   \n",
       "9929               1          N       N         2436.9000          365.535000   \n",
       "\n",
       "      r3m_B_avg_arpu_amt  r6m_A_avg_arpu_amt  r6m_B_avg_arpu_amt  \\\n",
       "9920           4152.0000              0.0000              0.0000   \n",
       "9921           4760.8666              0.0000           4749.3000   \n",
       "9922              0.0000           3523.7334              0.0000   \n",
       "9923              0.0000           1722.0000              0.0000   \n",
       "9924          10222.9200              0.0000              0.0000   \n",
       "9925            643.1001              0.0000            852.5499   \n",
       "9926          10605.9266              0.0000          10603.9266   \n",
       "9927              0.0000           1212.0000              0.0000   \n",
       "9928           1884.0000              0.0000              0.0000   \n",
       "9929           1839.9000              0.0000           1919.7999   \n",
       "\n",
       "     termination_yn  \n",
       "9920              Y  \n",
       "9921              N  \n",
       "9922              N  \n",
       "9923              N  \n",
       "9924              Y  \n",
       "9925              N  \n",
       "9926              N  \n",
       "9927              N  \n",
       "9928              Y  \n",
       "9929              N  "
      ]
     },
     "execution_count": 47,
     "metadata": {},
     "output_type": "execute_result"
    }
   ],
   "source": [
    "#하위 10개 \n",
    "cust.tail(n=10)"
   ]
  },
  {
   "cell_type": "markdown",
   "metadata": {
    "id": "PaTNxa2gVWO7"
   },
   "source": [
    "- DataFrame 기본 함수로 살펴보기\n",
    "> - **shape :** 속성 반환값은 튜플로 존재하며 row과 col의 개수를 튜플로 반환함(row,col순)\n",
    "  - columns : 해당 DataFrame을 구성하는 컬럼명을 확인할 수 있음\n",
    "  - **info**  : 데이터 타입, 각 아이템의 개수 등 출력\n",
    "  - describe : 데이터 컬럼별 요약 통계량을 나타냄, 숫자형 데이터의 통계치 계산\n",
    "            (count:데이터의 갯수 / mean:평균값 / std:표준편차 / min:최소값 / 4분위 수 / max:최대값) \n",
    "  - dtypes : 데이터 형태의 종류(Data Types)"
   ]
  },
  {
   "cell_type": "code",
   "execution_count": 48,
   "metadata": {
    "id": "1fHjSB5FVWO8"
   },
   "outputs": [
    {
     "data": {
      "text/plain": [
       "(9930, 15)"
      ]
     },
     "execution_count": 48,
     "metadata": {},
     "output_type": "execute_result"
    }
   ],
   "source": [
    "# shape : 데이터를 파악하는데 중요함\n",
    "cust.shape"
   ]
  },
  {
   "cell_type": "code",
   "execution_count": 49,
   "metadata": {
    "id": "hT1-LY3iVWO8"
   },
   "outputs": [
    {
     "data": {
      "text/plain": [
       "Index(['base_ym', 'dpro_tgt_perd_val', 'cust_ctg_type', 'cust_class',\n",
       "       'sex_type', 'age', 'efct_svc_count', 'dt_stop_yn', 'npay_yn',\n",
       "       'r3m_avg_bill_amt', 'r3m_A_avg_arpu_amt', 'r3m_B_avg_arpu_amt',\n",
       "       'r6m_A_avg_arpu_amt', 'r6m_B_avg_arpu_amt', 'termination_yn'],\n",
       "      dtype='object')"
      ]
     },
     "execution_count": 49,
     "metadata": {},
     "output_type": "execute_result"
    }
   ],
   "source": [
    "# DataFrame의 columns들을 보여줌\n",
    "cust.columns"
   ]
  },
  {
   "cell_type": "code",
   "execution_count": 53,
   "metadata": {
    "id": "HJHZa6ZTVWO8"
   },
   "outputs": [
    {
     "name": "stdout",
     "output_type": "stream",
     "text": [
      "<class 'pandas.core.frame.DataFrame'>\n",
      "RangeIndex: 9930 entries, 0 to 9929\n",
      "Data columns (total 15 columns):\n",
      " #   Column              Non-Null Count  Dtype  \n",
      "---  ------              --------------  -----  \n",
      " 0   base_ym             9930 non-null   int64  \n",
      " 1   dpro_tgt_perd_val   9930 non-null   int64  \n",
      " 2   cust_ctg_type       9930 non-null   int64  \n",
      " 3   cust_class          9930 non-null   object \n",
      " 4   sex_type            9930 non-null   object \n",
      " 5   age                 9930 non-null   object \n",
      " 6   efct_svc_count      9930 non-null   int64  \n",
      " 7   dt_stop_yn          9930 non-null   object \n",
      " 8   npay_yn             9930 non-null   object \n",
      " 9   r3m_avg_bill_amt    9930 non-null   float64\n",
      " 10  r3m_A_avg_arpu_amt  9930 non-null   float64\n",
      " 11  r3m_B_avg_arpu_amt  9930 non-null   float64\n",
      " 12  r6m_A_avg_arpu_amt  9930 non-null   float64\n",
      " 13  r6m_B_avg_arpu_amt  9930 non-null   float64\n",
      " 14  termination_yn      9930 non-null   object \n",
      "dtypes: float64(5), int64(4), object(6)\n",
      "memory usage: 1.1+ MB\n"
     ]
    }
   ],
   "source": [
    "# 데이터 타입 및 각 아이템등의 정보를 보여줌\n",
    "cust.info()"
   ]
  },
  {
   "cell_type": "code",
   "execution_count": 51,
   "metadata": {
    "id": "qYfTAvoXVWO8"
   },
   "outputs": [
    {
     "data": {
      "text/html": [
       "<div>\n",
       "<style scoped>\n",
       "    .dataframe tbody tr th:only-of-type {\n",
       "        vertical-align: middle;\n",
       "    }\n",
       "\n",
       "    .dataframe tbody tr th {\n",
       "        vertical-align: top;\n",
       "    }\n",
       "\n",
       "    .dataframe thead th {\n",
       "        text-align: right;\n",
       "    }\n",
       "</style>\n",
       "<table border=\"1\" class=\"dataframe\">\n",
       "  <thead>\n",
       "    <tr style=\"text-align: right;\">\n",
       "      <th></th>\n",
       "      <th>base_ym</th>\n",
       "      <th>dpro_tgt_perd_val</th>\n",
       "      <th>cust_ctg_type</th>\n",
       "      <th>efct_svc_count</th>\n",
       "      <th>r3m_avg_bill_amt</th>\n",
       "      <th>r3m_A_avg_arpu_amt</th>\n",
       "      <th>r3m_B_avg_arpu_amt</th>\n",
       "      <th>r6m_A_avg_arpu_amt</th>\n",
       "      <th>r6m_B_avg_arpu_amt</th>\n",
       "    </tr>\n",
       "  </thead>\n",
       "  <tbody>\n",
       "    <tr>\n",
       "      <th>count</th>\n",
       "      <td>9930.0</td>\n",
       "      <td>9930.0</td>\n",
       "      <td>9930.000000</td>\n",
       "      <td>9930.000000</td>\n",
       "      <td>9.930000e+03</td>\n",
       "      <td>9.930000e+03</td>\n",
       "      <td>9.930000e+03</td>\n",
       "      <td>9.930000e+03</td>\n",
       "      <td>9930.000000</td>\n",
       "    </tr>\n",
       "    <tr>\n",
       "      <th>mean</th>\n",
       "      <td>202006.0</td>\n",
       "      <td>20200630.0</td>\n",
       "      <td>10001.372810</td>\n",
       "      <td>1.520040</td>\n",
       "      <td>1.181774e+04</td>\n",
       "      <td>1.897536e+03</td>\n",
       "      <td>6.395259e+03</td>\n",
       "      <td>8.496206e+02</td>\n",
       "      <td>4624.897630</td>\n",
       "    </tr>\n",
       "    <tr>\n",
       "      <th>std</th>\n",
       "      <td>0.0</td>\n",
       "      <td>0.0</td>\n",
       "      <td>1.605016</td>\n",
       "      <td>15.404037</td>\n",
       "      <td>1.397822e+05</td>\n",
       "      <td>1.235342e+04</td>\n",
       "      <td>8.346138e+04</td>\n",
       "      <td>1.235124e+04</td>\n",
       "      <td>4561.049131</td>\n",
       "    </tr>\n",
       "    <tr>\n",
       "      <th>min</th>\n",
       "      <td>202006.0</td>\n",
       "      <td>20200630.0</td>\n",
       "      <td>10001.000000</td>\n",
       "      <td>0.000000</td>\n",
       "      <td>0.000000e+00</td>\n",
       "      <td>0.000000e+00</td>\n",
       "      <td>0.000000e+00</td>\n",
       "      <td>0.000000e+00</td>\n",
       "      <td>0.000000</td>\n",
       "    </tr>\n",
       "    <tr>\n",
       "      <th>25%</th>\n",
       "      <td>202006.0</td>\n",
       "      <td>20200630.0</td>\n",
       "      <td>10001.000000</td>\n",
       "      <td>1.000000</td>\n",
       "      <td>3.624503e+03</td>\n",
       "      <td>3.240000e+02</td>\n",
       "      <td>1.260000e+03</td>\n",
       "      <td>0.000000e+00</td>\n",
       "      <td>0.000000</td>\n",
       "    </tr>\n",
       "    <tr>\n",
       "      <th>50%</th>\n",
       "      <td>202006.0</td>\n",
       "      <td>20200630.0</td>\n",
       "      <td>10001.000000</td>\n",
       "      <td>1.000000</td>\n",
       "      <td>8.284467e+03</td>\n",
       "      <td>1.593307e+03</td>\n",
       "      <td>4.768617e+03</td>\n",
       "      <td>0.000000e+00</td>\n",
       "      <td>3959.316700</td>\n",
       "    </tr>\n",
       "    <tr>\n",
       "      <th>75%</th>\n",
       "      <td>202006.0</td>\n",
       "      <td>20200630.0</td>\n",
       "      <td>10001.000000</td>\n",
       "      <td>1.000000</td>\n",
       "      <td>1.372000e+04</td>\n",
       "      <td>2.308360e+03</td>\n",
       "      <td>7.982000e+03</td>\n",
       "      <td>1.006125e+03</td>\n",
       "      <td>7741.006900</td>\n",
       "    </tr>\n",
       "    <tr>\n",
       "      <th>max</th>\n",
       "      <td>202006.0</td>\n",
       "      <td>20200630.0</td>\n",
       "      <td>10010.000000</td>\n",
       "      <td>905.000000</td>\n",
       "      <td>1.281568e+07</td>\n",
       "      <td>1.188998e+06</td>\n",
       "      <td>7.689409e+06</td>\n",
       "      <td>1.208498e+06</td>\n",
       "      <td>64947.092000</td>\n",
       "    </tr>\n",
       "  </tbody>\n",
       "</table>\n",
       "</div>"
      ],
      "text/plain": [
       "        base_ym  dpro_tgt_perd_val  cust_ctg_type  efct_svc_count  \\\n",
       "count    9930.0             9930.0    9930.000000     9930.000000   \n",
       "mean   202006.0         20200630.0   10001.372810        1.520040   \n",
       "std         0.0                0.0       1.605016       15.404037   \n",
       "min    202006.0         20200630.0   10001.000000        0.000000   \n",
       "25%    202006.0         20200630.0   10001.000000        1.000000   \n",
       "50%    202006.0         20200630.0   10001.000000        1.000000   \n",
       "75%    202006.0         20200630.0   10001.000000        1.000000   \n",
       "max    202006.0         20200630.0   10010.000000      905.000000   \n",
       "\n",
       "       r3m_avg_bill_amt  r3m_A_avg_arpu_amt  r3m_B_avg_arpu_amt  \\\n",
       "count      9.930000e+03        9.930000e+03        9.930000e+03   \n",
       "mean       1.181774e+04        1.897536e+03        6.395259e+03   \n",
       "std        1.397822e+05        1.235342e+04        8.346138e+04   \n",
       "min        0.000000e+00        0.000000e+00        0.000000e+00   \n",
       "25%        3.624503e+03        3.240000e+02        1.260000e+03   \n",
       "50%        8.284467e+03        1.593307e+03        4.768617e+03   \n",
       "75%        1.372000e+04        2.308360e+03        7.982000e+03   \n",
       "max        1.281568e+07        1.188998e+06        7.689409e+06   \n",
       "\n",
       "       r6m_A_avg_arpu_amt  r6m_B_avg_arpu_amt  \n",
       "count        9.930000e+03         9930.000000  \n",
       "mean         8.496206e+02         4624.897630  \n",
       "std          1.235124e+04         4561.049131  \n",
       "min          0.000000e+00            0.000000  \n",
       "25%          0.000000e+00            0.000000  \n",
       "50%          0.000000e+00         3959.316700  \n",
       "75%          1.006125e+03         7741.006900  \n",
       "max          1.208498e+06        64947.092000  "
      ]
     },
     "execution_count": 51,
     "metadata": {},
     "output_type": "execute_result"
    }
   ],
   "source": [
    "# DataFrame의 기본적인 통계정보를 보여줌\n",
    "cust.describe()   #요약통계"
   ]
  },
  {
   "cell_type": "code",
   "execution_count": 54,
   "metadata": {
    "id": "lm49mabDVWO9"
   },
   "outputs": [
    {
     "data": {
      "text/plain": [
       "base_ym                 int64\n",
       "dpro_tgt_perd_val       int64\n",
       "cust_ctg_type           int64\n",
       "cust_class             object\n",
       "sex_type               object\n",
       "age                    object\n",
       "efct_svc_count          int64\n",
       "dt_stop_yn             object\n",
       "npay_yn                object\n",
       "r3m_avg_bill_amt      float64\n",
       "r3m_A_avg_arpu_amt    float64\n",
       "r3m_B_avg_arpu_amt    float64\n",
       "r6m_A_avg_arpu_amt    float64\n",
       "r6m_B_avg_arpu_amt    float64\n",
       "termination_yn         object\n",
       "dtype: object"
      ]
     },
     "execution_count": 54,
     "metadata": {},
     "output_type": "execute_result"
    }
   ],
   "source": [
    "# DataFrame의 데이터 종류\n",
    "cust.dtypes"
   ]
  },
  {
   "cell_type": "markdown",
   "metadata": {
    "id": "Ouqcv8yTVWO9"
   },
   "source": [
    "### <b>1-4. read_csv 함수 파라미터 살펴보기</b>\n",
    "> - 함수에 커서를 가져다 두고 shift+tab을 누르면 해당 함수의 parameter 볼 수 있음\n",
    "> - sep - 각 데이터 값을 구별하기 위한 구분자(separator) 설정 \n",
    "> - index_col : index로 사용할 column 설정\n",
    "> - usecols : 실제로 dataframe에 로딩할 columns만 설정\n",
    "> - usecols은 index_col을 포함하여야 함"
   ]
  },
  {
   "cell_type": "code",
   "execution_count": 56,
   "metadata": {
    "id": "HbqN8eBrVWO9",
    "outputId": "2e41185e-8ec8-4917-eee1-38d477caaaac"
   },
   "outputs": [
    {
     "data": {
      "text/html": [
       "<div>\n",
       "<style scoped>\n",
       "    .dataframe tbody tr th:only-of-type {\n",
       "        vertical-align: middle;\n",
       "    }\n",
       "\n",
       "    .dataframe tbody tr th {\n",
       "        vertical-align: top;\n",
       "    }\n",
       "\n",
       "    .dataframe thead th {\n",
       "        text-align: right;\n",
       "    }\n",
       "</style>\n",
       "<table border=\"1\" class=\"dataframe\">\n",
       "  <thead>\n",
       "    <tr style=\"text-align: right;\">\n",
       "      <th></th>\n",
       "      <th>r3m_avg_bill_amt</th>\n",
       "      <th>r3m_B_avg_arpu_amt</th>\n",
       "      <th>r6m_B_avg_arpu_amt</th>\n",
       "    </tr>\n",
       "    <tr>\n",
       "      <th>cust_class</th>\n",
       "      <th></th>\n",
       "      <th></th>\n",
       "      <th></th>\n",
       "    </tr>\n",
       "  </thead>\n",
       "  <tbody>\n",
       "    <tr>\n",
       "      <th>C</th>\n",
       "      <td>2640.0000</td>\n",
       "      <td>1584.0000</td>\n",
       "      <td>0.0000</td>\n",
       "    </tr>\n",
       "    <tr>\n",
       "      <th>_</th>\n",
       "      <td>300.0000</td>\n",
       "      <td>180.0000</td>\n",
       "      <td>0.0000</td>\n",
       "    </tr>\n",
       "    <tr>\n",
       "      <th>E</th>\n",
       "      <td>16840.0000</td>\n",
       "      <td>6983.0000</td>\n",
       "      <td>6981.0000</td>\n",
       "    </tr>\n",
       "    <tr>\n",
       "      <th>F</th>\n",
       "      <td>15544.7334</td>\n",
       "      <td>6750.4666</td>\n",
       "      <td>6508.8000</td>\n",
       "    </tr>\n",
       "    <tr>\n",
       "      <th>D</th>\n",
       "      <td>4700.0000</td>\n",
       "      <td>4502.0000</td>\n",
       "      <td>4507.7000</td>\n",
       "    </tr>\n",
       "    <tr>\n",
       "      <th>...</th>\n",
       "      <td>...</td>\n",
       "      <td>...</td>\n",
       "      <td>...</td>\n",
       "    </tr>\n",
       "    <tr>\n",
       "      <th>C</th>\n",
       "      <td>1296.0999</td>\n",
       "      <td>643.1001</td>\n",
       "      <td>852.5499</td>\n",
       "    </tr>\n",
       "    <tr>\n",
       "      <th>G</th>\n",
       "      <td>13799.6666</td>\n",
       "      <td>10605.9266</td>\n",
       "      <td>10603.9266</td>\n",
       "    </tr>\n",
       "    <tr>\n",
       "      <th>C</th>\n",
       "      <td>1396.2000</td>\n",
       "      <td>0.0000</td>\n",
       "      <td>0.0000</td>\n",
       "    </tr>\n",
       "    <tr>\n",
       "      <th>C</th>\n",
       "      <td>3140.0000</td>\n",
       "      <td>1884.0000</td>\n",
       "      <td>0.0000</td>\n",
       "    </tr>\n",
       "    <tr>\n",
       "      <th>C</th>\n",
       "      <td>2436.9000</td>\n",
       "      <td>1839.9000</td>\n",
       "      <td>1919.7999</td>\n",
       "    </tr>\n",
       "  </tbody>\n",
       "</table>\n",
       "<p>9930 rows × 3 columns</p>\n",
       "</div>"
      ],
      "text/plain": [
       "            r3m_avg_bill_amt  r3m_B_avg_arpu_amt  r6m_B_avg_arpu_amt\n",
       "cust_class                                                          \n",
       "C                  2640.0000           1584.0000              0.0000\n",
       "_                   300.0000            180.0000              0.0000\n",
       "E                 16840.0000           6983.0000           6981.0000\n",
       "F                 15544.7334           6750.4666           6508.8000\n",
       "D                  4700.0000           4502.0000           4507.7000\n",
       "...                      ...                 ...                 ...\n",
       "C                  1296.0999            643.1001            852.5499\n",
       "G                 13799.6666          10605.9266          10603.9266\n",
       "C                  1396.2000              0.0000              0.0000\n",
       "C                  3140.0000           1884.0000              0.0000\n",
       "C                  2436.9000           1839.9000           1919.7999\n",
       "\n",
       "[9930 rows x 3 columns]"
      ]
     },
     "execution_count": 56,
     "metadata": {},
     "output_type": "execute_result"
    }
   ],
   "source": [
    "cust2 = pd.read_csv('./sc_cust_info_txn_v1.5.csv', index_col='cust_class', usecols=['cust_class', 'r3m_avg_bill_amt', 'r3m_B_avg_arpu_amt', 'r6m_B_avg_arpu_amt'])\n",
    "cust2\n"
   ]
  },
  {
   "cell_type": "markdown",
   "metadata": {
    "id": "Mir1hdWS7DPc"
   },
   "source": [
    "# __2. Data 조회하기__\n",
    "DataFrame에서 data를 __조회, 수정__해보고 이를 이해해본다. "
   ]
  },
  {
   "cell_type": "markdown",
   "metadata": {
    "id": "69_7683u7iX2"
   },
   "source": [
    "### <b>1-1. 데이터 추출하기</b>"
   ]
  },
  {
   "cell_type": "markdown",
   "metadata": {
    "id": "9eieM37hazvm"
   },
   "source": [
    "#### <b>1) column 선택하기</b>\n",
    "\n",
    "> - 기본적으로 [ ]는 column을 추출 : 특정한 col을기준으로 모델링을 하고자 하는 경우\n",
    "> - 컬럼 인덱스일 경우 인덱스의 리스트 사용 가능\n",
    ">   - 리스트를 전달할 경우 결과는 Dataframe\n",
    ">   - 하나의 컬럼명을 전달할 경우 결과는 Series"
   ]
  },
  {
   "cell_type": "markdown",
   "metadata": {
    "id": "w29s2yrUazvo"
   },
   "source": [
    "#### <b>2) 하나의 컬럼 선택하기</b>\n",
    "\n",
    "> - Series 형태로 가지고 올 수도, DataFrame형태로 가지고 올 수 있음"
   ]
  },
  {
   "cell_type": "code",
   "execution_count": 57,
   "metadata": {
    "id": "AUe64Qk7azvp"
   },
   "outputs": [
    {
     "data": {
      "text/plain": [
       "0       C\n",
       "1       _\n",
       "2       E\n",
       "3       F\n",
       "4       D\n",
       "       ..\n",
       "9925    C\n",
       "9926    G\n",
       "9927    C\n",
       "9928    C\n",
       "9929    C\n",
       "Name: cust_class, Length: 9930, dtype: object"
      ]
     },
     "execution_count": 57,
     "metadata": {},
     "output_type": "execute_result"
    }
   ],
   "source": [
    "cust.cust_class = cust['cust_class']\n",
    "#cust['cust_class']\n",
    "cust.cust_class"
   ]
  },
  {
   "cell_type": "code",
   "execution_count": 58,
   "metadata": {
    "id": "Fj3q5LaPazvr",
    "outputId": "70d031e3-02e7-46c4-a1f3-133de36103b8"
   },
   "outputs": [
    {
     "data": {
      "text/plain": [
       "0       C\n",
       "1       _\n",
       "2       E\n",
       "3       F\n",
       "4       D\n",
       "       ..\n",
       "9925    C\n",
       "9926    G\n",
       "9927    C\n",
       "9928    C\n",
       "9929    C\n",
       "Name: cust_class, Length: 9930, dtype: object"
      ]
     },
     "execution_count": 58,
     "metadata": {},
     "output_type": "execute_result"
    }
   ],
   "source": [
    "cust.cust_class"
   ]
  },
  {
   "cell_type": "code",
   "execution_count": 59,
   "metadata": {
    "id": "NzgMmOBnazvs",
    "outputId": "434bdf0e-23b9-416d-b204-a1f2e7239dfb"
   },
   "outputs": [
    {
     "data": {
      "text/plain": [
       "0       C\n",
       "1       _\n",
       "2       E\n",
       "3       F\n",
       "4       D\n",
       "       ..\n",
       "9925    C\n",
       "9926    G\n",
       "9927    C\n",
       "9928    C\n",
       "9929    C\n",
       "Name: cust_class, Length: 9930, dtype: object"
      ]
     },
     "execution_count": 59,
     "metadata": {},
     "output_type": "execute_result"
    }
   ],
   "source": [
    "# cf : series 형태로 가지고 오기(hcust.cust_class = cust['cust_class'])\n",
    "cust['cust_class']"
   ]
  },
  {
   "cell_type": "code",
   "execution_count": 60,
   "metadata": {
    "id": "mZ4rb99Zazvt",
    "outputId": "28ce7565-76ea-4d53-9ee6-f783c1a0b457"
   },
   "outputs": [
    {
     "data": {
      "text/html": [
       "<div>\n",
       "<style scoped>\n",
       "    .dataframe tbody tr th:only-of-type {\n",
       "        vertical-align: middle;\n",
       "    }\n",
       "\n",
       "    .dataframe tbody tr th {\n",
       "        vertical-align: top;\n",
       "    }\n",
       "\n",
       "    .dataframe thead th {\n",
       "        text-align: right;\n",
       "    }\n",
       "</style>\n",
       "<table border=\"1\" class=\"dataframe\">\n",
       "  <thead>\n",
       "    <tr style=\"text-align: right;\">\n",
       "      <th></th>\n",
       "      <th>cust_class</th>\n",
       "    </tr>\n",
       "  </thead>\n",
       "  <tbody>\n",
       "    <tr>\n",
       "      <th>0</th>\n",
       "      <td>C</td>\n",
       "    </tr>\n",
       "    <tr>\n",
       "      <th>1</th>\n",
       "      <td>_</td>\n",
       "    </tr>\n",
       "    <tr>\n",
       "      <th>2</th>\n",
       "      <td>E</td>\n",
       "    </tr>\n",
       "    <tr>\n",
       "      <th>3</th>\n",
       "      <td>F</td>\n",
       "    </tr>\n",
       "    <tr>\n",
       "      <th>4</th>\n",
       "      <td>D</td>\n",
       "    </tr>\n",
       "    <tr>\n",
       "      <th>...</th>\n",
       "      <td>...</td>\n",
       "    </tr>\n",
       "    <tr>\n",
       "      <th>9925</th>\n",
       "      <td>C</td>\n",
       "    </tr>\n",
       "    <tr>\n",
       "      <th>9926</th>\n",
       "      <td>G</td>\n",
       "    </tr>\n",
       "    <tr>\n",
       "      <th>9927</th>\n",
       "      <td>C</td>\n",
       "    </tr>\n",
       "    <tr>\n",
       "      <th>9928</th>\n",
       "      <td>C</td>\n",
       "    </tr>\n",
       "    <tr>\n",
       "      <th>9929</th>\n",
       "      <td>C</td>\n",
       "    </tr>\n",
       "  </tbody>\n",
       "</table>\n",
       "<p>9930 rows × 1 columns</p>\n",
       "</div>"
      ],
      "text/plain": [
       "     cust_class\n",
       "0             C\n",
       "1             _\n",
       "2             E\n",
       "3             F\n",
       "4             D\n",
       "...         ...\n",
       "9925          C\n",
       "9926          G\n",
       "9927          C\n",
       "9928          C\n",
       "9929          C\n",
       "\n",
       "[9930 rows x 1 columns]"
      ]
     },
     "execution_count": 60,
     "metadata": {},
     "output_type": "execute_result"
    }
   ],
   "source": [
    "# cf : Dataframe형태로 가지고 오기\n",
    "cust[['cust_class']]"
   ]
  },
  {
   "cell_type": "markdown",
   "metadata": {
    "id": "C179aRdiazvu"
   },
   "source": [
    "#### <b>3) 복수의 컬럼 선택하기</b>"
   ]
  },
  {
   "cell_type": "code",
   "execution_count": 61,
   "metadata": {
    "id": "RK5gICZjazvu",
    "outputId": "d1f42b37-e527-4c5d-d808-37b47bd076d4"
   },
   "outputs": [
    {
     "data": {
      "text/html": [
       "<div>\n",
       "<style scoped>\n",
       "    .dataframe tbody tr th:only-of-type {\n",
       "        vertical-align: middle;\n",
       "    }\n",
       "\n",
       "    .dataframe tbody tr th {\n",
       "        vertical-align: top;\n",
       "    }\n",
       "\n",
       "    .dataframe thead th {\n",
       "        text-align: right;\n",
       "    }\n",
       "</style>\n",
       "<table border=\"1\" class=\"dataframe\">\n",
       "  <thead>\n",
       "    <tr style=\"text-align: right;\">\n",
       "      <th></th>\n",
       "      <th>cust_class</th>\n",
       "      <th>age</th>\n",
       "      <th>r3m_avg_bill_amt</th>\n",
       "    </tr>\n",
       "  </thead>\n",
       "  <tbody>\n",
       "    <tr>\n",
       "      <th>0</th>\n",
       "      <td>C</td>\n",
       "      <td>28</td>\n",
       "      <td>2640.0000</td>\n",
       "    </tr>\n",
       "    <tr>\n",
       "      <th>1</th>\n",
       "      <td>_</td>\n",
       "      <td>_</td>\n",
       "      <td>300.0000</td>\n",
       "    </tr>\n",
       "    <tr>\n",
       "      <th>2</th>\n",
       "      <td>E</td>\n",
       "      <td>24</td>\n",
       "      <td>16840.0000</td>\n",
       "    </tr>\n",
       "    <tr>\n",
       "      <th>3</th>\n",
       "      <td>F</td>\n",
       "      <td>32</td>\n",
       "      <td>15544.7334</td>\n",
       "    </tr>\n",
       "    <tr>\n",
       "      <th>4</th>\n",
       "      <td>D</td>\n",
       "      <td>18</td>\n",
       "      <td>4700.0000</td>\n",
       "    </tr>\n",
       "    <tr>\n",
       "      <th>...</th>\n",
       "      <td>...</td>\n",
       "      <td>...</td>\n",
       "      <td>...</td>\n",
       "    </tr>\n",
       "    <tr>\n",
       "      <th>9925</th>\n",
       "      <td>C</td>\n",
       "      <td>15</td>\n",
       "      <td>1296.0999</td>\n",
       "    </tr>\n",
       "    <tr>\n",
       "      <th>9926</th>\n",
       "      <td>G</td>\n",
       "      <td>12</td>\n",
       "      <td>13799.6666</td>\n",
       "    </tr>\n",
       "    <tr>\n",
       "      <th>9927</th>\n",
       "      <td>C</td>\n",
       "      <td>_</td>\n",
       "      <td>1396.2000</td>\n",
       "    </tr>\n",
       "    <tr>\n",
       "      <th>9928</th>\n",
       "      <td>C</td>\n",
       "      <td>40</td>\n",
       "      <td>3140.0000</td>\n",
       "    </tr>\n",
       "    <tr>\n",
       "      <th>9929</th>\n",
       "      <td>C</td>\n",
       "      <td>59</td>\n",
       "      <td>2436.9000</td>\n",
       "    </tr>\n",
       "  </tbody>\n",
       "</table>\n",
       "<p>9930 rows × 3 columns</p>\n",
       "</div>"
      ],
      "text/plain": [
       "     cust_class age  r3m_avg_bill_amt\n",
       "0             C  28         2640.0000\n",
       "1             _   _          300.0000\n",
       "2             E  24        16840.0000\n",
       "3             F  32        15544.7334\n",
       "4             D  18         4700.0000\n",
       "...         ...  ..               ...\n",
       "9925          C  15         1296.0999\n",
       "9926          G  12        13799.6666\n",
       "9927          C   _         1396.2000\n",
       "9928          C  40         3140.0000\n",
       "9929          C  59         2436.9000\n",
       "\n",
       "[9930 rows x 3 columns]"
      ]
     },
     "execution_count": 61,
     "metadata": {},
     "output_type": "execute_result"
    }
   ],
   "source": [
    "# 'cust_class' , 'age' 'r3m_avg_bill_amt'등 3개의 col 선택하기\n",
    "cust[['cust_class', 'age', 'r3m_avg_bill_amt']]"
   ]
  },
  {
   "cell_type": "markdown",
   "metadata": {
    "id": "u7XKsX9Vazvv"
   },
   "source": [
    "#### <b>4) DataFrame slicing</b>\n",
    "\n",
    ">- 특정 **행 범위**를 가지고 오고 싶다면 [ ]를 사용\n",
    ">- DataFrame의 경우 기본적으로 [ ] 연산자가 **column 선택**에 사용되지만 **slicing은 row 레벨**로 지원"
   ]
  },
  {
   "cell_type": "code",
   "execution_count": 63,
   "metadata": {
    "id": "V_iG8mhDazvv",
    "outputId": "b35c51ed-a0e1-4662-81c9-8b280ac61d4e"
   },
   "outputs": [
    {
     "data": {
      "text/html": [
       "<div>\n",
       "<style scoped>\n",
       "    .dataframe tbody tr th:only-of-type {\n",
       "        vertical-align: middle;\n",
       "    }\n",
       "\n",
       "    .dataframe tbody tr th {\n",
       "        vertical-align: top;\n",
       "    }\n",
       "\n",
       "    .dataframe thead th {\n",
       "        text-align: right;\n",
       "    }\n",
       "</style>\n",
       "<table border=\"1\" class=\"dataframe\">\n",
       "  <thead>\n",
       "    <tr style=\"text-align: right;\">\n",
       "      <th></th>\n",
       "      <th>base_ym</th>\n",
       "      <th>dpro_tgt_perd_val</th>\n",
       "      <th>cust_ctg_type</th>\n",
       "      <th>cust_class</th>\n",
       "      <th>sex_type</th>\n",
       "      <th>age</th>\n",
       "      <th>efct_svc_count</th>\n",
       "      <th>dt_stop_yn</th>\n",
       "      <th>npay_yn</th>\n",
       "      <th>r3m_avg_bill_amt</th>\n",
       "      <th>r3m_A_avg_arpu_amt</th>\n",
       "      <th>r3m_B_avg_arpu_amt</th>\n",
       "      <th>r6m_A_avg_arpu_amt</th>\n",
       "      <th>r6m_B_avg_arpu_amt</th>\n",
       "      <th>termination_yn</th>\n",
       "    </tr>\n",
       "  </thead>\n",
       "  <tbody>\n",
       "    <tr>\n",
       "      <th>7</th>\n",
       "      <td>202006</td>\n",
       "      <td>20200630</td>\n",
       "      <td>10001</td>\n",
       "      <td>D</td>\n",
       "      <td>F</td>\n",
       "      <td>65</td>\n",
       "      <td>1</td>\n",
       "      <td>N</td>\n",
       "      <td>N</td>\n",
       "      <td>4953.9334</td>\n",
       "      <td>987.0000</td>\n",
       "      <td>2700.3999</td>\n",
       "      <td>0.0000</td>\n",
       "      <td>2689.1</td>\n",
       "      <td>N</td>\n",
       "    </tr>\n",
       "    <tr>\n",
       "      <th>8</th>\n",
       "      <td>202006</td>\n",
       "      <td>20200630</td>\n",
       "      <td>10001</td>\n",
       "      <td>D</td>\n",
       "      <td>M</td>\n",
       "      <td>60</td>\n",
       "      <td>1</td>\n",
       "      <td>N</td>\n",
       "      <td>N</td>\n",
       "      <td>5503.0000</td>\n",
       "      <td>2093.0001</td>\n",
       "      <td>0.0000</td>\n",
       "      <td>1981.8999</td>\n",
       "      <td>0.0</td>\n",
       "      <td>N</td>\n",
       "    </tr>\n",
       "    <tr>\n",
       "      <th>9</th>\n",
       "      <td>202006</td>\n",
       "      <td>20200630</td>\n",
       "      <td>10001</td>\n",
       "      <td>C</td>\n",
       "      <td>F</td>\n",
       "      <td>67</td>\n",
       "      <td>1</td>\n",
       "      <td>N</td>\n",
       "      <td>N</td>\n",
       "      <td>1349.7000</td>\n",
       "      <td>1227.0000</td>\n",
       "      <td>0.0000</td>\n",
       "      <td>985.5000</td>\n",
       "      <td>0.0</td>\n",
       "      <td>N</td>\n",
       "    </tr>\n",
       "  </tbody>\n",
       "</table>\n",
       "</div>"
      ],
      "text/plain": [
       "   base_ym  dpro_tgt_perd_val  cust_ctg_type cust_class sex_type age  \\\n",
       "7   202006           20200630          10001          D        F  65   \n",
       "8   202006           20200630          10001          D        M  60   \n",
       "9   202006           20200630          10001          C        F  67   \n",
       "\n",
       "   efct_svc_count dt_stop_yn npay_yn  r3m_avg_bill_amt  r3m_A_avg_arpu_amt  \\\n",
       "7               1          N       N         4953.9334            987.0000   \n",
       "8               1          N       N         5503.0000           2093.0001   \n",
       "9               1          N       N         1349.7000           1227.0000   \n",
       "\n",
       "   r3m_B_avg_arpu_amt  r6m_A_avg_arpu_amt  r6m_B_avg_arpu_amt termination_yn  \n",
       "7           2700.3999              0.0000              2689.1              N  \n",
       "8              0.0000           1981.8999                 0.0              N  \n",
       "9              0.0000            985.5000                 0.0              N  "
      ]
     },
     "execution_count": 63,
     "metadata": {},
     "output_type": "execute_result"
    }
   ],
   "source": [
    "# 7,8,9행을 가지고 옴 (인덱스 기준)\n",
    "cust[7:10]"
   ]
  },
  {
   "cell_type": "markdown",
   "metadata": {
    "id": "qNWmUzRnazvw"
   },
   "source": [
    "#### <b>5) row 선택하기</b>\n",
    "\n",
    " - DataFrame에서는 기본적으로 **[ ]을 사용하여 column을 선택**\n",
    " > __row 선택(두가지 방법이 존재)__\n",
    " > - **loc** : Dataframe에 존재하는 **인덱스를 그대로 사용** (인덱스 기준으로 행 데이터 읽기)\n",
    " > - **iloc** : Datafrmae에 존재하는 인덱스 상관없이 **0 based index로 사용** (행 번호 기준으로 행 데이터 읽기)\n",
    " > - 이 두 함수는 ,를 사용하여 column 선택도 가능\n"
   ]
  },
  {
   "cell_type": "code",
   "execution_count": 64,
   "metadata": {
    "id": "68Gbw0Fjazvw",
    "outputId": "cf33f967-c49a-4634-8f02-08900501424a"
   },
   "outputs": [
    {
     "name": "stdout",
     "output_type": "stream",
     "text": [
      "<class 'pandas.core.frame.DataFrame'>\n",
      "RangeIndex: 9930 entries, 0 to 9929\n",
      "Data columns (total 15 columns):\n",
      " #   Column              Non-Null Count  Dtype  \n",
      "---  ------              --------------  -----  \n",
      " 0   base_ym             9930 non-null   int64  \n",
      " 1   dpro_tgt_perd_val   9930 non-null   int64  \n",
      " 2   cust_ctg_type       9930 non-null   int64  \n",
      " 3   cust_class          9930 non-null   object \n",
      " 4   sex_type            9930 non-null   object \n",
      " 5   age                 9930 non-null   object \n",
      " 6   efct_svc_count      9930 non-null   int64  \n",
      " 7   dt_stop_yn          9930 non-null   object \n",
      " 8   npay_yn             9930 non-null   object \n",
      " 9   r3m_avg_bill_amt    9930 non-null   float64\n",
      " 10  r3m_A_avg_arpu_amt  9930 non-null   float64\n",
      " 11  r3m_B_avg_arpu_amt  9930 non-null   float64\n",
      " 12  r6m_A_avg_arpu_amt  9930 non-null   float64\n",
      " 13  r6m_B_avg_arpu_amt  9930 non-null   float64\n",
      " 14  termination_yn      9930 non-null   object \n",
      "dtypes: float64(5), int64(4), object(6)\n",
      "memory usage: 1.1+ MB\n"
     ]
    }
   ],
   "source": [
    "cust.info()"
   ]
  },
  {
   "cell_type": "code",
   "execution_count": 65,
   "metadata": {
    "id": "SBHHNlj5azvw",
    "outputId": "bbf8cb35-7b01-4d0b-ef32-1840ac137183"
   },
   "outputs": [
    {
     "data": {
      "text/plain": [
       "array([10, 11, 12, 13, 14, 15, 16, 17, 18, 19])"
      ]
     },
     "execution_count": 65,
     "metadata": {},
     "output_type": "execute_result"
    }
   ],
   "source": [
    "# arange함수는 10부터 19에서 끝나도록 간격을 1로 반환한다.\n",
    "cp=np.arange(10,20)\n",
    "cp"
   ]
  },
  {
   "cell_type": "code",
   "execution_count": 66,
   "metadata": {
    "id": "Yv7Jcwwpazvx",
    "outputId": "3b3084d5-82be-4283-e5a3-0b0056cb2159"
   },
   "outputs": [
    {
     "data": {
      "text/html": [
       "<div>\n",
       "<style scoped>\n",
       "    .dataframe tbody tr th:only-of-type {\n",
       "        vertical-align: middle;\n",
       "    }\n",
       "\n",
       "    .dataframe tbody tr th {\n",
       "        vertical-align: top;\n",
       "    }\n",
       "\n",
       "    .dataframe thead th {\n",
       "        text-align: right;\n",
       "    }\n",
       "</style>\n",
       "<table border=\"1\" class=\"dataframe\">\n",
       "  <thead>\n",
       "    <tr style=\"text-align: right;\">\n",
       "      <th></th>\n",
       "      <th>base_ym</th>\n",
       "      <th>dpro_tgt_perd_val</th>\n",
       "      <th>cust_ctg_type</th>\n",
       "      <th>cust_class</th>\n",
       "      <th>sex_type</th>\n",
       "      <th>age</th>\n",
       "      <th>efct_svc_count</th>\n",
       "      <th>dt_stop_yn</th>\n",
       "      <th>npay_yn</th>\n",
       "      <th>r3m_avg_bill_amt</th>\n",
       "      <th>r3m_A_avg_arpu_amt</th>\n",
       "      <th>r3m_B_avg_arpu_amt</th>\n",
       "      <th>r6m_A_avg_arpu_amt</th>\n",
       "      <th>r6m_B_avg_arpu_amt</th>\n",
       "      <th>termination_yn</th>\n",
       "    </tr>\n",
       "  </thead>\n",
       "  <tbody>\n",
       "    <tr>\n",
       "      <th>100</th>\n",
       "      <td>202006</td>\n",
       "      <td>20200630</td>\n",
       "      <td>10001</td>\n",
       "      <td>C</td>\n",
       "      <td>F</td>\n",
       "      <td>28</td>\n",
       "      <td>0</td>\n",
       "      <td>N</td>\n",
       "      <td>N</td>\n",
       "      <td>2640.0000</td>\n",
       "      <td>792.000000</td>\n",
       "      <td>1584.0000</td>\n",
       "      <td>0.0</td>\n",
       "      <td>0.0000</td>\n",
       "      <td>Y</td>\n",
       "    </tr>\n",
       "    <tr>\n",
       "      <th>101</th>\n",
       "      <td>202006</td>\n",
       "      <td>20200630</td>\n",
       "      <td>10001</td>\n",
       "      <td>_</td>\n",
       "      <td>_</td>\n",
       "      <td>_</td>\n",
       "      <td>1</td>\n",
       "      <td>N</td>\n",
       "      <td>N</td>\n",
       "      <td>300.0000</td>\n",
       "      <td>90.000000</td>\n",
       "      <td>180.0000</td>\n",
       "      <td>0.0</td>\n",
       "      <td>0.0000</td>\n",
       "      <td>Y</td>\n",
       "    </tr>\n",
       "    <tr>\n",
       "      <th>102</th>\n",
       "      <td>202006</td>\n",
       "      <td>20200630</td>\n",
       "      <td>10001</td>\n",
       "      <td>E</td>\n",
       "      <td>F</td>\n",
       "      <td>24</td>\n",
       "      <td>1</td>\n",
       "      <td>N</td>\n",
       "      <td>N</td>\n",
       "      <td>16840.0000</td>\n",
       "      <td>2526.000000</td>\n",
       "      <td>6983.0000</td>\n",
       "      <td>0.0</td>\n",
       "      <td>6981.0000</td>\n",
       "      <td>N</td>\n",
       "    </tr>\n",
       "    <tr>\n",
       "      <th>103</th>\n",
       "      <td>202006</td>\n",
       "      <td>20200630</td>\n",
       "      <td>10001</td>\n",
       "      <td>F</td>\n",
       "      <td>F</td>\n",
       "      <td>32</td>\n",
       "      <td>1</td>\n",
       "      <td>N</td>\n",
       "      <td>N</td>\n",
       "      <td>15544.7334</td>\n",
       "      <td>2331.710010</td>\n",
       "      <td>6750.4666</td>\n",
       "      <td>0.0</td>\n",
       "      <td>6508.8000</td>\n",
       "      <td>N</td>\n",
       "    </tr>\n",
       "    <tr>\n",
       "      <th>104</th>\n",
       "      <td>202006</td>\n",
       "      <td>20200630</td>\n",
       "      <td>10001</td>\n",
       "      <td>D</td>\n",
       "      <td>M</td>\n",
       "      <td>18</td>\n",
       "      <td>1</td>\n",
       "      <td>N</td>\n",
       "      <td>N</td>\n",
       "      <td>4700.0000</td>\n",
       "      <td>0.000000</td>\n",
       "      <td>4502.0000</td>\n",
       "      <td>0.0</td>\n",
       "      <td>4507.7000</td>\n",
       "      <td>N</td>\n",
       "    </tr>\n",
       "    <tr>\n",
       "      <th>...</th>\n",
       "      <td>...</td>\n",
       "      <td>...</td>\n",
       "      <td>...</td>\n",
       "      <td>...</td>\n",
       "      <td>...</td>\n",
       "      <td>...</td>\n",
       "      <td>...</td>\n",
       "      <td>...</td>\n",
       "      <td>...</td>\n",
       "      <td>...</td>\n",
       "      <td>...</td>\n",
       "      <td>...</td>\n",
       "      <td>...</td>\n",
       "      <td>...</td>\n",
       "      <td>...</td>\n",
       "    </tr>\n",
       "    <tr>\n",
       "      <th>10025</th>\n",
       "      <td>202006</td>\n",
       "      <td>20200630</td>\n",
       "      <td>10001</td>\n",
       "      <td>C</td>\n",
       "      <td>F</td>\n",
       "      <td>15</td>\n",
       "      <td>1</td>\n",
       "      <td>N</td>\n",
       "      <td>Y</td>\n",
       "      <td>1296.0999</td>\n",
       "      <td>194.414985</td>\n",
       "      <td>643.1001</td>\n",
       "      <td>0.0</td>\n",
       "      <td>852.5499</td>\n",
       "      <td>N</td>\n",
       "    </tr>\n",
       "    <tr>\n",
       "      <th>10026</th>\n",
       "      <td>202006</td>\n",
       "      <td>20200630</td>\n",
       "      <td>10001</td>\n",
       "      <td>G</td>\n",
       "      <td>M</td>\n",
       "      <td>12</td>\n",
       "      <td>1</td>\n",
       "      <td>N</td>\n",
       "      <td>N</td>\n",
       "      <td>13799.6666</td>\n",
       "      <td>2069.949990</td>\n",
       "      <td>10605.9266</td>\n",
       "      <td>0.0</td>\n",
       "      <td>10603.9266</td>\n",
       "      <td>N</td>\n",
       "    </tr>\n",
       "    <tr>\n",
       "      <th>10027</th>\n",
       "      <td>202006</td>\n",
       "      <td>20200630</td>\n",
       "      <td>10005</td>\n",
       "      <td>C</td>\n",
       "      <td>_</td>\n",
       "      <td>_</td>\n",
       "      <td>1</td>\n",
       "      <td>N</td>\n",
       "      <td>N</td>\n",
       "      <td>1396.2000</td>\n",
       "      <td>1206.000000</td>\n",
       "      <td>0.0000</td>\n",
       "      <td>1212.0</td>\n",
       "      <td>0.0000</td>\n",
       "      <td>N</td>\n",
       "    </tr>\n",
       "    <tr>\n",
       "      <th>10028</th>\n",
       "      <td>202006</td>\n",
       "      <td>20200630</td>\n",
       "      <td>10001</td>\n",
       "      <td>C</td>\n",
       "      <td>F</td>\n",
       "      <td>40</td>\n",
       "      <td>0</td>\n",
       "      <td>N</td>\n",
       "      <td>N</td>\n",
       "      <td>3140.0000</td>\n",
       "      <td>942.000000</td>\n",
       "      <td>1884.0000</td>\n",
       "      <td>0.0</td>\n",
       "      <td>0.0000</td>\n",
       "      <td>Y</td>\n",
       "    </tr>\n",
       "    <tr>\n",
       "      <th>10029</th>\n",
       "      <td>202006</td>\n",
       "      <td>20200630</td>\n",
       "      <td>10001</td>\n",
       "      <td>C</td>\n",
       "      <td>F</td>\n",
       "      <td>59</td>\n",
       "      <td>1</td>\n",
       "      <td>N</td>\n",
       "      <td>N</td>\n",
       "      <td>2436.9000</td>\n",
       "      <td>365.535000</td>\n",
       "      <td>1839.9000</td>\n",
       "      <td>0.0</td>\n",
       "      <td>1919.7999</td>\n",
       "      <td>N</td>\n",
       "    </tr>\n",
       "  </tbody>\n",
       "</table>\n",
       "<p>9930 rows × 15 columns</p>\n",
       "</div>"
      ],
      "text/plain": [
       "       base_ym  dpro_tgt_perd_val  cust_ctg_type cust_class sex_type age  \\\n",
       "100     202006           20200630          10001          C        F  28   \n",
       "101     202006           20200630          10001          _        _   _   \n",
       "102     202006           20200630          10001          E        F  24   \n",
       "103     202006           20200630          10001          F        F  32   \n",
       "104     202006           20200630          10001          D        M  18   \n",
       "...        ...                ...            ...        ...      ...  ..   \n",
       "10025   202006           20200630          10001          C        F  15   \n",
       "10026   202006           20200630          10001          G        M  12   \n",
       "10027   202006           20200630          10005          C        _   _   \n",
       "10028   202006           20200630          10001          C        F  40   \n",
       "10029   202006           20200630          10001          C        F  59   \n",
       "\n",
       "       efct_svc_count dt_stop_yn npay_yn  r3m_avg_bill_amt  \\\n",
       "100                 0          N       N         2640.0000   \n",
       "101                 1          N       N          300.0000   \n",
       "102                 1          N       N        16840.0000   \n",
       "103                 1          N       N        15544.7334   \n",
       "104                 1          N       N         4700.0000   \n",
       "...               ...        ...     ...               ...   \n",
       "10025               1          N       Y         1296.0999   \n",
       "10026               1          N       N        13799.6666   \n",
       "10027               1          N       N         1396.2000   \n",
       "10028               0          N       N         3140.0000   \n",
       "10029               1          N       N         2436.9000   \n",
       "\n",
       "       r3m_A_avg_arpu_amt  r3m_B_avg_arpu_amt  r6m_A_avg_arpu_amt  \\\n",
       "100            792.000000           1584.0000                 0.0   \n",
       "101             90.000000            180.0000                 0.0   \n",
       "102           2526.000000           6983.0000                 0.0   \n",
       "103           2331.710010           6750.4666                 0.0   \n",
       "104              0.000000           4502.0000                 0.0   \n",
       "...                   ...                 ...                 ...   \n",
       "10025          194.414985            643.1001                 0.0   \n",
       "10026         2069.949990          10605.9266                 0.0   \n",
       "10027         1206.000000              0.0000              1212.0   \n",
       "10028          942.000000           1884.0000                 0.0   \n",
       "10029          365.535000           1839.9000                 0.0   \n",
       "\n",
       "       r6m_B_avg_arpu_amt termination_yn  \n",
       "100                0.0000              Y  \n",
       "101                0.0000              Y  \n",
       "102             6981.0000              N  \n",
       "103             6508.8000              N  \n",
       "104             4507.7000              N  \n",
       "...                   ...            ...  \n",
       "10025            852.5499              N  \n",
       "10026          10603.9266              N  \n",
       "10027              0.0000              N  \n",
       "10028              0.0000              Y  \n",
       "10029           1919.7999              N  \n",
       "\n",
       "[9930 rows x 15 columns]"
      ]
     },
     "execution_count": 66,
     "metadata": {},
     "output_type": "execute_result"
    }
   ],
   "source": [
    "#index를 100부터 달아주기 \n",
    "cust.index = np.arange(100, 10030)\n",
    "cust"
   ]
  },
  {
   "cell_type": "code",
   "execution_count": 67,
   "metadata": {
    "id": "dbT_WtD-azvx",
    "outputId": "d67d724f-16e4-4831-a61c-1342e7e27cef"
   },
   "outputs": [
    {
     "data": {
      "text/html": [
       "<div>\n",
       "<style scoped>\n",
       "    .dataframe tbody tr th:only-of-type {\n",
       "        vertical-align: middle;\n",
       "    }\n",
       "\n",
       "    .dataframe tbody tr th {\n",
       "        vertical-align: top;\n",
       "    }\n",
       "\n",
       "    .dataframe thead th {\n",
       "        text-align: right;\n",
       "    }\n",
       "</style>\n",
       "<table border=\"1\" class=\"dataframe\">\n",
       "  <thead>\n",
       "    <tr style=\"text-align: right;\">\n",
       "      <th></th>\n",
       "      <th>base_ym</th>\n",
       "      <th>dpro_tgt_perd_val</th>\n",
       "      <th>cust_ctg_type</th>\n",
       "      <th>cust_class</th>\n",
       "      <th>sex_type</th>\n",
       "      <th>age</th>\n",
       "      <th>efct_svc_count</th>\n",
       "      <th>dt_stop_yn</th>\n",
       "      <th>npay_yn</th>\n",
       "      <th>r3m_avg_bill_amt</th>\n",
       "      <th>r3m_A_avg_arpu_amt</th>\n",
       "      <th>r3m_B_avg_arpu_amt</th>\n",
       "      <th>r6m_A_avg_arpu_amt</th>\n",
       "      <th>r6m_B_avg_arpu_amt</th>\n",
       "      <th>termination_yn</th>\n",
       "    </tr>\n",
       "  </thead>\n",
       "  <tbody>\n",
       "    <tr>\n",
       "      <th>10025</th>\n",
       "      <td>202006</td>\n",
       "      <td>20200630</td>\n",
       "      <td>10001</td>\n",
       "      <td>C</td>\n",
       "      <td>F</td>\n",
       "      <td>15</td>\n",
       "      <td>1</td>\n",
       "      <td>N</td>\n",
       "      <td>Y</td>\n",
       "      <td>1296.0999</td>\n",
       "      <td>194.414985</td>\n",
       "      <td>643.1001</td>\n",
       "      <td>0.0</td>\n",
       "      <td>852.5499</td>\n",
       "      <td>N</td>\n",
       "    </tr>\n",
       "    <tr>\n",
       "      <th>10026</th>\n",
       "      <td>202006</td>\n",
       "      <td>20200630</td>\n",
       "      <td>10001</td>\n",
       "      <td>G</td>\n",
       "      <td>M</td>\n",
       "      <td>12</td>\n",
       "      <td>1</td>\n",
       "      <td>N</td>\n",
       "      <td>N</td>\n",
       "      <td>13799.6666</td>\n",
       "      <td>2069.949990</td>\n",
       "      <td>10605.9266</td>\n",
       "      <td>0.0</td>\n",
       "      <td>10603.9266</td>\n",
       "      <td>N</td>\n",
       "    </tr>\n",
       "    <tr>\n",
       "      <th>10027</th>\n",
       "      <td>202006</td>\n",
       "      <td>20200630</td>\n",
       "      <td>10005</td>\n",
       "      <td>C</td>\n",
       "      <td>_</td>\n",
       "      <td>_</td>\n",
       "      <td>1</td>\n",
       "      <td>N</td>\n",
       "      <td>N</td>\n",
       "      <td>1396.2000</td>\n",
       "      <td>1206.000000</td>\n",
       "      <td>0.0000</td>\n",
       "      <td>1212.0</td>\n",
       "      <td>0.0000</td>\n",
       "      <td>N</td>\n",
       "    </tr>\n",
       "    <tr>\n",
       "      <th>10028</th>\n",
       "      <td>202006</td>\n",
       "      <td>20200630</td>\n",
       "      <td>10001</td>\n",
       "      <td>C</td>\n",
       "      <td>F</td>\n",
       "      <td>40</td>\n",
       "      <td>0</td>\n",
       "      <td>N</td>\n",
       "      <td>N</td>\n",
       "      <td>3140.0000</td>\n",
       "      <td>942.000000</td>\n",
       "      <td>1884.0000</td>\n",
       "      <td>0.0</td>\n",
       "      <td>0.0000</td>\n",
       "      <td>Y</td>\n",
       "    </tr>\n",
       "    <tr>\n",
       "      <th>10029</th>\n",
       "      <td>202006</td>\n",
       "      <td>20200630</td>\n",
       "      <td>10001</td>\n",
       "      <td>C</td>\n",
       "      <td>F</td>\n",
       "      <td>59</td>\n",
       "      <td>1</td>\n",
       "      <td>N</td>\n",
       "      <td>N</td>\n",
       "      <td>2436.9000</td>\n",
       "      <td>365.535000</td>\n",
       "      <td>1839.9000</td>\n",
       "      <td>0.0</td>\n",
       "      <td>1919.7999</td>\n",
       "      <td>N</td>\n",
       "    </tr>\n",
       "  </tbody>\n",
       "</table>\n",
       "</div>"
      ],
      "text/plain": [
       "       base_ym  dpro_tgt_perd_val  cust_ctg_type cust_class sex_type age  \\\n",
       "10025   202006           20200630          10001          C        F  15   \n",
       "10026   202006           20200630          10001          G        M  12   \n",
       "10027   202006           20200630          10005          C        _   _   \n",
       "10028   202006           20200630          10001          C        F  40   \n",
       "10029   202006           20200630          10001          C        F  59   \n",
       "\n",
       "       efct_svc_count dt_stop_yn npay_yn  r3m_avg_bill_amt  \\\n",
       "10025               1          N       Y         1296.0999   \n",
       "10026               1          N       N        13799.6666   \n",
       "10027               1          N       N         1396.2000   \n",
       "10028               0          N       N         3140.0000   \n",
       "10029               1          N       N         2436.9000   \n",
       "\n",
       "       r3m_A_avg_arpu_amt  r3m_B_avg_arpu_amt  r6m_A_avg_arpu_amt  \\\n",
       "10025          194.414985            643.1001                 0.0   \n",
       "10026         2069.949990          10605.9266                 0.0   \n",
       "10027         1206.000000              0.0000              1212.0   \n",
       "10028          942.000000           1884.0000                 0.0   \n",
       "10029          365.535000           1839.9000                 0.0   \n",
       "\n",
       "       r6m_B_avg_arpu_amt termination_yn  \n",
       "10025            852.5499              N  \n",
       "10026          10603.9266              N  \n",
       "10027              0.0000              N  \n",
       "10028              0.0000              Y  \n",
       "10029           1919.7999              N  "
      ]
     },
     "execution_count": 67,
     "metadata": {},
     "output_type": "execute_result"
    }
   ],
   "source": [
    "cust.tail()"
   ]
  },
  {
   "cell_type": "code",
   "execution_count": 68,
   "metadata": {
    "id": "bI-qaYuQazvy",
    "outputId": "37cf825b-3388-403a-b97c-cb34fce820cc"
   },
   "outputs": [
    {
     "data": {
      "text/html": [
       "<div>\n",
       "<style scoped>\n",
       "    .dataframe tbody tr th:only-of-type {\n",
       "        vertical-align: middle;\n",
       "    }\n",
       "\n",
       "    .dataframe tbody tr th {\n",
       "        vertical-align: top;\n",
       "    }\n",
       "\n",
       "    .dataframe thead th {\n",
       "        text-align: right;\n",
       "    }\n",
       "</style>\n",
       "<table border=\"1\" class=\"dataframe\">\n",
       "  <thead>\n",
       "    <tr style=\"text-align: right;\">\n",
       "      <th></th>\n",
       "      <th>base_ym</th>\n",
       "      <th>dpro_tgt_perd_val</th>\n",
       "      <th>cust_ctg_type</th>\n",
       "      <th>cust_class</th>\n",
       "      <th>sex_type</th>\n",
       "      <th>age</th>\n",
       "      <th>efct_svc_count</th>\n",
       "      <th>dt_stop_yn</th>\n",
       "      <th>npay_yn</th>\n",
       "      <th>r3m_avg_bill_amt</th>\n",
       "      <th>r3m_A_avg_arpu_amt</th>\n",
       "      <th>r3m_B_avg_arpu_amt</th>\n",
       "      <th>r6m_A_avg_arpu_amt</th>\n",
       "      <th>r6m_B_avg_arpu_amt</th>\n",
       "      <th>termination_yn</th>\n",
       "    </tr>\n",
       "  </thead>\n",
       "  <tbody>\n",
       "    <tr>\n",
       "      <th>289</th>\n",
       "      <td>202006</td>\n",
       "      <td>20200630</td>\n",
       "      <td>10001</td>\n",
       "      <td>G</td>\n",
       "      <td>M</td>\n",
       "      <td>28</td>\n",
       "      <td>1</td>\n",
       "      <td>N</td>\n",
       "      <td>N</td>\n",
       "      <td>14340.91989</td>\n",
       "      <td>331.5999</td>\n",
       "      <td>12705.6</td>\n",
       "      <td>0.0</td>\n",
       "      <td>12703.6</td>\n",
       "      <td>N</td>\n",
       "    </tr>\n",
       "  </tbody>\n",
       "</table>\n",
       "</div>"
      ],
      "text/plain": [
       "     base_ym  dpro_tgt_perd_val  cust_ctg_type cust_class sex_type age  \\\n",
       "289   202006           20200630          10001          G        M  28   \n",
       "\n",
       "     efct_svc_count dt_stop_yn npay_yn  r3m_avg_bill_amt  r3m_A_avg_arpu_amt  \\\n",
       "289               1          N       N       14340.91989            331.5999   \n",
       "\n",
       "     r3m_B_avg_arpu_amt  r6m_A_avg_arpu_amt  r6m_B_avg_arpu_amt termination_yn  \n",
       "289             12705.6                 0.0             12703.6              N  "
      ]
     },
     "execution_count": 68,
     "metadata": {},
     "output_type": "execute_result"
    }
   ],
   "source": [
    "#한개의 row만 가지고 오기\n",
    "cust.loc[[289]] #인덱스 자체의 값"
   ]
  },
  {
   "cell_type": "code",
   "execution_count": 69,
   "metadata": {
    "id": "JZs24ATcazvy",
    "outputId": "b65449a5-9e66-47d8-bbc3-ed8036d66c73"
   },
   "outputs": [
    {
     "data": {
      "text/html": [
       "<div>\n",
       "<style scoped>\n",
       "    .dataframe tbody tr th:only-of-type {\n",
       "        vertical-align: middle;\n",
       "    }\n",
       "\n",
       "    .dataframe tbody tr th {\n",
       "        vertical-align: top;\n",
       "    }\n",
       "\n",
       "    .dataframe thead th {\n",
       "        text-align: right;\n",
       "    }\n",
       "</style>\n",
       "<table border=\"1\" class=\"dataframe\">\n",
       "  <thead>\n",
       "    <tr style=\"text-align: right;\">\n",
       "      <th></th>\n",
       "      <th>base_ym</th>\n",
       "      <th>dpro_tgt_perd_val</th>\n",
       "      <th>cust_ctg_type</th>\n",
       "      <th>cust_class</th>\n",
       "      <th>sex_type</th>\n",
       "      <th>age</th>\n",
       "      <th>efct_svc_count</th>\n",
       "      <th>dt_stop_yn</th>\n",
       "      <th>npay_yn</th>\n",
       "      <th>r3m_avg_bill_amt</th>\n",
       "      <th>r3m_A_avg_arpu_amt</th>\n",
       "      <th>r3m_B_avg_arpu_amt</th>\n",
       "      <th>r6m_A_avg_arpu_amt</th>\n",
       "      <th>r6m_B_avg_arpu_amt</th>\n",
       "      <th>termination_yn</th>\n",
       "    </tr>\n",
       "  </thead>\n",
       "  <tbody>\n",
       "    <tr>\n",
       "      <th>102</th>\n",
       "      <td>202006</td>\n",
       "      <td>20200630</td>\n",
       "      <td>10001</td>\n",
       "      <td>E</td>\n",
       "      <td>F</td>\n",
       "      <td>24</td>\n",
       "      <td>1</td>\n",
       "      <td>N</td>\n",
       "      <td>N</td>\n",
       "      <td>16840.00000</td>\n",
       "      <td>2526.0000</td>\n",
       "      <td>6983.0</td>\n",
       "      <td>0.0</td>\n",
       "      <td>6981.00</td>\n",
       "      <td>N</td>\n",
       "    </tr>\n",
       "    <tr>\n",
       "      <th>202</th>\n",
       "      <td>202006</td>\n",
       "      <td>20200630</td>\n",
       "      <td>10010</td>\n",
       "      <td>_</td>\n",
       "      <td>_</td>\n",
       "      <td>_</td>\n",
       "      <td>1</td>\n",
       "      <td>N</td>\n",
       "      <td>N</td>\n",
       "      <td>22362.93330</td>\n",
       "      <td>2082.0000</td>\n",
       "      <td>9410.0</td>\n",
       "      <td>0.0</td>\n",
       "      <td>9408.00</td>\n",
       "      <td>N</td>\n",
       "    </tr>\n",
       "    <tr>\n",
       "      <th>302</th>\n",
       "      <td>202006</td>\n",
       "      <td>20200630</td>\n",
       "      <td>10001</td>\n",
       "      <td>G</td>\n",
       "      <td>M</td>\n",
       "      <td>52</td>\n",
       "      <td>1</td>\n",
       "      <td>N</td>\n",
       "      <td>Y</td>\n",
       "      <td>17769.50989</td>\n",
       "      <td>1506.9999</td>\n",
       "      <td>14647.1</td>\n",
       "      <td>0.0</td>\n",
       "      <td>14744.95</td>\n",
       "      <td>N</td>\n",
       "    </tr>\n",
       "  </tbody>\n",
       "</table>\n",
       "</div>"
      ],
      "text/plain": [
       "     base_ym  dpro_tgt_perd_val  cust_ctg_type cust_class sex_type age  \\\n",
       "102   202006           20200630          10001          E        F  24   \n",
       "202   202006           20200630          10010          _        _   _   \n",
       "302   202006           20200630          10001          G        M  52   \n",
       "\n",
       "     efct_svc_count dt_stop_yn npay_yn  r3m_avg_bill_amt  r3m_A_avg_arpu_amt  \\\n",
       "102               1          N       N       16840.00000           2526.0000   \n",
       "202               1          N       N       22362.93330           2082.0000   \n",
       "302               1          N       Y       17769.50989           1506.9999   \n",
       "\n",
       "     r3m_B_avg_arpu_amt  r6m_A_avg_arpu_amt  r6m_B_avg_arpu_amt termination_yn  \n",
       "102              6983.0                 0.0             6981.00              N  \n",
       "202              9410.0                 0.0             9408.00              N  \n",
       "302             14647.1                 0.0            14744.95              N  "
      ]
     },
     "execution_count": 69,
     "metadata": {},
     "output_type": "execute_result"
    }
   ],
   "source": [
    "#여러개의 row 가지고 오기\n",
    "cust.loc[[102, 202, 302]]"
   ]
  },
  {
   "cell_type": "code",
   "execution_count": 70,
   "metadata": {
    "id": "rjAV-60Cazvy",
    "outputId": "96eae6b0-5cc1-4d61-dcb7-13d39306fa1b"
   },
   "outputs": [
    {
     "data": {
      "text/html": [
       "<div>\n",
       "<style scoped>\n",
       "    .dataframe tbody tr th:only-of-type {\n",
       "        vertical-align: middle;\n",
       "    }\n",
       "\n",
       "    .dataframe tbody tr th {\n",
       "        vertical-align: top;\n",
       "    }\n",
       "\n",
       "    .dataframe thead th {\n",
       "        text-align: right;\n",
       "    }\n",
       "</style>\n",
       "<table border=\"1\" class=\"dataframe\">\n",
       "  <thead>\n",
       "    <tr style=\"text-align: right;\">\n",
       "      <th></th>\n",
       "      <th>base_ym</th>\n",
       "      <th>dpro_tgt_perd_val</th>\n",
       "      <th>cust_ctg_type</th>\n",
       "      <th>cust_class</th>\n",
       "      <th>sex_type</th>\n",
       "      <th>age</th>\n",
       "      <th>efct_svc_count</th>\n",
       "      <th>dt_stop_yn</th>\n",
       "      <th>npay_yn</th>\n",
       "      <th>r3m_avg_bill_amt</th>\n",
       "      <th>r3m_A_avg_arpu_amt</th>\n",
       "      <th>r3m_B_avg_arpu_amt</th>\n",
       "      <th>r6m_A_avg_arpu_amt</th>\n",
       "      <th>r6m_B_avg_arpu_amt</th>\n",
       "      <th>termination_yn</th>\n",
       "    </tr>\n",
       "  </thead>\n",
       "  <tbody>\n",
       "    <tr>\n",
       "      <th>102</th>\n",
       "      <td>202006</td>\n",
       "      <td>20200630</td>\n",
       "      <td>10001</td>\n",
       "      <td>E</td>\n",
       "      <td>F</td>\n",
       "      <td>24</td>\n",
       "      <td>1</td>\n",
       "      <td>N</td>\n",
       "      <td>N</td>\n",
       "      <td>16840.00000</td>\n",
       "      <td>2526.0000</td>\n",
       "      <td>6983.0</td>\n",
       "      <td>0.0</td>\n",
       "      <td>6981.00</td>\n",
       "      <td>N</td>\n",
       "    </tr>\n",
       "    <tr>\n",
       "      <th>202</th>\n",
       "      <td>202006</td>\n",
       "      <td>20200630</td>\n",
       "      <td>10010</td>\n",
       "      <td>_</td>\n",
       "      <td>_</td>\n",
       "      <td>_</td>\n",
       "      <td>1</td>\n",
       "      <td>N</td>\n",
       "      <td>N</td>\n",
       "      <td>22362.93330</td>\n",
       "      <td>2082.0000</td>\n",
       "      <td>9410.0</td>\n",
       "      <td>0.0</td>\n",
       "      <td>9408.00</td>\n",
       "      <td>N</td>\n",
       "    </tr>\n",
       "    <tr>\n",
       "      <th>302</th>\n",
       "      <td>202006</td>\n",
       "      <td>20200630</td>\n",
       "      <td>10001</td>\n",
       "      <td>G</td>\n",
       "      <td>M</td>\n",
       "      <td>52</td>\n",
       "      <td>1</td>\n",
       "      <td>N</td>\n",
       "      <td>Y</td>\n",
       "      <td>17769.50989</td>\n",
       "      <td>1506.9999</td>\n",
       "      <td>14647.1</td>\n",
       "      <td>0.0</td>\n",
       "      <td>14744.95</td>\n",
       "      <td>N</td>\n",
       "    </tr>\n",
       "  </tbody>\n",
       "</table>\n",
       "</div>"
      ],
      "text/plain": [
       "     base_ym  dpro_tgt_perd_val  cust_ctg_type cust_class sex_type age  \\\n",
       "102   202006           20200630          10001          E        F  24   \n",
       "202   202006           20200630          10010          _        _   _   \n",
       "302   202006           20200630          10001          G        M  52   \n",
       "\n",
       "     efct_svc_count dt_stop_yn npay_yn  r3m_avg_bill_amt  r3m_A_avg_arpu_amt  \\\n",
       "102               1          N       N       16840.00000           2526.0000   \n",
       "202               1          N       N       22362.93330           2082.0000   \n",
       "302               1          N       Y       17769.50989           1506.9999   \n",
       "\n",
       "     r3m_B_avg_arpu_amt  r6m_A_avg_arpu_amt  r6m_B_avg_arpu_amt termination_yn  \n",
       "102              6983.0                 0.0             6981.00              N  \n",
       "202              9410.0                 0.0             9408.00              N  \n",
       "302             14647.1                 0.0            14744.95              N  "
      ]
     },
     "execution_count": 70,
     "metadata": {},
     "output_type": "execute_result"
    }
   ],
   "source": [
    "#iloc과비교(위와 같은 값을 가지고 오려면...)    (직접 타이핑 해보세요)\n",
    "cust.iloc[[2, 102, 202]]"
   ]
  },
  {
   "cell_type": "markdown",
   "metadata": {
    "id": "s9uram29azvz"
   },
   "source": [
    "- row, column 동시에 선택하기\n",
    " > loc, iloc 속성을 이용할 때, 콤마를 이용하여 row와 col 다 명시 가능"
   ]
  },
  {
   "cell_type": "code",
   "execution_count": 71,
   "metadata": {
    "id": "wtIb65Viazvz",
    "outputId": "33f76396-23d7-4ec5-d556-1df83eb344f7"
   },
   "outputs": [
    {
     "data": {
      "text/html": [
       "<div>\n",
       "<style scoped>\n",
       "    .dataframe tbody tr th:only-of-type {\n",
       "        vertical-align: middle;\n",
       "    }\n",
       "\n",
       "    .dataframe tbody tr th {\n",
       "        vertical-align: top;\n",
       "    }\n",
       "\n",
       "    .dataframe thead th {\n",
       "        text-align: right;\n",
       "    }\n",
       "</style>\n",
       "<table border=\"1\" class=\"dataframe\">\n",
       "  <thead>\n",
       "    <tr style=\"text-align: right;\">\n",
       "      <th></th>\n",
       "      <th>cust_class</th>\n",
       "      <th>sex_type</th>\n",
       "      <th>age</th>\n",
       "      <th>r3m_avg_bill_amt</th>\n",
       "      <th>r3m_A_avg_arpu_amt</th>\n",
       "    </tr>\n",
       "  </thead>\n",
       "  <tbody>\n",
       "    <tr>\n",
       "      <th>100</th>\n",
       "      <td>C</td>\n",
       "      <td>F</td>\n",
       "      <td>28</td>\n",
       "      <td>2640.00000</td>\n",
       "      <td>792.0000</td>\n",
       "    </tr>\n",
       "    <tr>\n",
       "      <th>200</th>\n",
       "      <td>E</td>\n",
       "      <td>M</td>\n",
       "      <td>61</td>\n",
       "      <td>9526.77000</td>\n",
       "      <td>1878.9000</td>\n",
       "    </tr>\n",
       "    <tr>\n",
       "      <th>300</th>\n",
       "      <td>D</td>\n",
       "      <td>M</td>\n",
       "      <td>84</td>\n",
       "      <td>11622.37472</td>\n",
       "      <td>2716.7952</td>\n",
       "    </tr>\n",
       "  </tbody>\n",
       "</table>\n",
       "</div>"
      ],
      "text/plain": [
       "    cust_class sex_type age  r3m_avg_bill_amt  r3m_A_avg_arpu_amt\n",
       "100          C        F  28        2640.00000            792.0000\n",
       "200          E        M  61        9526.77000           1878.9000\n",
       "300          D        M  84       11622.37472           2716.7952"
      ]
     },
     "execution_count": 71,
     "metadata": {},
     "output_type": "execute_result"
    }
   ],
   "source": [
    "# 100, 200, 300 대상으로 cust_class, sex_type, age, r3m_avg_bill_amt, r3m_A_avg_arpu_amt  col 가지고 오기(loc사용)\n",
    "cust.loc[[100, 200, 300], ['cust_class', 'sex_type', 'age', 'r3m_avg_bill_amt', 'r3m_A_avg_arpu_amt']]   # row, col"
   ]
  },
  {
   "cell_type": "code",
   "execution_count": 73,
   "metadata": {
    "id": "Lj301Ihnazvz",
    "outputId": "677d4de7-e7f2-4004-f4d3-9eb00fa55600"
   },
   "outputs": [
    {
     "data": {
      "text/html": [
       "<div>\n",
       "<style scoped>\n",
       "    .dataframe tbody tr th:only-of-type {\n",
       "        vertical-align: middle;\n",
       "    }\n",
       "\n",
       "    .dataframe tbody tr th {\n",
       "        vertical-align: top;\n",
       "    }\n",
       "\n",
       "    .dataframe thead th {\n",
       "        text-align: right;\n",
       "    }\n",
       "</style>\n",
       "<table border=\"1\" class=\"dataframe\">\n",
       "  <thead>\n",
       "    <tr style=\"text-align: right;\">\n",
       "      <th></th>\n",
       "      <th>cust_class</th>\n",
       "      <th>sex_type</th>\n",
       "      <th>age</th>\n",
       "      <th>r3m_avg_bill_amt</th>\n",
       "      <th>r3m_A_avg_arpu_amt</th>\n",
       "    </tr>\n",
       "  </thead>\n",
       "  <tbody>\n",
       "    <tr>\n",
       "      <th>100</th>\n",
       "      <td>C</td>\n",
       "      <td>F</td>\n",
       "      <td>28</td>\n",
       "      <td>2640.00000</td>\n",
       "      <td>792.0000</td>\n",
       "    </tr>\n",
       "    <tr>\n",
       "      <th>200</th>\n",
       "      <td>E</td>\n",
       "      <td>M</td>\n",
       "      <td>61</td>\n",
       "      <td>9526.77000</td>\n",
       "      <td>1878.9000</td>\n",
       "    </tr>\n",
       "    <tr>\n",
       "      <th>300</th>\n",
       "      <td>D</td>\n",
       "      <td>M</td>\n",
       "      <td>84</td>\n",
       "      <td>11622.37472</td>\n",
       "      <td>2716.7952</td>\n",
       "    </tr>\n",
       "  </tbody>\n",
       "</table>\n",
       "</div>"
      ],
      "text/plain": [
       "    cust_class sex_type age  r3m_avg_bill_amt  r3m_A_avg_arpu_amt\n",
       "100          C        F  28        2640.00000            792.0000\n",
       "200          E        M  61        9526.77000           1878.9000\n",
       "300          D        M  84       11622.37472           2716.7952"
      ]
     },
     "execution_count": 73,
     "metadata": {},
     "output_type": "execute_result"
    }
   ],
   "source": [
    "# 같은 형태로 iloc사용하기 (index를 level로 가지고 오기)\n",
    "# iloc은 0 based index\n",
    "# 100, 200, 300 대상으로 cust_class, sex_type, age, r3m_avg_bill_amt, r3m_A_avg_arpu_amt  col 가지고 오기(iloc사용)\n",
    "cust.iloc[[0, 100, 200], [3, 4, 5, 9, 10]]\n",
    "\n",
    "# iloc은 0 based index라서 오류가 발생\n",
    "#cust.iloc[[0, 100, 200], ['cust_class', 'sex_type', 'age']]"
   ]
  },
  {
   "cell_type": "markdown",
   "metadata": {
    "id": "zq4dX1cyazvz"
   },
   "source": [
    "#### __6) boolean selection 연산으로 row 선택하기 (= 컬럼 조건문으로 행 추출하기)__\n",
    "\n",
    " - 해당 조건에 맞는 row만 선택\n",
    " - 조건을 명시하고 조건을 명시한 형태로 inedxing 하여 가지고 옴"
   ]
  },
  {
   "cell_type": "markdown",
   "metadata": {
    "id": "7f_TnvuFazv0"
   },
   "source": [
    " - ex: 남자이면서 3개월 평균 청구 금액이 50000 이상이면서 100000 미만인 사람만 가지고오기 "
   ]
  },
  {
   "cell_type": "code",
   "execution_count": 82,
   "metadata": {
    "id": "ezcSkIqnazv0",
    "outputId": "0eb5a40b-76a2-4c2a-d2ed-2c3e6a235f84"
   },
   "outputs": [
    {
     "data": {
      "text/html": [
       "<div>\n",
       "<style scoped>\n",
       "    .dataframe tbody tr th:only-of-type {\n",
       "        vertical-align: middle;\n",
       "    }\n",
       "\n",
       "    .dataframe tbody tr th {\n",
       "        vertical-align: top;\n",
       "    }\n",
       "\n",
       "    .dataframe thead th {\n",
       "        text-align: right;\n",
       "    }\n",
       "</style>\n",
       "<table border=\"1\" class=\"dataframe\">\n",
       "  <thead>\n",
       "    <tr style=\"text-align: right;\">\n",
       "      <th></th>\n",
       "      <th>base_ym</th>\n",
       "      <th>dpro_tgt_perd_val</th>\n",
       "      <th>cust_ctg_type</th>\n",
       "      <th>cust_class</th>\n",
       "      <th>sex_type</th>\n",
       "      <th>age</th>\n",
       "      <th>efct_svc_count</th>\n",
       "      <th>dt_stop_yn</th>\n",
       "      <th>npay_yn</th>\n",
       "      <th>r3m_avg_bill_amt</th>\n",
       "      <th>r3m_A_avg_arpu_amt</th>\n",
       "      <th>r3m_B_avg_arpu_amt</th>\n",
       "      <th>r6m_A_avg_arpu_amt</th>\n",
       "      <th>r6m_B_avg_arpu_amt</th>\n",
       "      <th>termination_yn</th>\n",
       "    </tr>\n",
       "  </thead>\n",
       "  <tbody>\n",
       "    <tr>\n",
       "      <th>10005</th>\n",
       "      <td>202006</td>\n",
       "      <td>20200630</td>\n",
       "      <td>10001</td>\n",
       "      <td>D</td>\n",
       "      <td>M</td>\n",
       "      <td>75</td>\n",
       "      <td>0</td>\n",
       "      <td>N</td>\n",
       "      <td>N</td>\n",
       "      <td>4060.0000</td>\n",
       "      <td>1218.0000</td>\n",
       "      <td>2436.00000</td>\n",
       "      <td>0.0000</td>\n",
       "      <td>0.0</td>\n",
       "      <td>Y</td>\n",
       "    </tr>\n",
       "    <tr>\n",
       "      <th>10014</th>\n",
       "      <td>202006</td>\n",
       "      <td>20200630</td>\n",
       "      <td>10001</td>\n",
       "      <td>D</td>\n",
       "      <td>F</td>\n",
       "      <td>41</td>\n",
       "      <td>1</td>\n",
       "      <td>N</td>\n",
       "      <td>N</td>\n",
       "      <td>10436.3334</td>\n",
       "      <td>1959.2001</td>\n",
       "      <td>6261.80004</td>\n",
       "      <td>2117.6001</td>\n",
       "      <td>0.0</td>\n",
       "      <td>N</td>\n",
       "    </tr>\n",
       "    <tr>\n",
       "      <th>10017</th>\n",
       "      <td>202006</td>\n",
       "      <td>20200630</td>\n",
       "      <td>10001</td>\n",
       "      <td>D</td>\n",
       "      <td>F</td>\n",
       "      <td>29</td>\n",
       "      <td>1</td>\n",
       "      <td>N</td>\n",
       "      <td>N</td>\n",
       "      <td>6000.0000</td>\n",
       "      <td>0.0000</td>\n",
       "      <td>5802.00000</td>\n",
       "      <td>0.0000</td>\n",
       "      <td>5700.0</td>\n",
       "      <td>N</td>\n",
       "    </tr>\n",
       "    <tr>\n",
       "      <th>10020</th>\n",
       "      <td>202006</td>\n",
       "      <td>20200630</td>\n",
       "      <td>10001</td>\n",
       "      <td>D</td>\n",
       "      <td>M</td>\n",
       "      <td>46</td>\n",
       "      <td>0</td>\n",
       "      <td>N</td>\n",
       "      <td>N</td>\n",
       "      <td>6920.0000</td>\n",
       "      <td>2076.0000</td>\n",
       "      <td>4152.00000</td>\n",
       "      <td>0.0000</td>\n",
       "      <td>0.0</td>\n",
       "      <td>Y</td>\n",
       "    </tr>\n",
       "    <tr>\n",
       "      <th>10021</th>\n",
       "      <td>202006</td>\n",
       "      <td>20200630</td>\n",
       "      <td>10001</td>\n",
       "      <td>D</td>\n",
       "      <td>M</td>\n",
       "      <td>54</td>\n",
       "      <td>1</td>\n",
       "      <td>N</td>\n",
       "      <td>Y</td>\n",
       "      <td>5198.0666</td>\n",
       "      <td>0.0000</td>\n",
       "      <td>4760.86660</td>\n",
       "      <td>0.0000</td>\n",
       "      <td>4749.3</td>\n",
       "      <td>N</td>\n",
       "    </tr>\n",
       "  </tbody>\n",
       "</table>\n",
       "</div>"
      ],
      "text/plain": [
       "       base_ym  dpro_tgt_perd_val  cust_ctg_type cust_class sex_type age  \\\n",
       "10005   202006           20200630          10001          D        M  75   \n",
       "10014   202006           20200630          10001          D        F  41   \n",
       "10017   202006           20200630          10001          D        F  29   \n",
       "10020   202006           20200630          10001          D        M  46   \n",
       "10021   202006           20200630          10001          D        M  54   \n",
       "\n",
       "       efct_svc_count dt_stop_yn npay_yn  r3m_avg_bill_amt  \\\n",
       "10005               0          N       N         4060.0000   \n",
       "10014               1          N       N        10436.3334   \n",
       "10017               1          N       N         6000.0000   \n",
       "10020               0          N       N         6920.0000   \n",
       "10021               1          N       Y         5198.0666   \n",
       "\n",
       "       r3m_A_avg_arpu_amt  r3m_B_avg_arpu_amt  r6m_A_avg_arpu_amt  \\\n",
       "10005           1218.0000          2436.00000              0.0000   \n",
       "10014           1959.2001          6261.80004           2117.6001   \n",
       "10017              0.0000          5802.00000              0.0000   \n",
       "10020           2076.0000          4152.00000              0.0000   \n",
       "10021              0.0000          4760.86660              0.0000   \n",
       "\n",
       "       r6m_B_avg_arpu_amt termination_yn  \n",
       "10005                 0.0              Y  \n",
       "10014                 0.0              N  \n",
       "10017              5700.0              N  \n",
       "10020                 0.0              Y  \n",
       "10021              4749.3              N  "
      ]
     },
     "execution_count": 82,
     "metadata": {},
     "output_type": "execute_result"
    }
   ],
   "source": [
    "#조건을 전부다  [ ]안에 넣어 주면 됨\n",
    "extract = cust[(cust['sex_type']=='M') & (cust['r3m_avg_bill_amt']>=50000) & (cust['r3m_avg_bill_amt']< 100000)]\n",
    "extract.head()\n",
    "\n",
    "extract2 = cust[(cust['cust_class']=='D') & (cust['base_ym']>=200006)]\n",
    "extract2.tail()\n",
    "\n",
    "#cust.dtypes # age는 object\n",
    "                "
   ]
  },
  {
   "cell_type": "code",
   "execution_count": 84,
   "metadata": {
    "id": "hJyWFMavazv0",
    "outputId": "8296e71f-faab-42b9-d4d3-f68ec6dfd1ca"
   },
   "outputs": [
    {
     "data": {
      "text/html": [
       "<div>\n",
       "<style scoped>\n",
       "    .dataframe tbody tr th:only-of-type {\n",
       "        vertical-align: middle;\n",
       "    }\n",
       "\n",
       "    .dataframe tbody tr th {\n",
       "        vertical-align: top;\n",
       "    }\n",
       "\n",
       "    .dataframe thead th {\n",
       "        text-align: right;\n",
       "    }\n",
       "</style>\n",
       "<table border=\"1\" class=\"dataframe\">\n",
       "  <thead>\n",
       "    <tr style=\"text-align: right;\">\n",
       "      <th></th>\n",
       "      <th>base_ym</th>\n",
       "      <th>dpro_tgt_perd_val</th>\n",
       "      <th>cust_ctg_type</th>\n",
       "      <th>cust_class</th>\n",
       "      <th>sex_type</th>\n",
       "      <th>age</th>\n",
       "      <th>efct_svc_count</th>\n",
       "      <th>dt_stop_yn</th>\n",
       "      <th>npay_yn</th>\n",
       "      <th>r3m_avg_bill_amt</th>\n",
       "      <th>r3m_A_avg_arpu_amt</th>\n",
       "      <th>r3m_B_avg_arpu_amt</th>\n",
       "      <th>r6m_A_avg_arpu_amt</th>\n",
       "      <th>r6m_B_avg_arpu_amt</th>\n",
       "      <th>termination_yn</th>\n",
       "    </tr>\n",
       "  </thead>\n",
       "  <tbody>\n",
       "    <tr>\n",
       "      <th>472</th>\n",
       "      <td>202006</td>\n",
       "      <td>20200630</td>\n",
       "      <td>10001</td>\n",
       "      <td>F</td>\n",
       "      <td>M</td>\n",
       "      <td>28</td>\n",
       "      <td>1</td>\n",
       "      <td>N</td>\n",
       "      <td>N</td>\n",
       "      <td>65113.66670</td>\n",
       "      <td>1310.4000</td>\n",
       "      <td>20083.5033</td>\n",
       "      <td>0.0</td>\n",
       "      <td>19426.1983</td>\n",
       "      <td>N</td>\n",
       "    </tr>\n",
       "    <tr>\n",
       "      <th>1149</th>\n",
       "      <td>202006</td>\n",
       "      <td>20200630</td>\n",
       "      <td>10001</td>\n",
       "      <td>D</td>\n",
       "      <td>M</td>\n",
       "      <td>20</td>\n",
       "      <td>2</td>\n",
       "      <td>N</td>\n",
       "      <td>N</td>\n",
       "      <td>80335.67685</td>\n",
       "      <td>69136.1001</td>\n",
       "      <td>3896.3334</td>\n",
       "      <td>0.0</td>\n",
       "      <td>3727.6666</td>\n",
       "      <td>N</td>\n",
       "    </tr>\n",
       "    <tr>\n",
       "      <th>1464</th>\n",
       "      <td>202006</td>\n",
       "      <td>20200630</td>\n",
       "      <td>10001</td>\n",
       "      <td>_</td>\n",
       "      <td>M</td>\n",
       "      <td>45</td>\n",
       "      <td>1</td>\n",
       "      <td>N</td>\n",
       "      <td>Y</td>\n",
       "      <td>54865.70000</td>\n",
       "      <td>2321.8666</td>\n",
       "      <td>8744.9382</td>\n",
       "      <td>0.0</td>\n",
       "      <td>8774.7162</td>\n",
       "      <td>N</td>\n",
       "    </tr>\n",
       "    <tr>\n",
       "      <th>1893</th>\n",
       "      <td>202006</td>\n",
       "      <td>20200630</td>\n",
       "      <td>10001</td>\n",
       "      <td>G</td>\n",
       "      <td>M</td>\n",
       "      <td>48</td>\n",
       "      <td>1</td>\n",
       "      <td>N</td>\n",
       "      <td>N</td>\n",
       "      <td>64804.34037</td>\n",
       "      <td>47599.4501</td>\n",
       "      <td>11313.5866</td>\n",
       "      <td>0.0</td>\n",
       "      <td>11351.4984</td>\n",
       "      <td>N</td>\n",
       "    </tr>\n",
       "    <tr>\n",
       "      <th>2127</th>\n",
       "      <td>202006</td>\n",
       "      <td>20200630</td>\n",
       "      <td>10001</td>\n",
       "      <td>G</td>\n",
       "      <td>M</td>\n",
       "      <td>47</td>\n",
       "      <td>1</td>\n",
       "      <td>N</td>\n",
       "      <td>Y</td>\n",
       "      <td>55368.98422</td>\n",
       "      <td>37432.2666</td>\n",
       "      <td>12903.1736</td>\n",
       "      <td>0.0</td>\n",
       "      <td>12901.1736</td>\n",
       "      <td>N</td>\n",
       "    </tr>\n",
       "  </tbody>\n",
       "</table>\n",
       "</div>"
      ],
      "text/plain": [
       "      base_ym  dpro_tgt_perd_val  cust_ctg_type cust_class sex_type age  \\\n",
       "472    202006           20200630          10001          F        M  28   \n",
       "1149   202006           20200630          10001          D        M  20   \n",
       "1464   202006           20200630          10001          _        M  45   \n",
       "1893   202006           20200630          10001          G        M  48   \n",
       "2127   202006           20200630          10001          G        M  47   \n",
       "\n",
       "      efct_svc_count dt_stop_yn npay_yn  r3m_avg_bill_amt  r3m_A_avg_arpu_amt  \\\n",
       "472                1          N       N       65113.66670           1310.4000   \n",
       "1149               2          N       N       80335.67685          69136.1001   \n",
       "1464               1          N       Y       54865.70000           2321.8666   \n",
       "1893               1          N       N       64804.34037          47599.4501   \n",
       "2127               1          N       Y       55368.98422          37432.2666   \n",
       "\n",
       "      r3m_B_avg_arpu_amt  r6m_A_avg_arpu_amt  r6m_B_avg_arpu_amt  \\\n",
       "472           20083.5033                 0.0          19426.1983   \n",
       "1149           3896.3334                 0.0           3727.6666   \n",
       "1464           8744.9382                 0.0           8774.7162   \n",
       "1893          11313.5866                 0.0          11351.4984   \n",
       "2127          12903.1736                 0.0          12901.1736   \n",
       "\n",
       "     termination_yn  \n",
       "472               N  \n",
       "1149              N  \n",
       "1464              N  \n",
       "1893              N  \n",
       "2127              N  "
      ]
     },
     "execution_count": 84,
     "metadata": {},
     "output_type": "execute_result"
    }
   ],
   "source": [
    "# 조건문이 너무 길어지거나 복잡해지면...아래와 같은 방식으로 해도 무방함\n",
    "# 남자이면서 \n",
    "sex = cust['sex_type']=='M'\n",
    "# 3개월 평균 청구 금액이 50000 이상이면서 100000 미만\n",
    "bill = (cust['r3m_avg_bill_amt']>=50000) & (cust['r3m_avg_bill_amt']< 100000)\n",
    "\n",
    "cust[sex & bill].head()"
   ]
  },
  {
   "cell_type": "markdown",
   "metadata": {
    "id": "t6tZivTyazv0"
   },
   "source": [
    "#### <b>7) 정리 </b>\n",
    "\n",
    "- 기본적인 대괄호는 col을 가지고 오는 경우 사용, 하지만 slicing은 row를 가지고 온다.\n",
    "- row를 가지고 오는 경우는 loc과 iloc을 사용하는데, loc과 iloc은 컬럼과 row를 동시에 가지고 올 수 있다."
   ]
  },
  {
   "cell_type": "code",
   "execution_count": 85,
   "metadata": {
    "id": "RxuEZhoF7YO8"
   },
   "outputs": [],
   "source": [
    "import matplotlib.pyplot as plt      #matplotlib.pyplot import   "
   ]
  },
  {
   "cell_type": "markdown",
   "metadata": {
    "id": "wlfx1wxS7r7g"
   },
   "source": [
    "### <b>1-2. 데이터 추가하기</b>"
   ]
  },
  {
   "cell_type": "markdown",
   "metadata": {
    "id": "MdrKtAPkazv1"
   },
   "source": [
    "#### <b>1) 새 column 추가하기</b>\n",
    "\n",
    ">- 데이터 전처리 과정에서 빈번하게 발생하는 것\n",
    ">- insert 함수 사용하여 원하는 위치에 추가하기"
   ]
  },
  {
   "cell_type": "code",
   "execution_count": 87,
   "metadata": {
    "id": "SexDWDFQazv1",
    "outputId": "cb9d3e37-4153-4587-fc2d-eb3212152979"
   },
   "outputs": [
    {
     "data": {
      "text/html": [
       "<div>\n",
       "<style scoped>\n",
       "    .dataframe tbody tr th:only-of-type {\n",
       "        vertical-align: middle;\n",
       "    }\n",
       "\n",
       "    .dataframe tbody tr th {\n",
       "        vertical-align: top;\n",
       "    }\n",
       "\n",
       "    .dataframe thead th {\n",
       "        text-align: right;\n",
       "    }\n",
       "</style>\n",
       "<table border=\"1\" class=\"dataframe\">\n",
       "  <thead>\n",
       "    <tr style=\"text-align: right;\">\n",
       "      <th></th>\n",
       "      <th>base_ym</th>\n",
       "      <th>dpro_tgt_perd_val</th>\n",
       "      <th>cust_ctg_type</th>\n",
       "      <th>cust_class</th>\n",
       "      <th>sex_type</th>\n",
       "      <th>age</th>\n",
       "      <th>efct_svc_count</th>\n",
       "      <th>dt_stop_yn</th>\n",
       "      <th>npay_yn</th>\n",
       "      <th>r3m_avg_bill_amt</th>\n",
       "      <th>r3m_A_avg_arpu_amt</th>\n",
       "      <th>r3m_B_avg_arpu_amt</th>\n",
       "      <th>r6m_A_avg_arpu_amt</th>\n",
       "      <th>r6m_B_avg_arpu_amt</th>\n",
       "      <th>termination_yn</th>\n",
       "      <th>r3m_avg_bill_amt2</th>\n",
       "    </tr>\n",
       "  </thead>\n",
       "  <tbody>\n",
       "    <tr>\n",
       "      <th>100</th>\n",
       "      <td>202006</td>\n",
       "      <td>20200630</td>\n",
       "      <td>10001</td>\n",
       "      <td>C</td>\n",
       "      <td>F</td>\n",
       "      <td>28</td>\n",
       "      <td>0</td>\n",
       "      <td>N</td>\n",
       "      <td>N</td>\n",
       "      <td>2640.0000</td>\n",
       "      <td>792.00000</td>\n",
       "      <td>1584.0000</td>\n",
       "      <td>0.0</td>\n",
       "      <td>0.0</td>\n",
       "      <td>Y</td>\n",
       "      <td>5280.0000</td>\n",
       "    </tr>\n",
       "    <tr>\n",
       "      <th>101</th>\n",
       "      <td>202006</td>\n",
       "      <td>20200630</td>\n",
       "      <td>10001</td>\n",
       "      <td>_</td>\n",
       "      <td>_</td>\n",
       "      <td>_</td>\n",
       "      <td>1</td>\n",
       "      <td>N</td>\n",
       "      <td>N</td>\n",
       "      <td>300.0000</td>\n",
       "      <td>90.00000</td>\n",
       "      <td>180.0000</td>\n",
       "      <td>0.0</td>\n",
       "      <td>0.0</td>\n",
       "      <td>Y</td>\n",
       "      <td>600.0000</td>\n",
       "    </tr>\n",
       "    <tr>\n",
       "      <th>102</th>\n",
       "      <td>202006</td>\n",
       "      <td>20200630</td>\n",
       "      <td>10001</td>\n",
       "      <td>E</td>\n",
       "      <td>F</td>\n",
       "      <td>24</td>\n",
       "      <td>1</td>\n",
       "      <td>N</td>\n",
       "      <td>N</td>\n",
       "      <td>16840.0000</td>\n",
       "      <td>2526.00000</td>\n",
       "      <td>6983.0000</td>\n",
       "      <td>0.0</td>\n",
       "      <td>6981.0</td>\n",
       "      <td>N</td>\n",
       "      <td>33680.0000</td>\n",
       "    </tr>\n",
       "    <tr>\n",
       "      <th>103</th>\n",
       "      <td>202006</td>\n",
       "      <td>20200630</td>\n",
       "      <td>10001</td>\n",
       "      <td>F</td>\n",
       "      <td>F</td>\n",
       "      <td>32</td>\n",
       "      <td>1</td>\n",
       "      <td>N</td>\n",
       "      <td>N</td>\n",
       "      <td>15544.7334</td>\n",
       "      <td>2331.71001</td>\n",
       "      <td>6750.4666</td>\n",
       "      <td>0.0</td>\n",
       "      <td>6508.8</td>\n",
       "      <td>N</td>\n",
       "      <td>31089.4668</td>\n",
       "    </tr>\n",
       "    <tr>\n",
       "      <th>104</th>\n",
       "      <td>202006</td>\n",
       "      <td>20200630</td>\n",
       "      <td>10001</td>\n",
       "      <td>D</td>\n",
       "      <td>M</td>\n",
       "      <td>18</td>\n",
       "      <td>1</td>\n",
       "      <td>N</td>\n",
       "      <td>N</td>\n",
       "      <td>4700.0000</td>\n",
       "      <td>0.00000</td>\n",
       "      <td>4502.0000</td>\n",
       "      <td>0.0</td>\n",
       "      <td>4507.7</td>\n",
       "      <td>N</td>\n",
       "      <td>9400.0000</td>\n",
       "    </tr>\n",
       "  </tbody>\n",
       "</table>\n",
       "</div>"
      ],
      "text/plain": [
       "     base_ym  dpro_tgt_perd_val  cust_ctg_type cust_class sex_type age  \\\n",
       "100   202006           20200630          10001          C        F  28   \n",
       "101   202006           20200630          10001          _        _   _   \n",
       "102   202006           20200630          10001          E        F  24   \n",
       "103   202006           20200630          10001          F        F  32   \n",
       "104   202006           20200630          10001          D        M  18   \n",
       "\n",
       "     efct_svc_count dt_stop_yn npay_yn  r3m_avg_bill_amt  r3m_A_avg_arpu_amt  \\\n",
       "100               0          N       N         2640.0000           792.00000   \n",
       "101               1          N       N          300.0000            90.00000   \n",
       "102               1          N       N        16840.0000          2526.00000   \n",
       "103               1          N       N        15544.7334          2331.71001   \n",
       "104               1          N       N         4700.0000             0.00000   \n",
       "\n",
       "     r3m_B_avg_arpu_amt  r6m_A_avg_arpu_amt  r6m_B_avg_arpu_amt  \\\n",
       "100           1584.0000                 0.0                 0.0   \n",
       "101            180.0000                 0.0                 0.0   \n",
       "102           6983.0000                 0.0              6981.0   \n",
       "103           6750.4666                 0.0              6508.8   \n",
       "104           4502.0000                 0.0              4507.7   \n",
       "\n",
       "    termination_yn  r3m_avg_bill_amt2  \n",
       "100              Y          5280.0000  \n",
       "101              Y           600.0000  \n",
       "102              N         33680.0000  \n",
       "103              N         31089.4668  \n",
       "104              N          9400.0000  "
      ]
     },
     "execution_count": 87,
     "metadata": {},
     "output_type": "execute_result"
    }
   ],
   "source": [
    "# r3m_avg_bill_amt 두배로 새로운 col만들기\n",
    "cust['r3m_avg_bill_amt2'] = cust['r3m_avg_bill_amt'] * 2\n",
    "cust.head() #맨뒤에 생긴다"
   ]
  },
  {
   "cell_type": "code",
   "execution_count": 88,
   "metadata": {
    "id": "Mc_Ye9Rrazv1",
    "outputId": "e02f2952-180d-44a4-8992-dac5dc77380d"
   },
   "outputs": [
    {
     "data": {
      "text/html": [
       "<div>\n",
       "<style scoped>\n",
       "    .dataframe tbody tr th:only-of-type {\n",
       "        vertical-align: middle;\n",
       "    }\n",
       "\n",
       "    .dataframe tbody tr th {\n",
       "        vertical-align: top;\n",
       "    }\n",
       "\n",
       "    .dataframe thead th {\n",
       "        text-align: right;\n",
       "    }\n",
       "</style>\n",
       "<table border=\"1\" class=\"dataframe\">\n",
       "  <thead>\n",
       "    <tr style=\"text-align: right;\">\n",
       "      <th></th>\n",
       "      <th>base_ym</th>\n",
       "      <th>dpro_tgt_perd_val</th>\n",
       "      <th>cust_ctg_type</th>\n",
       "      <th>cust_class</th>\n",
       "      <th>sex_type</th>\n",
       "      <th>age</th>\n",
       "      <th>efct_svc_count</th>\n",
       "      <th>dt_stop_yn</th>\n",
       "      <th>npay_yn</th>\n",
       "      <th>r3m_avg_bill_amt</th>\n",
       "      <th>r3m_A_avg_arpu_amt</th>\n",
       "      <th>r3m_B_avg_arpu_amt</th>\n",
       "      <th>r6m_A_avg_arpu_amt</th>\n",
       "      <th>r6m_B_avg_arpu_amt</th>\n",
       "      <th>termination_yn</th>\n",
       "      <th>r3m_avg_bill_amt2</th>\n",
       "      <th>r3m_avg_bill_amt3</th>\n",
       "    </tr>\n",
       "  </thead>\n",
       "  <tbody>\n",
       "    <tr>\n",
       "      <th>100</th>\n",
       "      <td>202006</td>\n",
       "      <td>20200630</td>\n",
       "      <td>10001</td>\n",
       "      <td>C</td>\n",
       "      <td>F</td>\n",
       "      <td>28</td>\n",
       "      <td>0</td>\n",
       "      <td>N</td>\n",
       "      <td>N</td>\n",
       "      <td>2640.0000</td>\n",
       "      <td>792.00000</td>\n",
       "      <td>1584.0000</td>\n",
       "      <td>0.0</td>\n",
       "      <td>0.0</td>\n",
       "      <td>Y</td>\n",
       "      <td>5280.0000</td>\n",
       "      <td>7920.0000</td>\n",
       "    </tr>\n",
       "    <tr>\n",
       "      <th>101</th>\n",
       "      <td>202006</td>\n",
       "      <td>20200630</td>\n",
       "      <td>10001</td>\n",
       "      <td>_</td>\n",
       "      <td>_</td>\n",
       "      <td>_</td>\n",
       "      <td>1</td>\n",
       "      <td>N</td>\n",
       "      <td>N</td>\n",
       "      <td>300.0000</td>\n",
       "      <td>90.00000</td>\n",
       "      <td>180.0000</td>\n",
       "      <td>0.0</td>\n",
       "      <td>0.0</td>\n",
       "      <td>Y</td>\n",
       "      <td>600.0000</td>\n",
       "      <td>900.0000</td>\n",
       "    </tr>\n",
       "    <tr>\n",
       "      <th>102</th>\n",
       "      <td>202006</td>\n",
       "      <td>20200630</td>\n",
       "      <td>10001</td>\n",
       "      <td>E</td>\n",
       "      <td>F</td>\n",
       "      <td>24</td>\n",
       "      <td>1</td>\n",
       "      <td>N</td>\n",
       "      <td>N</td>\n",
       "      <td>16840.0000</td>\n",
       "      <td>2526.00000</td>\n",
       "      <td>6983.0000</td>\n",
       "      <td>0.0</td>\n",
       "      <td>6981.0</td>\n",
       "      <td>N</td>\n",
       "      <td>33680.0000</td>\n",
       "      <td>50520.0000</td>\n",
       "    </tr>\n",
       "    <tr>\n",
       "      <th>103</th>\n",
       "      <td>202006</td>\n",
       "      <td>20200630</td>\n",
       "      <td>10001</td>\n",
       "      <td>F</td>\n",
       "      <td>F</td>\n",
       "      <td>32</td>\n",
       "      <td>1</td>\n",
       "      <td>N</td>\n",
       "      <td>N</td>\n",
       "      <td>15544.7334</td>\n",
       "      <td>2331.71001</td>\n",
       "      <td>6750.4666</td>\n",
       "      <td>0.0</td>\n",
       "      <td>6508.8</td>\n",
       "      <td>N</td>\n",
       "      <td>31089.4668</td>\n",
       "      <td>46634.2002</td>\n",
       "    </tr>\n",
       "    <tr>\n",
       "      <th>104</th>\n",
       "      <td>202006</td>\n",
       "      <td>20200630</td>\n",
       "      <td>10001</td>\n",
       "      <td>D</td>\n",
       "      <td>M</td>\n",
       "      <td>18</td>\n",
       "      <td>1</td>\n",
       "      <td>N</td>\n",
       "      <td>N</td>\n",
       "      <td>4700.0000</td>\n",
       "      <td>0.00000</td>\n",
       "      <td>4502.0000</td>\n",
       "      <td>0.0</td>\n",
       "      <td>4507.7</td>\n",
       "      <td>N</td>\n",
       "      <td>9400.0000</td>\n",
       "      <td>14100.0000</td>\n",
       "    </tr>\n",
       "  </tbody>\n",
       "</table>\n",
       "</div>"
      ],
      "text/plain": [
       "     base_ym  dpro_tgt_perd_val  cust_ctg_type cust_class sex_type age  \\\n",
       "100   202006           20200630          10001          C        F  28   \n",
       "101   202006           20200630          10001          _        _   _   \n",
       "102   202006           20200630          10001          E        F  24   \n",
       "103   202006           20200630          10001          F        F  32   \n",
       "104   202006           20200630          10001          D        M  18   \n",
       "\n",
       "     efct_svc_count dt_stop_yn npay_yn  r3m_avg_bill_amt  r3m_A_avg_arpu_amt  \\\n",
       "100               0          N       N         2640.0000           792.00000   \n",
       "101               1          N       N          300.0000            90.00000   \n",
       "102               1          N       N        16840.0000          2526.00000   \n",
       "103               1          N       N        15544.7334          2331.71001   \n",
       "104               1          N       N         4700.0000             0.00000   \n",
       "\n",
       "     r3m_B_avg_arpu_amt  r6m_A_avg_arpu_amt  r6m_B_avg_arpu_amt  \\\n",
       "100           1584.0000                 0.0                 0.0   \n",
       "101            180.0000                 0.0                 0.0   \n",
       "102           6983.0000                 0.0              6981.0   \n",
       "103           6750.4666                 0.0              6508.8   \n",
       "104           4502.0000                 0.0              4507.7   \n",
       "\n",
       "    termination_yn  r3m_avg_bill_amt2  r3m_avg_bill_amt3  \n",
       "100              Y          5280.0000          7920.0000  \n",
       "101              Y           600.0000           900.0000  \n",
       "102              N         33680.0000         50520.0000  \n",
       "103              N         31089.4668         46634.2002  \n",
       "104              N          9400.0000         14100.0000  "
      ]
     },
     "execution_count": 88,
     "metadata": {},
     "output_type": "execute_result"
    }
   ],
   "source": [
    "# 기존에 col을 연산하여 새로운 데이터 생성\n",
    "cust['r3m_avg_bill_amt3'] = cust['r3m_avg_bill_amt2'] + cust['r3m_avg_bill_amt']\n",
    "cust.head()"
   ]
  },
  {
   "cell_type": "code",
   "execution_count": 94,
   "metadata": {
    "id": "DcB1r9sgazv1"
   },
   "outputs": [
    {
     "ename": "KeyError",
     "evalue": "\"['r3m_avg_bill_amt10'] not found in axis\"",
     "output_type": "error",
     "traceback": [
      "\u001b[0;31m---------------------------------------------------------------------------\u001b[0m",
      "\u001b[0;31mKeyError\u001b[0m                                  Traceback (most recent call last)",
      "\u001b[0;32m<ipython-input-94-29c47e73ed0b>\u001b[0m in \u001b[0;36m<module>\u001b[0;34m\u001b[0m\n\u001b[1;32m      3\u001b[0m \u001b[0mcust\u001b[0m\u001b[0;34m\u001b[0m\u001b[0;34m\u001b[0m\u001b[0m\n\u001b[1;32m      4\u001b[0m \u001b[0;34m\u001b[0m\u001b[0m\n\u001b[0;32m----> 5\u001b[0;31m \u001b[0mcust\u001b[0m\u001b[0;34m.\u001b[0m\u001b[0mdrop\u001b[0m\u001b[0;34m(\u001b[0m\u001b[0;34m'r3m_avg_bill_amt10'\u001b[0m\u001b[0;34m,\u001b[0m \u001b[0maxis\u001b[0m\u001b[0;34m=\u001b[0m\u001b[0;36m1\u001b[0m\u001b[0;34m,\u001b[0m \u001b[0minplace\u001b[0m\u001b[0;34m=\u001b[0m\u001b[0;32mTrue\u001b[0m\u001b[0;34m)\u001b[0m\u001b[0;34m\u001b[0m\u001b[0;34m\u001b[0m\u001b[0m\n\u001b[0m\u001b[1;32m      6\u001b[0m \u001b[0mcust\u001b[0m\u001b[0;34m\u001b[0m\u001b[0;34m\u001b[0m\u001b[0m\n",
      "\u001b[0;32m/usr/local/lib/python3.6/dist-packages/pandas/core/frame.py\u001b[0m in \u001b[0;36mdrop\u001b[0;34m(self, labels, axis, index, columns, level, inplace, errors)\u001b[0m\n\u001b[1;32m   4172\u001b[0m             \u001b[0mlevel\u001b[0m\u001b[0;34m=\u001b[0m\u001b[0mlevel\u001b[0m\u001b[0;34m,\u001b[0m\u001b[0;34m\u001b[0m\u001b[0;34m\u001b[0m\u001b[0m\n\u001b[1;32m   4173\u001b[0m             \u001b[0minplace\u001b[0m\u001b[0;34m=\u001b[0m\u001b[0minplace\u001b[0m\u001b[0;34m,\u001b[0m\u001b[0;34m\u001b[0m\u001b[0;34m\u001b[0m\u001b[0m\n\u001b[0;32m-> 4174\u001b[0;31m             \u001b[0merrors\u001b[0m\u001b[0;34m=\u001b[0m\u001b[0merrors\u001b[0m\u001b[0;34m,\u001b[0m\u001b[0;34m\u001b[0m\u001b[0;34m\u001b[0m\u001b[0m\n\u001b[0m\u001b[1;32m   4175\u001b[0m         )\n\u001b[1;32m   4176\u001b[0m \u001b[0;34m\u001b[0m\u001b[0m\n",
      "\u001b[0;32m/usr/local/lib/python3.6/dist-packages/pandas/core/generic.py\u001b[0m in \u001b[0;36mdrop\u001b[0;34m(self, labels, axis, index, columns, level, inplace, errors)\u001b[0m\n\u001b[1;32m   3887\u001b[0m         \u001b[0;32mfor\u001b[0m \u001b[0maxis\u001b[0m\u001b[0;34m,\u001b[0m \u001b[0mlabels\u001b[0m \u001b[0;32min\u001b[0m \u001b[0maxes\u001b[0m\u001b[0;34m.\u001b[0m\u001b[0mitems\u001b[0m\u001b[0;34m(\u001b[0m\u001b[0;34m)\u001b[0m\u001b[0;34m:\u001b[0m\u001b[0;34m\u001b[0m\u001b[0;34m\u001b[0m\u001b[0m\n\u001b[1;32m   3888\u001b[0m             \u001b[0;32mif\u001b[0m \u001b[0mlabels\u001b[0m \u001b[0;32mis\u001b[0m \u001b[0;32mnot\u001b[0m \u001b[0;32mNone\u001b[0m\u001b[0;34m:\u001b[0m\u001b[0;34m\u001b[0m\u001b[0;34m\u001b[0m\u001b[0m\n\u001b[0;32m-> 3889\u001b[0;31m                 \u001b[0mobj\u001b[0m \u001b[0;34m=\u001b[0m \u001b[0mobj\u001b[0m\u001b[0;34m.\u001b[0m\u001b[0m_drop_axis\u001b[0m\u001b[0;34m(\u001b[0m\u001b[0mlabels\u001b[0m\u001b[0;34m,\u001b[0m \u001b[0maxis\u001b[0m\u001b[0;34m,\u001b[0m \u001b[0mlevel\u001b[0m\u001b[0;34m=\u001b[0m\u001b[0mlevel\u001b[0m\u001b[0;34m,\u001b[0m \u001b[0merrors\u001b[0m\u001b[0;34m=\u001b[0m\u001b[0merrors\u001b[0m\u001b[0;34m)\u001b[0m\u001b[0;34m\u001b[0m\u001b[0;34m\u001b[0m\u001b[0m\n\u001b[0m\u001b[1;32m   3890\u001b[0m \u001b[0;34m\u001b[0m\u001b[0m\n\u001b[1;32m   3891\u001b[0m         \u001b[0;32mif\u001b[0m \u001b[0minplace\u001b[0m\u001b[0;34m:\u001b[0m\u001b[0;34m\u001b[0m\u001b[0;34m\u001b[0m\u001b[0m\n",
      "\u001b[0;32m/usr/local/lib/python3.6/dist-packages/pandas/core/generic.py\u001b[0m in \u001b[0;36m_drop_axis\u001b[0;34m(self, labels, axis, level, errors)\u001b[0m\n\u001b[1;32m   3921\u001b[0m                 \u001b[0mnew_axis\u001b[0m \u001b[0;34m=\u001b[0m \u001b[0maxis\u001b[0m\u001b[0;34m.\u001b[0m\u001b[0mdrop\u001b[0m\u001b[0;34m(\u001b[0m\u001b[0mlabels\u001b[0m\u001b[0;34m,\u001b[0m \u001b[0mlevel\u001b[0m\u001b[0;34m=\u001b[0m\u001b[0mlevel\u001b[0m\u001b[0;34m,\u001b[0m \u001b[0merrors\u001b[0m\u001b[0;34m=\u001b[0m\u001b[0merrors\u001b[0m\u001b[0;34m)\u001b[0m\u001b[0;34m\u001b[0m\u001b[0;34m\u001b[0m\u001b[0m\n\u001b[1;32m   3922\u001b[0m             \u001b[0;32melse\u001b[0m\u001b[0;34m:\u001b[0m\u001b[0;34m\u001b[0m\u001b[0;34m\u001b[0m\u001b[0m\n\u001b[0;32m-> 3923\u001b[0;31m                 \u001b[0mnew_axis\u001b[0m \u001b[0;34m=\u001b[0m \u001b[0maxis\u001b[0m\u001b[0;34m.\u001b[0m\u001b[0mdrop\u001b[0m\u001b[0;34m(\u001b[0m\u001b[0mlabels\u001b[0m\u001b[0;34m,\u001b[0m \u001b[0merrors\u001b[0m\u001b[0;34m=\u001b[0m\u001b[0merrors\u001b[0m\u001b[0;34m)\u001b[0m\u001b[0;34m\u001b[0m\u001b[0;34m\u001b[0m\u001b[0m\n\u001b[0m\u001b[1;32m   3924\u001b[0m             \u001b[0mresult\u001b[0m \u001b[0;34m=\u001b[0m \u001b[0mself\u001b[0m\u001b[0;34m.\u001b[0m\u001b[0mreindex\u001b[0m\u001b[0;34m(\u001b[0m\u001b[0;34m**\u001b[0m\u001b[0;34m{\u001b[0m\u001b[0maxis_name\u001b[0m\u001b[0;34m:\u001b[0m \u001b[0mnew_axis\u001b[0m\u001b[0;34m}\u001b[0m\u001b[0;34m)\u001b[0m\u001b[0;34m\u001b[0m\u001b[0;34m\u001b[0m\u001b[0m\n\u001b[1;32m   3925\u001b[0m \u001b[0;34m\u001b[0m\u001b[0m\n",
      "\u001b[0;32m/usr/local/lib/python3.6/dist-packages/pandas/core/indexes/base.py\u001b[0m in \u001b[0;36mdrop\u001b[0;34m(self, labels, errors)\u001b[0m\n\u001b[1;32m   5285\u001b[0m         \u001b[0;32mif\u001b[0m \u001b[0mmask\u001b[0m\u001b[0;34m.\u001b[0m\u001b[0many\u001b[0m\u001b[0;34m(\u001b[0m\u001b[0;34m)\u001b[0m\u001b[0;34m:\u001b[0m\u001b[0;34m\u001b[0m\u001b[0;34m\u001b[0m\u001b[0m\n\u001b[1;32m   5286\u001b[0m             \u001b[0;32mif\u001b[0m \u001b[0merrors\u001b[0m \u001b[0;34m!=\u001b[0m \u001b[0;34m\"ignore\"\u001b[0m\u001b[0;34m:\u001b[0m\u001b[0;34m\u001b[0m\u001b[0;34m\u001b[0m\u001b[0m\n\u001b[0;32m-> 5287\u001b[0;31m                 \u001b[0;32mraise\u001b[0m \u001b[0mKeyError\u001b[0m\u001b[0;34m(\u001b[0m\u001b[0;34mf\"{labels[mask]} not found in axis\"\u001b[0m\u001b[0;34m)\u001b[0m\u001b[0;34m\u001b[0m\u001b[0;34m\u001b[0m\u001b[0m\n\u001b[0m\u001b[1;32m   5288\u001b[0m             \u001b[0mindexer\u001b[0m \u001b[0;34m=\u001b[0m \u001b[0mindexer\u001b[0m\u001b[0;34m[\u001b[0m\u001b[0;34m~\u001b[0m\u001b[0mmask\u001b[0m\u001b[0;34m]\u001b[0m\u001b[0;34m\u001b[0m\u001b[0;34m\u001b[0m\u001b[0m\n\u001b[1;32m   5289\u001b[0m         \u001b[0;32mreturn\u001b[0m \u001b[0mself\u001b[0m\u001b[0;34m.\u001b[0m\u001b[0mdelete\u001b[0m\u001b[0;34m(\u001b[0m\u001b[0mindexer\u001b[0m\u001b[0;34m)\u001b[0m\u001b[0;34m\u001b[0m\u001b[0;34m\u001b[0m\u001b[0m\n",
      "\u001b[0;31mKeyError\u001b[0m: \"['r3m_avg_bill_amt10'] not found in axis\""
     ]
    }
   ],
   "source": [
    "#예제에는 r3m_avg_bill_amt10 없으니 만들어 보자, insert를 사용해서\n",
    "#cust.insert(10, 'r3m_avg_bill_amt10', cust['r3m_avg_bill_amt']*10)\n",
    "cust\n",
    "\n",
    "cust.drop('r3m_avg_bill_amt10', axis=1, inplace=True)\n",
    "cust"
   ]
  },
  {
   "cell_type": "code",
   "execution_count": 95,
   "metadata": {
    "id": "W5vr3m-yazv2",
    "outputId": "0c6135f1-468b-4f80-b438-df71c90a8854"
   },
   "outputs": [
    {
     "data": {
      "text/html": [
       "<div>\n",
       "<style scoped>\n",
       "    .dataframe tbody tr th:only-of-type {\n",
       "        vertical-align: middle;\n",
       "    }\n",
       "\n",
       "    .dataframe tbody tr th {\n",
       "        vertical-align: top;\n",
       "    }\n",
       "\n",
       "    .dataframe thead th {\n",
       "        text-align: right;\n",
       "    }\n",
       "</style>\n",
       "<table border=\"1\" class=\"dataframe\">\n",
       "  <thead>\n",
       "    <tr style=\"text-align: right;\">\n",
       "      <th></th>\n",
       "      <th>base_ym</th>\n",
       "      <th>dpro_tgt_perd_val</th>\n",
       "      <th>cust_ctg_type</th>\n",
       "      <th>cust_class</th>\n",
       "      <th>sex_type</th>\n",
       "      <th>age</th>\n",
       "      <th>efct_svc_count</th>\n",
       "      <th>dt_stop_yn</th>\n",
       "      <th>npay_yn</th>\n",
       "      <th>r3m_avg_bill_amt</th>\n",
       "      <th>r3m_avg_bill_amt10</th>\n",
       "      <th>r3m_A_avg_arpu_amt</th>\n",
       "      <th>r3m_B_avg_arpu_amt</th>\n",
       "      <th>r6m_A_avg_arpu_amt</th>\n",
       "      <th>r6m_B_avg_arpu_amt</th>\n",
       "      <th>termination_yn</th>\n",
       "      <th>r3m_avg_bill_amt2</th>\n",
       "      <th>r3m_avg_bill_amt3</th>\n",
       "    </tr>\n",
       "  </thead>\n",
       "  <tbody>\n",
       "    <tr>\n",
       "      <th>100</th>\n",
       "      <td>202006</td>\n",
       "      <td>20200630</td>\n",
       "      <td>10001</td>\n",
       "      <td>C</td>\n",
       "      <td>F</td>\n",
       "      <td>28</td>\n",
       "      <td>0</td>\n",
       "      <td>N</td>\n",
       "      <td>N</td>\n",
       "      <td>2640.0000</td>\n",
       "      <td>26400.000</td>\n",
       "      <td>792.00000</td>\n",
       "      <td>1584.0000</td>\n",
       "      <td>0.0</td>\n",
       "      <td>0.0</td>\n",
       "      <td>Y</td>\n",
       "      <td>5280.0000</td>\n",
       "      <td>7920.0000</td>\n",
       "    </tr>\n",
       "    <tr>\n",
       "      <th>101</th>\n",
       "      <td>202006</td>\n",
       "      <td>20200630</td>\n",
       "      <td>10001</td>\n",
       "      <td>_</td>\n",
       "      <td>_</td>\n",
       "      <td>_</td>\n",
       "      <td>1</td>\n",
       "      <td>N</td>\n",
       "      <td>N</td>\n",
       "      <td>300.0000</td>\n",
       "      <td>3000.000</td>\n",
       "      <td>90.00000</td>\n",
       "      <td>180.0000</td>\n",
       "      <td>0.0</td>\n",
       "      <td>0.0</td>\n",
       "      <td>Y</td>\n",
       "      <td>600.0000</td>\n",
       "      <td>900.0000</td>\n",
       "    </tr>\n",
       "    <tr>\n",
       "      <th>102</th>\n",
       "      <td>202006</td>\n",
       "      <td>20200630</td>\n",
       "      <td>10001</td>\n",
       "      <td>E</td>\n",
       "      <td>F</td>\n",
       "      <td>24</td>\n",
       "      <td>1</td>\n",
       "      <td>N</td>\n",
       "      <td>N</td>\n",
       "      <td>16840.0000</td>\n",
       "      <td>168400.000</td>\n",
       "      <td>2526.00000</td>\n",
       "      <td>6983.0000</td>\n",
       "      <td>0.0</td>\n",
       "      <td>6981.0</td>\n",
       "      <td>N</td>\n",
       "      <td>33680.0000</td>\n",
       "      <td>50520.0000</td>\n",
       "    </tr>\n",
       "    <tr>\n",
       "      <th>103</th>\n",
       "      <td>202006</td>\n",
       "      <td>20200630</td>\n",
       "      <td>10001</td>\n",
       "      <td>F</td>\n",
       "      <td>F</td>\n",
       "      <td>32</td>\n",
       "      <td>1</td>\n",
       "      <td>N</td>\n",
       "      <td>N</td>\n",
       "      <td>15544.7334</td>\n",
       "      <td>155447.334</td>\n",
       "      <td>2331.71001</td>\n",
       "      <td>6750.4666</td>\n",
       "      <td>0.0</td>\n",
       "      <td>6508.8</td>\n",
       "      <td>N</td>\n",
       "      <td>31089.4668</td>\n",
       "      <td>46634.2002</td>\n",
       "    </tr>\n",
       "    <tr>\n",
       "      <th>104</th>\n",
       "      <td>202006</td>\n",
       "      <td>20200630</td>\n",
       "      <td>10001</td>\n",
       "      <td>D</td>\n",
       "      <td>M</td>\n",
       "      <td>18</td>\n",
       "      <td>1</td>\n",
       "      <td>N</td>\n",
       "      <td>N</td>\n",
       "      <td>4700.0000</td>\n",
       "      <td>47000.000</td>\n",
       "      <td>0.00000</td>\n",
       "      <td>4502.0000</td>\n",
       "      <td>0.0</td>\n",
       "      <td>4507.7</td>\n",
       "      <td>N</td>\n",
       "      <td>9400.0000</td>\n",
       "      <td>14100.0000</td>\n",
       "    </tr>\n",
       "  </tbody>\n",
       "</table>\n",
       "</div>"
      ],
      "text/plain": [
       "     base_ym  dpro_tgt_perd_val  cust_ctg_type cust_class sex_type age  \\\n",
       "100   202006           20200630          10001          C        F  28   \n",
       "101   202006           20200630          10001          _        _   _   \n",
       "102   202006           20200630          10001          E        F  24   \n",
       "103   202006           20200630          10001          F        F  32   \n",
       "104   202006           20200630          10001          D        M  18   \n",
       "\n",
       "     efct_svc_count dt_stop_yn npay_yn  r3m_avg_bill_amt  r3m_avg_bill_amt10  \\\n",
       "100               0          N       N         2640.0000           26400.000   \n",
       "101               1          N       N          300.0000            3000.000   \n",
       "102               1          N       N        16840.0000          168400.000   \n",
       "103               1          N       N        15544.7334          155447.334   \n",
       "104               1          N       N         4700.0000           47000.000   \n",
       "\n",
       "     r3m_A_avg_arpu_amt  r3m_B_avg_arpu_amt  r6m_A_avg_arpu_amt  \\\n",
       "100           792.00000           1584.0000                 0.0   \n",
       "101            90.00000            180.0000                 0.0   \n",
       "102          2526.00000           6983.0000                 0.0   \n",
       "103          2331.71001           6750.4666                 0.0   \n",
       "104             0.00000           4502.0000                 0.0   \n",
       "\n",
       "     r6m_B_avg_arpu_amt termination_yn  r3m_avg_bill_amt2  r3m_avg_bill_amt3  \n",
       "100                 0.0              Y          5280.0000          7920.0000  \n",
       "101                 0.0              Y           600.0000           900.0000  \n",
       "102              6981.0              N         33680.0000         50520.0000  \n",
       "103              6508.8              N         31089.4668         46634.2002  \n",
       "104              4507.7              N          9400.0000         14100.0000  "
      ]
     },
     "execution_count": 95,
     "metadata": {},
     "output_type": "execute_result"
    }
   ],
   "source": [
    "# 새로은 col들은 항상맨뒤에 존재 원하는 위치에 col을 추가하고자 하는 경우\n",
    "# 위치를 조절 하고 싶다면(insert함수 사용)\n",
    "cust.insert(10, 'r3m_avg_bill_amt10', cust['r3m_avg_bill_amt'] *10)  # 0부터 시작하여 10번째 col에 insert\n",
    "cust.head()"
   ]
  },
  {
   "cell_type": "markdown",
   "metadata": {
    "id": "1ktTc93Cazv2"
   },
   "source": [
    "#### __2) column 삭제하기__\n",
    "\n",
    ">- drop 함수 사용하여 삭제\n",
    ">- axis는 삭제를 가로(행)기준으로 할 것인지, 세로(열)기준으로 할 것인지 명시하는 'drop()'메소드의 파라미터임 \n",
    ">- 리스트를 사용하면 멀티플 col 삭제 가능"
   ]
  },
  {
   "cell_type": "code",
   "execution_count": 97,
   "metadata": {
    "id": "pZGexTT0azv3",
    "outputId": "865cfcff-2a82-4548-8c80-924924c25150"
   },
   "outputs": [
    {
     "data": {
      "text/html": [
       "<div>\n",
       "<style scoped>\n",
       "    .dataframe tbody tr th:only-of-type {\n",
       "        vertical-align: middle;\n",
       "    }\n",
       "\n",
       "    .dataframe tbody tr th {\n",
       "        vertical-align: top;\n",
       "    }\n",
       "\n",
       "    .dataframe thead th {\n",
       "        text-align: right;\n",
       "    }\n",
       "</style>\n",
       "<table border=\"1\" class=\"dataframe\">\n",
       "  <thead>\n",
       "    <tr style=\"text-align: right;\">\n",
       "      <th></th>\n",
       "      <th>base_ym</th>\n",
       "      <th>dpro_tgt_perd_val</th>\n",
       "      <th>cust_ctg_type</th>\n",
       "      <th>cust_class</th>\n",
       "      <th>sex_type</th>\n",
       "      <th>age</th>\n",
       "      <th>efct_svc_count</th>\n",
       "      <th>dt_stop_yn</th>\n",
       "      <th>npay_yn</th>\n",
       "      <th>r3m_avg_bill_amt</th>\n",
       "      <th>r3m_A_avg_arpu_amt</th>\n",
       "      <th>r3m_B_avg_arpu_amt</th>\n",
       "      <th>r6m_A_avg_arpu_amt</th>\n",
       "      <th>r6m_B_avg_arpu_amt</th>\n",
       "      <th>termination_yn</th>\n",
       "      <th>r3m_avg_bill_amt2</th>\n",
       "      <th>r3m_avg_bill_amt3</th>\n",
       "    </tr>\n",
       "  </thead>\n",
       "  <tbody>\n",
       "    <tr>\n",
       "      <th>100</th>\n",
       "      <td>202006</td>\n",
       "      <td>20200630</td>\n",
       "      <td>10001</td>\n",
       "      <td>C</td>\n",
       "      <td>F</td>\n",
       "      <td>28</td>\n",
       "      <td>0</td>\n",
       "      <td>N</td>\n",
       "      <td>N</td>\n",
       "      <td>2640.0000</td>\n",
       "      <td>792.000000</td>\n",
       "      <td>1584.0000</td>\n",
       "      <td>0.0</td>\n",
       "      <td>0.0000</td>\n",
       "      <td>Y</td>\n",
       "      <td>5280.0000</td>\n",
       "      <td>7920.0000</td>\n",
       "    </tr>\n",
       "    <tr>\n",
       "      <th>101</th>\n",
       "      <td>202006</td>\n",
       "      <td>20200630</td>\n",
       "      <td>10001</td>\n",
       "      <td>_</td>\n",
       "      <td>_</td>\n",
       "      <td>_</td>\n",
       "      <td>1</td>\n",
       "      <td>N</td>\n",
       "      <td>N</td>\n",
       "      <td>300.0000</td>\n",
       "      <td>90.000000</td>\n",
       "      <td>180.0000</td>\n",
       "      <td>0.0</td>\n",
       "      <td>0.0000</td>\n",
       "      <td>Y</td>\n",
       "      <td>600.0000</td>\n",
       "      <td>900.0000</td>\n",
       "    </tr>\n",
       "    <tr>\n",
       "      <th>102</th>\n",
       "      <td>202006</td>\n",
       "      <td>20200630</td>\n",
       "      <td>10001</td>\n",
       "      <td>E</td>\n",
       "      <td>F</td>\n",
       "      <td>24</td>\n",
       "      <td>1</td>\n",
       "      <td>N</td>\n",
       "      <td>N</td>\n",
       "      <td>16840.0000</td>\n",
       "      <td>2526.000000</td>\n",
       "      <td>6983.0000</td>\n",
       "      <td>0.0</td>\n",
       "      <td>6981.0000</td>\n",
       "      <td>N</td>\n",
       "      <td>33680.0000</td>\n",
       "      <td>50520.0000</td>\n",
       "    </tr>\n",
       "    <tr>\n",
       "      <th>103</th>\n",
       "      <td>202006</td>\n",
       "      <td>20200630</td>\n",
       "      <td>10001</td>\n",
       "      <td>F</td>\n",
       "      <td>F</td>\n",
       "      <td>32</td>\n",
       "      <td>1</td>\n",
       "      <td>N</td>\n",
       "      <td>N</td>\n",
       "      <td>15544.7334</td>\n",
       "      <td>2331.710010</td>\n",
       "      <td>6750.4666</td>\n",
       "      <td>0.0</td>\n",
       "      <td>6508.8000</td>\n",
       "      <td>N</td>\n",
       "      <td>31089.4668</td>\n",
       "      <td>46634.2002</td>\n",
       "    </tr>\n",
       "    <tr>\n",
       "      <th>104</th>\n",
       "      <td>202006</td>\n",
       "      <td>20200630</td>\n",
       "      <td>10001</td>\n",
       "      <td>D</td>\n",
       "      <td>M</td>\n",
       "      <td>18</td>\n",
       "      <td>1</td>\n",
       "      <td>N</td>\n",
       "      <td>N</td>\n",
       "      <td>4700.0000</td>\n",
       "      <td>0.000000</td>\n",
       "      <td>4502.0000</td>\n",
       "      <td>0.0</td>\n",
       "      <td>4507.7000</td>\n",
       "      <td>N</td>\n",
       "      <td>9400.0000</td>\n",
       "      <td>14100.0000</td>\n",
       "    </tr>\n",
       "    <tr>\n",
       "      <th>...</th>\n",
       "      <td>...</td>\n",
       "      <td>...</td>\n",
       "      <td>...</td>\n",
       "      <td>...</td>\n",
       "      <td>...</td>\n",
       "      <td>...</td>\n",
       "      <td>...</td>\n",
       "      <td>...</td>\n",
       "      <td>...</td>\n",
       "      <td>...</td>\n",
       "      <td>...</td>\n",
       "      <td>...</td>\n",
       "      <td>...</td>\n",
       "      <td>...</td>\n",
       "      <td>...</td>\n",
       "      <td>...</td>\n",
       "      <td>...</td>\n",
       "    </tr>\n",
       "    <tr>\n",
       "      <th>10025</th>\n",
       "      <td>202006</td>\n",
       "      <td>20200630</td>\n",
       "      <td>10001</td>\n",
       "      <td>C</td>\n",
       "      <td>F</td>\n",
       "      <td>15</td>\n",
       "      <td>1</td>\n",
       "      <td>N</td>\n",
       "      <td>Y</td>\n",
       "      <td>1296.0999</td>\n",
       "      <td>194.414985</td>\n",
       "      <td>643.1001</td>\n",
       "      <td>0.0</td>\n",
       "      <td>852.5499</td>\n",
       "      <td>N</td>\n",
       "      <td>2592.1998</td>\n",
       "      <td>3888.2997</td>\n",
       "    </tr>\n",
       "    <tr>\n",
       "      <th>10026</th>\n",
       "      <td>202006</td>\n",
       "      <td>20200630</td>\n",
       "      <td>10001</td>\n",
       "      <td>G</td>\n",
       "      <td>M</td>\n",
       "      <td>12</td>\n",
       "      <td>1</td>\n",
       "      <td>N</td>\n",
       "      <td>N</td>\n",
       "      <td>13799.6666</td>\n",
       "      <td>2069.949990</td>\n",
       "      <td>10605.9266</td>\n",
       "      <td>0.0</td>\n",
       "      <td>10603.9266</td>\n",
       "      <td>N</td>\n",
       "      <td>27599.3332</td>\n",
       "      <td>41398.9998</td>\n",
       "    </tr>\n",
       "    <tr>\n",
       "      <th>10027</th>\n",
       "      <td>202006</td>\n",
       "      <td>20200630</td>\n",
       "      <td>10005</td>\n",
       "      <td>C</td>\n",
       "      <td>_</td>\n",
       "      <td>_</td>\n",
       "      <td>1</td>\n",
       "      <td>N</td>\n",
       "      <td>N</td>\n",
       "      <td>1396.2000</td>\n",
       "      <td>1206.000000</td>\n",
       "      <td>0.0000</td>\n",
       "      <td>1212.0</td>\n",
       "      <td>0.0000</td>\n",
       "      <td>N</td>\n",
       "      <td>2792.4000</td>\n",
       "      <td>4188.6000</td>\n",
       "    </tr>\n",
       "    <tr>\n",
       "      <th>10028</th>\n",
       "      <td>202006</td>\n",
       "      <td>20200630</td>\n",
       "      <td>10001</td>\n",
       "      <td>C</td>\n",
       "      <td>F</td>\n",
       "      <td>40</td>\n",
       "      <td>0</td>\n",
       "      <td>N</td>\n",
       "      <td>N</td>\n",
       "      <td>3140.0000</td>\n",
       "      <td>942.000000</td>\n",
       "      <td>1884.0000</td>\n",
       "      <td>0.0</td>\n",
       "      <td>0.0000</td>\n",
       "      <td>Y</td>\n",
       "      <td>6280.0000</td>\n",
       "      <td>9420.0000</td>\n",
       "    </tr>\n",
       "    <tr>\n",
       "      <th>10029</th>\n",
       "      <td>202006</td>\n",
       "      <td>20200630</td>\n",
       "      <td>10001</td>\n",
       "      <td>C</td>\n",
       "      <td>F</td>\n",
       "      <td>59</td>\n",
       "      <td>1</td>\n",
       "      <td>N</td>\n",
       "      <td>N</td>\n",
       "      <td>2436.9000</td>\n",
       "      <td>365.535000</td>\n",
       "      <td>1839.9000</td>\n",
       "      <td>0.0</td>\n",
       "      <td>1919.7999</td>\n",
       "      <td>N</td>\n",
       "      <td>4873.8000</td>\n",
       "      <td>7310.7000</td>\n",
       "    </tr>\n",
       "  </tbody>\n",
       "</table>\n",
       "<p>9930 rows × 17 columns</p>\n",
       "</div>"
      ],
      "text/plain": [
       "       base_ym  dpro_tgt_perd_val  cust_ctg_type cust_class sex_type age  \\\n",
       "100     202006           20200630          10001          C        F  28   \n",
       "101     202006           20200630          10001          _        _   _   \n",
       "102     202006           20200630          10001          E        F  24   \n",
       "103     202006           20200630          10001          F        F  32   \n",
       "104     202006           20200630          10001          D        M  18   \n",
       "...        ...                ...            ...        ...      ...  ..   \n",
       "10025   202006           20200630          10001          C        F  15   \n",
       "10026   202006           20200630          10001          G        M  12   \n",
       "10027   202006           20200630          10005          C        _   _   \n",
       "10028   202006           20200630          10001          C        F  40   \n",
       "10029   202006           20200630          10001          C        F  59   \n",
       "\n",
       "       efct_svc_count dt_stop_yn npay_yn  r3m_avg_bill_amt  \\\n",
       "100                 0          N       N         2640.0000   \n",
       "101                 1          N       N          300.0000   \n",
       "102                 1          N       N        16840.0000   \n",
       "103                 1          N       N        15544.7334   \n",
       "104                 1          N       N         4700.0000   \n",
       "...               ...        ...     ...               ...   \n",
       "10025               1          N       Y         1296.0999   \n",
       "10026               1          N       N        13799.6666   \n",
       "10027               1          N       N         1396.2000   \n",
       "10028               0          N       N         3140.0000   \n",
       "10029               1          N       N         2436.9000   \n",
       "\n",
       "       r3m_A_avg_arpu_amt  r3m_B_avg_arpu_amt  r6m_A_avg_arpu_amt  \\\n",
       "100            792.000000           1584.0000                 0.0   \n",
       "101             90.000000            180.0000                 0.0   \n",
       "102           2526.000000           6983.0000                 0.0   \n",
       "103           2331.710010           6750.4666                 0.0   \n",
       "104              0.000000           4502.0000                 0.0   \n",
       "...                   ...                 ...                 ...   \n",
       "10025          194.414985            643.1001                 0.0   \n",
       "10026         2069.949990          10605.9266                 0.0   \n",
       "10027         1206.000000              0.0000              1212.0   \n",
       "10028          942.000000           1884.0000                 0.0   \n",
       "10029          365.535000           1839.9000                 0.0   \n",
       "\n",
       "       r6m_B_avg_arpu_amt termination_yn  r3m_avg_bill_amt2  r3m_avg_bill_amt3  \n",
       "100                0.0000              Y          5280.0000          7920.0000  \n",
       "101                0.0000              Y           600.0000           900.0000  \n",
       "102             6981.0000              N         33680.0000         50520.0000  \n",
       "103             6508.8000              N         31089.4668         46634.2002  \n",
       "104             4507.7000              N          9400.0000         14100.0000  \n",
       "...                   ...            ...                ...                ...  \n",
       "10025            852.5499              N          2592.1998          3888.2997  \n",
       "10026          10603.9266              N         27599.3332         41398.9998  \n",
       "10027              0.0000              N          2792.4000          4188.6000  \n",
       "10028              0.0000              Y          6280.0000          9420.0000  \n",
       "10029           1919.7999              N          4873.8000          7310.7000  \n",
       "\n",
       "[9930 rows x 17 columns]"
      ]
     },
     "execution_count": 97,
     "metadata": {},
     "output_type": "execute_result"
    }
   ],
   "source": [
    "# axis : dataframe은 차원이 존재 함으로 항상 0과 1이 존재 \n",
    "# (0은 행레벨, 1을 열 레벨)\n",
    "cust.drop('r3m_avg_bill_amt10', axis=1) #컬럼자체를 지우게 된다"
   ]
  },
  {
   "cell_type": "code",
   "execution_count": 98,
   "metadata": {
    "id": "iH4lqQ8xazv3",
    "outputId": "e6e8f23c-16c7-43c8-eaa5-75c07e48add4"
   },
   "outputs": [
    {
     "data": {
      "text/html": [
       "<div>\n",
       "<style scoped>\n",
       "    .dataframe tbody tr th:only-of-type {\n",
       "        vertical-align: middle;\n",
       "    }\n",
       "\n",
       "    .dataframe tbody tr th {\n",
       "        vertical-align: top;\n",
       "    }\n",
       "\n",
       "    .dataframe thead th {\n",
       "        text-align: right;\n",
       "    }\n",
       "</style>\n",
       "<table border=\"1\" class=\"dataframe\">\n",
       "  <thead>\n",
       "    <tr style=\"text-align: right;\">\n",
       "      <th></th>\n",
       "      <th>base_ym</th>\n",
       "      <th>dpro_tgt_perd_val</th>\n",
       "      <th>cust_ctg_type</th>\n",
       "      <th>cust_class</th>\n",
       "      <th>sex_type</th>\n",
       "      <th>age</th>\n",
       "      <th>efct_svc_count</th>\n",
       "      <th>dt_stop_yn</th>\n",
       "      <th>npay_yn</th>\n",
       "      <th>r3m_avg_bill_amt</th>\n",
       "      <th>r3m_avg_bill_amt10</th>\n",
       "      <th>r3m_A_avg_arpu_amt</th>\n",
       "      <th>r3m_B_avg_arpu_amt</th>\n",
       "      <th>r6m_A_avg_arpu_amt</th>\n",
       "      <th>r6m_B_avg_arpu_amt</th>\n",
       "      <th>termination_yn</th>\n",
       "      <th>r3m_avg_bill_amt2</th>\n",
       "      <th>r3m_avg_bill_amt3</th>\n",
       "    </tr>\n",
       "  </thead>\n",
       "  <tbody>\n",
       "    <tr>\n",
       "      <th>100</th>\n",
       "      <td>202006</td>\n",
       "      <td>20200630</td>\n",
       "      <td>10001</td>\n",
       "      <td>C</td>\n",
       "      <td>F</td>\n",
       "      <td>28</td>\n",
       "      <td>0</td>\n",
       "      <td>N</td>\n",
       "      <td>N</td>\n",
       "      <td>2640.0000</td>\n",
       "      <td>26400.000</td>\n",
       "      <td>792.00000</td>\n",
       "      <td>1584.0000</td>\n",
       "      <td>0.0</td>\n",
       "      <td>0.0</td>\n",
       "      <td>Y</td>\n",
       "      <td>5280.0000</td>\n",
       "      <td>7920.0000</td>\n",
       "    </tr>\n",
       "    <tr>\n",
       "      <th>101</th>\n",
       "      <td>202006</td>\n",
       "      <td>20200630</td>\n",
       "      <td>10001</td>\n",
       "      <td>_</td>\n",
       "      <td>_</td>\n",
       "      <td>_</td>\n",
       "      <td>1</td>\n",
       "      <td>N</td>\n",
       "      <td>N</td>\n",
       "      <td>300.0000</td>\n",
       "      <td>3000.000</td>\n",
       "      <td>90.00000</td>\n",
       "      <td>180.0000</td>\n",
       "      <td>0.0</td>\n",
       "      <td>0.0</td>\n",
       "      <td>Y</td>\n",
       "      <td>600.0000</td>\n",
       "      <td>900.0000</td>\n",
       "    </tr>\n",
       "    <tr>\n",
       "      <th>102</th>\n",
       "      <td>202006</td>\n",
       "      <td>20200630</td>\n",
       "      <td>10001</td>\n",
       "      <td>E</td>\n",
       "      <td>F</td>\n",
       "      <td>24</td>\n",
       "      <td>1</td>\n",
       "      <td>N</td>\n",
       "      <td>N</td>\n",
       "      <td>16840.0000</td>\n",
       "      <td>168400.000</td>\n",
       "      <td>2526.00000</td>\n",
       "      <td>6983.0000</td>\n",
       "      <td>0.0</td>\n",
       "      <td>6981.0</td>\n",
       "      <td>N</td>\n",
       "      <td>33680.0000</td>\n",
       "      <td>50520.0000</td>\n",
       "    </tr>\n",
       "    <tr>\n",
       "      <th>103</th>\n",
       "      <td>202006</td>\n",
       "      <td>20200630</td>\n",
       "      <td>10001</td>\n",
       "      <td>F</td>\n",
       "      <td>F</td>\n",
       "      <td>32</td>\n",
       "      <td>1</td>\n",
       "      <td>N</td>\n",
       "      <td>N</td>\n",
       "      <td>15544.7334</td>\n",
       "      <td>155447.334</td>\n",
       "      <td>2331.71001</td>\n",
       "      <td>6750.4666</td>\n",
       "      <td>0.0</td>\n",
       "      <td>6508.8</td>\n",
       "      <td>N</td>\n",
       "      <td>31089.4668</td>\n",
       "      <td>46634.2002</td>\n",
       "    </tr>\n",
       "    <tr>\n",
       "      <th>104</th>\n",
       "      <td>202006</td>\n",
       "      <td>20200630</td>\n",
       "      <td>10001</td>\n",
       "      <td>D</td>\n",
       "      <td>M</td>\n",
       "      <td>18</td>\n",
       "      <td>1</td>\n",
       "      <td>N</td>\n",
       "      <td>N</td>\n",
       "      <td>4700.0000</td>\n",
       "      <td>47000.000</td>\n",
       "      <td>0.00000</td>\n",
       "      <td>4502.0000</td>\n",
       "      <td>0.0</td>\n",
       "      <td>4507.7</td>\n",
       "      <td>N</td>\n",
       "      <td>9400.0000</td>\n",
       "      <td>14100.0000</td>\n",
       "    </tr>\n",
       "  </tbody>\n",
       "</table>\n",
       "</div>"
      ],
      "text/plain": [
       "     base_ym  dpro_tgt_perd_val  cust_ctg_type cust_class sex_type age  \\\n",
       "100   202006           20200630          10001          C        F  28   \n",
       "101   202006           20200630          10001          _        _   _   \n",
       "102   202006           20200630          10001          E        F  24   \n",
       "103   202006           20200630          10001          F        F  32   \n",
       "104   202006           20200630          10001          D        M  18   \n",
       "\n",
       "     efct_svc_count dt_stop_yn npay_yn  r3m_avg_bill_amt  r3m_avg_bill_amt10  \\\n",
       "100               0          N       N         2640.0000           26400.000   \n",
       "101               1          N       N          300.0000            3000.000   \n",
       "102               1          N       N        16840.0000          168400.000   \n",
       "103               1          N       N        15544.7334          155447.334   \n",
       "104               1          N       N         4700.0000           47000.000   \n",
       "\n",
       "     r3m_A_avg_arpu_amt  r3m_B_avg_arpu_amt  r6m_A_avg_arpu_amt  \\\n",
       "100           792.00000           1584.0000                 0.0   \n",
       "101            90.00000            180.0000                 0.0   \n",
       "102          2526.00000           6983.0000                 0.0   \n",
       "103          2331.71001           6750.4666                 0.0   \n",
       "104             0.00000           4502.0000                 0.0   \n",
       "\n",
       "     r6m_B_avg_arpu_amt termination_yn  r3m_avg_bill_amt2  r3m_avg_bill_amt3  \n",
       "100                 0.0              Y          5280.0000          7920.0000  \n",
       "101                 0.0              Y           600.0000           900.0000  \n",
       "102              6981.0              N         33680.0000         50520.0000  \n",
       "103              6508.8              N         31089.4668         46634.2002  \n",
       "104              4507.7              N          9400.0000         14100.0000  "
      ]
     },
     "execution_count": 98,
     "metadata": {},
     "output_type": "execute_result"
    }
   ],
   "source": [
    "#원본 데이터를 열어 보면 원본 데이터는 안 지워진 상태\n",
    "cust.head()"
   ]
  },
  {
   "cell_type": "code",
   "execution_count": 99,
   "metadata": {
    "id": "PIAVNpyIazv4",
    "outputId": "ad04623a-02db-4f18-87b5-1fa2195dbc1e"
   },
   "outputs": [
    {
     "data": {
      "text/html": [
       "<div>\n",
       "<style scoped>\n",
       "    .dataframe tbody tr th:only-of-type {\n",
       "        vertical-align: middle;\n",
       "    }\n",
       "\n",
       "    .dataframe tbody tr th {\n",
       "        vertical-align: top;\n",
       "    }\n",
       "\n",
       "    .dataframe thead th {\n",
       "        text-align: right;\n",
       "    }\n",
       "</style>\n",
       "<table border=\"1\" class=\"dataframe\">\n",
       "  <thead>\n",
       "    <tr style=\"text-align: right;\">\n",
       "      <th></th>\n",
       "      <th>base_ym</th>\n",
       "      <th>dpro_tgt_perd_val</th>\n",
       "      <th>cust_ctg_type</th>\n",
       "      <th>cust_class</th>\n",
       "      <th>sex_type</th>\n",
       "      <th>age</th>\n",
       "      <th>efct_svc_count</th>\n",
       "      <th>dt_stop_yn</th>\n",
       "      <th>npay_yn</th>\n",
       "      <th>r3m_avg_bill_amt</th>\n",
       "      <th>r3m_A_avg_arpu_amt</th>\n",
       "      <th>r3m_B_avg_arpu_amt</th>\n",
       "      <th>r6m_A_avg_arpu_amt</th>\n",
       "      <th>r6m_B_avg_arpu_amt</th>\n",
       "      <th>termination_yn</th>\n",
       "      <th>r3m_avg_bill_amt2</th>\n",
       "      <th>r3m_avg_bill_amt3</th>\n",
       "    </tr>\n",
       "  </thead>\n",
       "  <tbody>\n",
       "    <tr>\n",
       "      <th>100</th>\n",
       "      <td>202006</td>\n",
       "      <td>20200630</td>\n",
       "      <td>10001</td>\n",
       "      <td>C</td>\n",
       "      <td>F</td>\n",
       "      <td>28</td>\n",
       "      <td>0</td>\n",
       "      <td>N</td>\n",
       "      <td>N</td>\n",
       "      <td>2640.0000</td>\n",
       "      <td>792.00000</td>\n",
       "      <td>1584.0000</td>\n",
       "      <td>0.0</td>\n",
       "      <td>0.0</td>\n",
       "      <td>Y</td>\n",
       "      <td>5280.0000</td>\n",
       "      <td>7920.0000</td>\n",
       "    </tr>\n",
       "    <tr>\n",
       "      <th>101</th>\n",
       "      <td>202006</td>\n",
       "      <td>20200630</td>\n",
       "      <td>10001</td>\n",
       "      <td>_</td>\n",
       "      <td>_</td>\n",
       "      <td>_</td>\n",
       "      <td>1</td>\n",
       "      <td>N</td>\n",
       "      <td>N</td>\n",
       "      <td>300.0000</td>\n",
       "      <td>90.00000</td>\n",
       "      <td>180.0000</td>\n",
       "      <td>0.0</td>\n",
       "      <td>0.0</td>\n",
       "      <td>Y</td>\n",
       "      <td>600.0000</td>\n",
       "      <td>900.0000</td>\n",
       "    </tr>\n",
       "    <tr>\n",
       "      <th>102</th>\n",
       "      <td>202006</td>\n",
       "      <td>20200630</td>\n",
       "      <td>10001</td>\n",
       "      <td>E</td>\n",
       "      <td>F</td>\n",
       "      <td>24</td>\n",
       "      <td>1</td>\n",
       "      <td>N</td>\n",
       "      <td>N</td>\n",
       "      <td>16840.0000</td>\n",
       "      <td>2526.00000</td>\n",
       "      <td>6983.0000</td>\n",
       "      <td>0.0</td>\n",
       "      <td>6981.0</td>\n",
       "      <td>N</td>\n",
       "      <td>33680.0000</td>\n",
       "      <td>50520.0000</td>\n",
       "    </tr>\n",
       "    <tr>\n",
       "      <th>103</th>\n",
       "      <td>202006</td>\n",
       "      <td>20200630</td>\n",
       "      <td>10001</td>\n",
       "      <td>F</td>\n",
       "      <td>F</td>\n",
       "      <td>32</td>\n",
       "      <td>1</td>\n",
       "      <td>N</td>\n",
       "      <td>N</td>\n",
       "      <td>15544.7334</td>\n",
       "      <td>2331.71001</td>\n",
       "      <td>6750.4666</td>\n",
       "      <td>0.0</td>\n",
       "      <td>6508.8</td>\n",
       "      <td>N</td>\n",
       "      <td>31089.4668</td>\n",
       "      <td>46634.2002</td>\n",
       "    </tr>\n",
       "    <tr>\n",
       "      <th>104</th>\n",
       "      <td>202006</td>\n",
       "      <td>20200630</td>\n",
       "      <td>10001</td>\n",
       "      <td>D</td>\n",
       "      <td>M</td>\n",
       "      <td>18</td>\n",
       "      <td>1</td>\n",
       "      <td>N</td>\n",
       "      <td>N</td>\n",
       "      <td>4700.0000</td>\n",
       "      <td>0.00000</td>\n",
       "      <td>4502.0000</td>\n",
       "      <td>0.0</td>\n",
       "      <td>4507.7</td>\n",
       "      <td>N</td>\n",
       "      <td>9400.0000</td>\n",
       "      <td>14100.0000</td>\n",
       "    </tr>\n",
       "  </tbody>\n",
       "</table>\n",
       "</div>"
      ],
      "text/plain": [
       "     base_ym  dpro_tgt_perd_val  cust_ctg_type cust_class sex_type age  \\\n",
       "100   202006           20200630          10001          C        F  28   \n",
       "101   202006           20200630          10001          _        _   _   \n",
       "102   202006           20200630          10001          E        F  24   \n",
       "103   202006           20200630          10001          F        F  32   \n",
       "104   202006           20200630          10001          D        M  18   \n",
       "\n",
       "     efct_svc_count dt_stop_yn npay_yn  r3m_avg_bill_amt  r3m_A_avg_arpu_amt  \\\n",
       "100               0          N       N         2640.0000           792.00000   \n",
       "101               1          N       N          300.0000            90.00000   \n",
       "102               1          N       N        16840.0000          2526.00000   \n",
       "103               1          N       N        15544.7334          2331.71001   \n",
       "104               1          N       N         4700.0000             0.00000   \n",
       "\n",
       "     r3m_B_avg_arpu_amt  r6m_A_avg_arpu_amt  r6m_B_avg_arpu_amt  \\\n",
       "100           1584.0000                 0.0                 0.0   \n",
       "101            180.0000                 0.0                 0.0   \n",
       "102           6983.0000                 0.0              6981.0   \n",
       "103           6750.4666                 0.0              6508.8   \n",
       "104           4502.0000                 0.0              4507.7   \n",
       "\n",
       "    termination_yn  r3m_avg_bill_amt2  r3m_avg_bill_amt3  \n",
       "100              Y          5280.0000          7920.0000  \n",
       "101              Y           600.0000           900.0000  \n",
       "102              N         33680.0000         50520.0000  \n",
       "103              N         31089.4668         46634.2002  \n",
       "104              N          9400.0000         14100.0000  "
      ]
     },
     "execution_count": 99,
     "metadata": {},
     "output_type": "execute_result"
    }
   ],
   "source": [
    "# 원본 데이터를 지우고자 한다면... \n",
    "# 방법1 : 데이터를 지우고 다른 데이터 프레임에 저장\n",
    "cust1=cust.drop('r3m_avg_bill_amt10', axis=1)\n",
    "cust1.head()"
   ]
  },
  {
   "cell_type": "code",
   "execution_count": 100,
   "metadata": {
    "id": "SPwH5L5mazv4"
   },
   "outputs": [],
   "source": [
    "# 원본 자체를 지우고자 한다면...\n",
    "# 방법 2 : inplace 파라미터를 할용 True인 경우 원본데이터에 수행\n",
    "cust.drop('r3m_avg_bill_amt10', axis=1, inplace=True)"
   ]
  },
  {
   "cell_type": "code",
   "execution_count": 101,
   "metadata": {
    "id": "q0QuN1Suazv5",
    "outputId": "73f353fc-e028-4625-9ffb-b927ab5c439b"
   },
   "outputs": [
    {
     "data": {
      "text/html": [
       "<div>\n",
       "<style scoped>\n",
       "    .dataframe tbody tr th:only-of-type {\n",
       "        vertical-align: middle;\n",
       "    }\n",
       "\n",
       "    .dataframe tbody tr th {\n",
       "        vertical-align: top;\n",
       "    }\n",
       "\n",
       "    .dataframe thead th {\n",
       "        text-align: right;\n",
       "    }\n",
       "</style>\n",
       "<table border=\"1\" class=\"dataframe\">\n",
       "  <thead>\n",
       "    <tr style=\"text-align: right;\">\n",
       "      <th></th>\n",
       "      <th>base_ym</th>\n",
       "      <th>dpro_tgt_perd_val</th>\n",
       "      <th>cust_ctg_type</th>\n",
       "      <th>cust_class</th>\n",
       "      <th>sex_type</th>\n",
       "      <th>age</th>\n",
       "      <th>efct_svc_count</th>\n",
       "      <th>dt_stop_yn</th>\n",
       "      <th>npay_yn</th>\n",
       "      <th>r3m_avg_bill_amt</th>\n",
       "      <th>r3m_A_avg_arpu_amt</th>\n",
       "      <th>r3m_B_avg_arpu_amt</th>\n",
       "      <th>r6m_A_avg_arpu_amt</th>\n",
       "      <th>r6m_B_avg_arpu_amt</th>\n",
       "      <th>termination_yn</th>\n",
       "      <th>r3m_avg_bill_amt2</th>\n",
       "      <th>r3m_avg_bill_amt3</th>\n",
       "    </tr>\n",
       "  </thead>\n",
       "  <tbody>\n",
       "    <tr>\n",
       "      <th>100</th>\n",
       "      <td>202006</td>\n",
       "      <td>20200630</td>\n",
       "      <td>10001</td>\n",
       "      <td>C</td>\n",
       "      <td>F</td>\n",
       "      <td>28</td>\n",
       "      <td>0</td>\n",
       "      <td>N</td>\n",
       "      <td>N</td>\n",
       "      <td>2640.0000</td>\n",
       "      <td>792.000000</td>\n",
       "      <td>1584.0000</td>\n",
       "      <td>0.0</td>\n",
       "      <td>0.0000</td>\n",
       "      <td>Y</td>\n",
       "      <td>5280.0000</td>\n",
       "      <td>7920.0000</td>\n",
       "    </tr>\n",
       "    <tr>\n",
       "      <th>101</th>\n",
       "      <td>202006</td>\n",
       "      <td>20200630</td>\n",
       "      <td>10001</td>\n",
       "      <td>_</td>\n",
       "      <td>_</td>\n",
       "      <td>_</td>\n",
       "      <td>1</td>\n",
       "      <td>N</td>\n",
       "      <td>N</td>\n",
       "      <td>300.0000</td>\n",
       "      <td>90.000000</td>\n",
       "      <td>180.0000</td>\n",
       "      <td>0.0</td>\n",
       "      <td>0.0000</td>\n",
       "      <td>Y</td>\n",
       "      <td>600.0000</td>\n",
       "      <td>900.0000</td>\n",
       "    </tr>\n",
       "    <tr>\n",
       "      <th>102</th>\n",
       "      <td>202006</td>\n",
       "      <td>20200630</td>\n",
       "      <td>10001</td>\n",
       "      <td>E</td>\n",
       "      <td>F</td>\n",
       "      <td>24</td>\n",
       "      <td>1</td>\n",
       "      <td>N</td>\n",
       "      <td>N</td>\n",
       "      <td>16840.0000</td>\n",
       "      <td>2526.000000</td>\n",
       "      <td>6983.0000</td>\n",
       "      <td>0.0</td>\n",
       "      <td>6981.0000</td>\n",
       "      <td>N</td>\n",
       "      <td>33680.0000</td>\n",
       "      <td>50520.0000</td>\n",
       "    </tr>\n",
       "    <tr>\n",
       "      <th>103</th>\n",
       "      <td>202006</td>\n",
       "      <td>20200630</td>\n",
       "      <td>10001</td>\n",
       "      <td>F</td>\n",
       "      <td>F</td>\n",
       "      <td>32</td>\n",
       "      <td>1</td>\n",
       "      <td>N</td>\n",
       "      <td>N</td>\n",
       "      <td>15544.7334</td>\n",
       "      <td>2331.710010</td>\n",
       "      <td>6750.4666</td>\n",
       "      <td>0.0</td>\n",
       "      <td>6508.8000</td>\n",
       "      <td>N</td>\n",
       "      <td>31089.4668</td>\n",
       "      <td>46634.2002</td>\n",
       "    </tr>\n",
       "    <tr>\n",
       "      <th>104</th>\n",
       "      <td>202006</td>\n",
       "      <td>20200630</td>\n",
       "      <td>10001</td>\n",
       "      <td>D</td>\n",
       "      <td>M</td>\n",
       "      <td>18</td>\n",
       "      <td>1</td>\n",
       "      <td>N</td>\n",
       "      <td>N</td>\n",
       "      <td>4700.0000</td>\n",
       "      <td>0.000000</td>\n",
       "      <td>4502.0000</td>\n",
       "      <td>0.0</td>\n",
       "      <td>4507.7000</td>\n",
       "      <td>N</td>\n",
       "      <td>9400.0000</td>\n",
       "      <td>14100.0000</td>\n",
       "    </tr>\n",
       "    <tr>\n",
       "      <th>...</th>\n",
       "      <td>...</td>\n",
       "      <td>...</td>\n",
       "      <td>...</td>\n",
       "      <td>...</td>\n",
       "      <td>...</td>\n",
       "      <td>...</td>\n",
       "      <td>...</td>\n",
       "      <td>...</td>\n",
       "      <td>...</td>\n",
       "      <td>...</td>\n",
       "      <td>...</td>\n",
       "      <td>...</td>\n",
       "      <td>...</td>\n",
       "      <td>...</td>\n",
       "      <td>...</td>\n",
       "      <td>...</td>\n",
       "      <td>...</td>\n",
       "    </tr>\n",
       "    <tr>\n",
       "      <th>10025</th>\n",
       "      <td>202006</td>\n",
       "      <td>20200630</td>\n",
       "      <td>10001</td>\n",
       "      <td>C</td>\n",
       "      <td>F</td>\n",
       "      <td>15</td>\n",
       "      <td>1</td>\n",
       "      <td>N</td>\n",
       "      <td>Y</td>\n",
       "      <td>1296.0999</td>\n",
       "      <td>194.414985</td>\n",
       "      <td>643.1001</td>\n",
       "      <td>0.0</td>\n",
       "      <td>852.5499</td>\n",
       "      <td>N</td>\n",
       "      <td>2592.1998</td>\n",
       "      <td>3888.2997</td>\n",
       "    </tr>\n",
       "    <tr>\n",
       "      <th>10026</th>\n",
       "      <td>202006</td>\n",
       "      <td>20200630</td>\n",
       "      <td>10001</td>\n",
       "      <td>G</td>\n",
       "      <td>M</td>\n",
       "      <td>12</td>\n",
       "      <td>1</td>\n",
       "      <td>N</td>\n",
       "      <td>N</td>\n",
       "      <td>13799.6666</td>\n",
       "      <td>2069.949990</td>\n",
       "      <td>10605.9266</td>\n",
       "      <td>0.0</td>\n",
       "      <td>10603.9266</td>\n",
       "      <td>N</td>\n",
       "      <td>27599.3332</td>\n",
       "      <td>41398.9998</td>\n",
       "    </tr>\n",
       "    <tr>\n",
       "      <th>10027</th>\n",
       "      <td>202006</td>\n",
       "      <td>20200630</td>\n",
       "      <td>10005</td>\n",
       "      <td>C</td>\n",
       "      <td>_</td>\n",
       "      <td>_</td>\n",
       "      <td>1</td>\n",
       "      <td>N</td>\n",
       "      <td>N</td>\n",
       "      <td>1396.2000</td>\n",
       "      <td>1206.000000</td>\n",
       "      <td>0.0000</td>\n",
       "      <td>1212.0</td>\n",
       "      <td>0.0000</td>\n",
       "      <td>N</td>\n",
       "      <td>2792.4000</td>\n",
       "      <td>4188.6000</td>\n",
       "    </tr>\n",
       "    <tr>\n",
       "      <th>10028</th>\n",
       "      <td>202006</td>\n",
       "      <td>20200630</td>\n",
       "      <td>10001</td>\n",
       "      <td>C</td>\n",
       "      <td>F</td>\n",
       "      <td>40</td>\n",
       "      <td>0</td>\n",
       "      <td>N</td>\n",
       "      <td>N</td>\n",
       "      <td>3140.0000</td>\n",
       "      <td>942.000000</td>\n",
       "      <td>1884.0000</td>\n",
       "      <td>0.0</td>\n",
       "      <td>0.0000</td>\n",
       "      <td>Y</td>\n",
       "      <td>6280.0000</td>\n",
       "      <td>9420.0000</td>\n",
       "    </tr>\n",
       "    <tr>\n",
       "      <th>10029</th>\n",
       "      <td>202006</td>\n",
       "      <td>20200630</td>\n",
       "      <td>10001</td>\n",
       "      <td>C</td>\n",
       "      <td>F</td>\n",
       "      <td>59</td>\n",
       "      <td>1</td>\n",
       "      <td>N</td>\n",
       "      <td>N</td>\n",
       "      <td>2436.9000</td>\n",
       "      <td>365.535000</td>\n",
       "      <td>1839.9000</td>\n",
       "      <td>0.0</td>\n",
       "      <td>1919.7999</td>\n",
       "      <td>N</td>\n",
       "      <td>4873.8000</td>\n",
       "      <td>7310.7000</td>\n",
       "    </tr>\n",
       "  </tbody>\n",
       "</table>\n",
       "<p>9930 rows × 17 columns</p>\n",
       "</div>"
      ],
      "text/plain": [
       "       base_ym  dpro_tgt_perd_val  cust_ctg_type cust_class sex_type age  \\\n",
       "100     202006           20200630          10001          C        F  28   \n",
       "101     202006           20200630          10001          _        _   _   \n",
       "102     202006           20200630          10001          E        F  24   \n",
       "103     202006           20200630          10001          F        F  32   \n",
       "104     202006           20200630          10001          D        M  18   \n",
       "...        ...                ...            ...        ...      ...  ..   \n",
       "10025   202006           20200630          10001          C        F  15   \n",
       "10026   202006           20200630          10001          G        M  12   \n",
       "10027   202006           20200630          10005          C        _   _   \n",
       "10028   202006           20200630          10001          C        F  40   \n",
       "10029   202006           20200630          10001          C        F  59   \n",
       "\n",
       "       efct_svc_count dt_stop_yn npay_yn  r3m_avg_bill_amt  \\\n",
       "100                 0          N       N         2640.0000   \n",
       "101                 1          N       N          300.0000   \n",
       "102                 1          N       N        16840.0000   \n",
       "103                 1          N       N        15544.7334   \n",
       "104                 1          N       N         4700.0000   \n",
       "...               ...        ...     ...               ...   \n",
       "10025               1          N       Y         1296.0999   \n",
       "10026               1          N       N        13799.6666   \n",
       "10027               1          N       N         1396.2000   \n",
       "10028               0          N       N         3140.0000   \n",
       "10029               1          N       N         2436.9000   \n",
       "\n",
       "       r3m_A_avg_arpu_amt  r3m_B_avg_arpu_amt  r6m_A_avg_arpu_amt  \\\n",
       "100            792.000000           1584.0000                 0.0   \n",
       "101             90.000000            180.0000                 0.0   \n",
       "102           2526.000000           6983.0000                 0.0   \n",
       "103           2331.710010           6750.4666                 0.0   \n",
       "104              0.000000           4502.0000                 0.0   \n",
       "...                   ...                 ...                 ...   \n",
       "10025          194.414985            643.1001                 0.0   \n",
       "10026         2069.949990          10605.9266                 0.0   \n",
       "10027         1206.000000              0.0000              1212.0   \n",
       "10028          942.000000           1884.0000                 0.0   \n",
       "10029          365.535000           1839.9000                 0.0   \n",
       "\n",
       "       r6m_B_avg_arpu_amt termination_yn  r3m_avg_bill_amt2  r3m_avg_bill_amt3  \n",
       "100                0.0000              Y          5280.0000          7920.0000  \n",
       "101                0.0000              Y           600.0000           900.0000  \n",
       "102             6981.0000              N         33680.0000         50520.0000  \n",
       "103             6508.8000              N         31089.4668         46634.2002  \n",
       "104             4507.7000              N          9400.0000         14100.0000  \n",
       "...                   ...            ...                ...                ...  \n",
       "10025            852.5499              N          2592.1998          3888.2997  \n",
       "10026          10603.9266              N         27599.3332         41398.9998  \n",
       "10027              0.0000              N          2792.4000          4188.6000  \n",
       "10028              0.0000              Y          6280.0000          9420.0000  \n",
       "10029           1919.7999              N          4873.8000          7310.7000  \n",
       "\n",
       "[9930 rows x 17 columns]"
      ]
     },
     "execution_count": 101,
     "metadata": {},
     "output_type": "execute_result"
    }
   ],
   "source": [
    "# 원본확인\n",
    "cust"
   ]
  },
  {
   "cell_type": "markdown",
   "metadata": {
    "id": "4jVMTXHunn5r"
   },
   "source": [
    "# Chapter 2. DataFrame 변형하기"
   ]
  },
  {
   "cell_type": "markdown",
   "metadata": {
    "id": "FlW08idqoOSS"
   },
   "source": [
    "# __1. DataFrame group by 이해하기__\n"
   ]
  },
  {
   "cell_type": "markdown",
   "metadata": {
    "id": "jdBy3YjclXAw"
   },
   "source": [
    "### <b>1-1. 데이터 묶기</b>"
   ]
  },
  {
   "cell_type": "code",
   "execution_count": null,
   "metadata": {
    "id": "Kfuu8iGXlXA0"
   },
   "outputs": [],
   "source": [
    "import pandas as pd\n",
    "import numpy as np"
   ]
  },
  {
   "cell_type": "markdown",
   "metadata": {
    "id": "F4QWnHAxlXA1"
   },
   "source": [
    "#### <b>1) 그룹화(groupby)</b>\n",
    "\n",
    "  + 같은 값을 하나로 묶어 통계 또는 집계 결과를얻기위해 사용하는 것\n",
    "  + 아래의 세 단계를 적용하여 데이터를 그룹화(groupping) / 특정한 col을 기준으로 데이터를 그룹핑 하여 통계에 활용하는 것\n",
    "    - 데이터 분할(split) : 어떠한 기준을 바탕으로 데이터를 나누는 일\n",
    "    - operation 적용(applying) : 각 그룹에 어떤 함수를 독립적으로 적용시키는 일\n",
    "    - 데이터 병합(cobine) : 적용되어 나온 결과들을 통합하는 일\n",
    "  + 데이터 분석에 있어 사용빈도가 높음\n",
    "  + groupby의 결과는 dictionary형태임\n"
   ]
  },
  {
   "cell_type": "markdown",
   "metadata": {
    "id": "wjRU2uz8lXA2"
   },
   "source": [
    "![](https://t1.daumcdn.net/cfile/tistory/9978503F5B8264490F)"
   ]
  },
  {
   "cell_type": "code",
   "execution_count": null,
   "metadata": {
    "id": "AlIS7r25lXA3",
    "outputId": "b762a855-5ab7-4ce8-99e2-c00228cf8176"
   },
   "outputs": [],
   "source": [
    "cust = pd.read_csv('./sc_cust_info_txn_v1.5.csv', encoding = \"cp949\")\n",
    "cust"
   ]
  },
  {
   "cell_type": "markdown",
   "metadata": {
    "id": "hvk5zVxglXA4"
   },
   "source": [
    "> ##### __1-1) groupby의 groups 속성__\n",
    "> - 각 그룹과 그룹에 속한 index를 dict 형태로 표현"
   ]
  },
  {
   "cell_type": "code",
   "execution_count": null,
   "metadata": {
    "id": "20BWxXe2lXA5",
    "outputId": "6dab5547-8ee6-4026-c14a-a4d662608130"
   },
   "outputs": [],
   "source": [
    "# 파라미터 값으로 col의 리스트나 col을 전달\n",
    "# 출력은 우선 dataframe이라고 하는 객체임(그룹을 생성까지 한 상태)\n",
    "\n",
    "gender_group = cust.groupby('sex_type')\n",
    "gender_group"
   ]
  },
  {
   "cell_type": "code",
   "execution_count": null,
   "metadata": {
    "id": "9h4OlQjQlXA6",
    "outputId": "784d0d31-e904-46d0-84fa-1e1f8de43f11"
   },
   "outputs": [],
   "source": [
    "# groups를 활용하여 그룹의 속성을 살펴보기\n",
    "gender_group.groups"
   ]
  },
  {
   "cell_type": "markdown",
   "metadata": {
    "id": "6-7ZT36flXA7"
   },
   "source": [
    ">##### __1-2) groupby 내부 함수 활용하기__\n",
    " - 그룹 데이터에 적용 가능한 통계 함수(NaN은 제외하여 연산)\n",
    " - count : 데이터 개수\n",
    " - size : 집단별 크기\n",
    " - sum  : 데이터의 합\n",
    " - mean, std, var : 평균, 표준편차, 분산\n",
    " - min, max : 최소, 최대값"
   ]
  },
  {
   "cell_type": "code",
   "execution_count": null,
   "metadata": {
    "id": "jum9soFYlXA8",
    "outputId": "9abc73cd-2784-4e35-d078-67062763db68"
   },
   "outputs": [],
   "source": [
    "# count 함수 확인\n",
    "gender_group.count()"
   ]
  },
  {
   "cell_type": "code",
   "execution_count": null,
   "metadata": {
    "id": "VBy1th8vlXA8",
    "outputId": "6830f9a7-4080-4856-c607-e57e63ebf5a1"
   },
   "outputs": [],
   "source": [
    "# mean 함수 확인\n",
    "gender_group.mean()"
   ]
  },
  {
   "cell_type": "code",
   "execution_count": null,
   "metadata": {
    "id": "VtJUlJUdlXA9",
    "outputId": "b4fa40b6-1477-4b04-96fe-f4b633cdabb2"
   },
   "outputs": [],
   "source": [
    "# max값 확인하기\n",
    "gender_group.max()"
   ]
  },
  {
   "cell_type": "code",
   "execution_count": null,
   "metadata": {
    "id": "sI6f9FHDlXA9",
    "outputId": "7dcc6d98-afc9-471e-e03a-964a2e35a29d"
   },
   "outputs": [],
   "source": [
    "# 특정 col만 보는 경우 : gender별 r3m_avg_bill_amt의 평균\n",
    "gender_group.mean()[['r3m_avg_bill_amt']]"
   ]
  },
  {
   "cell_type": "markdown",
   "metadata": {
    "id": "ibGBytFOlXA-"
   },
   "source": [
    "> ##### __1-3) 인덱스 설정(groupby) 후 데이터 추출하기__\n",
    "- 성별 r3m_avg_bill_amt의 평균"
   ]
  },
  {
   "cell_type": "code",
   "execution_count": null,
   "metadata": {
    "id": "rqQGNbB-lXA-"
   },
   "outputs": [],
   "source": [
    "# groupby한 상태에서 가지고 오는 경우 \n",
    "gender_group.mean()[['r3m_avg_bill_amt']]"
   ]
  },
  {
   "cell_type": "code",
   "execution_count": null,
   "metadata": {
    "id": "QhCbw_XxlXA_"
   },
   "outputs": [],
   "source": [
    "# groupby하기 전 원 DataFrame에서 가지고 오는 경우(같은 의미)\n",
    "cust.groupby('sex_type').mean()[['r3m_avg_bill_amt']]"
   ]
  },
  {
   "cell_type": "markdown",
   "metadata": {
    "id": "Z-WrldMylXA_"
   },
   "source": [
    ">##### __1-4) 복수 columns을 기준으로 Groupping 하기__\n",
    ">- groupby에 column 리스트를 전달할 수 있고 복수개의 전달도 가능함\n",
    ">- 통계함수를 적용한 결과는 multiindex를 갖는 DataFrame"
   ]
  },
  {
   "cell_type": "code",
   "execution_count": null,
   "metadata": {
    "id": "BypOj-qulXA_",
    "outputId": "005b4090-ed75-43dd-8468-83cc128b984e"
   },
   "outputs": [],
   "source": [
    "# cust_class 와 sex_type으로 index를 정하고 이에따른 r3m_avg_bill_amt의 평균을 구하기\n",
    "cust.groupby(['cust_class', 'sex_type']).mean()[['r3m_avg_bill_amt']]"
   ]
  },
  {
   "cell_type": "code",
   "execution_count": null,
   "metadata": {
    "id": "-pSyHH6llXA_",
    "outputId": "74140254-3b6a-4bea-b6dc-027c5ef208ed"
   },
   "outputs": [],
   "source": [
    "# 위와 동일하게 groupby한 이후에 평균 구하기\n",
    "multi_group=cust.groupby(['cust_class', 'sex_type'])\n",
    "multi_group.mean()[['r3m_avg_bill_amt']]"
   ]
  },
  {
   "cell_type": "code",
   "execution_count": null,
   "metadata": {
    "id": "rqqeO7eglXBA",
    "outputId": "30023019-5f94-4392-c57e-8dceb35981b8"
   },
   "outputs": [],
   "source": [
    "# INDEX는 DEPTH가 존재함 (loc을 사용하여 원하는 것만 가지고 옴)\n",
    "cust.groupby(['cust_class', 'sex_type']).mean().loc[[(\"D\",\"M\")]]"
   ]
  },
  {
   "cell_type": "markdown",
   "metadata": {
    "id": "_wIjaP7flXBA"
   },
   "source": [
    "> ##### __1-5) index를 이용한 group by__\n",
    "> - index가 있는 경우, groupby 함수에 level 사용 가능\n",
    "> - level은 index의 depth를 의미하며, 가장 왼쪽부터 0부터 증가\n",
    "> - **set_index** 함수\n",
    ">  - column 데이터를 index 레벨로 변경하는 경우 사용\n",
    ">  - 기존의 행 인덱스를 제거하고 데이터 열 중 하나를 인덱스로 설정\n",
    "> - **reset_index** 함수 \n",
    ">  - 인덱스 초기화\n",
    ">  - 기존의 행 인덱스를 제거하고 인덱스를 데이터 열로 추가"
   ]
  },
  {
   "cell_type": "code",
   "execution_count": null,
   "metadata": {
    "id": "JowWvPj9lXBB",
    "outputId": "967de7b0-06da-4425-d8d0-1673ffa0a460"
   },
   "outputs": [],
   "source": [
    "# heat DataFrame 다시 한번 확인 합니다.\n",
    "cust.head()"
   ]
  },
  {
   "cell_type": "markdown",
   "metadata": {
    "id": "23vpQ1L3lXBB"
   },
   "source": [
    "> ##### __1-6) MultiIndex를 이용한 groupping__"
   ]
  },
  {
   "cell_type": "code",
   "execution_count": null,
   "metadata": {
    "id": "-hSbUH4vlXBB",
    "outputId": "951ed2fc-6911-4301-ef11-6704398f2247"
   },
   "outputs": [],
   "source": [
    "# set_index로 index셋팅(멀티도 가능)\n",
    "cust.set_index(['cust_class','sex_type'])"
   ]
  },
  {
   "cell_type": "code",
   "execution_count": null,
   "metadata": {
    "id": "sRpzDRlClXBB",
    "outputId": "7c4aa3ed-a56b-4a1c-acb4-9f77480d7fb7"
   },
   "outputs": [],
   "source": [
    "# reset_index활용하여 기존 DataFrame으로 변환  (set_index <-> reset_index)   \n",
    "cust.set_index(['cust_class','sex_type']).reset_index()"
   ]
  },
  {
   "cell_type": "code",
   "execution_count": null,
   "metadata": {
    "id": "wqj5YSrdlXBC",
    "outputId": "c69c7677-f20d-44b3-f96a-914133e2d01b"
   },
   "outputs": [],
   "source": [
    "# 멀티 인덱스 셋팅 후 인덱스 기준으로 groupby하기\n",
    "# 'sex'와 'cp'를 기준으로 index를셋팅하고 index를 기준으로 groupby하고자 하는경우\n",
    "# groupby의 level은 index가 있는 경우에 사용 \n",
    "cust.set_index(['cust_class','sex_type']).groupby(level=[0]).mean()"
   ]
  },
  {
   "cell_type": "code",
   "execution_count": null,
   "metadata": {
    "id": "LvKAVin9lXBC",
    "outputId": "c39c459c-809f-4681-fc6c-fa18b550028b"
   },
   "outputs": [],
   "source": [
    "cust.set_index(['cust_class','sex_type']).groupby(level=[0,1]).mean()"
   ]
  },
  {
   "cell_type": "markdown",
   "metadata": {
    "id": "RMexqoSblXBC"
   },
   "source": [
    "> ##### __1-7) aggregate(집계) 함수 사용하기__\n",
    "> groupby 결과에 집계함수를 적용하여 그룹별(mean, max등) 데이터 확인 가능"
   ]
  },
  {
   "cell_type": "code",
   "execution_count": null,
   "metadata": {
    "id": "9BpBdd5KlXBD",
    "outputId": "4f5ca866-e6c7-40af-f499-1aa3fae6d91b"
   },
   "outputs": [],
   "source": [
    "#그룹별로 한번에 데이터를 한번에 보는 경우\n",
    "cust.set_index(['cust_class','sex_type']).groupby(level=[0,1]).aggregate([np.mean, np.max])"
   ]
  },
  {
   "cell_type": "markdown",
   "metadata": {
    "id": "lb8_oGroiyZ9"
   },
   "source": [
    "# __2. pivot / pivot_table 함수 활용__"
   ]
  },
  {
   "cell_type": "markdown",
   "metadata": {
    "id": "1W062SXPlxR-"
   },
   "source": [
    "### <b>2-1. pivot 은 뭘까?</b>\n",
    "> - dataframe의 형태를 변경\n",
    "> - 여러 분류로 섞인 **행 데이터를 열 데이터로 회전** 시키는 것\n",
    ">   - pivot의 사전적의미 : (축을 중심으로)회전하다, 회전시키다. \n",
    "> - pivot형태 : pandas.pivot(index, columns, values) 로 사용할 컴럼을 명시"
   ]
  },
  {
   "cell_type": "code",
   "execution_count": null,
   "metadata": {
    "id": "liLDqv_0lxSA"
   },
   "outputs": [],
   "source": [
    "import numpy as np\n",
    "import pandas as pd"
   ]
  },
  {
   "cell_type": "code",
   "execution_count": null,
   "metadata": {
    "id": "xCc0DaDXlxSA",
    "outputId": "d7b05d68-2a49-4fe3-e6e9-3fc7958afc7e"
   },
   "outputs": [],
   "source": [
    "data = pd.DataFrame({'cust_id': ['cust_1', 'cust_1', 'cust_1', 'cust_2', 'cust_2', 'cust_2', 'cust_3', 'cust_3', 'cust_3'],\n",
    "                  'prod_cd': ['p1', 'p2', 'p3', 'p1', 'p2', 'p3', 'p1', 'p2', 'p3'],\n",
    "                  'grade' : ['A', 'A', 'A', 'A', 'A', 'A', 'B', 'B', 'B'],\n",
    "                  'pch_amt': [30, 10, 0, 40, 15, 30, 0, 0, 10]})\n",
    "data"
   ]
  },
  {
   "cell_type": "code",
   "execution_count": null,
   "metadata": {
    "id": "qEGgLE19lxSC",
    "outputId": "d9095b2a-48bf-4f42-80b6-be849522638e"
   },
   "outputs": [],
   "source": [
    "# 행(row)는 고객ID(cust_id), 열(col)은 상품코드(prod_cd), 값은 구매금액(pch_amt)을 pivot릏 활용하여 만들어보기\n",
    "# (직접 타이핑해보세요)\n",
    "data.pivot(index = 'cust_id', columns ='prod_cd', values ='pch_amt')"
   ]
  },
  {
   "cell_type": "code",
   "execution_count": null,
   "metadata": {
    "id": "q4vFNL9llxSD"
   },
   "outputs": [],
   "source": [
    "data.pivot('cust_id', 'prod_cd', 'pch_amt')"
   ]
  },
  {
   "cell_type": "markdown",
   "metadata": {
    "id": "T7onX5vClxSE"
   },
   "source": [
    "### <b>2-2. Pivot_table은 뭘까?</b>\n",
    "> pivot_table형태 : pandas.pivot_table(data, index, columns, aggfunc)"
   ]
  },
  {
   "cell_type": "code",
   "execution_count": null,
   "metadata": {
    "id": "IvJP4B2ElxSF"
   },
   "outputs": [],
   "source": [
    "# pivot_table을 활용하여 위와 동일하게 만들기\n",
    "data.pivot_table(index = 'cust_id', columns ='prod_cd', values ='pch_amt')"
   ]
  },
  {
   "cell_type": "markdown",
   "metadata": {
    "id": "xtDP3TN8lxSG"
   },
   "source": [
    "### <b>2-3. Pivot과 Pivot_table의 차이는뭘까 ?</b>\n",
    "\n",
    "> pivot은 안되고 pivot_table만을 사용해야 하는 경우가 있음"
   ]
  },
  {
   "cell_type": "markdown",
   "metadata": {
    "id": "TBpQNQCnlxSG"
   },
   "source": [
    "#### <b>1) index가 2개 이상인 경우</b>"
   ]
  },
  {
   "cell_type": "code",
   "execution_count": null,
   "metadata": {
    "id": "3YW6E3z4lxSH"
   },
   "outputs": [],
   "source": [
    "data.pivot(index = ['cust_id','grade'], columns ='prod_cd', values ='pch_amt')"
   ]
  },
  {
   "cell_type": "code",
   "execution_count": null,
   "metadata": {
    "id": "XmJfHUBilxSH"
   },
   "outputs": [],
   "source": [
    "data.pivot_table(index = ['cust_id','grade'], columns ='prod_cd', values ='pch_amt')"
   ]
  },
  {
   "cell_type": "markdown",
   "metadata": {
    "id": "yJeP8kDRlxSH"
   },
   "source": [
    "#### <b>2) columns가 2개 이상인 경우</b>\n"
   ]
  },
  {
   "cell_type": "code",
   "execution_count": null,
   "metadata": {
    "id": "j6pOZ5-wlxSI"
   },
   "outputs": [],
   "source": [
    "data.pivot(index = 'cust_id', columns =['grade','prod_cd'], values ='pch_amt')"
   ]
  },
  {
   "cell_type": "code",
   "execution_count": null,
   "metadata": {
    "id": "ucn37szHlxSI"
   },
   "outputs": [],
   "source": [
    "data.pivot_table(index = 'cust_id', columns =['grade','prod_cd'], values ='pch_amt')"
   ]
  },
  {
   "cell_type": "markdown",
   "metadata": {
    "id": "AVjrflNblxSI"
   },
   "source": [
    "#### <b>3) 중복 값이 있는 경우</b>\n",
    "\n",
    "> - pivot은 중복 값이 있는 경우 valueError를 반환함\n",
    "> - pivot_table은 aggregation 함수를 활용하여 처리"
   ]
  },
  {
   "cell_type": "code",
   "execution_count": null,
   "metadata": {
    "id": "ZDQfdQRLlxSI"
   },
   "outputs": [],
   "source": [
    "#index로 쓰인 grade가 중복이 있음\n",
    "data.pivot(index='grade', columns='prod_cd', values='pch_amt')  "
   ]
  },
  {
   "cell_type": "code",
   "execution_count": null,
   "metadata": {
    "id": "G3rKsvJwlxSJ"
   },
   "outputs": [],
   "source": [
    "#index로 쓰인 grade가 중복이 있음\n",
    "data.pivot_table(index='grade', columns='prod_cd', values='pch_amt')  "
   ]
  },
  {
   "cell_type": "markdown",
   "metadata": {
    "id": "Dz5YpP3tlxSJ"
   },
   "source": [
    "### <b>2-4. pivot_table의 추가 살펴 보기</b>\n",
    "\n",
    ">pivot_table은 aggregation 함수를 활용하여 처리"
   ]
  },
  {
   "cell_type": "code",
   "execution_count": null,
   "metadata": {
    "id": "747Yn6zvlxSJ"
   },
   "outputs": [],
   "source": [
    "# aggfunc를 sum으로 구하기 (직접 타이핑 해보세요)\n",
    "data.pivot_table(index='grade', columns='prod_cd', values='pch_amt', aggfunc=np.sum)"
   ]
  },
  {
   "cell_type": "code",
   "execution_count": null,
   "metadata": {
    "id": "ob0JDO0glxSJ"
   },
   "outputs": [],
   "source": [
    "# 위와 같은결과(참고로 알아 두셔요)\n",
    "pd.pivot_table(data, index='grade', columns='prod_cd', values='pch_amt', aggfunc=np.sum)"
   ]
  },
  {
   "cell_type": "code",
   "execution_count": null,
   "metadata": {
    "id": "0GwuTme3lxSK"
   },
   "outputs": [],
   "source": [
    "# aggfunc를 mean으로 구하기(default가 mean임) (직접 타이핑 해보세요)\n",
    "data.pivot_table(index='grade', columns='prod_cd', values='pch_amt', aggfunc=np.mean)"
   ]
  },
  {
   "cell_type": "markdown",
   "metadata": {
    "id": "ZSsa7WwulRmH"
   },
   "source": [
    "# __3. stack, unstack 함수 활용__"
   ]
  },
  {
   "cell_type": "code",
   "execution_count": null,
   "metadata": {
    "id": "LwAjMXSdnybz",
    "outputId": "ecfca5e8-e5c4-4b69-a545-e27ac0fb8bb3"
   },
   "outputs": [],
   "source": [
    "df = pd.DataFrame({\n",
    "    '지역': ['서울', '서울', '서울', '경기', '경기', '부산', '서울', '서울', '부산', '경기', '경기', '경기'],\n",
    "    '요일': ['월요일', '화요일', '수요일', '월요일', '화요일', '월요일', '목요일', '금요일', '화요일', '수요일', '목요일', '금요일'],\n",
    "    '강수량': [100, 80, 1000, 200, 200, 100, 50, 100, 200, 100, 50, 100],\n",
    "    '강수확률': [80, 70, 90, 10, 20, 30, 50, 90, 20, 80, 50, 10]})\n",
    "\n",
    "df"
   ]
  },
  {
   "cell_type": "markdown",
   "metadata": {
    "id": "Dyi4lKf1nyb2"
   },
   "source": [
    "### <b>3-1. stack & unstack</b>\n",
    "\n",
    "> - **stack** : 컬럼 레벨에서 인덱스 레벨로 dataframe 변경\n",
    ">  - 즉, 데이터를 row 레벨로 쌓아올리는 개념으로 이해하면 쉬움\n",
    "> - **unstack** : 인덱스 레벨에서 컬럼 레벨로 dataframe 변경\n",
    ">  - stack의 반대 operation\n",
    "> - 둘은 역의 관계에 있음"
   ]
  },
  {
   "cell_type": "code",
   "execution_count": null,
   "metadata": {
    "id": "jJT2k0DGnyb3",
    "outputId": "a5b74a50-0ea2-43dd-ced7-cd150448114e"
   },
   "outputs": [],
   "source": [
    "# '지역'과 '요일'두개로 인덱스를 설정하고 별도의 DataFrame으로 설정 하기 - (직접 타이핑 해보세요)\n",
    "new_df = df.set_index(['지역', '요일'])\n",
    "new_df"
   ]
  },
  {
   "cell_type": "code",
   "execution_count": null,
   "metadata": {
    "id": "f7zVyciqnyb4",
    "outputId": "d0f54ca5-9427-47dc-a29e-8d88529f057f"
   },
   "outputs": [],
   "source": [
    "# 첫번째 레벨의 인덱스(지역)를 컬럼으로 이동 / 인덱스도 레벨이 있음 \n",
    "new_df.unstack(0)"
   ]
  },
  {
   "cell_type": "code",
   "execution_count": null,
   "metadata": {
    "id": "yGXAQjohnyb6"
   },
   "outputs": [],
   "source": [
    "# 두번째 레벨의 인덱스를 컬럼으로 이동\n",
    "new_df.unstack(1)"
   ]
  },
  {
   "cell_type": "code",
   "execution_count": null,
   "metadata": {
    "id": "yvPJolkvnyb8",
    "outputId": "5bb35f23-0673-4cc9-e02a-18a8604f5c28"
   },
   "outputs": [],
   "source": [
    "new_df"
   ]
  },
  {
   "cell_type": "code",
   "execution_count": null,
   "metadata": {
    "id": "vNUelGaZnyb9"
   },
   "outputs": [],
   "source": [
    "# new_df.unstack(0)상태에서 첫번째 레벨의 컬럼(강수량과 강수확률)을 인덱스로 이동(stack(0))\n",
    "new_df.unstack(0).stack(0)"
   ]
  },
  {
   "cell_type": "code",
   "execution_count": null,
   "metadata": {
    "id": "eLuud09cnyb_"
   },
   "outputs": [],
   "source": [
    "new_df.unstack(0).stack(1)"
   ]
  },
  {
   "cell_type": "markdown",
   "metadata": {
    "id": "20-6G8l5szgz"
   },
   "source": [
    "# Chapter 3. DataFrame 병합하기"
   ]
  },
  {
   "cell_type": "markdown",
   "metadata": {
    "id": "6ocGGjcXrjg_"
   },
   "source": [
    "# __1. concat함수 활용__\n",
    "\n",
    "두 개 이상의 데이터프레임을 하나로 합치는 데이터 병합(merge)이나 연결(concatenate)을 지원합니다. "
   ]
  },
  {
   "cell_type": "code",
   "execution_count": null,
   "metadata": {
    "id": "Z6fFnm_0rjhF"
   },
   "outputs": [],
   "source": [
    "import pandas as pd\n",
    "import numpy as np"
   ]
  },
  {
   "cell_type": "markdown",
   "metadata": {
    "id": "f9FfIFbFrjhG"
   },
   "source": [
    "### <b>1-1. concat 함수 사용하여 DataFrame 병합하기</b>\n",
    "\n",
    "> - pandas.concat 함수  (배열결합 : concatenate)\n",
    ">  - 데이터의 속성 형태가 동일한 데이터 셋 끼리 합칠때 사용 (DataFrame을 물리적으로 붙여주는 함수)\n",
    "> - 열 or 행 레벨로 병합하는 것"
   ]
  },
  {
   "cell_type": "markdown",
   "metadata": {
    "id": "UtStCy_6rjhH"
   },
   "source": [
    "#### <b>1) column명이 같은 경우</b>\n",
    ">  ignore_index, axis 활용"
   ]
  },
  {
   "cell_type": "code",
   "execution_count": null,
   "metadata": {
    "id": "YisR0XkOrjhH"
   },
   "outputs": [],
   "source": [
    "df1 = pd.DataFrame({'key1' : [0,1,2,3,4], 'value1' : ['a', 'b', 'c','d','e']}, index=[0,1,2,3,4])\n",
    "df2 = pd.DataFrame({'key1' : [3,4,5,6,7], 'value1' : ['c','d','e','f','g']}, index=[3,4,5,6,7])"
   ]
  },
  {
   "cell_type": "code",
   "execution_count": null,
   "metadata": {
    "id": "JBtsraDorjhJ",
    "outputId": "d74b4c15-85de-40f8-c32c-4e4ebafabf92"
   },
   "outputs": [],
   "source": [
    "df1"
   ]
  },
  {
   "cell_type": "code",
   "execution_count": null,
   "metadata": {
    "id": "bDl9cLyArjhL",
    "outputId": "043714a3-9bcf-40ae-af54-2c14f215060a"
   },
   "outputs": [],
   "source": [
    "df2"
   ]
  },
  {
   "cell_type": "markdown",
   "metadata": {
    "id": "9wCtaxdGrjhM"
   },
   "source": [
    "> ##### __concat함수 옵션__\n",
    "\n",
    "> - **ignore_index** : 기존 index를 무시하고자 하는 경우\n",
    ">   - False : 기존 index유지(default) / True : 기존 index무시(index재배열)\n",
    "> - **axis**\n",
    ">   - 0 : 위+아래로 합치기(row레벨) / 1 : 왼쪽+오른쪽으로 합치기(col레벨)"
   ]
  },
  {
   "cell_type": "code",
   "execution_count": null,
   "metadata": {
    "id": "gwUkv-tPrjhN",
    "outputId": "a1e44f29-73ae-40a6-ecb4-fe91d527dc20"
   },
   "outputs": [],
   "source": [
    "# ignore_index에 대한이해  (직접 타이핑 해보세요)\n",
    "pd.concat([df1, df2], ignore_index=False)"
   ]
  },
  {
   "cell_type": "code",
   "execution_count": null,
   "metadata": {
    "id": "cOBqffWFrjhN",
    "outputId": "371f7414-b3a5-441f-d823-eb3cb8c9317e"
   },
   "outputs": [],
   "source": [
    "# axis=0,1 비교해 보기  (직접 타이핑 해보세요)\n",
    "pd.concat([df1, df2], axis =1)"
   ]
  },
  {
   "cell_type": "markdown",
   "metadata": {
    "id": "pDBQTeebrjhO"
   },
   "source": [
    "#### <b>2) column명이 다른 경우</b>\n",
    "\n",
    "> * concat함수중에 join에 대한이해\n",
    "> * join 방식은 outer의 경우 합집합, inner의 경우 교집합을 의미"
   ]
  },
  {
   "cell_type": "code",
   "execution_count": null,
   "metadata": {
    "id": "lJiF39VVrjhP"
   },
   "outputs": [],
   "source": [
    "df3 = pd.DataFrame({'a':['a0','a1','a2', 'a3'], 'b':['b0','b1','b2','b3'], 'c':['c0','c1','c2','c3']}, index = [0,1,2,3])\n",
    "df4 = pd.DataFrame({'a':['a2','a3','a4', 'a5'], 'b':['b2','b3','b4','b5'], 'c':['c2','c3','c4','c5'], 'd':['d1','d2','d3','d4']}, index = [2,3,4,5])"
   ]
  },
  {
   "cell_type": "code",
   "execution_count": null,
   "metadata": {
    "id": "hzSCQkyErjhP",
    "outputId": "ff6158c0-6862-4dcd-c032-15ba2f5f99dd"
   },
   "outputs": [],
   "source": [
    "df3"
   ]
  },
  {
   "cell_type": "code",
   "execution_count": null,
   "metadata": {
    "id": "8MLOry4RrjhQ",
    "outputId": "461ba7e9-7290-4a53-b199-e3f9a0ac209a"
   },
   "outputs": [],
   "source": [
    "df4"
   ]
  },
  {
   "cell_type": "code",
   "execution_count": null,
   "metadata": {
    "id": "whPwSXS-rjhR",
    "outputId": "7fcecfe2-9488-4712-856a-8180f4252f04"
   },
   "outputs": [],
   "source": [
    "pd.concat([df3, df4], join='outer')"
   ]
  },
  {
   "cell_type": "code",
   "execution_count": null,
   "metadata": {
    "id": "RlfBsss-rjhR",
    "outputId": "3af6c909-175c-4fb7-8414-5a9f79c42520"
   },
   "outputs": [],
   "source": [
    "pd.concat([df3, df4], join='inner')"
   ]
  },
  {
   "cell_type": "markdown",
   "metadata": {
    "id": "37SsKMsIrjhR"
   },
   "source": [
    "#### <b>3) index 중복 여부 확인</b>\n",
    "\n",
    "> * concat함수중에 verify_integrity에 대한 이해\n",
    "> * verify_integrity=False가 default임으로 error발생을 하지 않음\n",
    "> * verify_integrity=True인 경우 error 발생"
   ]
  },
  {
   "cell_type": "code",
   "execution_count": null,
   "metadata": {
    "id": "Ps6B29owrjhR"
   },
   "outputs": [],
   "source": [
    "df5 = pd.DataFrame({'A':['A0','A1','A2'], 'B':['B0','B1','B2'], 'C':['C0','C1','C2'], 'D':['D0','D1','D2']}, index=['I0','I1','I2'])\n",
    "df6 = pd.DataFrame({'A':['AA2','A3','A4'], 'B':['BB2','B3','B4'], 'C':['CC2','C3','C4'], 'D':['DD2','D3','D4']}, index=['I2','I3','I4'])"
   ]
  },
  {
   "cell_type": "code",
   "execution_count": null,
   "metadata": {
    "id": "GEd30qvsrjhS",
    "outputId": "1d262f56-3e05-41e7-d130-c7f140680a66"
   },
   "outputs": [],
   "source": [
    "df5"
   ]
  },
  {
   "cell_type": "code",
   "execution_count": null,
   "metadata": {
    "id": "05cnfETGrjhS",
    "outputId": "46f6f474-ec4f-4eeb-d753-333ceb1a419d"
   },
   "outputs": [],
   "source": [
    "df6"
   ]
  },
  {
   "cell_type": "code",
   "execution_count": null,
   "metadata": {
    "id": "-OXP80FCrjhT",
    "outputId": "008d7a7f-d252-4ff1-ea45-7a627e1a5d67"
   },
   "outputs": [],
   "source": [
    "pd.concat([df5, df6], verify_integrity=False)"
   ]
  },
  {
   "cell_type": "code",
   "execution_count": null,
   "metadata": {
    "id": "GZkQb94_rjhT"
   },
   "outputs": [],
   "source": [
    "# index중복이있는 경우 error가 남\n",
    "pd.concat([df5, df6], verify_integrity=True)"
   ]
  },
  {
   "cell_type": "markdown",
   "metadata": {
    "id": "EV-H0FrInnbS"
   },
   "source": []
  },
  {
   "cell_type": "code",
   "execution_count": null,
   "metadata": {
    "id": "1bVbUMu2owvU"
   },
   "outputs": [],
   "source": []
  },
  {
   "cell_type": "markdown",
   "metadata": {
    "id": "06GbIwxXoxJc"
   },
   "source": []
  },
  {
   "cell_type": "markdown",
   "metadata": {
    "id": "hbNoZXWFstqz"
   },
   "source": [
    "# __2. merge & join 함수 활용__\n"
   ]
  },
  {
   "cell_type": "markdown",
   "metadata": {
    "id": "ft7kLMZSstq3"
   },
   "source": [
    "### <b>2-1. DataFrame merge</b>\n",
    "\n",
    "> - Database의 Table들을 Merge/Join하는 것과 유사함\n",
    "> - 특정한 column(key)을 기준으로 병합\n",
    ">   - join 방식: how 파라미터를 통해 명시(특정한 col을 바탕으로 join 하는 것)\n",
    "     - inner: 기본 merge방법, 일치하는 값이 있는 경우 (Merge할 테이블의 데이터가 모두 있는 경우만 가지고 옴)\n",
    "     - left: left outer join (왼쪽을 기준으로 오른쪽을 채움 - 오른쪽에 데이터 없으면 NaN)\n",
    "     - right: right outer join\n",
    "     - outer: full outer join  (Left와 Right를 합한 것)"
   ]
  },
  {
   "cell_type": "code",
   "execution_count": null,
   "metadata": {
    "id": "gp3UBrI2stq4"
   },
   "outputs": [],
   "source": [
    "customer = pd.DataFrame({'cust_id' : np.arange(6), \n",
    "                    'name' : ['철수', '영희', '길동', '영수', '수민', '동건'], \n",
    "                    '나이' : [40, 20, 21, 30, 31, 18]})\n",
    "\n",
    "orders = pd.DataFrame({'cust_id' : [1, 1, 2, 2, 2, 3, 3, 1, 4, 9], \n",
    "                    'item' : ['치약', '칫솔', '이어폰', '헤드셋', '수건', '생수', '수건', '치약', '생수', '케이스'], \n",
    "                    'quantity' : [1, 2, 1, 1, 3, 2, 2, 3, 2, 1]})\n"
   ]
  },
  {
   "cell_type": "code",
   "execution_count": null,
   "metadata": {
    "id": "NEQ0B9Xpstq5"
   },
   "outputs": [],
   "source": [
    "customer"
   ]
  },
  {
   "cell_type": "code",
   "execution_count": null,
   "metadata": {
    "id": "c_0ZLDzqstq5"
   },
   "outputs": [],
   "source": [
    "orders"
   ]
  },
  {
   "cell_type": "markdown",
   "metadata": {
    "id": "zdpittjkstq6"
   },
   "source": [
    "#### <b>1) merge함수의 on 옵션</b>\n",
    "\n",
    ">  - join 대상이 되는 column 명시"
   ]
  },
  {
   "cell_type": "code",
   "execution_count": null,
   "metadata": {
    "id": "ztWujL4fstq7"
   },
   "outputs": [],
   "source": [
    "# 기본적인 Merge방식은 inner임 (직접 타이핑 해보세요)\n",
    "# customer의 cust_id 5번과 orders의 cust_id 9번이 없는 것을 확인\n",
    "pd.merge(customer, orders, on='cust_id')  "
   ]
  },
  {
   "cell_type": "code",
   "execution_count": null,
   "metadata": {
    "id": "VyQESDGAstq8"
   },
   "outputs": [],
   "source": [
    "# merge하고자 하는 컬럼 명칭을 on에 명시한다. \n",
    "# 여러개인 경우 리스트  일치하는 것만 가지고 옴\n",
    "pd.merge(customer, orders, on='cust_id', how='inner') "
   ]
  },
  {
   "cell_type": "code",
   "execution_count": null,
   "metadata": {
    "id": "K-eNitfystq9"
   },
   "outputs": [],
   "source": [
    "# 왼쪽 테이블을 기준으로 Merge (여기서는 customer기준)\n",
    "pd.merge(customer, orders, on='cust_id', how='left')"
   ]
  },
  {
   "cell_type": "code",
   "execution_count": null,
   "metadata": {
    "id": "Tg9YjHKostq9"
   },
   "outputs": [],
   "source": [
    "# 오른쪽 테이블을 기준으로 Merge (여기서는 orders기준)\n",
    "pd.merge(customer, orders, on='cust_id', how='right')"
   ]
  },
  {
   "cell_type": "code",
   "execution_count": null,
   "metadata": {
    "id": "oJuSXIz8stq-"
   },
   "outputs": [],
   "source": [
    "# outer : Left와 Right를 합친 것\n",
    "pd.merge(customer, orders, on='cust_id', how='outer')"
   ]
  },
  {
   "cell_type": "markdown",
   "metadata": {
    "id": "O0eRb_t2stq-"
   },
   "source": [
    "#### <b>2) index 기준으로 join하기</b>\n",
    "\n"
   ]
  },
  {
   "cell_type": "code",
   "execution_count": null,
   "metadata": {
    "id": "THb7MlIFstq-"
   },
   "outputs": [],
   "source": [
    "#cust_id를 기준으로 인덱스 생성하기 (set_index활용)  (직접 타이핑 해보세요)\n",
    "cust1 = customer.set_index('cust_id')\n",
    "order1 = orders.set_index('cust_id')"
   ]
  },
  {
   "cell_type": "code",
   "execution_count": null,
   "metadata": {
    "id": "raw6fLMRstq_"
   },
   "outputs": [],
   "source": [
    "cust1"
   ]
  },
  {
   "cell_type": "code",
   "execution_count": null,
   "metadata": {
    "id": "nuwUU2qnstq_"
   },
   "outputs": [],
   "source": [
    "order1"
   ]
  },
  {
   "cell_type": "code",
   "execution_count": null,
   "metadata": {
    "id": "3RDLehyzstq_"
   },
   "outputs": [],
   "source": [
    "# on을 명시할 필요 없이 index를 merge 하고자 하는 경우 \n",
    "pd.merge(cust1, order1, left_index=True, right_index=True)\n",
    "#inner와 동일한 형태"
   ]
  },
  {
   "cell_type": "markdown",
   "metadata": {
    "id": "psxtbofastrA"
   },
   "source": [
    "#### <b>연습문제1) 가장 많이 팔린 아이템은?</b>\n",
    "  - Hint : merge, groupby, sort_values 활용\n",
    "  - 아이템이 중요함으로 orders DF이 중요"
   ]
  },
  {
   "cell_type": "code",
   "execution_count": null,
   "metadata": {
    "id": "8LeQ2wqystrA"
   },
   "outputs": [],
   "source": [
    "# 1. customer, orders 를 merge (how는?)\n",
    "# 2. group_by이용하여 item 을 grouping후 sum\n",
    "# 직접 type 해보세요 "
   ]
  },
  {
   "cell_type": "code",
   "execution_count": null,
   "metadata": {
    "id": "ZIiF-okustrA"
   },
   "outputs": [],
   "source": [
    "# 3. sort_values를 이용하여 quantity를기준으로 sort + 내림차순으로 정렬\n",
    "# 직접 type 해보세요 "
   ]
  },
  {
   "cell_type": "markdown",
   "metadata": {
    "id": "_xd6tlaEstrA"
   },
   "source": [
    "#### <b>연습문제2) 영희가 가장 많이 구매한 아이템은?</b>\n",
    "   - 1.우선 사람과 아이템 별로 sum을 해서(groupby시 \"이름\"과 \"아이템\"기준으로 합을 구하고)\n",
    "   - 2.loc을 활용하여 (영희의 row의 quantity만 확인)"
   ]
  },
  {
   "cell_type": "code",
   "execution_count": null,
   "metadata": {
    "id": "lghfEVcmstrA"
   },
   "outputs": [],
   "source": [
    "# 직접 type 해보세요 "
   ]
  },
  {
   "cell_type": "markdown",
   "metadata": {
    "id": "Rbo31RristrB"
   },
   "source": [
    "### <b>2-2. join 함수</b>\n",
    "\n",
    " - index가 있는 경우 사용(행 인덱스를 기준으로 결합)\n",
    " - 내부적으로 pandas.merge 함수를 기반으로 만들어짐\n",
    " - 기본적으로 index를 사용하여 left join\n",
    " - 형태 : Dataframe1.join(Dataframe2. how='left')"
   ]
  },
  {
   "cell_type": "code",
   "execution_count": null,
   "metadata": {
    "id": "YxVhBi3_strB",
    "outputId": "faf90e67-1a28-4b48-85f7-2b714d6f8608"
   },
   "outputs": [],
   "source": [
    "cust1.join(order1, how='inner')"
   ]
  }
 ],
 "metadata": {
  "colab": {
   "collapsed_sections": [
    "ySonJB6EVWOz",
    "yocaFO_0VWO3",
    "19TjlTitVWO6",
    "Ouqcv8yTVWO9",
    "w29s2yrUazvo",
    "C179aRdiazvu",
    "u7XKsX9Vazvv",
    "qNWmUzRnazvw",
    "zq4dX1cyazvz",
    "wlfx1wxS7r7g",
    "MdrKtAPkazv1",
    "1ktTc93Cazv2"
   ],
   "name": "Pandas 이해 및 활용 _ 01. DataFrame 살펴보기.ipynb",
   "provenance": []
  },
  "kernelspec": {
   "display_name": "Python 3",
   "language": "python",
   "name": "python3"
  },
  "language_info": {
   "codemirror_mode": {
    "name": "ipython",
    "version": 3
   },
   "file_extension": ".py",
   "mimetype": "text/x-python",
   "name": "python",
   "nbconvert_exporter": "python",
   "pygments_lexer": "ipython3",
   "version": "3.6.9"
  }
 },
 "nbformat": 4,
 "nbformat_minor": 4
}
