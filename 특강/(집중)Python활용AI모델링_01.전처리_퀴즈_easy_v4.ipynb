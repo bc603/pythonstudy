{
 "cells": [
  {
   "cell_type": "markdown",
   "metadata": {
    "id": "471_omVbzt5v"
   },
   "source": [
    "# [실습-퀴즈] Python 활용한 AI 모델링 - 전처리 파트\n",
    "+ 이번시간에는 Python을 활용한 AI 모델링에서 전처리에 대해 실습해 보겠습니다.\n",
    "+ 머신러닝과 AI 모델링 전체에서 60~70% 차지하는 부분이 바로 전처리 파트입니다.\n",
    "+ 굉장히 시간과 노력이 많이 투입되며, 어려운 부분일수 있습니다.\n",
    "+ 데이터가 깨끗이 정리되지 않는다면 머신러닝/AI 성능을 장담할수 없으므로 데이터 전처리에 심혈을 기울려 주시기 바랍니다.\n",
    "+ 한가지 당부 드리고 싶은 말은 \"백문이불여일타\" 입니다.\n",
    "+ 이론보다 실습이 더 많은 시간과 노력이 투자 되어야 합니다."
   ]
  },
  {
   "cell_type": "markdown",
   "metadata": {
    "id": "2tiRXBd_zt50"
   },
   "source": [
    "## 학습목차\n",
    "0. 실습 내용 확인\n",
    "1. 필요 라이브러리 임포트 및 파일 읽어오기\n",
    "2. EDA (Exploratory Data Analysis) 탐색적 데이터 분석\n",
    "3. 데이터 전처리 수행\n",
    " - 불필요 컬럼 삭제\n",
    " - 컬럼 내용 변경하기\n",
    " - Null 처리\n",
    " - 컬럼 type 변경하기\n",
    "4. 시각화\n",
    "5. 결과 저장하기"
   ]
  },
  {
   "cell_type": "markdown",
   "metadata": {
    "id": "C6XPa1owzt50"
   },
   "source": [
    "##  \n",
    "# 0. 실습 내용 확인"
   ]
  },
  {
   "cell_type": "markdown",
   "metadata": {
    "id": "d0UfUo5xzt51"
   },
   "source": [
    "## <font color=blue> **머신러닝, 딥러닝을 사용한 통신 서비스 이탈 예측** </font>\n",
    "### 모든 관련 고객 데이터를 분석하고 강력하고 정확한 이탈 예측 모델을 개발하여 고객을 유지하고 고객 이탈률을 줄이기 위한 전략을 수립합니다.\n",
    "### Churn은 서비스를 중단하거나 업계의 경쟁업체로 이전한 고객 또는 사용자를 의미합니다. 모든 조직이 기존 고객을 유지하고 새로운 고객을 유치하는 것이 매우 중요합니다. 그 중 하나가 실패하면 비즈니스에 좋지 않습니다. 목표는 업계에서 경쟁 우위를 유지하기 위해 이탈 예측을 위한 머신러닝, 딥러닝의 가능성을 탐색하는 것입니다."
   ]
  },
  {
   "cell_type": "markdown",
   "metadata": {
    "id": "fzXI1Ty4zt52"
   },
   "source": [
    "#  \n",
    "# 1. 필요 라이브러리 임포트 및 파일 읽어오기"
   ]
  },
  {
   "cell_type": "markdown",
   "metadata": {
    "id": "SqhbiL7hzt52"
   },
   "source": [
    "### Numpy"
   ]
  },
  {
   "cell_type": "markdown",
   "metadata": {
    "id": "73Ke8PLdzt53"
   },
   "source": [
    "##### <font color=blue> **[문제] numpy 라이브러리를 np alias로 임포트하세요.** </font>"
   ]
  },
  {
   "cell_type": "code",
   "execution_count": 30,
   "metadata": {
    "id": "AwQq6UUFzt54",
    "tags": []
   },
   "outputs": [],
   "source": [
    "import numpy as np\n",
    "\n",
    "\n",
    "\n"
   ]
  },
  {
   "cell_type": "markdown",
   "metadata": {
    "id": "MFJooTutzt56"
   },
   "source": [
    "####  \n",
    "### Pandas"
   ]
  },
  {
   "cell_type": "markdown",
   "metadata": {
    "id": "drnb3ta-zt56"
   },
   "source": [
    "##### <font color=blue> **[문제] pandas 라이브러리를 pd alias로 임포트하세요.** </font>"
   ]
  },
  {
   "cell_type": "code",
   "execution_count": 31,
   "metadata": {
    "id": "EMZobYP2zt57",
    "tags": []
   },
   "outputs": [],
   "source": [
    "import pandas as pd\n",
    "\n",
    "\n",
    "\n"
   ]
  },
  {
   "cell_type": "markdown",
   "metadata": {
    "id": "BlLqoxDgzt57"
   },
   "source": [
    "####  \n",
    "### <font color=green>읽어올 데이터 파일 : data_v1.csv</font>"
   ]
  },
  {
   "cell_type": "markdown",
   "metadata": {
    "id": "Jt8N_9ybzt58"
   },
   "source": [
    "#### Telco Customer Churn Dataset  컬럼\n",
    "1. CustomerID: Customer ID unique for each customer\n",
    "2. gender: Whether the customer is a male or a female\n",
    "3. SeniorCitizen: Whether the customer is a senior citizen or not (1, 0) : 고령자 여부\n",
    "4. Partner: Whether the customer has a partner or not (Yes, No)\n",
    "5. Dependents: Whether the customer has dependents or not (Yes, No) : 부양가족 여부\n",
    "6. Tenure: Number of months the customer has stayed with the company : 서비스 사용 개월수\n",
    "7. PhoneService: Whether the customer has a phone service or not (Yes, No)\n",
    "8. MultipleLines: Whether the customer has multiple lines or not (Yes, No, No phone service)\n",
    "9. InternetService: Customer’s internet service provider (DSL, Fiber optic, No)\n",
    "10. OnlineSecurity: Whether the customer has online security or not (Yes, No, No internet service)\n",
    "11. OnlineBackup: Whether the customer has an online backup or not (Yes, No, No internet service)\n",
    "12. DeviceProtection: Whether the customer has device protection or not (Yes, No, No internet service)\n",
    "13. TechSupport: Whether the customer has tech support or not (Yes, No, No internet service)\n",
    "14. StreamingTV: Whether the customer has streaming TV or not (Yes, No, No internet service)\n",
    "15. StreamingMovies: Whether the customer has streaming movies or not (Yes, No, No internet service)\n",
    "16. Contract: The contract term of the customer (Month-to-month, One year, Two years)\n",
    "17. PaperlessBilling: Whether the customer has paperless billing or not (Yes, No)\n",
    "18. PaymentMethod: The customer’s payment method (Electronic check, Mailed check, Bank transfer (automatic), Credit card (automatic))\n",
    "19. MonthlyCharges: The amount charged to the customer monthly\n",
    "20. TotalCharges: The total amount charged to the customer\n",
    "21. Churn: Whether the customer churned or not (Yes or No) : 이탈 여부"
   ]
  },
  {
   "cell_type": "markdown",
   "metadata": {
    "id": "lPQqI6x-zt58"
   },
   "source": [
    "####  \n",
    "### CSV 파일 데이터 읽어오기"
   ]
  },
  {
   "cell_type": "markdown",
   "metadata": {
    "id": "7XcVbE7lzt59"
   },
   "source": [
    "##### <font color=blue> **[문제] data_v1.csv 파일을 Pandas read_csv 함수를 이용하여 읽어 df 변수에 저장하세요.** </font>"
   ]
  },
  {
   "cell_type": "code",
   "execution_count": 32,
   "metadata": {
    "id": "JtlO-NTgzt59",
    "tags": []
   },
   "outputs": [],
   "source": [
    "# 읽어 들일 파일명 : data_v1.csv\n",
    "# Pandas read_csv 함수 활용\n",
    "# 결과 : df 저장\n",
    "\n",
    "df = pd.read_csv('data_v1.csv')\n"
   ]
  },
  {
   "cell_type": "code",
   "execution_count": 33,
   "metadata": {
    "colab": {
     "base_uri": "https://localhost:8080/",
     "height": 731
    },
    "executionInfo": {
     "elapsed": 9,
     "status": "ok",
     "timestamp": 1645514242137,
     "user": {
      "displayName": "yunwoo oh",
      "photoUrl": "https://lh3.googleusercontent.com/a/default-user=s64",
      "userId": "01035531558844683999"
     },
     "user_tz": -540
    },
    "id": "JQYJhu9Bzt5-",
    "outputId": "440e23b8-fee3-4b31-cb87-df4d9eca749b",
    "tags": []
   },
   "outputs": [
    {
     "data": {
      "text/html": [
       "<div>\n",
       "<style scoped>\n",
       "    .dataframe tbody tr th:only-of-type {\n",
       "        vertical-align: middle;\n",
       "    }\n",
       "\n",
       "    .dataframe tbody tr th {\n",
       "        vertical-align: top;\n",
       "    }\n",
       "\n",
       "    .dataframe thead th {\n",
       "        text-align: right;\n",
       "    }\n",
       "</style>\n",
       "<table border=\"1\" class=\"dataframe\">\n",
       "  <thead>\n",
       "    <tr style=\"text-align: right;\">\n",
       "      <th></th>\n",
       "      <th>customerID</th>\n",
       "      <th>gender</th>\n",
       "      <th>SeniorCitizen</th>\n",
       "      <th>Partner</th>\n",
       "      <th>Dependents</th>\n",
       "      <th>tenure</th>\n",
       "      <th>PhoneService</th>\n",
       "      <th>MultipleLines</th>\n",
       "      <th>InternetService</th>\n",
       "      <th>OnlineSecurity</th>\n",
       "      <th>...</th>\n",
       "      <th>DeviceProtection</th>\n",
       "      <th>TechSupport</th>\n",
       "      <th>StreamingTV</th>\n",
       "      <th>StreamingMovies</th>\n",
       "      <th>Contract</th>\n",
       "      <th>PaperlessBilling</th>\n",
       "      <th>PaymentMethod</th>\n",
       "      <th>MonthlyCharges</th>\n",
       "      <th>TotalCharges</th>\n",
       "      <th>Churn</th>\n",
       "    </tr>\n",
       "  </thead>\n",
       "  <tbody>\n",
       "    <tr>\n",
       "      <th>0</th>\n",
       "      <td>7590-VHVEG</td>\n",
       "      <td>NaN</td>\n",
       "      <td>0.0</td>\n",
       "      <td>Yes</td>\n",
       "      <td>No</td>\n",
       "      <td>1</td>\n",
       "      <td>No</td>\n",
       "      <td>No phone service</td>\n",
       "      <td>DSL</td>\n",
       "      <td>No</td>\n",
       "      <td>...</td>\n",
       "      <td>No</td>\n",
       "      <td>No</td>\n",
       "      <td>No</td>\n",
       "      <td>No</td>\n",
       "      <td>NaN</td>\n",
       "      <td>Yes</td>\n",
       "      <td>Electronic check</td>\n",
       "      <td>29.85</td>\n",
       "      <td>29.85</td>\n",
       "      <td>No</td>\n",
       "    </tr>\n",
       "    <tr>\n",
       "      <th>1</th>\n",
       "      <td>5575-GNVDE</td>\n",
       "      <td>Male</td>\n",
       "      <td>0.0</td>\n",
       "      <td>No</td>\n",
       "      <td>No</td>\n",
       "      <td>34</td>\n",
       "      <td>Yes</td>\n",
       "      <td>No</td>\n",
       "      <td>DSL</td>\n",
       "      <td>Yes</td>\n",
       "      <td>...</td>\n",
       "      <td>Yes</td>\n",
       "      <td>No</td>\n",
       "      <td>No</td>\n",
       "      <td>No</td>\n",
       "      <td>One year</td>\n",
       "      <td>No</td>\n",
       "      <td>Mailed check</td>\n",
       "      <td>56.95</td>\n",
       "      <td>1889.5</td>\n",
       "      <td>No</td>\n",
       "    </tr>\n",
       "    <tr>\n",
       "      <th>2</th>\n",
       "      <td>3668-QPYBK</td>\n",
       "      <td>Male</td>\n",
       "      <td>0.0</td>\n",
       "      <td>No</td>\n",
       "      <td>No</td>\n",
       "      <td>2</td>\n",
       "      <td>Yes</td>\n",
       "      <td>No</td>\n",
       "      <td>DSL</td>\n",
       "      <td>Yes</td>\n",
       "      <td>...</td>\n",
       "      <td>NaN</td>\n",
       "      <td>No</td>\n",
       "      <td>No</td>\n",
       "      <td>No</td>\n",
       "      <td>Month-to-month</td>\n",
       "      <td>Yes</td>\n",
       "      <td>Mailed check</td>\n",
       "      <td>53.85</td>\n",
       "      <td>108.15</td>\n",
       "      <td>Yes</td>\n",
       "    </tr>\n",
       "    <tr>\n",
       "      <th>3</th>\n",
       "      <td>7795-CFOCW</td>\n",
       "      <td>Male</td>\n",
       "      <td>0.0</td>\n",
       "      <td>No</td>\n",
       "      <td>No</td>\n",
       "      <td>45</td>\n",
       "      <td>No</td>\n",
       "      <td>No phone service</td>\n",
       "      <td>DSL</td>\n",
       "      <td>Yes</td>\n",
       "      <td>...</td>\n",
       "      <td>NaN</td>\n",
       "      <td>Yes</td>\n",
       "      <td>No</td>\n",
       "      <td>No</td>\n",
       "      <td>One year</td>\n",
       "      <td>No</td>\n",
       "      <td>Bank transfer (automatic)</td>\n",
       "      <td>42.30</td>\n",
       "      <td>1840.75</td>\n",
       "      <td>No</td>\n",
       "    </tr>\n",
       "    <tr>\n",
       "      <th>4</th>\n",
       "      <td>9237-HQITU</td>\n",
       "      <td>Female</td>\n",
       "      <td>0.0</td>\n",
       "      <td>No</td>\n",
       "      <td>No</td>\n",
       "      <td>2</td>\n",
       "      <td>Yes</td>\n",
       "      <td>No</td>\n",
       "      <td>Fiber optic</td>\n",
       "      <td>No</td>\n",
       "      <td>...</td>\n",
       "      <td>NaN</td>\n",
       "      <td>No</td>\n",
       "      <td>No</td>\n",
       "      <td>No</td>\n",
       "      <td>Month-to-month</td>\n",
       "      <td>Yes</td>\n",
       "      <td>Electronic check</td>\n",
       "      <td>70.70</td>\n",
       "      <td>151.65</td>\n",
       "      <td>Yes</td>\n",
       "    </tr>\n",
       "    <tr>\n",
       "      <th>...</th>\n",
       "      <td>...</td>\n",
       "      <td>...</td>\n",
       "      <td>...</td>\n",
       "      <td>...</td>\n",
       "      <td>...</td>\n",
       "      <td>...</td>\n",
       "      <td>...</td>\n",
       "      <td>...</td>\n",
       "      <td>...</td>\n",
       "      <td>...</td>\n",
       "      <td>...</td>\n",
       "      <td>...</td>\n",
       "      <td>...</td>\n",
       "      <td>...</td>\n",
       "      <td>...</td>\n",
       "      <td>...</td>\n",
       "      <td>...</td>\n",
       "      <td>...</td>\n",
       "      <td>...</td>\n",
       "      <td>...</td>\n",
       "      <td>...</td>\n",
       "    </tr>\n",
       "    <tr>\n",
       "      <th>7038</th>\n",
       "      <td>6840-RESVB</td>\n",
       "      <td>Male</td>\n",
       "      <td>0.0</td>\n",
       "      <td>Yes</td>\n",
       "      <td>Yes</td>\n",
       "      <td>24</td>\n",
       "      <td>Yes</td>\n",
       "      <td>Yes</td>\n",
       "      <td>DSL</td>\n",
       "      <td>Yes</td>\n",
       "      <td>...</td>\n",
       "      <td>Yes</td>\n",
       "      <td>Yes</td>\n",
       "      <td>Yes</td>\n",
       "      <td>Yes</td>\n",
       "      <td>One year</td>\n",
       "      <td>Yes</td>\n",
       "      <td>Mailed check</td>\n",
       "      <td>84.80</td>\n",
       "      <td>1990.5</td>\n",
       "      <td>No</td>\n",
       "    </tr>\n",
       "    <tr>\n",
       "      <th>7039</th>\n",
       "      <td>2234-XADUH</td>\n",
       "      <td>Female</td>\n",
       "      <td>0.0</td>\n",
       "      <td>Yes</td>\n",
       "      <td>Yes</td>\n",
       "      <td>72</td>\n",
       "      <td>Yes</td>\n",
       "      <td>Yes</td>\n",
       "      <td>Fiber optic</td>\n",
       "      <td>No</td>\n",
       "      <td>...</td>\n",
       "      <td>Yes</td>\n",
       "      <td>No</td>\n",
       "      <td>Yes</td>\n",
       "      <td>Yes</td>\n",
       "      <td>One year</td>\n",
       "      <td>Yes</td>\n",
       "      <td>Credit card (automatic)</td>\n",
       "      <td>103.20</td>\n",
       "      <td>7362.9</td>\n",
       "      <td>No</td>\n",
       "    </tr>\n",
       "    <tr>\n",
       "      <th>7040</th>\n",
       "      <td>4801-JZAZL</td>\n",
       "      <td>Female</td>\n",
       "      <td>0.0</td>\n",
       "      <td>Yes</td>\n",
       "      <td>Yes</td>\n",
       "      <td>11</td>\n",
       "      <td>No</td>\n",
       "      <td>No phone service</td>\n",
       "      <td>DSL</td>\n",
       "      <td>Yes</td>\n",
       "      <td>...</td>\n",
       "      <td>No</td>\n",
       "      <td>No</td>\n",
       "      <td>No</td>\n",
       "      <td>No</td>\n",
       "      <td>Month-to-month</td>\n",
       "      <td>Yes</td>\n",
       "      <td>Electronic check</td>\n",
       "      <td>29.60</td>\n",
       "      <td>346.45</td>\n",
       "      <td>No</td>\n",
       "    </tr>\n",
       "    <tr>\n",
       "      <th>7041</th>\n",
       "      <td>8361-LTMKD</td>\n",
       "      <td>Male</td>\n",
       "      <td>1.0</td>\n",
       "      <td>Yes</td>\n",
       "      <td>No</td>\n",
       "      <td>4</td>\n",
       "      <td>Yes</td>\n",
       "      <td>Yes</td>\n",
       "      <td>Fiber optic</td>\n",
       "      <td>No</td>\n",
       "      <td>...</td>\n",
       "      <td>No</td>\n",
       "      <td>No</td>\n",
       "      <td>No</td>\n",
       "      <td>No</td>\n",
       "      <td>Month-to-month</td>\n",
       "      <td>Yes</td>\n",
       "      <td>Mailed check</td>\n",
       "      <td>74.40</td>\n",
       "      <td>306.6</td>\n",
       "      <td>Yes</td>\n",
       "    </tr>\n",
       "    <tr>\n",
       "      <th>7042</th>\n",
       "      <td>3186-AJIEK</td>\n",
       "      <td>NaN</td>\n",
       "      <td>0.0</td>\n",
       "      <td>No</td>\n",
       "      <td>No</td>\n",
       "      <td>66</td>\n",
       "      <td>Yes</td>\n",
       "      <td>No</td>\n",
       "      <td>Fiber optic</td>\n",
       "      <td>Yes</td>\n",
       "      <td>...</td>\n",
       "      <td>Yes</td>\n",
       "      <td>Yes</td>\n",
       "      <td>Yes</td>\n",
       "      <td>Yes</td>\n",
       "      <td>Two year</td>\n",
       "      <td>Yes</td>\n",
       "      <td>Bank transfer (automatic)</td>\n",
       "      <td>105.65</td>\n",
       "      <td>6844.5</td>\n",
       "      <td>No</td>\n",
       "    </tr>\n",
       "  </tbody>\n",
       "</table>\n",
       "<p>7043 rows × 21 columns</p>\n",
       "</div>"
      ],
      "text/plain": [
       "      customerID  gender  SeniorCitizen Partner Dependents  tenure  \\\n",
       "0     7590-VHVEG     NaN            0.0     Yes         No       1   \n",
       "1     5575-GNVDE    Male            0.0      No         No      34   \n",
       "2     3668-QPYBK    Male            0.0      No         No       2   \n",
       "3     7795-CFOCW    Male            0.0      No         No      45   \n",
       "4     9237-HQITU  Female            0.0      No         No       2   \n",
       "...          ...     ...            ...     ...        ...     ...   \n",
       "7038  6840-RESVB    Male            0.0     Yes        Yes      24   \n",
       "7039  2234-XADUH  Female            0.0     Yes        Yes      72   \n",
       "7040  4801-JZAZL  Female            0.0     Yes        Yes      11   \n",
       "7041  8361-LTMKD    Male            1.0     Yes         No       4   \n",
       "7042  3186-AJIEK     NaN            0.0      No         No      66   \n",
       "\n",
       "     PhoneService     MultipleLines InternetService OnlineSecurity  ...  \\\n",
       "0              No  No phone service             DSL             No  ...   \n",
       "1             Yes                No             DSL            Yes  ...   \n",
       "2             Yes                No             DSL            Yes  ...   \n",
       "3              No  No phone service             DSL            Yes  ...   \n",
       "4             Yes                No     Fiber optic             No  ...   \n",
       "...           ...               ...             ...            ...  ...   \n",
       "7038          Yes               Yes             DSL            Yes  ...   \n",
       "7039          Yes               Yes     Fiber optic             No  ...   \n",
       "7040           No  No phone service             DSL            Yes  ...   \n",
       "7041          Yes               Yes     Fiber optic             No  ...   \n",
       "7042          Yes                No     Fiber optic            Yes  ...   \n",
       "\n",
       "     DeviceProtection TechSupport StreamingTV StreamingMovies        Contract  \\\n",
       "0                  No          No          No              No             NaN   \n",
       "1                 Yes          No          No              No        One year   \n",
       "2                 NaN          No          No              No  Month-to-month   \n",
       "3                 NaN         Yes          No              No        One year   \n",
       "4                 NaN          No          No              No  Month-to-month   \n",
       "...               ...         ...         ...             ...             ...   \n",
       "7038              Yes         Yes         Yes             Yes        One year   \n",
       "7039              Yes          No         Yes             Yes        One year   \n",
       "7040               No          No          No              No  Month-to-month   \n",
       "7041               No          No          No              No  Month-to-month   \n",
       "7042              Yes         Yes         Yes             Yes        Two year   \n",
       "\n",
       "     PaperlessBilling              PaymentMethod MonthlyCharges  TotalCharges  \\\n",
       "0                 Yes           Electronic check          29.85         29.85   \n",
       "1                  No               Mailed check          56.95        1889.5   \n",
       "2                 Yes               Mailed check          53.85        108.15   \n",
       "3                  No  Bank transfer (automatic)          42.30       1840.75   \n",
       "4                 Yes           Electronic check          70.70        151.65   \n",
       "...               ...                        ...            ...           ...   \n",
       "7038              Yes               Mailed check          84.80        1990.5   \n",
       "7039              Yes    Credit card (automatic)         103.20        7362.9   \n",
       "7040              Yes           Electronic check          29.60        346.45   \n",
       "7041              Yes               Mailed check          74.40         306.6   \n",
       "7042              Yes  Bank transfer (automatic)         105.65        6844.5   \n",
       "\n",
       "     Churn  \n",
       "0       No  \n",
       "1       No  \n",
       "2      Yes  \n",
       "3       No  \n",
       "4      Yes  \n",
       "...    ...  \n",
       "7038    No  \n",
       "7039    No  \n",
       "7040    No  \n",
       "7041   Yes  \n",
       "7042    No  \n",
       "\n",
       "[7043 rows x 21 columns]"
      ]
     },
     "execution_count": 33,
     "metadata": {},
     "output_type": "execute_result"
    }
   ],
   "source": [
    "# 읽어온 데이터프레임 확인하기\n",
    "df"
   ]
  },
  {
   "cell_type": "markdown",
   "metadata": {
    "id": "dY2h_-WQzt5-"
   },
   "source": [
    "#  \n",
    "# 2. EDA (Exploratory Data Analysis) 탐색적 데이터 분석"
   ]
  },
  {
   "cell_type": "markdown",
   "metadata": {
    "id": "AhWFhfq3zt5_"
   },
   "source": [
    "### 데이터 탐색하기"
   ]
  },
  {
   "cell_type": "code",
   "execution_count": 34,
   "metadata": {
    "colab": {
     "base_uri": "https://localhost:8080/",
     "height": 392
    },
    "executionInfo": {
     "elapsed": 570,
     "status": "ok",
     "timestamp": 1645514242701,
     "user": {
      "displayName": "yunwoo oh",
      "photoUrl": "https://lh3.googleusercontent.com/a/default-user=s64",
      "userId": "01035531558844683999"
     },
     "user_tz": -540
    },
    "id": "_fhnLu_Tzt5_",
    "outputId": "fc708ff9-511c-4169-a3ef-f7860ff77e08",
    "tags": []
   },
   "outputs": [
    {
     "data": {
      "text/html": [
       "<div>\n",
       "<style scoped>\n",
       "    .dataframe tbody tr th:only-of-type {\n",
       "        vertical-align: middle;\n",
       "    }\n",
       "\n",
       "    .dataframe tbody tr th {\n",
       "        vertical-align: top;\n",
       "    }\n",
       "\n",
       "    .dataframe thead th {\n",
       "        text-align: right;\n",
       "    }\n",
       "</style>\n",
       "<table border=\"1\" class=\"dataframe\">\n",
       "  <thead>\n",
       "    <tr style=\"text-align: right;\">\n",
       "      <th></th>\n",
       "      <th>customerID</th>\n",
       "      <th>gender</th>\n",
       "      <th>SeniorCitizen</th>\n",
       "      <th>Partner</th>\n",
       "      <th>Dependents</th>\n",
       "      <th>tenure</th>\n",
       "      <th>PhoneService</th>\n",
       "      <th>MultipleLines</th>\n",
       "      <th>InternetService</th>\n",
       "      <th>OnlineSecurity</th>\n",
       "      <th>...</th>\n",
       "      <th>DeviceProtection</th>\n",
       "      <th>TechSupport</th>\n",
       "      <th>StreamingTV</th>\n",
       "      <th>StreamingMovies</th>\n",
       "      <th>Contract</th>\n",
       "      <th>PaperlessBilling</th>\n",
       "      <th>PaymentMethod</th>\n",
       "      <th>MonthlyCharges</th>\n",
       "      <th>TotalCharges</th>\n",
       "      <th>Churn</th>\n",
       "    </tr>\n",
       "  </thead>\n",
       "  <tbody>\n",
       "    <tr>\n",
       "      <th>0</th>\n",
       "      <td>7590-VHVEG</td>\n",
       "      <td>NaN</td>\n",
       "      <td>0.0</td>\n",
       "      <td>Yes</td>\n",
       "      <td>No</td>\n",
       "      <td>1</td>\n",
       "      <td>No</td>\n",
       "      <td>No phone service</td>\n",
       "      <td>DSL</td>\n",
       "      <td>No</td>\n",
       "      <td>...</td>\n",
       "      <td>No</td>\n",
       "      <td>No</td>\n",
       "      <td>No</td>\n",
       "      <td>No</td>\n",
       "      <td>NaN</td>\n",
       "      <td>Yes</td>\n",
       "      <td>Electronic check</td>\n",
       "      <td>29.85</td>\n",
       "      <td>29.85</td>\n",
       "      <td>No</td>\n",
       "    </tr>\n",
       "    <tr>\n",
       "      <th>1</th>\n",
       "      <td>5575-GNVDE</td>\n",
       "      <td>Male</td>\n",
       "      <td>0.0</td>\n",
       "      <td>No</td>\n",
       "      <td>No</td>\n",
       "      <td>34</td>\n",
       "      <td>Yes</td>\n",
       "      <td>No</td>\n",
       "      <td>DSL</td>\n",
       "      <td>Yes</td>\n",
       "      <td>...</td>\n",
       "      <td>Yes</td>\n",
       "      <td>No</td>\n",
       "      <td>No</td>\n",
       "      <td>No</td>\n",
       "      <td>One year</td>\n",
       "      <td>No</td>\n",
       "      <td>Mailed check</td>\n",
       "      <td>56.95</td>\n",
       "      <td>1889.5</td>\n",
       "      <td>No</td>\n",
       "    </tr>\n",
       "    <tr>\n",
       "      <th>2</th>\n",
       "      <td>3668-QPYBK</td>\n",
       "      <td>Male</td>\n",
       "      <td>0.0</td>\n",
       "      <td>No</td>\n",
       "      <td>No</td>\n",
       "      <td>2</td>\n",
       "      <td>Yes</td>\n",
       "      <td>No</td>\n",
       "      <td>DSL</td>\n",
       "      <td>Yes</td>\n",
       "      <td>...</td>\n",
       "      <td>NaN</td>\n",
       "      <td>No</td>\n",
       "      <td>No</td>\n",
       "      <td>No</td>\n",
       "      <td>Month-to-month</td>\n",
       "      <td>Yes</td>\n",
       "      <td>Mailed check</td>\n",
       "      <td>53.85</td>\n",
       "      <td>108.15</td>\n",
       "      <td>Yes</td>\n",
       "    </tr>\n",
       "    <tr>\n",
       "      <th>3</th>\n",
       "      <td>7795-CFOCW</td>\n",
       "      <td>Male</td>\n",
       "      <td>0.0</td>\n",
       "      <td>No</td>\n",
       "      <td>No</td>\n",
       "      <td>45</td>\n",
       "      <td>No</td>\n",
       "      <td>No phone service</td>\n",
       "      <td>DSL</td>\n",
       "      <td>Yes</td>\n",
       "      <td>...</td>\n",
       "      <td>NaN</td>\n",
       "      <td>Yes</td>\n",
       "      <td>No</td>\n",
       "      <td>No</td>\n",
       "      <td>One year</td>\n",
       "      <td>No</td>\n",
       "      <td>Bank transfer (automatic)</td>\n",
       "      <td>42.30</td>\n",
       "      <td>1840.75</td>\n",
       "      <td>No</td>\n",
       "    </tr>\n",
       "    <tr>\n",
       "      <th>4</th>\n",
       "      <td>9237-HQITU</td>\n",
       "      <td>Female</td>\n",
       "      <td>0.0</td>\n",
       "      <td>No</td>\n",
       "      <td>No</td>\n",
       "      <td>2</td>\n",
       "      <td>Yes</td>\n",
       "      <td>No</td>\n",
       "      <td>Fiber optic</td>\n",
       "      <td>No</td>\n",
       "      <td>...</td>\n",
       "      <td>NaN</td>\n",
       "      <td>No</td>\n",
       "      <td>No</td>\n",
       "      <td>No</td>\n",
       "      <td>Month-to-month</td>\n",
       "      <td>Yes</td>\n",
       "      <td>Electronic check</td>\n",
       "      <td>70.70</td>\n",
       "      <td>151.65</td>\n",
       "      <td>Yes</td>\n",
       "    </tr>\n",
       "  </tbody>\n",
       "</table>\n",
       "<p>5 rows × 21 columns</p>\n",
       "</div>"
      ],
      "text/plain": [
       "   customerID  gender  SeniorCitizen Partner Dependents  tenure PhoneService  \\\n",
       "0  7590-VHVEG     NaN            0.0     Yes         No       1           No   \n",
       "1  5575-GNVDE    Male            0.0      No         No      34          Yes   \n",
       "2  3668-QPYBK    Male            0.0      No         No       2          Yes   \n",
       "3  7795-CFOCW    Male            0.0      No         No      45           No   \n",
       "4  9237-HQITU  Female            0.0      No         No       2          Yes   \n",
       "\n",
       "      MultipleLines InternetService OnlineSecurity  ... DeviceProtection  \\\n",
       "0  No phone service             DSL             No  ...               No   \n",
       "1                No             DSL            Yes  ...              Yes   \n",
       "2                No             DSL            Yes  ...              NaN   \n",
       "3  No phone service             DSL            Yes  ...              NaN   \n",
       "4                No     Fiber optic             No  ...              NaN   \n",
       "\n",
       "  TechSupport StreamingTV StreamingMovies        Contract PaperlessBilling  \\\n",
       "0          No          No              No             NaN              Yes   \n",
       "1          No          No              No        One year               No   \n",
       "2          No          No              No  Month-to-month              Yes   \n",
       "3         Yes          No              No        One year               No   \n",
       "4          No          No              No  Month-to-month              Yes   \n",
       "\n",
       "               PaymentMethod MonthlyCharges  TotalCharges Churn  \n",
       "0           Electronic check          29.85         29.85    No  \n",
       "1               Mailed check          56.95        1889.5    No  \n",
       "2               Mailed check          53.85        108.15   Yes  \n",
       "3  Bank transfer (automatic)          42.30       1840.75    No  \n",
       "4           Electronic check          70.70        151.65   Yes  \n",
       "\n",
       "[5 rows x 21 columns]"
      ]
     },
     "execution_count": 34,
     "metadata": {},
     "output_type": "execute_result"
    }
   ],
   "source": [
    "df.head()"
   ]
  },
  {
   "cell_type": "code",
   "execution_count": 35,
   "metadata": {
    "colab": {
     "base_uri": "https://localhost:8080/",
     "height": 392
    },
    "executionInfo": {
     "elapsed": 29,
     "status": "ok",
     "timestamp": 1645514242702,
     "user": {
      "displayName": "yunwoo oh",
      "photoUrl": "https://lh3.googleusercontent.com/a/default-user=s64",
      "userId": "01035531558844683999"
     },
     "user_tz": -540
    },
    "id": "uRcoM31azt5_",
    "outputId": "81460218-e776-4330-fd65-fe0c7f07121b",
    "tags": []
   },
   "outputs": [
    {
     "data": {
      "text/html": [
       "<div>\n",
       "<style scoped>\n",
       "    .dataframe tbody tr th:only-of-type {\n",
       "        vertical-align: middle;\n",
       "    }\n",
       "\n",
       "    .dataframe tbody tr th {\n",
       "        vertical-align: top;\n",
       "    }\n",
       "\n",
       "    .dataframe thead th {\n",
       "        text-align: right;\n",
       "    }\n",
       "</style>\n",
       "<table border=\"1\" class=\"dataframe\">\n",
       "  <thead>\n",
       "    <tr style=\"text-align: right;\">\n",
       "      <th></th>\n",
       "      <th>customerID</th>\n",
       "      <th>gender</th>\n",
       "      <th>SeniorCitizen</th>\n",
       "      <th>Partner</th>\n",
       "      <th>Dependents</th>\n",
       "      <th>tenure</th>\n",
       "      <th>PhoneService</th>\n",
       "      <th>MultipleLines</th>\n",
       "      <th>InternetService</th>\n",
       "      <th>OnlineSecurity</th>\n",
       "      <th>...</th>\n",
       "      <th>DeviceProtection</th>\n",
       "      <th>TechSupport</th>\n",
       "      <th>StreamingTV</th>\n",
       "      <th>StreamingMovies</th>\n",
       "      <th>Contract</th>\n",
       "      <th>PaperlessBilling</th>\n",
       "      <th>PaymentMethod</th>\n",
       "      <th>MonthlyCharges</th>\n",
       "      <th>TotalCharges</th>\n",
       "      <th>Churn</th>\n",
       "    </tr>\n",
       "  </thead>\n",
       "  <tbody>\n",
       "    <tr>\n",
       "      <th>7038</th>\n",
       "      <td>6840-RESVB</td>\n",
       "      <td>Male</td>\n",
       "      <td>0.0</td>\n",
       "      <td>Yes</td>\n",
       "      <td>Yes</td>\n",
       "      <td>24</td>\n",
       "      <td>Yes</td>\n",
       "      <td>Yes</td>\n",
       "      <td>DSL</td>\n",
       "      <td>Yes</td>\n",
       "      <td>...</td>\n",
       "      <td>Yes</td>\n",
       "      <td>Yes</td>\n",
       "      <td>Yes</td>\n",
       "      <td>Yes</td>\n",
       "      <td>One year</td>\n",
       "      <td>Yes</td>\n",
       "      <td>Mailed check</td>\n",
       "      <td>84.80</td>\n",
       "      <td>1990.5</td>\n",
       "      <td>No</td>\n",
       "    </tr>\n",
       "    <tr>\n",
       "      <th>7039</th>\n",
       "      <td>2234-XADUH</td>\n",
       "      <td>Female</td>\n",
       "      <td>0.0</td>\n",
       "      <td>Yes</td>\n",
       "      <td>Yes</td>\n",
       "      <td>72</td>\n",
       "      <td>Yes</td>\n",
       "      <td>Yes</td>\n",
       "      <td>Fiber optic</td>\n",
       "      <td>No</td>\n",
       "      <td>...</td>\n",
       "      <td>Yes</td>\n",
       "      <td>No</td>\n",
       "      <td>Yes</td>\n",
       "      <td>Yes</td>\n",
       "      <td>One year</td>\n",
       "      <td>Yes</td>\n",
       "      <td>Credit card (automatic)</td>\n",
       "      <td>103.20</td>\n",
       "      <td>7362.9</td>\n",
       "      <td>No</td>\n",
       "    </tr>\n",
       "    <tr>\n",
       "      <th>7040</th>\n",
       "      <td>4801-JZAZL</td>\n",
       "      <td>Female</td>\n",
       "      <td>0.0</td>\n",
       "      <td>Yes</td>\n",
       "      <td>Yes</td>\n",
       "      <td>11</td>\n",
       "      <td>No</td>\n",
       "      <td>No phone service</td>\n",
       "      <td>DSL</td>\n",
       "      <td>Yes</td>\n",
       "      <td>...</td>\n",
       "      <td>No</td>\n",
       "      <td>No</td>\n",
       "      <td>No</td>\n",
       "      <td>No</td>\n",
       "      <td>Month-to-month</td>\n",
       "      <td>Yes</td>\n",
       "      <td>Electronic check</td>\n",
       "      <td>29.60</td>\n",
       "      <td>346.45</td>\n",
       "      <td>No</td>\n",
       "    </tr>\n",
       "    <tr>\n",
       "      <th>7041</th>\n",
       "      <td>8361-LTMKD</td>\n",
       "      <td>Male</td>\n",
       "      <td>1.0</td>\n",
       "      <td>Yes</td>\n",
       "      <td>No</td>\n",
       "      <td>4</td>\n",
       "      <td>Yes</td>\n",
       "      <td>Yes</td>\n",
       "      <td>Fiber optic</td>\n",
       "      <td>No</td>\n",
       "      <td>...</td>\n",
       "      <td>No</td>\n",
       "      <td>No</td>\n",
       "      <td>No</td>\n",
       "      <td>No</td>\n",
       "      <td>Month-to-month</td>\n",
       "      <td>Yes</td>\n",
       "      <td>Mailed check</td>\n",
       "      <td>74.40</td>\n",
       "      <td>306.6</td>\n",
       "      <td>Yes</td>\n",
       "    </tr>\n",
       "    <tr>\n",
       "      <th>7042</th>\n",
       "      <td>3186-AJIEK</td>\n",
       "      <td>NaN</td>\n",
       "      <td>0.0</td>\n",
       "      <td>No</td>\n",
       "      <td>No</td>\n",
       "      <td>66</td>\n",
       "      <td>Yes</td>\n",
       "      <td>No</td>\n",
       "      <td>Fiber optic</td>\n",
       "      <td>Yes</td>\n",
       "      <td>...</td>\n",
       "      <td>Yes</td>\n",
       "      <td>Yes</td>\n",
       "      <td>Yes</td>\n",
       "      <td>Yes</td>\n",
       "      <td>Two year</td>\n",
       "      <td>Yes</td>\n",
       "      <td>Bank transfer (automatic)</td>\n",
       "      <td>105.65</td>\n",
       "      <td>6844.5</td>\n",
       "      <td>No</td>\n",
       "    </tr>\n",
       "  </tbody>\n",
       "</table>\n",
       "<p>5 rows × 21 columns</p>\n",
       "</div>"
      ],
      "text/plain": [
       "      customerID  gender  SeniorCitizen Partner Dependents  tenure  \\\n",
       "7038  6840-RESVB    Male            0.0     Yes        Yes      24   \n",
       "7039  2234-XADUH  Female            0.0     Yes        Yes      72   \n",
       "7040  4801-JZAZL  Female            0.0     Yes        Yes      11   \n",
       "7041  8361-LTMKD    Male            1.0     Yes         No       4   \n",
       "7042  3186-AJIEK     NaN            0.0      No         No      66   \n",
       "\n",
       "     PhoneService     MultipleLines InternetService OnlineSecurity  ...  \\\n",
       "7038          Yes               Yes             DSL            Yes  ...   \n",
       "7039          Yes               Yes     Fiber optic             No  ...   \n",
       "7040           No  No phone service             DSL            Yes  ...   \n",
       "7041          Yes               Yes     Fiber optic             No  ...   \n",
       "7042          Yes                No     Fiber optic            Yes  ...   \n",
       "\n",
       "     DeviceProtection TechSupport StreamingTV StreamingMovies        Contract  \\\n",
       "7038              Yes         Yes         Yes             Yes        One year   \n",
       "7039              Yes          No         Yes             Yes        One year   \n",
       "7040               No          No          No              No  Month-to-month   \n",
       "7041               No          No          No              No  Month-to-month   \n",
       "7042              Yes         Yes         Yes             Yes        Two year   \n",
       "\n",
       "     PaperlessBilling              PaymentMethod MonthlyCharges  TotalCharges  \\\n",
       "7038              Yes               Mailed check          84.80        1990.5   \n",
       "7039              Yes    Credit card (automatic)         103.20        7362.9   \n",
       "7040              Yes           Electronic check          29.60        346.45   \n",
       "7041              Yes               Mailed check          74.40         306.6   \n",
       "7042              Yes  Bank transfer (automatic)         105.65        6844.5   \n",
       "\n",
       "     Churn  \n",
       "7038    No  \n",
       "7039    No  \n",
       "7040    No  \n",
       "7041   Yes  \n",
       "7042    No  \n",
       "\n",
       "[5 rows x 21 columns]"
      ]
     },
     "execution_count": 35,
     "metadata": {},
     "output_type": "execute_result"
    }
   ],
   "source": [
    "df.tail()"
   ]
  },
  {
   "cell_type": "markdown",
   "metadata": {
    "id": "VJYiz0u_zt6A"
   },
   "source": [
    "####  \n",
    "### 자료구조 파악"
   ]
  },
  {
   "cell_type": "code",
   "execution_count": 36,
   "metadata": {
    "colab": {
     "base_uri": "https://localhost:8080/"
    },
    "executionInfo": {
     "elapsed": 28,
     "status": "ok",
     "timestamp": 1645514242703,
     "user": {
      "displayName": "yunwoo oh",
      "photoUrl": "https://lh3.googleusercontent.com/a/default-user=s64",
      "userId": "01035531558844683999"
     },
     "user_tz": -540
    },
    "id": "QkjgjO1Wzt6A",
    "outputId": "6a1da062-1c77-405d-8619-de4f05cc02e5",
    "tags": []
   },
   "outputs": [
    {
     "name": "stdout",
     "output_type": "stream",
     "text": [
      "<class 'pandas.core.frame.DataFrame'>\n",
      "RangeIndex: 7043 entries, 0 to 7042\n",
      "Data columns (total 21 columns):\n",
      " #   Column            Non-Null Count  Dtype  \n",
      "---  ------            --------------  -----  \n",
      " 0   customerID        7043 non-null   object \n",
      " 1   gender            7034 non-null   object \n",
      " 2   SeniorCitizen     7042 non-null   float64\n",
      " 3   Partner           7043 non-null   object \n",
      " 4   Dependents        7041 non-null   object \n",
      " 5   tenure            7043 non-null   int64  \n",
      " 6   PhoneService      7040 non-null   object \n",
      " 7   MultipleLines     7043 non-null   object \n",
      " 8   InternetService   7043 non-null   object \n",
      " 9   OnlineSecurity    7043 non-null   object \n",
      " 10  OnlineBackup      7043 non-null   object \n",
      " 11  DeviceProtection  3580 non-null   object \n",
      " 12  TechSupport       7043 non-null   object \n",
      " 13  StreamingTV       7043 non-null   object \n",
      " 14  StreamingMovies   7043 non-null   object \n",
      " 15  Contract          7042 non-null   object \n",
      " 16  PaperlessBilling  7043 non-null   object \n",
      " 17  PaymentMethod     7042 non-null   object \n",
      " 18  MonthlyCharges    7042 non-null   float64\n",
      " 19  TotalCharges      7043 non-null   object \n",
      " 20  Churn             7043 non-null   object \n",
      "dtypes: float64(2), int64(1), object(18)\n",
      "memory usage: 1.1+ MB\n"
     ]
    }
   ],
   "source": [
    "df.info()"
   ]
  },
  {
   "cell_type": "markdown",
   "metadata": {
    "id": "Stjl-h0ozt6A"
   },
   "source": [
    "####  \n",
    "### 데이터 타입, 인덱스, 컬럼명, Values 확인"
   ]
  },
  {
   "cell_type": "code",
   "execution_count": 37,
   "metadata": {
    "colab": {
     "base_uri": "https://localhost:8080/"
    },
    "executionInfo": {
     "elapsed": 24,
     "status": "ok",
     "timestamp": 1645514242704,
     "user": {
      "displayName": "yunwoo oh",
      "photoUrl": "https://lh3.googleusercontent.com/a/default-user=s64",
      "userId": "01035531558844683999"
     },
     "user_tz": -540
    },
    "id": "F4vmCj_1zt6B",
    "outputId": "68eb3266-3266-41a8-f70c-1e87cb434c0f",
    "tags": []
   },
   "outputs": [
    {
     "data": {
      "text/plain": [
       "RangeIndex(start=0, stop=7043, step=1)"
      ]
     },
     "execution_count": 37,
     "metadata": {},
     "output_type": "execute_result"
    }
   ],
   "source": [
    "# 인덱스\n",
    "df.index\n",
    "\n",
    "# index속성 인덱스(행 레이블) 반환"
   ]
  },
  {
   "cell_type": "code",
   "execution_count": 38,
   "metadata": {
    "colab": {
     "base_uri": "https://localhost:8080/"
    },
    "executionInfo": {
     "elapsed": 22,
     "status": "ok",
     "timestamp": 1645514242705,
     "user": {
      "displayName": "yunwoo oh",
      "photoUrl": "https://lh3.googleusercontent.com/a/default-user=s64",
      "userId": "01035531558844683999"
     },
     "user_tz": -540
    },
    "id": "8n0g3dtmzt6B",
    "outputId": "86a531f0-2eb4-441a-ec00-423cca040997",
    "tags": []
   },
   "outputs": [
    {
     "data": {
      "text/plain": [
       "Index(['customerID', 'gender', 'SeniorCitizen', 'Partner', 'Dependents',\n",
       "       'tenure', 'PhoneService', 'MultipleLines', 'InternetService',\n",
       "       'OnlineSecurity', 'OnlineBackup', 'DeviceProtection', 'TechSupport',\n",
       "       'StreamingTV', 'StreamingMovies', 'Contract', 'PaperlessBilling',\n",
       "       'PaymentMethod', 'MonthlyCharges', 'TotalCharges', 'Churn'],\n",
       "      dtype='object')"
      ]
     },
     "execution_count": 38,
     "metadata": {},
     "output_type": "execute_result"
    }
   ],
   "source": [
    "# 컬럼명\n",
    "df.columns"
   ]
  },
  {
   "cell_type": "code",
   "execution_count": 39,
   "metadata": {
    "colab": {
     "base_uri": "https://localhost:8080/"
    },
    "executionInfo": {
     "elapsed": 21,
     "status": "ok",
     "timestamp": 1645514242706,
     "user": {
      "displayName": "yunwoo oh",
      "photoUrl": "https://lh3.googleusercontent.com/a/default-user=s64",
      "userId": "01035531558844683999"
     },
     "user_tz": -540
    },
    "id": "XarNNK4Bzt6B",
    "outputId": "720f1a15-31fb-408c-96db-b08c0fa1a756",
    "tags": []
   },
   "outputs": [
    {
     "data": {
      "text/plain": [
       "array([['7590-VHVEG', nan, 0.0, ..., 29.85, '29.85', 'No'],\n",
       "       ['5575-GNVDE', 'Male', 0.0, ..., 56.95, '1889.5', 'No'],\n",
       "       ['3668-QPYBK', 'Male', 0.0, ..., 53.85, '108.15', 'Yes'],\n",
       "       ...,\n",
       "       ['4801-JZAZL', 'Female', 0.0, ..., 29.6, '346.45', 'No'],\n",
       "       ['8361-LTMKD', 'Male', 1.0, ..., 74.4, '306.6', 'Yes'],\n",
       "       ['3186-AJIEK', nan, 0.0, ..., 105.65, '6844.5', 'No']],\n",
       "      dtype=object)"
      ]
     },
     "execution_count": 39,
     "metadata": {},
     "output_type": "execute_result"
    }
   ],
   "source": [
    "# Values\n",
    "df.values"
   ]
  },
  {
   "cell_type": "markdown",
   "metadata": {
    "id": "VYtIzNkozt6C"
   },
   "source": [
    "####  \n",
    "### Null 데이터 확인"
   ]
  },
  {
   "cell_type": "code",
   "execution_count": 40,
   "metadata": {
    "colab": {
     "base_uri": "https://localhost:8080/"
    },
    "executionInfo": {
     "elapsed": 20,
     "status": "ok",
     "timestamp": 1645514242707,
     "user": {
      "displayName": "yunwoo oh",
      "photoUrl": "https://lh3.googleusercontent.com/a/default-user=s64",
      "userId": "01035531558844683999"
     },
     "user_tz": -540
    },
    "id": "7MXtq6-Qzt6C",
    "outputId": "65b9acd0-9e93-408b-aff5-f50ccc17e493",
    "tags": []
   },
   "outputs": [
    {
     "data": {
      "text/plain": [
       "customerID             0\n",
       "gender                 9\n",
       "SeniorCitizen          1\n",
       "Partner                0\n",
       "Dependents             2\n",
       "tenure                 0\n",
       "PhoneService           3\n",
       "MultipleLines          0\n",
       "InternetService        0\n",
       "OnlineSecurity         0\n",
       "OnlineBackup           0\n",
       "DeviceProtection    3463\n",
       "TechSupport            0\n",
       "StreamingTV            0\n",
       "StreamingMovies        0\n",
       "Contract               1\n",
       "PaperlessBilling       0\n",
       "PaymentMethod          1\n",
       "MonthlyCharges         1\n",
       "TotalCharges           0\n",
       "Churn                  0\n",
       "dtype: int64"
      ]
     },
     "execution_count": 40,
     "metadata": {},
     "output_type": "execute_result"
    }
   ],
   "source": [
    "df.isnull().sum()"
   ]
  },
  {
   "cell_type": "markdown",
   "metadata": {
    "id": "OUMKMO-xzt6C"
   },
   "source": [
    "####  \n",
    "### 통계 정보"
   ]
  },
  {
   "cell_type": "code",
   "execution_count": 41,
   "metadata": {
    "colab": {
     "base_uri": "https://localhost:8080/",
     "height": 300
    },
    "executionInfo": {
     "elapsed": 18,
     "status": "ok",
     "timestamp": 1645514242707,
     "user": {
      "displayName": "yunwoo oh",
      "photoUrl": "https://lh3.googleusercontent.com/a/default-user=s64",
      "userId": "01035531558844683999"
     },
     "user_tz": -540
    },
    "id": "Yv73rg6Fzt6C",
    "outputId": "398e837a-dbb6-49c6-886d-016bbde7d802",
    "tags": []
   },
   "outputs": [
    {
     "data": {
      "text/html": [
       "<div>\n",
       "<style scoped>\n",
       "    .dataframe tbody tr th:only-of-type {\n",
       "        vertical-align: middle;\n",
       "    }\n",
       "\n",
       "    .dataframe tbody tr th {\n",
       "        vertical-align: top;\n",
       "    }\n",
       "\n",
       "    .dataframe thead th {\n",
       "        text-align: right;\n",
       "    }\n",
       "</style>\n",
       "<table border=\"1\" class=\"dataframe\">\n",
       "  <thead>\n",
       "    <tr style=\"text-align: right;\">\n",
       "      <th></th>\n",
       "      <th>SeniorCitizen</th>\n",
       "      <th>tenure</th>\n",
       "      <th>MonthlyCharges</th>\n",
       "    </tr>\n",
       "  </thead>\n",
       "  <tbody>\n",
       "    <tr>\n",
       "      <th>count</th>\n",
       "      <td>7042.000000</td>\n",
       "      <td>7043.000000</td>\n",
       "      <td>7042.000000</td>\n",
       "    </tr>\n",
       "    <tr>\n",
       "      <th>mean</th>\n",
       "      <td>0.162170</td>\n",
       "      <td>32.371149</td>\n",
       "      <td>64.763256</td>\n",
       "    </tr>\n",
       "    <tr>\n",
       "      <th>std</th>\n",
       "      <td>0.368633</td>\n",
       "      <td>24.559481</td>\n",
       "      <td>30.091898</td>\n",
       "    </tr>\n",
       "    <tr>\n",
       "      <th>min</th>\n",
       "      <td>0.000000</td>\n",
       "      <td>0.000000</td>\n",
       "      <td>18.250000</td>\n",
       "    </tr>\n",
       "    <tr>\n",
       "      <th>25%</th>\n",
       "      <td>0.000000</td>\n",
       "      <td>9.000000</td>\n",
       "      <td>35.500000</td>\n",
       "    </tr>\n",
       "    <tr>\n",
       "      <th>50%</th>\n",
       "      <td>0.000000</td>\n",
       "      <td>29.000000</td>\n",
       "      <td>70.350000</td>\n",
       "    </tr>\n",
       "    <tr>\n",
       "      <th>75%</th>\n",
       "      <td>0.000000</td>\n",
       "      <td>55.000000</td>\n",
       "      <td>89.850000</td>\n",
       "    </tr>\n",
       "    <tr>\n",
       "      <th>max</th>\n",
       "      <td>1.000000</td>\n",
       "      <td>72.000000</td>\n",
       "      <td>118.750000</td>\n",
       "    </tr>\n",
       "  </tbody>\n",
       "</table>\n",
       "</div>"
      ],
      "text/plain": [
       "       SeniorCitizen       tenure  MonthlyCharges\n",
       "count    7042.000000  7043.000000     7042.000000\n",
       "mean        0.162170    32.371149       64.763256\n",
       "std         0.368633    24.559481       30.091898\n",
       "min         0.000000     0.000000       18.250000\n",
       "25%         0.000000     9.000000       35.500000\n",
       "50%         0.000000    29.000000       70.350000\n",
       "75%         0.000000    55.000000       89.850000\n",
       "max         1.000000    72.000000      118.750000"
      ]
     },
     "execution_count": 41,
     "metadata": {},
     "output_type": "execute_result"
    }
   ],
   "source": [
    "# SeniorCitizen 컬럼 : 고령자 여부, 범주형 0,1\n",
    "# tenure : 서비스 사용한 월수로 평균 32개월 사용, 최대 72개월 충성고객 있음 확인\n",
    "#           25%, 50%, 75% 비율과 Max를 보니, 아무래도 Outliner 있는것으로 사료됨.\n",
    "# MonthlyCharges : 월사용요금, 평균 64$ , 최소 18$, 최대 118$\n",
    "\n",
    "df.describe()"
   ]
  },
  {
   "cell_type": "markdown",
   "metadata": {
    "id": "GynhTmEpzt6D"
   },
   "source": [
    "#  \n",
    "# 3. 데이터 전처리 수행"
   ]
  },
  {
   "cell_type": "markdown",
   "metadata": {
    "id": "IqJ28PGuzt6D"
   },
   "source": [
    "####  \n",
    "### 자료구조 파악"
   ]
  },
  {
   "cell_type": "markdown",
   "metadata": {
    "id": "Xmf37Pq7zt6D"
   },
   "source": [
    "##### <font color=blue> **[문제] df DataFrame의 함수를 활용해서 자료구조(Row, columnm , Not-null, type)을 파악 하세요.** </font>"
   ]
  },
  {
   "cell_type": "code",
   "execution_count": 42,
   "metadata": {
    "colab": {
     "base_uri": "https://localhost:8080/"
    },
    "executionInfo": {
     "elapsed": 470,
     "status": "ok",
     "timestamp": 1645514243160,
     "user": {
      "displayName": "yunwoo oh",
      "photoUrl": "https://lh3.googleusercontent.com/a/default-user=s64",
      "userId": "01035531558844683999"
     },
     "user_tz": -540
    },
    "id": "BUl6gWF5zt6D",
    "outputId": "75d7fe58-96fb-45ff-dd26-bdec2a53f8ca",
    "tags": []
   },
   "outputs": [
    {
     "name": "stdout",
     "output_type": "stream",
     "text": [
      "<class 'pandas.core.frame.DataFrame'>\n",
      "RangeIndex: 7043 entries, 0 to 7042\n",
      "Data columns (total 21 columns):\n",
      " #   Column            Non-Null Count  Dtype  \n",
      "---  ------            --------------  -----  \n",
      " 0   customerID        7043 non-null   object \n",
      " 1   gender            7034 non-null   object \n",
      " 2   SeniorCitizen     7042 non-null   float64\n",
      " 3   Partner           7043 non-null   object \n",
      " 4   Dependents        7041 non-null   object \n",
      " 5   tenure            7043 non-null   int64  \n",
      " 6   PhoneService      7040 non-null   object \n",
      " 7   MultipleLines     7043 non-null   object \n",
      " 8   InternetService   7043 non-null   object \n",
      " 9   OnlineSecurity    7043 non-null   object \n",
      " 10  OnlineBackup      7043 non-null   object \n",
      " 11  DeviceProtection  3580 non-null   object \n",
      " 12  TechSupport       7043 non-null   object \n",
      " 13  StreamingTV       7043 non-null   object \n",
      " 14  StreamingMovies   7043 non-null   object \n",
      " 15  Contract          7042 non-null   object \n",
      " 16  PaperlessBilling  7043 non-null   object \n",
      " 17  PaymentMethod     7042 non-null   object \n",
      " 18  MonthlyCharges    7042 non-null   float64\n",
      " 19  TotalCharges      7043 non-null   object \n",
      " 20  Churn             7043 non-null   object \n",
      "dtypes: float64(2), int64(1), object(18)\n",
      "memory usage: 1.1+ MB\n"
     ]
    }
   ],
   "source": [
    "# DataFrame info 함수\n",
    "\n",
    "df.info()\n",
    "\n"
   ]
  },
  {
   "cell_type": "markdown",
   "metadata": {
    "id": "lm9Px7KEzt6E"
   },
   "source": [
    "####  \n",
    "### 컬럼 삭제"
   ]
  },
  {
   "cell_type": "markdown",
   "metadata": {
    "id": "gycCw_rLzt6E"
   },
   "source": [
    "##### <font color=blue> **[문제] df 데이터프레임에서 'customerID' 컬럼 삭제 하세요.** </font>"
   ]
  },
  {
   "cell_type": "code",
   "execution_count": 43,
   "metadata": {
    "id": "eMLDhurCzt6E",
    "tags": []
   },
   "outputs": [],
   "source": [
    "# DataFrame drop 함수\n",
    "# 'customerID' 컬럼 삭제\n",
    "# axis=1 옵션 사용해서 컬럼단위 삭제 수행\n",
    "# inplace=True 옵션 사용하여 df DataFrame에 저장\n",
    "\n",
    "df.drop('customerID', axis=1, inplace=True)\n"
   ]
  },
  {
   "cell_type": "code",
   "execution_count": 44,
   "metadata": {
    "colab": {
     "base_uri": "https://localhost:8080/"
    },
    "executionInfo": {
     "elapsed": 16,
     "status": "ok",
     "timestamp": 1645514243161,
     "user": {
      "displayName": "yunwoo oh",
      "photoUrl": "https://lh3.googleusercontent.com/a/default-user=s64",
      "userId": "01035531558844683999"
     },
     "user_tz": -540
    },
    "id": "gTFXKBt7zt6E",
    "outputId": "0c3b6bbd-1c33-41e6-add3-6340e34c5c9f",
    "tags": []
   },
   "outputs": [
    {
     "name": "stdout",
     "output_type": "stream",
     "text": [
      "<class 'pandas.core.frame.DataFrame'>\n",
      "RangeIndex: 7043 entries, 0 to 7042\n",
      "Data columns (total 20 columns):\n",
      " #   Column            Non-Null Count  Dtype  \n",
      "---  ------            --------------  -----  \n",
      " 0   gender            7034 non-null   object \n",
      " 1   SeniorCitizen     7042 non-null   float64\n",
      " 2   Partner           7043 non-null   object \n",
      " 3   Dependents        7041 non-null   object \n",
      " 4   tenure            7043 non-null   int64  \n",
      " 5   PhoneService      7040 non-null   object \n",
      " 6   MultipleLines     7043 non-null   object \n",
      " 7   InternetService   7043 non-null   object \n",
      " 8   OnlineSecurity    7043 non-null   object \n",
      " 9   OnlineBackup      7043 non-null   object \n",
      " 10  DeviceProtection  3580 non-null   object \n",
      " 11  TechSupport       7043 non-null   object \n",
      " 12  StreamingTV       7043 non-null   object \n",
      " 13  StreamingMovies   7043 non-null   object \n",
      " 14  Contract          7042 non-null   object \n",
      " 15  PaperlessBilling  7043 non-null   object \n",
      " 16  PaymentMethod     7042 non-null   object \n",
      " 17  MonthlyCharges    7042 non-null   float64\n",
      " 18  TotalCharges      7043 non-null   object \n",
      " 19  Churn             7043 non-null   object \n",
      "dtypes: float64(2), int64(1), object(17)\n",
      "memory usage: 1.1+ MB\n"
     ]
    }
   ],
   "source": [
    "# 21컬럼에서 20개 컬럼으로 1개 줄어듬 확인\n",
    "# TotalCharges 컬럼은 사용요금으로 숫자형이어야 하는데 Ojbect로 나옴. 확인 필요\n",
    "\n",
    "df.info()"
   ]
  },
  {
   "cell_type": "markdown",
   "metadata": {
    "id": "7fT9Rdfjzt6F"
   },
   "source": [
    "####  \n",
    "### 컬럼 내용 변경하기\n",
    "\n",
    "범주형 문자 데이터를 숫자 변환하는것은 성능에 많은 영향을 미치므로 꼭 변환하로록 하자.<br>\n",
    "null, _ 문제있는 문자 데이터를 모델링하기 전에 미리 다른 데이터로 변경하거나 필요없을 경우 삭제하도록 하자."
   ]
  },
  {
   "cell_type": "markdown",
   "metadata": {
    "id": "Nw6o9Zw5zt6F"
   },
   "source": [
    "#### TotalCharges 컬럼 타입 변경하기"
   ]
  },
  {
   "cell_type": "code",
   "execution_count": 45,
   "metadata": {
    "colab": {
     "base_uri": "https://localhost:8080/"
    },
    "executionInfo": {
     "elapsed": 12,
     "status": "ok",
     "timestamp": 1645514243161,
     "user": {
      "displayName": "yunwoo oh",
      "photoUrl": "https://lh3.googleusercontent.com/a/default-user=s64",
      "userId": "01035531558844683999"
     },
     "user_tz": -540
    },
    "id": "CxKGXN9izt6F",
    "outputId": "0e469533-8cf5-40e7-b07e-2d8f905c2e3d",
    "scrolled": true,
    "tags": []
   },
   "outputs": [
    {
     "data": {
      "text/plain": [
       "0         29.85\n",
       "1        1889.5\n",
       "2        108.15\n",
       "3       1840.75\n",
       "4        151.65\n",
       "         ...   \n",
       "7038     1990.5\n",
       "7039     7362.9\n",
       "7040     346.45\n",
       "7041      306.6\n",
       "7042     6844.5\n",
       "Name: TotalCharges, Length: 7043, dtype: object"
      ]
     },
     "execution_count": 45,
     "metadata": {},
     "output_type": "execute_result"
    }
   ],
   "source": [
    "# TotalCharges : 월사용요금, 실수형으로 보인다.\n",
    "df['TotalCharges']"
   ]
  },
  {
   "cell_type": "code",
   "execution_count": 46,
   "metadata": {
    "colab": {
     "base_uri": "https://localhost:8080/",
     "height": 364
    },
    "executionInfo": {
     "elapsed": 666,
     "status": "error",
     "timestamp": 1645514243817,
     "user": {
      "displayName": "yunwoo oh",
      "photoUrl": "https://lh3.googleusercontent.com/a/default-user=s64",
      "userId": "01035531558844683999"
     },
     "user_tz": -540
    },
    "id": "WMkg_8b1zt6F",
    "outputId": "a03a8f47-a528-4589-a8d8-61db56c4f0f4",
    "scrolled": true,
    "tags": []
   },
   "outputs": [
    {
     "ename": "ValueError",
     "evalue": "could not convert string to float: ' '",
     "output_type": "error",
     "traceback": [
      "\u001b[0;31m---------------------------------------------------------------------------\u001b[0m",
      "\u001b[0;31mValueError\u001b[0m                                Traceback (most recent call last)",
      "Cell \u001b[0;32mIn[46], line 6\u001b[0m\n\u001b[1;32m      1\u001b[0m \u001b[38;5;66;03m# TotalCharges 컬럼 타입을 float로 변경해 보자.\u001b[39;00m\n\u001b[1;32m      2\u001b[0m \u001b[38;5;66;03m# 문자열을 숫자형으로 변경할수 없으므로 에러 발생\u001b[39;00m\n\u001b[1;32m      3\u001b[0m \n\u001b[1;32m      4\u001b[0m \u001b[38;5;66;03m#df['TotalCharges'].astype(float)\u001b[39;00m\n\u001b[0;32m----> 6\u001b[0m df[\u001b[38;5;124m'\u001b[39m\u001b[38;5;124mTotalCharges\u001b[39m\u001b[38;5;124m'\u001b[39m]\u001b[38;5;241m.\u001b[39mastype(\u001b[38;5;28mfloat\u001b[39m)\n",
      "File \u001b[0;32m~/anaconda3/lib/python3.11/site-packages/pandas/core/generic.py:6324\u001b[0m, in \u001b[0;36mNDFrame.astype\u001b[0;34m(self, dtype, copy, errors)\u001b[0m\n\u001b[1;32m   6317\u001b[0m     results \u001b[38;5;241m=\u001b[39m [\n\u001b[1;32m   6318\u001b[0m         \u001b[38;5;28mself\u001b[39m\u001b[38;5;241m.\u001b[39miloc[:, i]\u001b[38;5;241m.\u001b[39mastype(dtype, copy\u001b[38;5;241m=\u001b[39mcopy)\n\u001b[1;32m   6319\u001b[0m         \u001b[38;5;28;01mfor\u001b[39;00m i \u001b[38;5;129;01min\u001b[39;00m \u001b[38;5;28mrange\u001b[39m(\u001b[38;5;28mlen\u001b[39m(\u001b[38;5;28mself\u001b[39m\u001b[38;5;241m.\u001b[39mcolumns))\n\u001b[1;32m   6320\u001b[0m     ]\n\u001b[1;32m   6322\u001b[0m \u001b[38;5;28;01melse\u001b[39;00m:\n\u001b[1;32m   6323\u001b[0m     \u001b[38;5;66;03m# else, only a single dtype is given\u001b[39;00m\n\u001b[0;32m-> 6324\u001b[0m     new_data \u001b[38;5;241m=\u001b[39m \u001b[38;5;28mself\u001b[39m\u001b[38;5;241m.\u001b[39m_mgr\u001b[38;5;241m.\u001b[39mastype(dtype\u001b[38;5;241m=\u001b[39mdtype, copy\u001b[38;5;241m=\u001b[39mcopy, errors\u001b[38;5;241m=\u001b[39merrors)\n\u001b[1;32m   6325\u001b[0m     \u001b[38;5;28;01mreturn\u001b[39;00m \u001b[38;5;28mself\u001b[39m\u001b[38;5;241m.\u001b[39m_constructor(new_data)\u001b[38;5;241m.\u001b[39m__finalize__(\u001b[38;5;28mself\u001b[39m, method\u001b[38;5;241m=\u001b[39m\u001b[38;5;124m\"\u001b[39m\u001b[38;5;124mastype\u001b[39m\u001b[38;5;124m\"\u001b[39m)\n\u001b[1;32m   6327\u001b[0m \u001b[38;5;66;03m# GH 33113: handle empty frame or series\u001b[39;00m\n",
      "File \u001b[0;32m~/anaconda3/lib/python3.11/site-packages/pandas/core/internals/managers.py:451\u001b[0m, in \u001b[0;36mBaseBlockManager.astype\u001b[0;34m(self, dtype, copy, errors)\u001b[0m\n\u001b[1;32m    448\u001b[0m \u001b[38;5;28;01melif\u001b[39;00m using_copy_on_write():\n\u001b[1;32m    449\u001b[0m     copy \u001b[38;5;241m=\u001b[39m \u001b[38;5;28;01mFalse\u001b[39;00m\n\u001b[0;32m--> 451\u001b[0m \u001b[38;5;28;01mreturn\u001b[39;00m \u001b[38;5;28mself\u001b[39m\u001b[38;5;241m.\u001b[39mapply(\n\u001b[1;32m    452\u001b[0m     \u001b[38;5;124m\"\u001b[39m\u001b[38;5;124mastype\u001b[39m\u001b[38;5;124m\"\u001b[39m,\n\u001b[1;32m    453\u001b[0m     dtype\u001b[38;5;241m=\u001b[39mdtype,\n\u001b[1;32m    454\u001b[0m     copy\u001b[38;5;241m=\u001b[39mcopy,\n\u001b[1;32m    455\u001b[0m     errors\u001b[38;5;241m=\u001b[39merrors,\n\u001b[1;32m    456\u001b[0m     using_cow\u001b[38;5;241m=\u001b[39musing_copy_on_write(),\n\u001b[1;32m    457\u001b[0m )\n",
      "File \u001b[0;32m~/anaconda3/lib/python3.11/site-packages/pandas/core/internals/managers.py:352\u001b[0m, in \u001b[0;36mBaseBlockManager.apply\u001b[0;34m(self, f, align_keys, **kwargs)\u001b[0m\n\u001b[1;32m    350\u001b[0m         applied \u001b[38;5;241m=\u001b[39m b\u001b[38;5;241m.\u001b[39mapply(f, \u001b[38;5;241m*\u001b[39m\u001b[38;5;241m*\u001b[39mkwargs)\n\u001b[1;32m    351\u001b[0m     \u001b[38;5;28;01melse\u001b[39;00m:\n\u001b[0;32m--> 352\u001b[0m         applied \u001b[38;5;241m=\u001b[39m \u001b[38;5;28mgetattr\u001b[39m(b, f)(\u001b[38;5;241m*\u001b[39m\u001b[38;5;241m*\u001b[39mkwargs)\n\u001b[1;32m    353\u001b[0m     result_blocks \u001b[38;5;241m=\u001b[39m extend_blocks(applied, result_blocks)\n\u001b[1;32m    355\u001b[0m out \u001b[38;5;241m=\u001b[39m \u001b[38;5;28mtype\u001b[39m(\u001b[38;5;28mself\u001b[39m)\u001b[38;5;241m.\u001b[39mfrom_blocks(result_blocks, \u001b[38;5;28mself\u001b[39m\u001b[38;5;241m.\u001b[39maxes)\n",
      "File \u001b[0;32m~/anaconda3/lib/python3.11/site-packages/pandas/core/internals/blocks.py:511\u001b[0m, in \u001b[0;36mBlock.astype\u001b[0;34m(self, dtype, copy, errors, using_cow)\u001b[0m\n\u001b[1;32m    491\u001b[0m \u001b[38;5;250m\u001b[39m\u001b[38;5;124;03m\"\"\"\u001b[39;00m\n\u001b[1;32m    492\u001b[0m \u001b[38;5;124;03mCoerce to the new dtype.\u001b[39;00m\n\u001b[1;32m    493\u001b[0m \n\u001b[0;32m   (...)\u001b[0m\n\u001b[1;32m    507\u001b[0m \u001b[38;5;124;03mBlock\u001b[39;00m\n\u001b[1;32m    508\u001b[0m \u001b[38;5;124;03m\"\"\"\u001b[39;00m\n\u001b[1;32m    509\u001b[0m values \u001b[38;5;241m=\u001b[39m \u001b[38;5;28mself\u001b[39m\u001b[38;5;241m.\u001b[39mvalues\n\u001b[0;32m--> 511\u001b[0m new_values \u001b[38;5;241m=\u001b[39m astype_array_safe(values, dtype, copy\u001b[38;5;241m=\u001b[39mcopy, errors\u001b[38;5;241m=\u001b[39merrors)\n\u001b[1;32m    513\u001b[0m new_values \u001b[38;5;241m=\u001b[39m maybe_coerce_values(new_values)\n\u001b[1;32m    515\u001b[0m refs \u001b[38;5;241m=\u001b[39m \u001b[38;5;28;01mNone\u001b[39;00m\n",
      "File \u001b[0;32m~/anaconda3/lib/python3.11/site-packages/pandas/core/dtypes/astype.py:242\u001b[0m, in \u001b[0;36mastype_array_safe\u001b[0;34m(values, dtype, copy, errors)\u001b[0m\n\u001b[1;32m    239\u001b[0m     dtype \u001b[38;5;241m=\u001b[39m dtype\u001b[38;5;241m.\u001b[39mnumpy_dtype\n\u001b[1;32m    241\u001b[0m \u001b[38;5;28;01mtry\u001b[39;00m:\n\u001b[0;32m--> 242\u001b[0m     new_values \u001b[38;5;241m=\u001b[39m astype_array(values, dtype, copy\u001b[38;5;241m=\u001b[39mcopy)\n\u001b[1;32m    243\u001b[0m \u001b[38;5;28;01mexcept\u001b[39;00m (\u001b[38;5;167;01mValueError\u001b[39;00m, \u001b[38;5;167;01mTypeError\u001b[39;00m):\n\u001b[1;32m    244\u001b[0m     \u001b[38;5;66;03m# e.g. _astype_nansafe can fail on object-dtype of strings\u001b[39;00m\n\u001b[1;32m    245\u001b[0m     \u001b[38;5;66;03m#  trying to convert to float\u001b[39;00m\n\u001b[1;32m    246\u001b[0m     \u001b[38;5;28;01mif\u001b[39;00m errors \u001b[38;5;241m==\u001b[39m \u001b[38;5;124m\"\u001b[39m\u001b[38;5;124mignore\u001b[39m\u001b[38;5;124m\"\u001b[39m:\n",
      "File \u001b[0;32m~/anaconda3/lib/python3.11/site-packages/pandas/core/dtypes/astype.py:187\u001b[0m, in \u001b[0;36mastype_array\u001b[0;34m(values, dtype, copy)\u001b[0m\n\u001b[1;32m    184\u001b[0m     values \u001b[38;5;241m=\u001b[39m values\u001b[38;5;241m.\u001b[39mastype(dtype, copy\u001b[38;5;241m=\u001b[39mcopy)\n\u001b[1;32m    186\u001b[0m \u001b[38;5;28;01melse\u001b[39;00m:\n\u001b[0;32m--> 187\u001b[0m     values \u001b[38;5;241m=\u001b[39m _astype_nansafe(values, dtype, copy\u001b[38;5;241m=\u001b[39mcopy)\n\u001b[1;32m    189\u001b[0m \u001b[38;5;66;03m# in pandas we don't store numpy str dtypes, so convert to object\u001b[39;00m\n\u001b[1;32m    190\u001b[0m \u001b[38;5;28;01mif\u001b[39;00m \u001b[38;5;28misinstance\u001b[39m(dtype, np\u001b[38;5;241m.\u001b[39mdtype) \u001b[38;5;129;01mand\u001b[39;00m \u001b[38;5;28missubclass\u001b[39m(values\u001b[38;5;241m.\u001b[39mdtype\u001b[38;5;241m.\u001b[39mtype, \u001b[38;5;28mstr\u001b[39m):\n",
      "File \u001b[0;32m~/anaconda3/lib/python3.11/site-packages/pandas/core/dtypes/astype.py:138\u001b[0m, in \u001b[0;36m_astype_nansafe\u001b[0;34m(arr, dtype, copy, skipna)\u001b[0m\n\u001b[1;32m    134\u001b[0m     \u001b[38;5;28;01mraise\u001b[39;00m \u001b[38;5;167;01mValueError\u001b[39;00m(msg)\n\u001b[1;32m    136\u001b[0m \u001b[38;5;28;01mif\u001b[39;00m copy \u001b[38;5;129;01mor\u001b[39;00m is_object_dtype(arr\u001b[38;5;241m.\u001b[39mdtype) \u001b[38;5;129;01mor\u001b[39;00m is_object_dtype(dtype):\n\u001b[1;32m    137\u001b[0m     \u001b[38;5;66;03m# Explicit copy, or required since NumPy can't view from / to object.\u001b[39;00m\n\u001b[0;32m--> 138\u001b[0m     \u001b[38;5;28;01mreturn\u001b[39;00m arr\u001b[38;5;241m.\u001b[39mastype(dtype, copy\u001b[38;5;241m=\u001b[39m\u001b[38;5;28;01mTrue\u001b[39;00m)\n\u001b[1;32m    140\u001b[0m \u001b[38;5;28;01mreturn\u001b[39;00m arr\u001b[38;5;241m.\u001b[39mastype(dtype, copy\u001b[38;5;241m=\u001b[39mcopy)\n",
      "\u001b[0;31mValueError\u001b[0m: could not convert string to float: ' '"
     ]
    }
   ],
   "source": [
    "# TotalCharges 컬럼 타입을 float로 변경해 보자.\n",
    "# 문자열을 숫자형으로 변경할수 없으므로 에러 발생\n",
    "\n",
    "#df['TotalCharges'].astype(float)\n",
    "\n",
    "df['TotalCharges'].astype(float)"
   ]
  },
  {
   "cell_type": "code",
   "execution_count": 47,
   "metadata": {
    "colab": {
     "base_uri": "https://localhost:8080/"
    },
    "executionInfo": {
     "elapsed": 329,
     "status": "ok",
     "timestamp": 1645514255883,
     "user": {
      "displayName": "yunwoo oh",
      "photoUrl": "https://lh3.googleusercontent.com/a/default-user=s64",
      "userId": "01035531558844683999"
     },
     "user_tz": -540
    },
    "id": "1ePbx-y7zt6G",
    "outputId": "1784b8ac-8e01-4425-e4bb-3ed56e1ee017",
    "tags": []
   },
   "outputs": [
    {
     "data": {
      "text/plain": [
       "0       False\n",
       "1       False\n",
       "2       False\n",
       "3       False\n",
       "4       False\n",
       "        ...  \n",
       "7038    False\n",
       "7039    False\n",
       "7040    False\n",
       "7041    False\n",
       "7042    False\n",
       "Name: TotalCharges, Length: 7043, dtype: bool"
      ]
     },
     "execution_count": 47,
     "metadata": {},
     "output_type": "execute_result"
    }
   ],
   "source": [
    "# Boolean indexing으로 검색\n",
    "(df['TotalCharges'] == '') | (df['TotalCharges'] == ' ')"
   ]
  },
  {
   "cell_type": "code",
   "execution_count": 50,
   "metadata": {
    "colab": {
     "base_uri": "https://localhost:8080/",
     "height": 614
    },
    "executionInfo": {
     "elapsed": 560,
     "status": "ok",
     "timestamp": 1645514256726,
     "user": {
      "displayName": "yunwoo oh",
      "photoUrl": "https://lh3.googleusercontent.com/a/default-user=s64",
      "userId": "01035531558844683999"
     },
     "user_tz": -540
    },
    "id": "-_UvMk4vzt6G",
    "outputId": "8d7f1a41-4395-4717-bd47-bb73a0fb3700",
    "scrolled": true,
    "tags": []
   },
   "outputs": [
    {
     "data": {
      "text/html": [
       "<div>\n",
       "<style scoped>\n",
       "    .dataframe tbody tr th:only-of-type {\n",
       "        vertical-align: middle;\n",
       "    }\n",
       "\n",
       "    .dataframe tbody tr th {\n",
       "        vertical-align: top;\n",
       "    }\n",
       "\n",
       "    .dataframe thead th {\n",
       "        text-align: right;\n",
       "    }\n",
       "</style>\n",
       "<table border=\"1\" class=\"dataframe\">\n",
       "  <thead>\n",
       "    <tr style=\"text-align: right;\">\n",
       "      <th></th>\n",
       "      <th>gender</th>\n",
       "      <th>SeniorCitizen</th>\n",
       "      <th>Partner</th>\n",
       "      <th>Dependents</th>\n",
       "      <th>tenure</th>\n",
       "      <th>PhoneService</th>\n",
       "      <th>MultipleLines</th>\n",
       "      <th>InternetService</th>\n",
       "      <th>OnlineSecurity</th>\n",
       "      <th>OnlineBackup</th>\n",
       "      <th>DeviceProtection</th>\n",
       "      <th>TechSupport</th>\n",
       "      <th>StreamingTV</th>\n",
       "      <th>StreamingMovies</th>\n",
       "      <th>Contract</th>\n",
       "      <th>PaperlessBilling</th>\n",
       "      <th>PaymentMethod</th>\n",
       "      <th>MonthlyCharges</th>\n",
       "      <th>TotalCharges</th>\n",
       "      <th>Churn</th>\n",
       "    </tr>\n",
       "  </thead>\n",
       "  <tbody>\n",
       "  </tbody>\n",
       "</table>\n",
       "</div>"
      ],
      "text/plain": [
       "Empty DataFrame\n",
       "Columns: [gender, SeniorCitizen, Partner, Dependents, tenure, PhoneService, MultipleLines, InternetService, OnlineSecurity, OnlineBackup, DeviceProtection, TechSupport, StreamingTV, StreamingMovies, Contract, PaperlessBilling, PaymentMethod, MonthlyCharges, TotalCharges, Churn]\n",
       "Index: []"
      ]
     },
     "execution_count": 50,
     "metadata": {},
     "output_type": "execute_result"
    }
   ],
   "source": [
    "# Boolean indexing으로 검색\n",
    "\n",
    "cond = (df['TotalCharges'] == '') | (df['TotalCharges'] == ' ')\n",
    "df[cond]"
   ]
  },
  {
   "cell_type": "markdown",
   "metadata": {},
   "source": [
    "[문제] df 데이터프레임의 'TotalCharges' 컬럼의 값 ' ' --> '0' 변경하세요."
   ]
  },
  {
   "cell_type": "code",
   "execution_count": 49,
   "metadata": {
    "id": "-acD_1OKzt6G",
    "tags": []
   },
   "outputs": [],
   "source": [
    "# DataFrame replace 함수\n",
    "# 대상 컬럼 : 'TotalCharges'\n",
    "\n",
    "#나는 이렇게 했는데\n",
    "#바뀌지도 않았고 이러면 모든 칼럼의 이거를 바꾸는 것 아님?\n",
    "#df.replace(to_replace=['',' '], value='0')\n",
    "\n",
    "df['TotalCharges'].replace([' '], '0', inplace=True)\n"
   ]
  },
  {
   "cell_type": "markdown",
   "metadata": {
    "id": "UMSbb4T8zt6H"
   },
   "source": [
    "####  \n",
    "##### <font color=blue> **[문제] df 데이터프레임의 'TotalCharges' 컬럼 타입을 object에서 float 변경하세요.** </font>"
   ]
  },
  {
   "cell_type": "code",
   "execution_count": 52,
   "metadata": {
    "id": "NhKAXpuTzt6H",
    "tags": []
   },
   "outputs": [],
   "source": [
    "# 'TotalCharges' 컬럼 type을 float로 변경\n",
    "# 결과를 TotalCharges 컬럼에 다시 넣어야 합니다.\n",
    "\n",
    "#나는 이렇게 했는데 이러면 바꾸고 리턴하고 끝\n",
    "#df['TotalCharges'].astype(float)\n",
    "\n",
    "df['TotalCharges'] = df['TotalCharges'].astype(float)"
   ]
  },
  {
   "cell_type": "code",
   "execution_count": 53,
   "metadata": {
    "colab": {
     "base_uri": "https://localhost:8080/",
     "height": 113
    },
    "executionInfo": {
     "elapsed": 44,
     "status": "ok",
     "timestamp": 1645514256729,
     "user": {
      "displayName": "yunwoo oh",
      "photoUrl": "https://lh3.googleusercontent.com/a/default-user=s64",
      "userId": "01035531558844683999"
     },
     "user_tz": -540
    },
    "id": "mv0Vpc0uzt6H",
    "outputId": "3afe9104-f4a3-4ba6-bf48-4d6ca90c7601",
    "scrolled": true,
    "tags": []
   },
   "outputs": [
    {
     "data": {
      "text/html": [
       "<div>\n",
       "<style scoped>\n",
       "    .dataframe tbody tr th:only-of-type {\n",
       "        vertical-align: middle;\n",
       "    }\n",
       "\n",
       "    .dataframe tbody tr th {\n",
       "        vertical-align: top;\n",
       "    }\n",
       "\n",
       "    .dataframe thead th {\n",
       "        text-align: right;\n",
       "    }\n",
       "</style>\n",
       "<table border=\"1\" class=\"dataframe\">\n",
       "  <thead>\n",
       "    <tr style=\"text-align: right;\">\n",
       "      <th></th>\n",
       "      <th>gender</th>\n",
       "      <th>SeniorCitizen</th>\n",
       "      <th>Partner</th>\n",
       "      <th>Dependents</th>\n",
       "      <th>tenure</th>\n",
       "      <th>PhoneService</th>\n",
       "      <th>MultipleLines</th>\n",
       "      <th>InternetService</th>\n",
       "      <th>OnlineSecurity</th>\n",
       "      <th>OnlineBackup</th>\n",
       "      <th>DeviceProtection</th>\n",
       "      <th>TechSupport</th>\n",
       "      <th>StreamingTV</th>\n",
       "      <th>StreamingMovies</th>\n",
       "      <th>Contract</th>\n",
       "      <th>PaperlessBilling</th>\n",
       "      <th>PaymentMethod</th>\n",
       "      <th>MonthlyCharges</th>\n",
       "      <th>TotalCharges</th>\n",
       "      <th>Churn</th>\n",
       "    </tr>\n",
       "  </thead>\n",
       "  <tbody>\n",
       "  </tbody>\n",
       "</table>\n",
       "</div>"
      ],
      "text/plain": [
       "Empty DataFrame\n",
       "Columns: [gender, SeniorCitizen, Partner, Dependents, tenure, PhoneService, MultipleLines, InternetService, OnlineSecurity, OnlineBackup, DeviceProtection, TechSupport, StreamingTV, StreamingMovies, Contract, PaperlessBilling, PaymentMethod, MonthlyCharges, TotalCharges, Churn]\n",
       "Index: []"
      ]
     },
     "execution_count": 53,
     "metadata": {},
     "output_type": "execute_result"
    }
   ],
   "source": [
    "# 다시 Boolean indexing으로 검색 : '' 값을 가진 Row 없음\n",
    "\n",
    "cond = (df['TotalCharges'] == '') | (df['TotalCharges'] == ' ')\n",
    "df[cond]"
   ]
  },
  {
   "cell_type": "code",
   "execution_count": 54,
   "metadata": {
    "colab": {
     "base_uri": "https://localhost:8080/"
    },
    "executionInfo": {
     "elapsed": 44,
     "status": "ok",
     "timestamp": 1645514256730,
     "user": {
      "displayName": "yunwoo oh",
      "photoUrl": "https://lh3.googleusercontent.com/a/default-user=s64",
      "userId": "01035531558844683999"
     },
     "user_tz": -540
    },
    "id": "I2ozL1ydzt6H",
    "outputId": "7bc539c8-3686-4457-8e67-06bbac82de40",
    "scrolled": true,
    "tags": []
   },
   "outputs": [
    {
     "name": "stdout",
     "output_type": "stream",
     "text": [
      "<class 'pandas.core.frame.DataFrame'>\n",
      "RangeIndex: 7043 entries, 0 to 7042\n",
      "Data columns (total 20 columns):\n",
      " #   Column            Non-Null Count  Dtype  \n",
      "---  ------            --------------  -----  \n",
      " 0   gender            7034 non-null   object \n",
      " 1   SeniorCitizen     7042 non-null   float64\n",
      " 2   Partner           7043 non-null   object \n",
      " 3   Dependents        7041 non-null   object \n",
      " 4   tenure            7043 non-null   int64  \n",
      " 5   PhoneService      7040 non-null   object \n",
      " 6   MultipleLines     7043 non-null   object \n",
      " 7   InternetService   7043 non-null   object \n",
      " 8   OnlineSecurity    7043 non-null   object \n",
      " 9   OnlineBackup      7043 non-null   object \n",
      " 10  DeviceProtection  3580 non-null   object \n",
      " 11  TechSupport       7043 non-null   object \n",
      " 12  StreamingTV       7043 non-null   object \n",
      " 13  StreamingMovies   7043 non-null   object \n",
      " 14  Contract          7042 non-null   object \n",
      " 15  PaperlessBilling  7043 non-null   object \n",
      " 16  PaymentMethod     7042 non-null   object \n",
      " 17  MonthlyCharges    7042 non-null   float64\n",
      " 18  TotalCharges      7043 non-null   float64\n",
      " 19  Churn             7043 non-null   object \n",
      "dtypes: float64(3), int64(1), object(16)\n",
      "memory usage: 1.1+ MB\n"
     ]
    }
   ],
   "source": [
    "# TotalCharges 컬럼 float 변경 확인\n",
    "df.info()"
   ]
  },
  {
   "cell_type": "markdown",
   "metadata": {
    "id": "jP3W6JR7zt6H"
   },
   "source": [
    "#### Churn 컬럼의 문자열값을 숫자로 변경"
   ]
  },
  {
   "cell_type": "code",
   "execution_count": 55,
   "metadata": {
    "colab": {
     "base_uri": "https://localhost:8080/"
    },
    "executionInfo": {
     "elapsed": 40,
     "status": "ok",
     "timestamp": 1645514256730,
     "user": {
      "displayName": "yunwoo oh",
      "photoUrl": "https://lh3.googleusercontent.com/a/default-user=s64",
      "userId": "01035531558844683999"
     },
     "user_tz": -540
    },
    "id": "9zrpsGwMzt6H",
    "outputId": "5ed83e99-7956-4232-a965-c96dd4addd3e",
    "tags": []
   },
   "outputs": [
    {
     "data": {
      "text/plain": [
       "Churn\n",
       "No     5174\n",
       "Yes    1869\n",
       "Name: count, dtype: int64"
      ]
     },
     "execution_count": 55,
     "metadata": {},
     "output_type": "execute_result"
    }
   ],
   "source": [
    "# Churn 컬럼의 분포 확인\n",
    "# Churn Yes : 이탈 , No : 이탈안함. 언밸런스하게 No쪽이 많은 차지하고 있음\n",
    "\n",
    "df['Churn'].value_counts()"
   ]
  },
  {
   "cell_type": "code",
   "execution_count": 56,
   "metadata": {
    "id": "AtOxyzm9zt6I",
    "tags": []
   },
   "outputs": [],
   "source": [
    "# 'Churn' 컬럼의 ['Yes', 'No'] --> [1, 0] 변경하기\n",
    "# 컴퓨터는 문자열 이해 잘 하지 못해 숫자로 변경해야 함.\n",
    "\n",
    "df['Churn'].replace(['Yes', 'No'], [1, 0], inplace=True)"
   ]
  },
  {
   "cell_type": "code",
   "execution_count": 57,
   "metadata": {
    "colab": {
     "base_uri": "https://localhost:8080/"
    },
    "executionInfo": {
     "elapsed": 39,
     "status": "ok",
     "timestamp": 1645514256732,
     "user": {
      "displayName": "yunwoo oh",
      "photoUrl": "https://lh3.googleusercontent.com/a/default-user=s64",
      "userId": "01035531558844683999"
     },
     "user_tz": -540
    },
    "id": "ws8TKo9bzt6I",
    "outputId": "5ed25cfc-90fd-4808-e8ae-aa5f3e1720ab",
    "tags": []
   },
   "outputs": [
    {
     "data": {
      "text/plain": [
       "Churn\n",
       "0    5174\n",
       "1    1869\n",
       "Name: count, dtype: int64"
      ]
     },
     "execution_count": 57,
     "metadata": {},
     "output_type": "execute_result"
    }
   ],
   "source": [
    "# Churn 컬럼의 분포 확인\n",
    "df['Churn'].value_counts()"
   ]
  },
  {
   "cell_type": "markdown",
   "metadata": {
    "id": "ozIRjhjJzt6I"
   },
   "source": [
    "####  \n",
    "### Null 데이터 확인"
   ]
  },
  {
   "cell_type": "markdown",
   "metadata": {
    "id": "vBJW3_W7zt6I"
   },
   "source": [
    "##### <font color=blue> **[문제] df 데이터프레임에 대해 컬럼별로 null 얼마나 있는지 null 갯수를 나열 하세요.** </font>"
   ]
  },
  {
   "cell_type": "code",
   "execution_count": 58,
   "metadata": {
    "colab": {
     "base_uri": "https://localhost:8080/"
    },
    "executionInfo": {
     "elapsed": 37,
     "status": "ok",
     "timestamp": 1645514256732,
     "user": {
      "displayName": "yunwoo oh",
      "photoUrl": "https://lh3.googleusercontent.com/a/default-user=s64",
      "userId": "01035531558844683999"
     },
     "user_tz": -540
    },
    "id": "MKO2LGSyzt6J",
    "outputId": "e5d35700-e9d5-4f87-ab84-b6b845e54991",
    "tags": []
   },
   "outputs": [
    {
     "data": {
      "text/plain": [
       "gender                 9\n",
       "SeniorCitizen          1\n",
       "Partner                0\n",
       "Dependents             2\n",
       "tenure                 0\n",
       "PhoneService           3\n",
       "MultipleLines          0\n",
       "InternetService        0\n",
       "OnlineSecurity         0\n",
       "OnlineBackup           0\n",
       "DeviceProtection    3463\n",
       "TechSupport            0\n",
       "StreamingTV            0\n",
       "StreamingMovies        0\n",
       "Contract               1\n",
       "PaperlessBilling       0\n",
       "PaymentMethod          1\n",
       "MonthlyCharges         1\n",
       "TotalCharges           0\n",
       "Churn                  0\n",
       "dtype: int64"
      ]
     },
     "execution_count": 58,
     "metadata": {},
     "output_type": "execute_result"
    }
   ],
   "source": [
    "# DataFrame isnull(), sum() 함수 활용\n",
    "\n",
    "df.isnull().sum()\n",
    "\n",
    "\n"
   ]
  },
  {
   "cell_type": "markdown",
   "metadata": {
    "id": "2Hi-jVgMzt6J"
   },
   "source": [
    "####  \n",
    "### 결측치 처리\n",
    "\n",
    "데이터에 결측치 있으면 모델링시 알지 못하는 에러 발생할수 있으므로 반드시 결측치를 제거나 변경해야 한다.<br>\n",
    "결측치 제거시 dropna() 함수 활용하면 된다.<br>\n",
    "결측치를 변경시 변경하는 방법이 꼭 정답이 아니며, 여러가지 판단하고 고민이 필요하다.<br>\n",
    "주로, 문자형 컬럼에 대해 최빈값으로 , 숫자형 컬럼에 대해 중간값으로 결측치 대신해서 채울수 있다."
   ]
  },
  {
   "cell_type": "markdown",
   "metadata": {
    "id": "tKv3QNq4zt6J"
   },
   "source": [
    "####  \n",
    "##### <font color=blue> **[문제] df 데이터프레임의 결측치 많은 컬럼은 컬럼 제거하고 나머지 결측치는 Row 제거 하세요.** </font>"
   ]
  },
  {
   "cell_type": "code",
   "execution_count": 62,
   "metadata": {
    "colab": {
     "base_uri": "https://localhost:8080/"
    },
    "executionInfo": {
     "elapsed": 35,
     "status": "ok",
     "timestamp": 1645514256733,
     "user": {
      "displayName": "yunwoo oh",
      "photoUrl": "https://lh3.googleusercontent.com/a/default-user=s64",
      "userId": "01035531558844683999"
     },
     "user_tz": -540
    },
    "id": "K3vpuuBwzt6J",
    "outputId": "c7d81ace-433f-4e0a-a498-ec273af14d0c",
    "tags": []
   },
   "outputs": [
    {
     "data": {
      "text/plain": [
       "gender              0\n",
       "SeniorCitizen       0\n",
       "Partner             0\n",
       "Dependents          0\n",
       "tenure              0\n",
       "PhoneService        0\n",
       "MultipleLines       0\n",
       "InternetService     0\n",
       "OnlineSecurity      0\n",
       "OnlineBackup        0\n",
       "TechSupport         0\n",
       "StreamingTV         0\n",
       "StreamingMovies     0\n",
       "Contract            0\n",
       "PaperlessBilling    0\n",
       "PaymentMethod       0\n",
       "MonthlyCharges      0\n",
       "TotalCharges        0\n",
       "Churn               0\n",
       "dtype: int64"
      ]
     },
     "execution_count": 62,
     "metadata": {},
     "output_type": "execute_result"
    }
   ],
   "source": [
    "# Null 여부 다시 확인\n",
    "df.isnull().sum()"
   ]
  },
  {
   "cell_type": "code",
   "execution_count": 63,
   "metadata": {
    "colab": {
     "base_uri": "https://localhost:8080/"
    },
    "executionInfo": {
     "elapsed": 33,
     "status": "ok",
     "timestamp": 1645514256734,
     "user": {
      "displayName": "yunwoo oh",
      "photoUrl": "https://lh3.googleusercontent.com/a/default-user=s64",
      "userId": "01035531558844683999"
     },
     "user_tz": -540
    },
    "id": "UXdXv6XLzt6K",
    "outputId": "9503eab1-1c5c-4318-ec43-787d5908d24d",
    "tags": []
   },
   "outputs": [
    {
     "name": "stdout",
     "output_type": "stream",
     "text": [
      "<class 'pandas.core.frame.DataFrame'>\n",
      "Index: 7027 entries, 1 to 7041\n",
      "Data columns (total 19 columns):\n",
      " #   Column            Non-Null Count  Dtype  \n",
      "---  ------            --------------  -----  \n",
      " 0   gender            7027 non-null   object \n",
      " 1   SeniorCitizen     7027 non-null   float64\n",
      " 2   Partner           7027 non-null   object \n",
      " 3   Dependents        7027 non-null   object \n",
      " 4   tenure            7027 non-null   int64  \n",
      " 5   PhoneService      7027 non-null   object \n",
      " 6   MultipleLines     7027 non-null   object \n",
      " 7   InternetService   7027 non-null   object \n",
      " 8   OnlineSecurity    7027 non-null   object \n",
      " 9   OnlineBackup      7027 non-null   object \n",
      " 10  TechSupport       7027 non-null   object \n",
      " 11  StreamingTV       7027 non-null   object \n",
      " 12  StreamingMovies   7027 non-null   object \n",
      " 13  Contract          7027 non-null   object \n",
      " 14  PaperlessBilling  7027 non-null   object \n",
      " 15  PaymentMethod     7027 non-null   object \n",
      " 16  MonthlyCharges    7027 non-null   float64\n",
      " 17  TotalCharges      7027 non-null   float64\n",
      " 18  Churn             7027 non-null   int64  \n",
      "dtypes: float64(3), int64(2), object(14)\n",
      "memory usage: 1.1+ MB\n"
     ]
    }
   ],
   "source": [
    "# DeviceProtection 컬럼 삭제 확인\n",
    "df.info()"
   ]
  },
  {
   "cell_type": "markdown",
   "metadata": {
    "id": "45qw-GtGzt6K"
   },
   "source": [
    "#  \n",
    "# 4. 시각화"
   ]
  },
  {
   "cell_type": "markdown",
   "metadata": {
    "id": "192lDHykzt6K"
   },
   "source": [
    "### 라이브러리 임포트"
   ]
  },
  {
   "cell_type": "code",
   "execution_count": 64,
   "metadata": {
    "id": "q0V7_mlvzt6K",
    "tags": []
   },
   "outputs": [],
   "source": [
    "import matplotlib.pyplot as plt\n",
    "%matplotlib inline"
   ]
  },
  {
   "cell_type": "markdown",
   "metadata": {
    "id": "9fYXooyxzt6K"
   },
   "source": [
    "####  \n",
    "### Bar 차트"
   ]
  },
  {
   "cell_type": "code",
   "execution_count": 65,
   "metadata": {
    "colab": {
     "base_uri": "https://localhost:8080/"
    },
    "executionInfo": {
     "elapsed": 31,
     "status": "ok",
     "timestamp": 1645514256735,
     "user": {
      "displayName": "yunwoo oh",
      "photoUrl": "https://lh3.googleusercontent.com/a/default-user=s64",
      "userId": "01035531558844683999"
     },
     "user_tz": -540
    },
    "id": "JHwK2RIFzt6K",
    "outputId": "11b66038-4301-48cc-cec8-fb18f4137ae5",
    "tags": []
   },
   "outputs": [
    {
     "data": {
      "text/plain": [
       "gender\n",
       "Male      3550\n",
       "Female    3477\n",
       "Name: count, dtype: int64"
      ]
     },
     "execution_count": 65,
     "metadata": {},
     "output_type": "execute_result"
    }
   ],
   "source": [
    "df['gender'].value_counts()"
   ]
  },
  {
   "cell_type": "code",
   "execution_count": 66,
   "metadata": {
    "colab": {
     "base_uri": "https://localhost:8080/",
     "height": 309
    },
    "executionInfo": {
     "elapsed": 27,
     "status": "ok",
     "timestamp": 1645514256736,
     "user": {
      "displayName": "yunwoo oh",
      "photoUrl": "https://lh3.googleusercontent.com/a/default-user=s64",
      "userId": "01035531558844683999"
     },
     "user_tz": -540
    },
    "id": "8iSUAfQ6zt6L",
    "outputId": "2fc723d5-38dc-4602-e94f-d8219da650ad",
    "tags": []
   },
   "outputs": [
    {
     "data": {
      "text/plain": [
       "<Axes: xlabel='gender'>"
      ]
     },
     "execution_count": 66,
     "metadata": {},
     "output_type": "execute_result"
    },
    {
     "data": {
      "image/png": "[encoded data removed]",
      "text/plain": [
       "<Figure size 640x480 with 1 Axes>"
      ]
     },
     "metadata": {},
     "output_type": "display_data"
    }
   ],
   "source": [
    "df['gender'].value_counts().plot(kind='bar')"
   ]
  },
  {
   "cell_type": "markdown",
   "metadata": {
    "id": "syDAao21zt6L"
   },
   "source": [
    "##### <font color=blue> **[문제] df 데이터프레임의 'Partner' 컬럼의 값 분포를 구하고 Bar 차트를 그리세요.** </font>"
   ]
  },
  {
   "cell_type": "code",
   "execution_count": 68,
   "metadata": {
    "colab": {
     "base_uri": "https://localhost:8080/",
     "height": 289
    },
    "executionInfo": {
     "elapsed": 20,
     "status": "ok",
     "timestamp": 1645514257211,
     "user": {
      "displayName": "yunwoo oh",
      "photoUrl": "https://lh3.googleusercontent.com/a/default-user=s64",
      "userId": "01035531558844683999"
     },
     "user_tz": -540
    },
    "id": "gYRqqgEEzt6L",
    "outputId": "0e0cce32-0681-4970-9d1e-0fc56edfe660",
    "scrolled": true,
    "tags": []
   },
   "outputs": [
    {
     "data": {
      "text/plain": [
       "<Axes: xlabel='Partner'>"
      ]
     },
     "execution_count": 68,
     "metadata": {},
     "output_type": "execute_result"
    },
    {
     "data": {
      "image/png": "[encoded data removed]",
      "text/plain": [
       "<Figure size 640x480 with 1 Axes>"
      ]
     },
     "metadata": {},
     "output_type": "display_data"
    }
   ],
   "source": [
    "# DataFrame value_counts()와 plot() 함수 활용\n",
    "# 대상 컬럼 : 'Partner'\n",
    "# plot 함수의 인자 : kind='bar'\n",
    "\n",
    "df['Partner'].value_counts()\n",
    "\n",
    "df['Partner'].value_counts().plot(kind='bar')\n"
   ]
  },
  {
   "cell_type": "markdown",
   "metadata": {
    "id": "k0WhB7Qfzt6L"
   },
   "source": [
    "####  \n",
    "### 한꺼번에 Object 컬럼에 대해서 분포 Bar 차트 확인해 봅시다."
   ]
  },
  {
   "cell_type": "code",
   "execution_count": 70,
   "metadata": {
    "colab": {
     "base_uri": "https://localhost:8080/",
     "height": 259
    },
    "executionInfo": {
     "elapsed": 17,
     "status": "ok",
     "timestamp": 1645514257212,
     "user": {
      "displayName": "yunwoo oh",
      "photoUrl": "https://lh3.googleusercontent.com/a/default-user=s64",
      "userId": "01035531558844683999"
     },
     "user_tz": -540
    },
    "id": "0E6sIM9Ozt6L",
    "outputId": "e237e8bf-197a-43ac-8053-b81184c400b4",
    "tags": []
   },
   "outputs": [
    {
     "data": {
      "text/html": [
       "<div>\n",
       "<style scoped>\n",
       "    .dataframe tbody tr th:only-of-type {\n",
       "        vertical-align: middle;\n",
       "    }\n",
       "\n",
       "    .dataframe tbody tr th {\n",
       "        vertical-align: top;\n",
       "    }\n",
       "\n",
       "    .dataframe thead th {\n",
       "        text-align: right;\n",
       "    }\n",
       "</style>\n",
       "<table border=\"1\" class=\"dataframe\">\n",
       "  <thead>\n",
       "    <tr style=\"text-align: right;\">\n",
       "      <th></th>\n",
       "      <th>gender</th>\n",
       "      <th>Partner</th>\n",
       "      <th>Dependents</th>\n",
       "      <th>PhoneService</th>\n",
       "      <th>MultipleLines</th>\n",
       "      <th>InternetService</th>\n",
       "      <th>OnlineSecurity</th>\n",
       "      <th>OnlineBackup</th>\n",
       "      <th>TechSupport</th>\n",
       "      <th>StreamingTV</th>\n",
       "      <th>StreamingMovies</th>\n",
       "      <th>Contract</th>\n",
       "      <th>PaperlessBilling</th>\n",
       "      <th>PaymentMethod</th>\n",
       "    </tr>\n",
       "  </thead>\n",
       "  <tbody>\n",
       "    <tr>\n",
       "      <th>1</th>\n",
       "      <td>Male</td>\n",
       "      <td>No</td>\n",
       "      <td>No</td>\n",
       "      <td>Yes</td>\n",
       "      <td>No</td>\n",
       "      <td>DSL</td>\n",
       "      <td>Yes</td>\n",
       "      <td>No</td>\n",
       "      <td>No</td>\n",
       "      <td>No</td>\n",
       "      <td>No</td>\n",
       "      <td>One year</td>\n",
       "      <td>No</td>\n",
       "      <td>Mailed check</td>\n",
       "    </tr>\n",
       "    <tr>\n",
       "      <th>2</th>\n",
       "      <td>Male</td>\n",
       "      <td>No</td>\n",
       "      <td>No</td>\n",
       "      <td>Yes</td>\n",
       "      <td>No</td>\n",
       "      <td>DSL</td>\n",
       "      <td>Yes</td>\n",
       "      <td>Yes</td>\n",
       "      <td>No</td>\n",
       "      <td>No</td>\n",
       "      <td>No</td>\n",
       "      <td>Month-to-month</td>\n",
       "      <td>Yes</td>\n",
       "      <td>Mailed check</td>\n",
       "    </tr>\n",
       "    <tr>\n",
       "      <th>3</th>\n",
       "      <td>Male</td>\n",
       "      <td>No</td>\n",
       "      <td>No</td>\n",
       "      <td>No</td>\n",
       "      <td>No phone service</td>\n",
       "      <td>DSL</td>\n",
       "      <td>Yes</td>\n",
       "      <td>No</td>\n",
       "      <td>Yes</td>\n",
       "      <td>No</td>\n",
       "      <td>No</td>\n",
       "      <td>One year</td>\n",
       "      <td>No</td>\n",
       "      <td>Bank transfer (automatic)</td>\n",
       "    </tr>\n",
       "  </tbody>\n",
       "</table>\n",
       "</div>"
      ],
      "text/plain": [
       "  gender Partner Dependents PhoneService     MultipleLines InternetService  \\\n",
       "1   Male      No         No          Yes                No             DSL   \n",
       "2   Male      No         No          Yes                No             DSL   \n",
       "3   Male      No         No           No  No phone service             DSL   \n",
       "\n",
       "  OnlineSecurity OnlineBackup TechSupport StreamingTV StreamingMovies  \\\n",
       "1            Yes           No          No          No              No   \n",
       "2            Yes          Yes          No          No              No   \n",
       "3            Yes           No         Yes          No              No   \n",
       "\n",
       "         Contract PaperlessBilling              PaymentMethod  \n",
       "1        One year               No               Mailed check  \n",
       "2  Month-to-month              Yes               Mailed check  \n",
       "3        One year               No  Bank transfer (automatic)  "
      ]
     },
     "execution_count": 70,
     "metadata": {},
     "output_type": "execute_result"
    }
   ],
   "source": [
    "# Object 컬럼만 뽑으려면\n",
    "# 1. 일일히 눈으로 보고 Object 컬럼 고른다\n",
    "# 2. select_dtypes() 함수 활용한다.\n",
    "\n",
    "df.select_dtypes('O').head(3)"
   ]
  },
  {
   "cell_type": "code",
   "execution_count": 71,
   "metadata": {
    "colab": {
     "base_uri": "https://localhost:8080/"
    },
    "executionInfo": {
     "elapsed": 15,
     "status": "ok",
     "timestamp": 1645514257212,
     "user": {
      "displayName": "yunwoo oh",
      "photoUrl": "https://lh3.googleusercontent.com/a/default-user=s64",
      "userId": "01035531558844683999"
     },
     "user_tz": -540
    },
    "id": "loHWSdxKzt6M",
    "outputId": "4987b572-6791-4307-a8c9-eb47c16a089a",
    "tags": []
   },
   "outputs": [
    {
     "data": {
      "text/plain": [
       "array(['gender', 'Partner', 'Dependents', 'PhoneService', 'MultipleLines',\n",
       "       'InternetService', 'OnlineSecurity', 'OnlineBackup', 'TechSupport',\n",
       "       'StreamingTV', 'StreamingMovies', 'Contract', 'PaperlessBilling',\n",
       "       'PaymentMethod'], dtype=object)"
      ]
     },
     "execution_count": 71,
     "metadata": {},
     "output_type": "execute_result"
    }
   ],
   "source": [
    "# Object 컬럼명만 뽑아보자\n",
    "df.select_dtypes('O').columns.values"
   ]
  },
  {
   "cell_type": "code",
   "execution_count": 72,
   "metadata": {
    "colab": {
     "base_uri": "https://localhost:8080/",
     "height": 1000
    },
    "executionInfo": {
     "elapsed": 1912,
     "status": "ok",
     "timestamp": 1645514259114,
     "user": {
      "displayName": "yunwoo oh",
      "photoUrl": "https://lh3.googleusercontent.com/a/default-user=s64",
      "userId": "01035531558844683999"
     },
     "user_tz": -540
    },
    "id": "9G2QSJcKzt6M",
    "outputId": "3a050a54-0203-4f1c-c037-b9dcc2ee9b7d",
    "tags": []
   },
   "outputs": [
    {
     "data": {
      "image/png": "[encoded data removed]",
      "text/plain": [
       "<Figure size 640x480 with 1 Axes>"
      ]
     },
     "metadata": {},
     "output_type": "display_data"
    },
    {
     "data": {
      "image/png": "[encoded data removed]",
      "text/plain": [
       "<Figure size 640x480 with 1 Axes>"
      ]
     },
     "metadata": {},
     "output_type": "display_data"
    },
    {
     "data": {
      "image/png": "[encoded data removed]",
      "text/plain": [
       "<Figure size 640x480 with 1 Axes>"
      ]
     },
     "metadata": {},
     "output_type": "display_data"
    },
    {
     "data": {
      "image/png": "[encoded data removed]",
      "text/plain": [
       "<Figure size 640x480 with 1 Axes>"
      ]
     },
     "metadata": {},
     "output_type": "display_data"
    },
    {
     "data": {
      "image/png": "[encoded data removed]",
      "text/plain": [
       "<Figure size 640x480 with 1 Axes>"
      ]
     },
     "metadata": {},
     "output_type": "display_data"
    },
    {
     "data": {
      "image/png": "[encoded data removed]",
      "text/plain": [
       "<Figure size 640x480 with 1 Axes>"
      ]
     },
     "metadata": {},
     "output_type": "display_data"
    },
    {
     "data": {
      "image/png": "[encoded data removed]",
      "text/plain": [
       "<Figure size 640x480 with 1 Axes>"
      ]
     },
     "metadata": {},
     "output_type": "display_data"
    },
    {
     "data": {
      "image/png": "[encoded data removed]",
      "text/plain": [
       "<Figure size 640x480 with 1 Axes>"
      ]
     },
     "metadata": {},
     "output_type": "display_data"
    },
    {
     "data": {
      "image/png": "[encoded data removed]",
      "text/plain": [
       "<Figure size 640x480 with 1 Axes>"
      ]
     },
     "metadata": {},
     "output_type": "display_data"
    },
    {
     "data": {
      "image/png": "[encoded data removed]",
      "text/plain": [
       "<Figure size 640x480 with 1 Axes>"
      ]
     },
     "metadata": {},
     "output_type": "display_data"
    },
    {
     "data": {
      "image/png": "[encoded data removed]",
      "text/plain": [
       "<Figure size 640x480 with 1 Axes>"
      ]
     },
     "metadata": {},
     "output_type": "display_data"
    },
    {
     "data": {
      "image/png": "[encoded data removed]",
      "text/plain": [
       "<Figure size 640x480 with 1 Axes>"
      ]
     },
     "metadata": {},
     "output_type": "display_data"
    },
    {
     "data": {
      "image/png": "[encoded data removed]",
      "text/plain": [
       "<Figure size 640x480 with 1 Axes>"
      ]
     },
     "metadata": {},
     "output_type": "display_data"
    },
    {
     "data": {
      "image/png": "[encoded data removed]",
      "text/plain": [
       "<Figure size 640x480 with 1 Axes>"
      ]
     },
     "metadata": {},
     "output_type": "display_data"
    }
   ],
   "source": [
    "# Object 컬럼 하나씩 가져와서 Bar 차트 그려보기\n",
    "# 불균형 컬럼 : Dependents, PhoneService. 심한 불균형 가진 PhoneService 컬럼 삭제 필요\n",
    "\n",
    "object_list = df.select_dtypes('object').columns.values\n",
    "\n",
    "for col in object_list:\n",
    "    df[col].value_counts().plot(kind='bar')\n",
    "    plt.title(col)\n",
    "    plt.show()"
   ]
  },
  {
   "cell_type": "markdown",
   "metadata": {
    "id": "UcI1GbIPzt6M"
   },
   "source": [
    "#### 불균형 심한 PhoneService 컬럼 삭제"
   ]
  },
  {
   "cell_type": "code",
   "execution_count": 73,
   "metadata": {
    "id": "7vOTa2mFzt6M",
    "tags": []
   },
   "outputs": [],
   "source": [
    "df.drop('PhoneService', axis=1, inplace=True)"
   ]
  },
  {
   "cell_type": "markdown",
   "metadata": {
    "id": "Rn0wGwNGzt6M"
   },
   "source": [
    "####  \n",
    "### 숫자형 컬럼에 대한 시각화"
   ]
  },
  {
   "cell_type": "code",
   "execution_count": 74,
   "metadata": {
    "colab": {
     "base_uri": "https://localhost:8080/",
     "height": 143
    },
    "executionInfo": {
     "elapsed": 32,
     "status": "ok",
     "timestamp": 1645514259116,
     "user": {
      "displayName": "yunwoo oh",
      "photoUrl": "https://lh3.googleusercontent.com/a/default-user=s64",
      "userId": "01035531558844683999"
     },
     "user_tz": -540
    },
    "id": "0iCdMZx_zt6N",
    "outputId": "a9e8cb47-0fcb-4446-d27e-6b3971d1a7ba",
    "tags": []
   },
   "outputs": [
    {
     "data": {
      "text/html": [
       "<div>\n",
       "<style scoped>\n",
       "    .dataframe tbody tr th:only-of-type {\n",
       "        vertical-align: middle;\n",
       "    }\n",
       "\n",
       "    .dataframe tbody tr th {\n",
       "        vertical-align: top;\n",
       "    }\n",
       "\n",
       "    .dataframe thead th {\n",
       "        text-align: right;\n",
       "    }\n",
       "</style>\n",
       "<table border=\"1\" class=\"dataframe\">\n",
       "  <thead>\n",
       "    <tr style=\"text-align: right;\">\n",
       "      <th></th>\n",
       "      <th>SeniorCitizen</th>\n",
       "      <th>tenure</th>\n",
       "      <th>MonthlyCharges</th>\n",
       "      <th>TotalCharges</th>\n",
       "      <th>Churn</th>\n",
       "    </tr>\n",
       "  </thead>\n",
       "  <tbody>\n",
       "    <tr>\n",
       "      <th>1</th>\n",
       "      <td>0.0</td>\n",
       "      <td>34</td>\n",
       "      <td>56.95</td>\n",
       "      <td>1889.50</td>\n",
       "      <td>0</td>\n",
       "    </tr>\n",
       "    <tr>\n",
       "      <th>2</th>\n",
       "      <td>0.0</td>\n",
       "      <td>2</td>\n",
       "      <td>53.85</td>\n",
       "      <td>108.15</td>\n",
       "      <td>1</td>\n",
       "    </tr>\n",
       "    <tr>\n",
       "      <th>3</th>\n",
       "      <td>0.0</td>\n",
       "      <td>45</td>\n",
       "      <td>42.30</td>\n",
       "      <td>1840.75</td>\n",
       "      <td>0</td>\n",
       "    </tr>\n",
       "  </tbody>\n",
       "</table>\n",
       "</div>"
      ],
      "text/plain": [
       "   SeniorCitizen  tenure  MonthlyCharges  TotalCharges  Churn\n",
       "1            0.0      34           56.95       1889.50      0\n",
       "2            0.0       2           53.85        108.15      1\n",
       "3            0.0      45           42.30       1840.75      0"
      ]
     },
     "execution_count": 74,
     "metadata": {},
     "output_type": "execute_result"
    }
   ],
   "source": [
    "# number(int, float) 컬럼에 대해 검색\n",
    "df.select_dtypes( 'number').head(3)"
   ]
  },
  {
   "cell_type": "markdown",
   "metadata": {
    "id": "69xzs51zzt6N"
   },
   "source": [
    "#### Churn 컬럼"
   ]
  },
  {
   "cell_type": "code",
   "execution_count": 75,
   "metadata": {
    "colab": {
     "base_uri": "https://localhost:8080/"
    },
    "executionInfo": {
     "elapsed": 31,
     "status": "ok",
     "timestamp": 1645514259116,
     "user": {
      "displayName": "yunwoo oh",
      "photoUrl": "https://lh3.googleusercontent.com/a/default-user=s64",
      "userId": "01035531558844683999"
     },
     "user_tz": -540
    },
    "id": "xW6s6sHGzt6N",
    "outputId": "5a917ea4-4200-4900-a57a-6e761c9e2993",
    "tags": []
   },
   "outputs": [
    {
     "data": {
      "text/plain": [
       "Churn\n",
       "0    5161\n",
       "1    1866\n",
       "Name: count, dtype: int64"
      ]
     },
     "execution_count": 75,
     "metadata": {},
     "output_type": "execute_result"
    }
   ],
   "source": [
    "# Churn 컬럼은 0, 1 되어 있으므로 분포 확인\n",
    "df['Churn'].value_counts()"
   ]
  },
  {
   "cell_type": "code",
   "execution_count": 76,
   "metadata": {
    "colab": {
     "base_uri": "https://localhost:8080/",
     "height": 280
    },
    "executionInfo": {
     "elapsed": 27,
     "status": "ok",
     "timestamp": 1645514259117,
     "user": {
      "displayName": "yunwoo oh",
      "photoUrl": "https://lh3.googleusercontent.com/a/default-user=s64",
      "userId": "01035531558844683999"
     },
     "user_tz": -540
    },
    "id": "BGgPFvYizt6N",
    "outputId": "cdaf4273-bb67-4c7c-e494-fa62d75dc40e",
    "tags": []
   },
   "outputs": [
    {
     "data": {
      "text/plain": [
       "<Axes: xlabel='Churn'>"
      ]
     },
     "execution_count": 76,
     "metadata": {},
     "output_type": "execute_result"
    },
    {
     "data": {
      "image/png": "[encoded data removed]",
      "text/plain": [
       "<Figure size 640x480 with 1 Axes>"
      ]
     },
     "metadata": {},
     "output_type": "display_data"
    }
   ],
   "source": [
    "# Churn 컬럼에 대한 Bar 차트 확인\n",
    "# 이탈(1)가 이탈않음(0)에 비해 1/3 수준임 : 불균형\n",
    "\n",
    "df['Churn'].value_counts().plot(kind='bar')"
   ]
  },
  {
   "cell_type": "markdown",
   "metadata": {
    "id": "NcTCAI3uzt6N"
   },
   "source": [
    "#### SeniorCitizen 컬럼"
   ]
  },
  {
   "cell_type": "code",
   "execution_count": 77,
   "metadata": {
    "colab": {
     "base_uri": "https://localhost:8080/"
    },
    "executionInfo": {
     "elapsed": 25,
     "status": "ok",
     "timestamp": 1645514259118,
     "user": {
      "displayName": "yunwoo oh",
      "photoUrl": "https://lh3.googleusercontent.com/a/default-user=s64",
      "userId": "01035531558844683999"
     },
     "user_tz": -540
    },
    "id": "qG3lRh-4zt6N",
    "outputId": "a7ea6831-26e3-4a6f-c280-e13fb0b9de79",
    "tags": []
   },
   "outputs": [
    {
     "data": {
      "text/plain": [
       "SeniorCitizen\n",
       "0.0    5885\n",
       "1.0    1142\n",
       "Name: count, dtype: int64"
      ]
     },
     "execution_count": 77,
     "metadata": {},
     "output_type": "execute_result"
    }
   ],
   "source": [
    "# SeniorCitizen 컬럼은 0, 1 되어 있으므로 분포 확인\n",
    "df['SeniorCitizen'].value_counts()"
   ]
  },
  {
   "cell_type": "code",
   "execution_count": 78,
   "metadata": {
    "colab": {
     "base_uri": "https://localhost:8080/",
     "height": 289
    },
    "executionInfo": {
     "elapsed": 24,
     "status": "ok",
     "timestamp": 1645514259119,
     "user": {
      "displayName": "yunwoo oh",
      "photoUrl": "https://lh3.googleusercontent.com/a/default-user=s64",
      "userId": "01035531558844683999"
     },
     "user_tz": -540
    },
    "id": "6Lerw418zt6O",
    "outputId": "c8105a65-49b5-41b6-d9d3-9b4314ad754a",
    "tags": []
   },
   "outputs": [
    {
     "data": {
      "text/plain": [
       "<Axes: xlabel='SeniorCitizen'>"
      ]
     },
     "execution_count": 78,
     "metadata": {},
     "output_type": "execute_result"
    },
    {
     "data": {
      "image/png": "[encoded data removed]",
      "text/plain": [
       "<Figure size 640x480 with 1 Axes>"
      ]
     },
     "metadata": {},
     "output_type": "display_data"
    }
   ],
   "source": [
    "# SeniorCitizen 컬럼에 대한 Bar 차트 확인\n",
    "# 이탈(1)가 이탈않음(0)에 비해 1/5 수준임 : 불균형\n",
    "\n",
    "df['SeniorCitizen'].value_counts().plot(kind='bar')"
   ]
  },
  {
   "cell_type": "markdown",
   "metadata": {
    "id": "YpEyB2Lyzt6O"
   },
   "source": [
    "##### <font color=blue> **[문제] 불균형 심한 'SeniorCitizen' 컬럼을 삭제하세요.** </font>"
   ]
  },
  {
   "cell_type": "code",
   "execution_count": 79,
   "metadata": {
    "id": "vDYDOLtyzt6O",
    "scrolled": true,
    "tags": []
   },
   "outputs": [],
   "source": [
    "# DataFrame drop() 함수 활용\n",
    "# 대상 컬럼 : 'SeniorCitizen'\n",
    "# axis 와 inplace 옵션 사용\n",
    "\n",
    "df.drop('SeniorCitizen', axis=1, inplace=True)\n"
   ]
  },
  {
   "cell_type": "code",
   "execution_count": 80,
   "metadata": {
    "colab": {
     "base_uri": "https://localhost:8080/"
    },
    "executionInfo": {
     "elapsed": 21,
     "status": "ok",
     "timestamp": 1645514259120,
     "user": {
      "displayName": "yunwoo oh",
      "photoUrl": "https://lh3.googleusercontent.com/a/default-user=s64",
      "userId": "01035531558844683999"
     },
     "user_tz": -540
    },
    "id": "JttbK72gzt6O",
    "outputId": "c9424279-5162-407a-d9a0-73a956ef7146",
    "tags": []
   },
   "outputs": [
    {
     "name": "stdout",
     "output_type": "stream",
     "text": [
      "<class 'pandas.core.frame.DataFrame'>\n",
      "Index: 7027 entries, 1 to 7041\n",
      "Data columns (total 17 columns):\n",
      " #   Column            Non-Null Count  Dtype  \n",
      "---  ------            --------------  -----  \n",
      " 0   gender            7027 non-null   object \n",
      " 1   Partner           7027 non-null   object \n",
      " 2   Dependents        7027 non-null   object \n",
      " 3   tenure            7027 non-null   int64  \n",
      " 4   MultipleLines     7027 non-null   object \n",
      " 5   InternetService   7027 non-null   object \n",
      " 6   OnlineSecurity    7027 non-null   object \n",
      " 7   OnlineBackup      7027 non-null   object \n",
      " 8   TechSupport       7027 non-null   object \n",
      " 9   StreamingTV       7027 non-null   object \n",
      " 10  StreamingMovies   7027 non-null   object \n",
      " 11  Contract          7027 non-null   object \n",
      " 12  PaperlessBilling  7027 non-null   object \n",
      " 13  PaymentMethod     7027 non-null   object \n",
      " 14  MonthlyCharges    7027 non-null   float64\n",
      " 15  TotalCharges      7027 non-null   float64\n",
      " 16  Churn             7027 non-null   int64  \n",
      "dtypes: float64(2), int64(2), object(13)\n",
      "memory usage: 988.2+ KB\n"
     ]
    }
   ],
   "source": [
    "# SeniorCitizen 삭제 확인\n",
    "df.info()"
   ]
  },
  {
   "cell_type": "markdown",
   "metadata": {
    "id": "KFZu8kIQzt6O"
   },
   "source": [
    "####  \n",
    "### Histgram"
   ]
  },
  {
   "cell_type": "code",
   "execution_count": 81,
   "metadata": {
    "id": "8w8QE1dzzt6P",
    "tags": []
   },
   "outputs": [],
   "source": [
    "# seaborn 라이브러리 임포트\n",
    "#!pip install seaborn\n",
    "\n",
    "import seaborn as sns"
   ]
  },
  {
   "cell_type": "markdown",
   "metadata": {
    "id": "1qgjcXFOzt6P"
   },
   "source": [
    "#### tenure 컬럼"
   ]
  },
  {
   "cell_type": "code",
   "execution_count": 82,
   "metadata": {
    "colab": {
     "base_uri": "https://localhost:8080/",
     "height": 430
    },
    "executionInfo": {
     "elapsed": 526,
     "status": "ok",
     "timestamp": 1689471061074,
     "user": {
      "displayName": "yunwoo1 oh",
      "userId": "16793929776797608340"
     },
     "user_tz": -540
    },
    "id": "MY8IBplVTfWW",
    "outputId": "9b38d9cb-7ece-420d-a20a-bc5082c86212",
    "tags": []
   },
   "outputs": [
    {
     "data": {
      "image/png": "[encoded data removed]",
      "text/plain": [
       "<Figure size 640x480 with 2 Axes>"
      ]
     },
     "metadata": {},
     "output_type": "display_data"
    }
   ],
   "source": [
    "# matplotlib 활용해서 tenure 컬럼의 히스토그램을 그려보자.\n",
    "\n",
    "plt.subplot(131)\n",
    "df['tenure'].plot(kind='hist') # 방법1\n",
    "\n",
    "plt.subplot(133)\n",
    "plt.hist(df['tenure']) # 방법2\n",
    "plt.show()"
   ]
  },
  {
   "cell_type": "code",
   "execution_count": 83,
   "metadata": {
    "colab": {
     "base_uri": "https://localhost:8080/",
     "height": 297
    },
    "executionInfo": {
     "elapsed": 15,
     "status": "ok",
     "timestamp": 1645514259798,
     "user": {
      "displayName": "yunwoo oh",
      "photoUrl": "https://lh3.googleusercontent.com/a/default-user=s64",
      "userId": "01035531558844683999"
     },
     "user_tz": -540
    },
    "id": "m5tzyEMkzt6P",
    "outputId": "70f21ec2-0fad-467d-d5ea-424e229e1656",
    "tags": []
   },
   "outputs": [
    {
     "data": {
      "text/plain": [
       "<Axes: xlabel='tenure', ylabel='Count'>"
      ]
     },
     "execution_count": 83,
     "metadata": {},
     "output_type": "execute_result"
    },
    {
     "data": {
      "image/png": "[encoded data removed]",
      "text/plain": [
       "<Figure size 640x480 with 1 Axes>"
      ]
     },
     "metadata": {},
     "output_type": "display_data"
    }
   ],
   "source": [
    "# seaborn의 histplot 이용해서 tenure (서비스 사용기간)에 대한 히스토그램\n",
    "# seaborn plot 옵션 대략 형태 : data=df, x='aaa', y='bbb', hue='ccc'\n",
    "# 히스토그램 분석 : 처음에 많이 사용하고 , 70개월 사용하는 충성고객도 있다.\n",
    "\n",
    "sns.histplot(data=df, x='tenure')"
   ]
  },
  {
   "cell_type": "code",
   "execution_count": 84,
   "metadata": {
    "colab": {
     "base_uri": "https://localhost:8080/",
     "height": 297
    },
    "executionInfo": {
     "elapsed": 359,
     "status": "ok",
     "timestamp": 1645514260144,
     "user": {
      "displayName": "yunwoo oh",
      "photoUrl": "https://lh3.googleusercontent.com/a/default-user=s64",
      "userId": "01035531558844683999"
     },
     "user_tz": -540
    },
    "id": "NPWzP0hFzt6P",
    "outputId": "5ca5dff8-d3f2-4957-85c3-a91b62e21033",
    "tags": []
   },
   "outputs": [
    {
     "data": {
      "text/plain": [
       "<Axes: xlabel='tenure', ylabel='Count'>"
      ]
     },
     "execution_count": 84,
     "metadata": {},
     "output_type": "execute_result"
    },
    {
     "data": {
      "image/png": "[encoded data removed]",
      "text/plain": [
       "<Figure size 640x480 with 1 Axes>"
      ]
     },
     "metadata": {},
     "output_type": "display_data"
    }
   ],
   "source": [
    "# seaborn의 histplot 이용해서 tenure (서비스 사용기간) 대한 히스토그램을 Churn 으로 구분\n",
    "# 히스토그램으로 Churn 구분하니 겹쳐서 보기 어렵다.\n",
    "\n",
    "sns.histplot(data=df, x='tenure', hue='Churn')"
   ]
  },
  {
   "cell_type": "code",
   "execution_count": 85,
   "metadata": {
    "colab": {
     "base_uri": "https://localhost:8080/",
     "height": 297
    },
    "executionInfo": {
     "elapsed": 380,
     "status": "ok",
     "timestamp": 1645514260516,
     "user": {
      "displayName": "yunwoo oh",
      "photoUrl": "https://lh3.googleusercontent.com/a/default-user=s64",
      "userId": "01035531558844683999"
     },
     "user_tz": -540
    },
    "id": "VvFSzHkdzt6P",
    "outputId": "2133cb3a-2fb2-414a-e439-89f170a4e614",
    "tags": []
   },
   "outputs": [
    {
     "data": {
      "text/plain": [
       "<Axes: xlabel='tenure', ylabel='Density'>"
      ]
     },
     "execution_count": 85,
     "metadata": {},
     "output_type": "execute_result"
    },
    {
     "data": {
      "image/png": "[encoded data removed]",
      "text/plain": [
       "<Figure size 640x480 with 1 Axes>"
      ]
     },
     "metadata": {},
     "output_type": "display_data"
    }
   ],
   "source": [
    "# seaborn kdeplot : 히스토그램을 곡선으로 그려보자. (histplot 비슷)\n",
    "# 분석 결과\n",
    "# - Churn 0(No), 1(Yes , 이탈)\n",
    "# - 처음엔 서비스 가입도 많이 하고 이탈도 많이 하는것으로 보이고\n",
    "# - 70개월 이상 충성고객수는 점점 줄어 들고, 특히 60개월이상 넘어가면 이탈이 많이 줄어든다.\n",
    "\n",
    "sns.kdeplot(data=df, x='tenure', hue='Churn')"
   ]
  },
  {
   "cell_type": "markdown",
   "metadata": {
    "id": "SfYkzDiOzt6Q"
   },
   "source": [
    "#### TotalCharges 컬럼"
   ]
  },
  {
   "cell_type": "code",
   "execution_count": 86,
   "metadata": {
    "colab": {
     "base_uri": "https://localhost:8080/",
     "height": 297
    },
    "executionInfo": {
     "elapsed": 460,
     "status": "ok",
     "timestamp": 1645514260968,
     "user": {
      "displayName": "yunwoo oh",
      "photoUrl": "https://lh3.googleusercontent.com/a/default-user=s64",
      "userId": "01035531558844683999"
     },
     "user_tz": -540
    },
    "id": "XBH2Gxwxzt6Q",
    "outputId": "32dd2c8c-caad-4ddd-c1cc-5964bf634157",
    "tags": []
   },
   "outputs": [
    {
     "data": {
      "text/plain": [
       "<Axes: xlabel='TotalCharges', ylabel='Count'>"
      ]
     },
     "execution_count": 86,
     "metadata": {},
     "output_type": "execute_result"
    },
    {
     "data": {
      "image/png": "[encoded data removed]",
      "text/plain": [
       "<Figure size 640x480 with 1 Axes>"
      ]
     },
     "metadata": {},
     "output_type": "display_data"
    }
   ],
   "source": [
    "# TotalCharges (서비스 총요금)에 대한 히스토그램\n",
    "# 처음에 많이 사용하고 금액이 커질수록 사용자수가 줄어든다\n",
    "\n",
    "sns.histplot(data=df, x='TotalCharges')"
   ]
  },
  {
   "cell_type": "code",
   "execution_count": 87,
   "metadata": {
    "colab": {
     "base_uri": "https://localhost:8080/",
     "height": 297
    },
    "executionInfo": {
     "elapsed": 16,
     "status": "ok",
     "timestamp": 1645514260969,
     "user": {
      "displayName": "yunwoo oh",
      "photoUrl": "https://lh3.googleusercontent.com/a/default-user=s64",
      "userId": "01035531558844683999"
     },
     "user_tz": -540
    },
    "id": "j1a0QRevzt6Q",
    "outputId": "a7d58f12-adad-4466-a868-16d3bff1756f",
    "tags": []
   },
   "outputs": [
    {
     "data": {
      "text/plain": [
       "<Axes: xlabel='TotalCharges', ylabel='Density'>"
      ]
     },
     "execution_count": 87,
     "metadata": {},
     "output_type": "execute_result"
    },
    {
     "data": {
      "image/png": "[encoded data removed]",
      "text/plain": [
       "<Figure size 640x480 with 1 Axes>"
      ]
     },
     "metadata": {},
     "output_type": "display_data"
    }
   ],
   "source": [
    "# seaborn kdeplot 함수활용하여 TotalCharges 히스토그램을 곡선으로 그려보자.(hue='churn' 이용)\n",
    "# 분석결과\n",
    "# - 최근 가입자가 이탈하기 쉽다.\n",
    "# - MonthlyCharges(서비스 총요금)이 클수록 이탈하기 쉽다.\n",
    "\n",
    "sns.kdeplot(data=df, x='TotalCharges', hue='Churn')"
   ]
  },
  {
   "cell_type": "markdown",
   "metadata": {
    "id": "3ASDnxztzt6Q"
   },
   "source": [
    "####  \n",
    "### Countplot"
   ]
  },
  {
   "cell_type": "code",
   "execution_count": 88,
   "metadata": {
    "colab": {
     "base_uri": "https://localhost:8080/",
     "height": 297
    },
    "executionInfo": {
     "elapsed": 427,
     "status": "ok",
     "timestamp": 1645514261384,
     "user": {
      "displayName": "yunwoo oh",
      "photoUrl": "https://lh3.googleusercontent.com/a/default-user=s64",
      "userId": "01035531558844683999"
     },
     "user_tz": -540
    },
    "id": "-44H6Dunzt6Q",
    "outputId": "b515c877-06e6-4870-be11-0a9f46aef859",
    "tags": []
   },
   "outputs": [
    {
     "data": {
      "text/plain": [
       "<Axes: xlabel='MultipleLines', ylabel='count'>"
      ]
     },
     "execution_count": 88,
     "metadata": {},
     "output_type": "execute_result"
    },
    {
     "data": {
      "image/png": "[encoded data removed]",
      "text/plain": [
       "<Figure size 640x480 with 1 Axes>"
      ]
     },
     "metadata": {},
     "output_type": "display_data"
    }
   ],
   "source": [
    "# seaborn countplot 함수 이용해서 MultipleLines 서비스에 대한 갯수 분포 확인하기(hue='churn' 이용)\n",
    "# 분석결과\n",
    "# - MultipleLines 서비스를 사용하는 고객이 약간 더 높은 이탈율을 보인다.\n",
    "\n",
    "sns.countplot(data=df, x='MultipleLines',  hue='Churn')"
   ]
  },
  {
   "cell_type": "markdown",
   "metadata": {
    "id": "ldYmgEHUYppv"
   },
   "source": [
    "####  \n",
    "### barplot"
   ]
  },
  {
   "cell_type": "code",
   "execution_count": 89,
   "metadata": {
    "colab": {
     "base_uri": "https://localhost:8080/",
     "height": 467
    },
    "executionInfo": {
     "elapsed": 1235,
     "status": "ok",
     "timestamp": 1689472186042,
     "user": {
      "displayName": "yunwoo1 oh",
      "userId": "16793929776797608340"
     },
     "user_tz": -540
    },
    "id": "3O7ztdwyYs0p",
    "outputId": "aae79033-9083-4b5f-f081-02c88f35b371",
    "tags": []
   },
   "outputs": [
    {
     "data": {
      "text/plain": [
       "<Axes: xlabel='MultipleLines', ylabel='TotalCharges'>"
      ]
     },
     "execution_count": 89,
     "metadata": {},
     "output_type": "execute_result"
    },
    {
     "data": {
      "image/png": "[encoded data removed]",
      "text/plain": [
       "<Figure size 640x480 with 1 Axes>"
      ]
     },
     "metadata": {},
     "output_type": "display_data"
    }
   ],
   "source": [
    "# 추가 : 기존 실습에 없는 barplot\n",
    "# seaborn barplot 함수 이용해서 'MultipleLines' 컬럼에 대해 bar 그려보자.\n",
    "# x='MultipleLines', y='TotalCharges'\n",
    "\n",
    "sns.barplot(data=df, x='MultipleLines', y='TotalCharges')"
   ]
  },
  {
   "cell_type": "markdown",
   "metadata": {
    "id": "y8_NKeymzt6Q"
   },
   "source": [
    "####  \n",
    "### heatmap"
   ]
  },
  {
   "cell_type": "code",
   "execution_count": 90,
   "metadata": {
    "colab": {
     "base_uri": "https://localhost:8080/",
     "height": 143
    },
    "executionInfo": {
     "elapsed": 12,
     "status": "ok",
     "timestamp": 1645514261385,
     "user": {
      "displayName": "yunwoo oh",
      "photoUrl": "https://lh3.googleusercontent.com/a/default-user=s64",
      "userId": "01035531558844683999"
     },
     "user_tz": -540
    },
    "id": "BotYj0ECzt6R",
    "outputId": "530efbf6-c0e3-4d2c-cbdd-cdf28c30cc83",
    "tags": []
   },
   "outputs": [
    {
     "data": {
      "text/html": [
       "<div>\n",
       "<style scoped>\n",
       "    .dataframe tbody tr th:only-of-type {\n",
       "        vertical-align: middle;\n",
       "    }\n",
       "\n",
       "    .dataframe tbody tr th {\n",
       "        vertical-align: top;\n",
       "    }\n",
       "\n",
       "    .dataframe thead th {\n",
       "        text-align: right;\n",
       "    }\n",
       "</style>\n",
       "<table border=\"1\" class=\"dataframe\">\n",
       "  <thead>\n",
       "    <tr style=\"text-align: right;\">\n",
       "      <th></th>\n",
       "      <th>tenure</th>\n",
       "      <th>MonthlyCharges</th>\n",
       "      <th>TotalCharges</th>\n",
       "    </tr>\n",
       "  </thead>\n",
       "  <tbody>\n",
       "    <tr>\n",
       "      <th>tenure</th>\n",
       "      <td>1.000000</td>\n",
       "      <td>0.247630</td>\n",
       "      <td>0.826172</td>\n",
       "    </tr>\n",
       "    <tr>\n",
       "      <th>MonthlyCharges</th>\n",
       "      <td>0.247630</td>\n",
       "      <td>1.000000</td>\n",
       "      <td>0.651049</td>\n",
       "    </tr>\n",
       "    <tr>\n",
       "      <th>TotalCharges</th>\n",
       "      <td>0.826172</td>\n",
       "      <td>0.651049</td>\n",
       "      <td>1.000000</td>\n",
       "    </tr>\n",
       "  </tbody>\n",
       "</table>\n",
       "</div>"
      ],
      "text/plain": [
       "                  tenure  MonthlyCharges  TotalCharges\n",
       "tenure          1.000000        0.247630      0.826172\n",
       "MonthlyCharges  0.247630        1.000000      0.651049\n",
       "TotalCharges    0.826172        0.651049      1.000000"
      ]
     },
     "execution_count": 90,
     "metadata": {},
     "output_type": "execute_result"
    }
   ],
   "source": [
    "# 판다스 corr 함수 이용해서 'tenure','MonthlyCharges','TotalCharges' 컬럼간의 상관관계를 확인해 보자\n",
    "# 상관관계 결과를 corr 변수에 저장하고 내용 확인하자.\n",
    "\n",
    "df[['tenure','MonthlyCharges','TotalCharges']].corr()"
   ]
  },
  {
   "cell_type": "code",
   "execution_count": 91,
   "metadata": {
    "colab": {
     "base_uri": "https://localhost:8080/",
     "height": 287
    },
    "executionInfo": {
     "elapsed": 416,
     "status": "ok",
     "timestamp": 1645514261790,
     "user": {
      "displayName": "yunwoo oh",
      "photoUrl": "https://lh3.googleusercontent.com/a/default-user=s64",
      "userId": "01035531558844683999"
     },
     "user_tz": -540
    },
    "id": "QyJT99spzt6R",
    "outputId": "c5ca3de8-0d42-4fb0-86fc-b7d39a41ca27",
    "tags": []
   },
   "outputs": [
    {
     "data": {
      "text/plain": [
       "<Axes: >"
      ]
     },
     "execution_count": 91,
     "metadata": {},
     "output_type": "execute_result"
    },
    {
     "data": {
      "image/png": "[encoded data removed]",
      "text/plain": [
       "<Figure size 640x480 with 2 Axes>"
      ]
     },
     "metadata": {},
     "output_type": "display_data"
    }
   ],
   "source": [
    "# tenure','MonthlyCharges','TotalCharges' 컬럼간의 상관관계를 seaborn heatmap으로 그려보자.(annot 추가)\n",
    "# 분석결과 : tenure(서비스 사용기간)과 TotalCharges(서비스 총요금)간의 깊은 상관관계가 있어 보인다.\n",
    "\n",
    "sns.heatmap(df[['tenure','MonthlyCharges','TotalCharges']].corr(), annot=True)"
   ]
  },
  {
   "cell_type": "markdown",
   "metadata": {
    "id": "FwM1bubDzt6R"
   },
   "source": [
    "####  \n",
    "### boxplot"
   ]
  },
  {
   "cell_type": "code",
   "execution_count": 92,
   "metadata": {
    "colab": {
     "base_uri": "https://localhost:8080/",
     "height": 297
    },
    "executionInfo": {
     "elapsed": 18,
     "status": "ok",
     "timestamp": 1645514261791,
     "user": {
      "displayName": "yunwoo oh",
      "photoUrl": "https://lh3.googleusercontent.com/a/default-user=s64",
      "userId": "01035531558844683999"
     },
     "user_tz": -540
    },
    "id": "tAPwIMtrzt6R",
    "outputId": "2cdb955a-a896-4fc9-e063-8f49bc05163e",
    "scrolled": true,
    "tags": []
   },
   "outputs": [
    {
     "data": {
      "text/plain": [
       "<Axes: xlabel='Churn', ylabel='TotalCharges'>"
      ]
     },
     "execution_count": 92,
     "metadata": {},
     "output_type": "execute_result"
    },
    {
     "data": {
      "image/png": "[encoded data removed]",
      "text/plain": [
       "<Figure size 640x480 with 1 Axes>"
      ]
     },
     "metadata": {},
     "output_type": "display_data"
    }
   ],
   "source": [
    "# seaborn boxplot 이용하기(x='Churn', y='TotalCharges')\n",
    "# 분석결과\n",
    "# - 이탈하는 고객이 이탈하지 않는 고객에 비해 총사용금액이 낮으며, Outlier 보인다.\n",
    "\n",
    "sns.boxplot(data=df, x='Churn', y='TotalCharges')"
   ]
  },
  {
   "cell_type": "markdown",
   "metadata": {
    "id": "9Ec61f24zt6S"
   },
   "source": [
    "#  \n",
    "# 5. 결과 저장하기"
   ]
  },
  {
   "cell_type": "markdown",
   "metadata": {
    "id": "DhIQgEEBzt6S"
   },
   "source": [
    "## 결과를 csv 파일로 저장하기"
   ]
  },
  {
   "cell_type": "code",
   "execution_count": 93,
   "metadata": {
    "id": "hUhvHzC8zt6S",
    "tags": []
   },
   "outputs": [],
   "source": [
    "# 판다스 to_csv 함수 이용해서 'data_v1_save.csv' 파일로 저장하기\n",
    "# index=False 주어야 기존 인덱스 값이 저장되지 않음\n",
    "\n",
    "df.to_csv('data_v1_save.csv', index=False)"
   ]
  },
  {
   "cell_type": "code",
   "execution_count": 94,
   "metadata": {
    "colab": {
     "base_uri": "https://localhost:8080/",
     "height": 392
    },
    "executionInfo": {
     "elapsed": 14,
     "status": "ok",
     "timestamp": 1645514261793,
     "user": {
      "displayName": "yunwoo oh",
      "photoUrl": "https://lh3.googleusercontent.com/a/default-user=s64",
      "userId": "01035531558844683999"
     },
     "user_tz": -540
    },
    "id": "DEt2b1N7zt6S",
    "outputId": "205721dc-b4f9-4aff-efd4-0b6e106e9326",
    "tags": []
   },
   "outputs": [
    {
     "data": {
      "text/html": [
       "<div>\n",
       "<style scoped>\n",
       "    .dataframe tbody tr th:only-of-type {\n",
       "        vertical-align: middle;\n",
       "    }\n",
       "\n",
       "    .dataframe tbody tr th {\n",
       "        vertical-align: top;\n",
       "    }\n",
       "\n",
       "    .dataframe thead th {\n",
       "        text-align: right;\n",
       "    }\n",
       "</style>\n",
       "<table border=\"1\" class=\"dataframe\">\n",
       "  <thead>\n",
       "    <tr style=\"text-align: right;\">\n",
       "      <th></th>\n",
       "      <th>gender</th>\n",
       "      <th>Partner</th>\n",
       "      <th>Dependents</th>\n",
       "      <th>tenure</th>\n",
       "      <th>MultipleLines</th>\n",
       "      <th>InternetService</th>\n",
       "      <th>OnlineSecurity</th>\n",
       "      <th>OnlineBackup</th>\n",
       "      <th>TechSupport</th>\n",
       "      <th>StreamingTV</th>\n",
       "      <th>StreamingMovies</th>\n",
       "      <th>Contract</th>\n",
       "      <th>PaperlessBilling</th>\n",
       "      <th>PaymentMethod</th>\n",
       "      <th>MonthlyCharges</th>\n",
       "      <th>TotalCharges</th>\n",
       "      <th>Churn</th>\n",
       "    </tr>\n",
       "  </thead>\n",
       "  <tbody>\n",
       "    <tr>\n",
       "      <th>0</th>\n",
       "      <td>Male</td>\n",
       "      <td>No</td>\n",
       "      <td>No</td>\n",
       "      <td>34</td>\n",
       "      <td>No</td>\n",
       "      <td>DSL</td>\n",
       "      <td>Yes</td>\n",
       "      <td>No</td>\n",
       "      <td>No</td>\n",
       "      <td>No</td>\n",
       "      <td>No</td>\n",
       "      <td>One year</td>\n",
       "      <td>No</td>\n",
       "      <td>Mailed check</td>\n",
       "      <td>56.95</td>\n",
       "      <td>1889.50</td>\n",
       "      <td>0</td>\n",
       "    </tr>\n",
       "    <tr>\n",
       "      <th>1</th>\n",
       "      <td>Male</td>\n",
       "      <td>No</td>\n",
       "      <td>No</td>\n",
       "      <td>2</td>\n",
       "      <td>No</td>\n",
       "      <td>DSL</td>\n",
       "      <td>Yes</td>\n",
       "      <td>Yes</td>\n",
       "      <td>No</td>\n",
       "      <td>No</td>\n",
       "      <td>No</td>\n",
       "      <td>Month-to-month</td>\n",
       "      <td>Yes</td>\n",
       "      <td>Mailed check</td>\n",
       "      <td>53.85</td>\n",
       "      <td>108.15</td>\n",
       "      <td>1</td>\n",
       "    </tr>\n",
       "    <tr>\n",
       "      <th>2</th>\n",
       "      <td>Male</td>\n",
       "      <td>No</td>\n",
       "      <td>No</td>\n",
       "      <td>45</td>\n",
       "      <td>No phone service</td>\n",
       "      <td>DSL</td>\n",
       "      <td>Yes</td>\n",
       "      <td>No</td>\n",
       "      <td>Yes</td>\n",
       "      <td>No</td>\n",
       "      <td>No</td>\n",
       "      <td>One year</td>\n",
       "      <td>No</td>\n",
       "      <td>Bank transfer (automatic)</td>\n",
       "      <td>42.30</td>\n",
       "      <td>1840.75</td>\n",
       "      <td>0</td>\n",
       "    </tr>\n",
       "    <tr>\n",
       "      <th>3</th>\n",
       "      <td>Female</td>\n",
       "      <td>No</td>\n",
       "      <td>No</td>\n",
       "      <td>2</td>\n",
       "      <td>No</td>\n",
       "      <td>Fiber optic</td>\n",
       "      <td>No</td>\n",
       "      <td>No</td>\n",
       "      <td>No</td>\n",
       "      <td>No</td>\n",
       "      <td>No</td>\n",
       "      <td>Month-to-month</td>\n",
       "      <td>Yes</td>\n",
       "      <td>Electronic check</td>\n",
       "      <td>70.70</td>\n",
       "      <td>151.65</td>\n",
       "      <td>1</td>\n",
       "    </tr>\n",
       "    <tr>\n",
       "      <th>4</th>\n",
       "      <td>Female</td>\n",
       "      <td>No</td>\n",
       "      <td>No</td>\n",
       "      <td>8</td>\n",
       "      <td>Yes</td>\n",
       "      <td>Fiber optic</td>\n",
       "      <td>No</td>\n",
       "      <td>No</td>\n",
       "      <td>No</td>\n",
       "      <td>Yes</td>\n",
       "      <td>Yes</td>\n",
       "      <td>Month-to-month</td>\n",
       "      <td>Yes</td>\n",
       "      <td>Electronic check</td>\n",
       "      <td>99.65</td>\n",
       "      <td>820.50</td>\n",
       "      <td>1</td>\n",
       "    </tr>\n",
       "  </tbody>\n",
       "</table>\n",
       "</div>"
      ],
      "text/plain": [
       "   gender Partner Dependents  tenure     MultipleLines InternetService  \\\n",
       "0    Male      No         No      34                No             DSL   \n",
       "1    Male      No         No       2                No             DSL   \n",
       "2    Male      No         No      45  No phone service             DSL   \n",
       "3  Female      No         No       2                No     Fiber optic   \n",
       "4  Female      No         No       8               Yes     Fiber optic   \n",
       "\n",
       "  OnlineSecurity OnlineBackup TechSupport StreamingTV StreamingMovies  \\\n",
       "0            Yes           No          No          No              No   \n",
       "1            Yes          Yes          No          No              No   \n",
       "2            Yes           No         Yes          No              No   \n",
       "3             No           No          No          No              No   \n",
       "4             No           No          No         Yes             Yes   \n",
       "\n",
       "         Contract PaperlessBilling              PaymentMethod  MonthlyCharges  \\\n",
       "0        One year               No               Mailed check           56.95   \n",
       "1  Month-to-month              Yes               Mailed check           53.85   \n",
       "2        One year               No  Bank transfer (automatic)           42.30   \n",
       "3  Month-to-month              Yes           Electronic check           70.70   \n",
       "4  Month-to-month              Yes           Electronic check           99.65   \n",
       "\n",
       "   TotalCharges  Churn  \n",
       "0       1889.50      0  \n",
       "1        108.15      1  \n",
       "2       1840.75      0  \n",
       "3        151.65      1  \n",
       "4        820.50      1  "
      ]
     },
     "execution_count": 94,
     "metadata": {},
     "output_type": "execute_result"
    }
   ],
   "source": [
    "pd.read_csv('data_v1_save.csv').head()"
   ]
  },
  {
   "cell_type": "code",
   "execution_count": null,
   "metadata": {
    "id": "SYJwVbbxzt6S"
   },
   "outputs": [],
   "source": []
  },
  {
   "cell_type": "markdown",
   "metadata": {
    "id": "GePgMkKbzt6S"
   },
   "source": [
    "##  \n",
    "## 배운 내용 정리\n",
    "1. 필요 라이브러리 임포트 및 파일 읽어오기 : pd.read_csv()\n",
    "2. EDA (Exploratory Data Analysis) 탐색적 데이터 분석 : df.info(), df.head(), df.tail()\n",
    "3. 데이터 전처리 수행\n",
    " + 불필요 컬럼 삭제 : df.drop()\n",
    " + 컬럼 내용 변경하기 : df.replace()\n",
    " + Null 처리 : df.replace(), df.fillna()\n",
    " + 컬럼 type 변경하기 : df['col'].astype(int)\n",
    "4. 시각화\n",
    " + matplotlib, seaborn\n",
    " + bar, scatter, countplot, boxplot\n",
    "5. 결과 저장하기\n",
    " + to_csv()"
   ]
  },
  {
   "cell_type": "code",
   "execution_count": null,
   "metadata": {
    "id": "hbihEcMmzt6T"
   },
   "outputs": [],
   "source": []
  }
 ],
 "metadata": {
  "colab": {
   "provenance": [
    {
     "file_id": "11-ZY0t5OdmWucDVb2nh1kkW7ZI3wsyU9",
     "timestamp": 1645514304319
    }
   ]
  },
  "kernelspec": {
   "display_name": "Python 3 (ipykernel)",
   "language": "python",
   "name": "python3"
  },
  "language_info": {
   "codemirror_mode": {
    "name": "ipython",
    "version": 3
   },
   "file_extension": ".py",
   "mimetype": "text/x-python",
   "name": "python",
   "nbconvert_exporter": "python",
   "pygments_lexer": "ipython3",
   "version": "3.11.5"
  }
 },
 "nbformat": 4,
 "nbformat_minor": 4
}
